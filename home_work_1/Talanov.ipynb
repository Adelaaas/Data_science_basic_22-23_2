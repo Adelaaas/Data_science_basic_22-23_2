{
  "nbformat": 4,
  "nbformat_minor": 0,
  "metadata": {
    "colab": {
      "provenance": [],
      "collapsed_sections": []
    },
    "kernelspec": {
      "name": "python3",
      "display_name": "Python 3"
    },
    "language_info": {
      "name": "python"
    }
  },
  "cells": [
    {
      "cell_type": "markdown",
      "source": [
        "***Таланов Максим 10П***"
      ],
      "metadata": {
        "id": "ziU3YpD5GyPy"
      }
    },
    {
      "cell_type": "markdown",
      "source": [
        "**Задача 1.**\n",
        "\n",
        "Задана последовательность чисел. Сдвиньте все нули в конец последовательности, сохранив относительный порядок ненулевых элементов.\n",
        "\n",
        "Например:\n",
        "\n",
        "Ввод:\n",
        "\n",
        "`3 0 5 0 0 -4`\n",
        "\n",
        "Вывод:\n",
        "\n",
        "`3 5 -4 0 0 0`"
      ],
      "metadata": {
        "id": "xpInfd8yHKdi"
      }
    },
    {
      "cell_type": "markdown",
      "source": [
        "Решение:"
      ],
      "metadata": {
        "id": "ixga9JVuHU9-"
      }
    },
    {
      "cell_type": "code",
      "source": [
        "pos = input()\n",
        "a = pos.split(\" \")\n",
        "b = [];\n",
        "for i in a:\n",
        "    if i != \"0\":\n",
        "        b.append(i)\n",
        "for i in a:\n",
        "    if i == \"0\":\n",
        "        b.append(i)\n",
        "print(\" \".join(b))"
      ],
      "metadata": {
        "colab": {
          "base_uri": "https://localhost:8080/"
        },
        "id": "smAeIdUgHbhV",
        "outputId": "e0f0294a-6707-49c7-ab4c-d94235777f10"
      },
      "execution_count": 2,
      "outputs": [
        {
          "output_type": "stream",
          "name": "stdout",
          "text": [
            "3 0 5 0 0 -4\n",
            "3 5 -4 0 0 0\n"
          ]
        }
      ]
    },
    {
      "cell_type": "markdown",
      "source": [
        "**Задача 2.**\n",
        "\n",
        "С клавиатуры вводится строка. Напишите программу, которая формирует словарь, где ключ - это слово, значение - сколько раз это слово встречается в строке."
      ],
      "metadata": {
        "id": "zfiD6TttIsjj"
      }
    },
    {
      "cell_type": "markdown",
      "source": [
        "Решение:"
      ],
      "metadata": {
        "id": "zsriKf7zKvPZ"
      }
    },
    {
      "cell_type": "code",
      "source": [
        "a = input()\n",
        "b = input()\n",
        "d = {b : a.count(b)}\n",
        "print(d)"
      ],
      "metadata": {
        "colab": {
          "base_uri": "https://localhost:8080/"
        },
        "id": "0gik0vwCGkd0",
        "outputId": "8c9ab2e3-7940-4551-c9e5-b282e795795a"
      },
      "execution_count": 3,
      "outputs": [
        {
          "output_type": "stream",
          "name": "stdout",
          "text": [
            "one two one two three\n",
            "one\n",
            "{'one': 2}\n"
          ]
        }
      ]
    },
    {
      "cell_type": "markdown",
      "source": [
        "**Задача 3.**\n",
        "\n",
        "Определить, принадлежит ли точка с координатами (x; y) кругу радиуса R с центром в начале координат.\n",
        "\n",
        "Пользователь вводит координаты точки и радиус круга."
      ],
      "metadata": {
        "id": "7v9qDMABJPH6"
      }
    },
    {
      "cell_type": "markdown",
      "source": [
        "Решение:"
      ],
      "metadata": {
        "id": "IKsVhtcrKyX8"
      }
    },
    {
      "cell_type": "code",
      "source": [
        "x = int(input())\n",
        "y = int(input())\n",
        "r = int(input())\n",
        "if x**2+y**2<=r**2:\n",
        "    print(\"YES\")\n",
        "else:\n",
        "    print(\"NO\")"
      ],
      "metadata": {
        "id": "-qgZqSjsJr5R"
      },
      "execution_count": null,
      "outputs": []
    },
    {
      "cell_type": "markdown",
      "source": [
        "**Задача 4.**\n",
        "\n",
        "Вам дан список имен и список фамилий, используя генератор списков, создайте новый список, состоящий из имени и фамилии.\n",
        "\n",
        "Ввод:\n",
        "\n",
        "`names = ['Pete']`\n",
        "\n",
        "`surnames = ['Black']`\n",
        "\n",
        "Вывод:\n",
        "\n",
        "`new = ['Pete Black']`"
      ],
      "metadata": {
        "id": "0mIAbDr5KLzI"
      }
    },
    {
      "cell_type": "markdown",
      "source": [
        "Решение:"
      ],
      "metadata": {
        "id": "TSP03NhzK1_F"
      }
    },
    {
      "cell_type": "code",
      "source": [
        "names = ['Никита', 'Евгений', 'Андрей', 'Роман', 'Егор']\n",
        "surnames = ['Нечаев', 'Нуромский', 'Родин', 'Рыженко', 'Юлов']\n",
        "\n",
        "new = []\n",
        "\n",
        "for i in range(len(names)):\n",
        "    new.append(names[i] + \" \" +surnames[i])\n",
        "\n",
        "print(new)"
      ],
      "metadata": {
        "id": "3NgmVGIPKsu5"
      },
      "execution_count": null,
      "outputs": []
    }
  ]
}