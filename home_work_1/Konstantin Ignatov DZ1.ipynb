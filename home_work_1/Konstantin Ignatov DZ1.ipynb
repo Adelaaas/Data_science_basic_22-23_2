{
  "nbformat": 4,
  "nbformat_minor": 0,
  "metadata": {
    "colab": {
      "provenance": [],
      "collapsed_sections": []
    },
    "kernelspec": {
      "name": "python3",
      "display_name": "Python 3"
    },
    "language_info": {
      "name": "python"
    }
  },
  "cells": [
    {
      "cell_type": "markdown",
      "source": [
        "1"
      ],
      "metadata": {
        "id": "7Yn8856Nxiax"
      }
    },
    {
      "cell_type": "code",
      "source": [
        "a = input().split()\n",
        "b = input().split()\n",
        "for i in a:\n",
        "    if i not in b:\n",
        "        print(i,end=\" \")"
      ],
      "metadata": {
        "id": "pbFzNbEu_8f0",
        "colab": {
          "base_uri": "https://localhost:8080/"
        },
        "outputId": "8c83333b-c7fc-4783-c0b6-8cc1acc00c35"
      },
      "execution_count": 2,
      "outputs": [
        {
          "output_type": "stream",
          "name": "stdout",
          "text": [
            "56 -97 ghg 76hyu\n",
            "97 5 ghg 76hy 56\n",
            "-97 76hyu "
          ]
        }
      ]
    },
    {
      "cell_type": "markdown",
      "source": [
        "2"
      ],
      "metadata": {
        "id": "NtN3KV0J3NTg"
      }
    },
    {
      "cell_type": "code",
      "source": [
        "lst= ['a', 4, 'hello', (1,5), 10, 'b']\n",
        "for i in range(0,len(lst)-1,2):\n",
        "    lst[i],lst[i+1]=lst[i+1],lst[i]\n",
        "print(lst)"
      ],
      "metadata": {
        "colab": {
          "base_uri": "https://localhost:8080/"
        },
        "id": "mJ_f38xh3N38",
        "outputId": "e626efe1-4036-4f2e-f8b0-dd4bdd31619b"
      },
      "execution_count": 3,
      "outputs": [
        {
          "output_type": "stream",
          "name": "stdout",
          "text": [
            "[4, 'a', (1, 5), 'hello', 'b', 10]\n"
          ]
        }
      ]
    },
    {
      "cell_type": "markdown",
      "source": [
        "3"
      ],
      "metadata": {
        "id": "WRgVzX5m6teZ"
      }
    },
    {
      "cell_type": "code",
      "source": [
        "sl=input()\n",
        "if sl==sl[-1::-1]: \n",
        "    print(\"слово является палиндромом\")\n",
        "else:\n",
        "    print(\"слово не является палиндромом\")"
      ],
      "metadata": {
        "colab": {
          "base_uri": "https://localhost:8080/"
        },
        "id": "51Kbh3nn8B8u",
        "outputId": "59ede9a5-9a54-42b1-df63-e29edb6ce9b1"
      },
      "execution_count": 6,
      "outputs": [
        {
          "output_type": "stream",
          "name": "stdout",
          "text": [
            "топот\n",
            "слово является палиндромом\n"
          ]
        }
      ]
    },
    {
      "cell_type": "markdown",
      "source": [
        "4"
      ],
      "metadata": {
        "id": "o_cdxfOn8xwN"
      }
    },
    {
      "cell_type": "code",
      "source": [
        "s = list(map(int,input().split()))\n",
        "s1 = [i ** 0.5 for i in s]\n",
        "s2 = [i//4 for i in s]\n",
        "s3=[]\n",
        "s4=[]\n",
        "s5=[]\n",
        "s6=[]\n",
        "for i in s:\n",
        "    if i%2!=0:\n",
        "        s3.append(i)\n",
        "for i in s:\n",
        "    if i>0:\n",
        "        i=i*2\n",
        "    else:\n",
        "        i=i/2\n",
        "    s4.append(i)\n",
        "for i in range(0,len(s)):\n",
        "    f=[s[i],s[i]+1]\n",
        "    s5.append(f)\n",
        "    \n",
        "for i in range(0,len(s)):\n",
        "    if i%5==0:\n",
        "        s6.append(s[i])\n",
        "print(s1,\"'корни'\" )\n",
        "print(s2,\"'целые части от деления на 4'\")\n",
        "print(s3, \"'нечетные элементы'\")\n",
        "print(s4, \"'умножение/деление на 2'\" )\n",
        "print(s5, \"'выражение n...'\" )\n",
        "print(s6,  \"'позиция кратна 5'\")\n"
      ],
      "metadata": {
        "colab": {
          "base_uri": "https://localhost:8080/"
        },
        "id": "0bLMgwokIc4S",
        "outputId": "b9506bea-076b-4901-b13f-1d391861ef10"
      },
      "execution_count": 9,
      "outputs": [
        {
          "output_type": "stream",
          "name": "stdout",
          "text": [
            "1 16 78 99 9 0 25 24 36 -98 -3 57 63\n",
            "[1.0, 4.0, 8.831760866327848, 9.9498743710662, 3.0, 0.0, 5.0, 4.898979485566356, 6.0, (6.061692393648453e-16+9.899494936611665j), (1.0605752387249068e-16+1.7320508075688772j), 7.54983443527075, 7.937253933193772] 'корни'\n",
            "[0, 4, 19, 24, 2, 0, 6, 6, 9, -25, -1, 14, 15] 'целые части от деления на 4'\n",
            "[1, 99, 9, 25, -3, 57, 63] 'нечетные элементы'\n",
            "[2, 32, 156, 198, 18, 0.0, 50, 48, 72, -49.0, -1.5, 114, 126] 'умножение/деление на 2'\n",
            "[[1, 2], [16, 17], [78, 79], [99, 100], [9, 10], [0, 1], [25, 26], [24, 25], [36, 37], [-98, -97], [-3, -2], [57, 58], [63, 64]] 'выражение n...'\n",
            "[1, 0, -3] 'позиция кратна 5'\n"
          ]
        }
      ]
    }
  ]
}