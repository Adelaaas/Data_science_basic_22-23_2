{
  "nbformat": 4,
  "nbformat_minor": 0,
  "metadata": {
    "colab": {
      "provenance": [],
      "collapsed_sections": []
    },
    "kernelspec": {
      "name": "python3",
      "display_name": "Python 3"
    },
    "language_info": {
      "name": "python"
    }
  },
  "cells": [
    {
      "cell_type": "markdown",
      "source": [
        "# Вариант 3"
      ],
      "metadata": {
        "id": "Ycu4hFCRpAWI"
      }
    },
    {
      "cell_type": "markdown",
      "source": [
        "***Кто делает***:\n",
        "\n",
        "1. Таланов Максим Андреевич\n",
        "2. Файзуллин Илья Денисович\n",
        "3. Чупрова Ася Александровна\n",
        "4. Ямпольская Ирина Вадимовна"
      ],
      "metadata": {
        "id": "fHJxyAAhpE0x"
      }
    },
    {
      "cell_type": "markdown",
      "source": [
        "**Задача 1.**\n",
        "\n",
        "Задана последовательность чисел. Сдвиньте все нули в конец последовательности, сохранив относительный порядок ненулевых элементов.\n",
        "\n",
        "Например:\n",
        "\n",
        "Ввод:\n",
        "\n",
        "`3 0 5 0 0 -4`\n",
        "\n",
        "Вывод:\n",
        "\n",
        "`3 5 -4 0 0 0`\n"
      ],
      "metadata": {
        "id": "RxleHpr0pJzJ"
      }
    },
    {
      "cell_type": "code",
      "source": [
        "a = input().split(\" \")\n",
        "arr = []\n",
        "for i in a:\n",
        "  if i != \"0\":\n",
        "    arr.append(i)\n",
        "for i in a:\n",
        "  if i == \"0\":\n",
        "    arr.append(i)\n",
        "print(*arr)"
      ],
      "metadata": {
        "id": "a2PUa66CpmCU",
        "colab": {
          "base_uri": "https://localhost:8080/"
        },
        "outputId": "f8503048-9d0e-4f9c-d3fd-c0421739e950"
      },
      "execution_count": 3,
      "outputs": [
        {
          "output_type": "stream",
          "name": "stdout",
          "text": [
            "3 0 5 0 0 -4\n",
            "3 5 -4 0 0 0\n"
          ]
        }
      ]
    },
    {
      "cell_type": "markdown",
      "source": [
        "**Задача 2.**\n",
        "\n",
        "С клавиатуры вводится строка. Напишите программу, которая формирует словарь, где ключ - это слово, значение - сколько раз это слово встречается в строке."
      ],
      "metadata": {
        "id": "t8r41njjpno-"
      }
    },
    {
      "cell_type": "code",
      "source": [
        "b =0\n",
        "a=\" \"\n",
        "s = input().split(\" \")\n",
        "d = dict.fromkeys(s)\n",
        "for i in s:\n"
      ],
      "metadata": {
        "id": "dJ_sTzqvqMw_",
        "colab": {
          "base_uri": "https://localhost:8080/",
          "height": 130
        },
        "outputId": "b4fbde46-3fdf-4ea6-dfe1-cf6fb748fa39"
      },
      "execution_count": 14,
      "outputs": [
        {
          "output_type": "error",
          "ename": "SyntaxError",
          "evalue": "ignored",
          "traceback": [
            "\u001b[0;36m  File \u001b[0;32m\"<ipython-input-14-5c92024fce6d>\"\u001b[0;36m, line \u001b[0;32m5\u001b[0m\n\u001b[0;31m    for i in s:\u001b[0m\n\u001b[0m               ^\u001b[0m\n\u001b[0;31mSyntaxError\u001b[0m\u001b[0;31m:\u001b[0m unexpected EOF while parsing\n"
          ]
        }
      ]
    },
    {
      "cell_type": "markdown",
      "source": [
        "**Задача 3.**\n",
        "\n",
        "Определить, принадлежит ли точка с координатами (x; y) кругу радиуса R с центром в начале координат.\n",
        "\n",
        "Пользователь вводит координаты точки и радиус круга."
      ],
      "metadata": {
        "id": "L-aO8MLDqNOp"
      }
    },
    {
      "cell_type": "code",
      "source": [
        "x = int(input())\n",
        "y = int(input())\n",
        "R = int(input())\n",
        "if x*x + y*y <= R*R:\n",
        "  print(\"Yes\")\n",
        "else:\n",
        "  print(\"No\")"
      ],
      "metadata": {
        "id": "3d8mTLROqlQO",
        "colab": {
          "base_uri": "https://localhost:8080/"
        },
        "outputId": "a252cc04-acd7-42c4-f712-91461a0d44c2"
      },
      "execution_count": 6,
      "outputs": [
        {
          "output_type": "stream",
          "name": "stdout",
          "text": [
            "4\n",
            "5\n",
            "9\n",
            "Yes\n"
          ]
        }
      ]
    },
    {
      "cell_type": "markdown",
      "source": [
        "**Задача 4.**\n",
        "\n",
        "Вам дан список имен и список фамилий, используя генератор списков, создайте новый список, состоящий из имени и фамилии.\n",
        "\n",
        "Ввод:\n",
        "\n",
        "\n",
        "```\n",
        "names = ['Pete']\n",
        "surnames = ['Black']\n",
        "```\n",
        "\n",
        "\n",
        "\n",
        "Вывод:\n",
        "\n",
        "`new = ['Pete Black']`"
      ],
      "metadata": {
        "id": "gS0vf7RvqysI"
      }
    },
    {
      "cell_type": "code",
      "source": [
        "names = ['Никита', 'Евгений', 'Андрей', 'Роман', 'Егор']\n",
        "surnames = ['Нечаев', 'Нуромский', 'Родин', 'Рыженко', 'Юлов']\n",
        "new = []\n",
        "for i in [0, 1, 2, 3, 4]:\n",
        "  new.append(names[i]+ \" \" + surnames[i])\n",
        "print(new)"
      ],
      "metadata": {
        "id": "FRq8ttWdrSoS",
        "colab": {
          "base_uri": "https://localhost:8080/"
        },
        "outputId": "a08af0bf-c127-4bdb-faa8-582e87d92cea"
      },
      "execution_count": 5,
      "outputs": [
        {
          "output_type": "stream",
          "name": "stdout",
          "text": [
            "['Никита Нечаев', 'Евгений Нуромский', 'Андрей Родин', 'Роман Рыженко', 'Егор Юлов']\n"
          ]
        }
      ]
    }
  ]
}