{
  "nbformat": 4,
  "nbformat_minor": 0,
  "metadata": {
    "colab": {
      "provenance": [],
      "collapsed_sections": []
    },
    "kernelspec": {
      "name": "python3",
      "display_name": "Python 3"
    },
    "language_info": {
      "name": "python"
    }
  },
  "cells": [
    {
      "cell_type": "markdown",
      "source": [
        "Задание 1"
      ],
      "metadata": {
        "id": "Nwu6VyeyhX2k"
      }
    },
    {
      "cell_type": "code",
      "execution_count": null,
      "metadata": {
        "id": "fvkZEN1FhJt-"
      },
      "outputs": [],
      "source": [
        "li = input()\n",
        "a = li.split(\" \")\n",
        "b = [];\n",
        "for i in a:\n",
        "    if i != \"0\":\n",
        "        b.append(i)\n",
        "for i in a:\n",
        "    if i == \"0\":\n",
        "        b.append(i)\n",
        "print(\" \".join(b))\n"
      ]
    },
    {
      "cell_type": "markdown",
      "source": [
        "Задание 2"
      ],
      "metadata": {
        "id": "jCS0J6Sihf-b"
      }
    },
    {
      "cell_type": "code",
      "source": [],
      "metadata": {
        "id": "KZJkh36uhi5q"
      },
      "execution_count": null,
      "outputs": []
    },
    {
      "cell_type": "code",
      "source": [
        "a = input()\n",
        "a = a.split()\n",
        "dicti = dict()\n",
        "for i in a:\n",
        "    if i not in dicti:\n",
        "        dicti[i] = a.count(i)\n",
        "print(dicti)\n",
        "\n"
      ],
      "metadata": {
        "id": "i3go9LBmhN73"
      },
      "execution_count": null,
      "outputs": []
    },
    {
      "cell_type": "markdown",
      "source": [
        "Задание 3"
      ],
      "metadata": {
        "id": "1v2MofZChh0D"
      }
    },
    {
      "cell_type": "code",
      "source": [
        "a = int(input())\n",
        "b = int(input())\n",
        "c = int(input())\n",
        "if a**2+b**2<=c**2:\n",
        "    print(\"YES\")\n",
        "else:\n",
        "    print(\"NO\")\n"
      ],
      "metadata": {
        "id": "dzZdn0DXhQ2c"
      },
      "execution_count": null,
      "outputs": []
    },
    {
      "cell_type": "markdown",
      "source": [
        "Задание 4"
      ],
      "metadata": {
        "id": "urhDTGxKhovD"
      }
    },
    {
      "cell_type": "code",
      "source": [
        "a = ['Никита', 'Евгений', 'Андрей', 'Роман', 'Егор']\n",
        "b  = ['Нечаев', 'Нуромский', 'Родин', 'Рыженко', 'Юлов']\n",
        "new = [a[i]+\" \"+b[i] for i in range(len(a))]\n",
        "print(new)\n"
      ],
      "metadata": {
        "id": "n_y8yhfFhTDN"
      },
      "execution_count": null,
      "outputs": []
    }
  ]
}