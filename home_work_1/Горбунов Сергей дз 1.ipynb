{
 "cells": [
  {
   "cell_type": "code",
   "execution_count": 5,
   "id": "41a2ad97",
   "metadata": {},
   "outputs": [
    {
     "name": "stdout",
     "output_type": "stream",
     "text": [
      "[1, 1, 2, 3, 5, 8, 13]\n"
     ]
    }
   ],
   "source": [
    "a = [1, 1, 2, 3, 5, 8, 13, 21, 34, 55, 89]\n",
    "\n",
    "b = [1, 2, 3, 4, 5, 6, 7, 8, 9, 10, 11, 12, 13]\n",
    "m=[]\n",
    "for i in range(len(a)):\n",
    "    for j in range (len(b)):\n",
    "        if(a[i]==b[j]):\n",
    "            m.append(a[i])\n",
    "print(m)"
   ]
  },
  {
   "cell_type": "code",
   "execution_count": 144,
   "id": "d3c129cf",
   "metadata": {},
   "outputs": [
    {
     "name": "stdout",
     "output_type": "stream",
     "text": [
      "560\n",
      "e b c\n"
     ]
    }
   ],
   "source": [
    "my_dict = {'a':500, 'b':5874, 'c': 560,'d':400, 'e':5874, 'f': 20, 'g':-10}\n",
    "m=['a','b','c','d','e','f','g']\n",
    "ma1='a'\n",
    "ma2='a'\n",
    "ma3='a'\n",
    "for i in range(len(m)):\n",
    "    if(my_dict[m[i]] >= my_dict[ma1]):\n",
    "        s1=ma1\n",
    "        s2=ma2\n",
    "        ma1=m[i]\n",
    "        ma2=s1\n",
    "        ma3=s2\n",
    "    if(my_dict[m[i]] >= my_dict[ma2] and m[i]!=ma1):\n",
    "        s1=ma2\n",
    "        ma2=m[i]\n",
    "        ma3=s1\n",
    "    if(my_dict[m[i]] >= my_dict[ma3] and m[i]!=ma1 and m[i]!=ma2):\n",
    "        ma3=m[i]\n",
    "print(ma1,ma2,ma3)"
   ]
  },
  {
   "cell_type": "code",
   "execution_count": 90,
   "id": "69afcb73",
   "metadata": {},
   "outputs": [
    {
     "name": "stdout",
     "output_type": "stream",
     "text": [
      "22 22 223 22\n",
      "22\n",
      "3\n"
     ]
    }
   ],
   "source": [
    "st=str(input())\n",
    "sl=str(input())\n",
    "ko=0\n",
    "k=0\n",
    "l=0\n",
    "h=0\n",
    "v=0\n",
    "for i in range(len(sl)*5):\n",
    "    st=st+' '\n",
    "for i in range(len(st)):\n",
    "    k=0\n",
    "    ko=0\n",
    "    for j in range(len(sl)):\n",
    "        if(i-1==-1):\n",
    "            i=i+1\n",
    "            h=1\n",
    "        if(st[i-1]==' ' or h==1):\n",
    "            if(h==1):\n",
    "                h=0\n",
    "                i=i-1\n",
    "            if(i+k>=len(st)):\n",
    "                break\n",
    "            if(st[i+k]==sl[j]):\n",
    "                k=k+1\n",
    "            if(k==ko):\n",
    "                k=0\n",
    "                ko=0\n",
    "                break;\n",
    "            else:\n",
    "                ko=ko+1\n",
    "            if(i+k>len(st)):\n",
    "                break\n",
    "            if((k==len(sl)) and st[i+k]==' '):\n",
    "                l=l+1\n",
    "                k=0\n",
    "                ko=0\n",
    "            \n",
    "        \n",
    "    \n",
    "print(l) \n",
    "            "
   ]
  },
  {
   "cell_type": "code",
   "execution_count": 112,
   "id": "d4c289a3",
   "metadata": {},
   "outputs": [
    {
     "name": "stdout",
     "output_type": "stream",
     "text": [
      "1 22 3 4 5 66\n",
      "[1, 484, 9, 16, 25, 4356]\n",
      "[1, 0, 3, 4, 5, 0]\n",
      "[22, 4, 66]\n",
      "[1, 3, 4, 5]\n",
      "[22, 66]\n",
      "[1, 22, 4, 5]\n"
     ]
    }
   ],
   "source": [
    "def add(n):\n",
    "    k=0\n",
    "    while(n>0):\n",
    "        \n",
    "        n=n//10\n",
    "        k=k+1\n",
    "    return k\n",
    "def abb(n):\n",
    "    if(n//10==n%10):\n",
    "        return 1\n",
    "    else:\n",
    "        return 0\n",
    "a=list(map(int,input().split()))\n",
    "\n",
    "m1=[]\n",
    "m2=[]\n",
    "m3=[]\n",
    "m4=[]\n",
    "m5=[]\n",
    "m6=[]\n",
    "for i in range(len(a)):\n",
    "    c=a[i]**2\n",
    "    m1.append(c)\n",
    "    m2.append(a[i]%11)\n",
    "    if(a[i]%2==0):\n",
    "        m3.append(a[i])\n",
    "    if(add(a[i])%2!=0):\n",
    "        m4.append(a[i])\n",
    "    if(abb(a[i]==1) and add(a[i])==2):\n",
    "        m5.append(a[i])\n",
    "    if((i+1)%3!=0):\n",
    "        m6.append(a[i])\n",
    "print(m1)\n",
    "print(m2)\n",
    "print(m3)\n",
    "print(m4)\n",
    "print(m5)\n",
    "print(m6)\n"
   ]
  },
  {
   "cell_type": "markdown",
   "id": "97a76983",
   "metadata": {},
   "source": []
  }
 ],
 "metadata": {
  "kernelspec": {
   "display_name": "Python 3 (ipykernel)",
   "language": "python",
   "name": "python3"
  },
  "language_info": {
   "codemirror_mode": {
    "name": "ipython",
    "version": 3
   },
   "file_extension": ".py",
   "mimetype": "text/x-python",
   "name": "python",
   "nbconvert_exporter": "python",
   "pygments_lexer": "ipython3",
   "version": "3.10.6"
  }
 },
 "nbformat": 4,
 "nbformat_minor": 5
}
