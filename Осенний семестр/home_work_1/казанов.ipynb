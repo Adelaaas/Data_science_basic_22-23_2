{
 "cells": [
  {
   "cell_type": "markdown",
   "metadata": {
    "id": "ByFo_YXdjBHH"
   },
   "source": [
    "# Вариант 1"
   ]
  },
  {
   "cell_type": "markdown",
   "metadata": {
    "id": "VrkGK2Ykjtwr"
   },
   "source": [
    "***Кто делает***:\n",
    "\n",
    "1. Александров Данила Александрович\n",
    "2. Быков Дмитрий Александрович \n",
    "3. Горбунов Сергей Михайлович \n",
    "4. Горячко Дарья Романовна \n",
    "5. Громов Алексей Игоревич\n",
    "6. Ивлиев Степан Дмитриевич"
   ]
  },
  {
   "cell_type": "markdown",
   "metadata": {
    "id": "FiZBX1FXjCg5"
   },
   "source": [
    "**Задача 1**\n",
    "\n",
    "Даны списки:\n",
    "\n",
    "a = [1, 1, 2, 3, 5, 8, 13, 21, 34, 55, 89];\n",
    "\n",
    "b = [1, 2, 3, 4, 5, 6, 7, 8, 9, 10, 11, 12, 13].\n",
    "\n",
    "Нужно вернуть список, который состоит из элементов, общих для этих двух списков."
   ]
  },
  {
   "cell_type": "code",
   "execution_count": null,
   "metadata": {
    "id": "CfFRprI5jojk"
   },
   "outputs": [],
   "source": [
    "# Ваше решение"
   ]
  },
  {
   "cell_type": "markdown",
   "metadata": {
    "id": "MftgngptjsV1"
   },
   "source": [
    "**Задача 2.**\n",
    "\n",
    "Найдите три ключа с самыми высокими значениями в словаре my_dict = {'a':500, 'b':5874, 'c': 560,'d':400, 'e':5874, 'f': 20, 'g':-10}."
   ]
  },
  {
   "cell_type": "code",
   "execution_count": null,
   "metadata": {
    "id": "fjTF5rF-kFQT"
   },
   "outputs": [],
   "source": [
    "# Ваше решение"
   ]
  },
  {
   "cell_type": "markdown",
   "metadata": {
    "id": "tsfpJ2fUkKF5"
   },
   "source": [
    "**Задача 3.**\n",
    "\n",
    "Пользователь вводит строку с клавиатуры и некоторое слово. Посчитайте, сколько раз данное слово встречается в строке."
   ]
  },
  {
   "cell_type": "code",
   "execution_count": null,
   "metadata": {
    "id": "qlIkWw-ak1R0"
   },
   "outputs": [],
   "source": [
    "# Ваше решение"
   ]
  },
  {
   "cell_type": "markdown",
   "metadata": {
    "id": "qGxHiw12k1nl"
   },
   "source": [
    "**Задача 4.**\n",
    "\n",
    "На входе программа получает список целых чисел s. Ваша задача - вывести следующие списки по одному в строке, используя генераторы списков:\n",
    "\n",
    "*   Список, состоящий из квадратов s.\n",
    "*   Список, состоящий из остатков деления на 11 элементов s.\n",
    "*   Список, состоящий только из чётных элементов s.\n",
    "*   Список, состоящий только из элементов s с нечётным количеством цифр.\n",
    "*   Список, состоящий только из двухзначных элементов s, записанных 2 раза подряд.\n",
    "*   Список, состоящий из элементов s, стоящих на позициях, не кратных 3."
   ]
  },
  {
   "cell_type": "code",
   "execution_count": null,
   "metadata": {
    "id": "pOUUd0BLlX5o"
   },
   "outputs": [],
   "source": [
    "# Ваше решение"
   ]
  },
  {
   "cell_type": "markdown",
   "metadata": {
    "id": "qpl5XkfSlYyn"
   },
   "source": [
    "# Вариант 2"
   ]
  },
  {
   "cell_type": "markdown",
   "metadata": {
    "id": "L5MIq7J3lcz3"
   },
   "source": [
    "***Кто делает***:\n",
    "\n",
    "1. Игнатов Игорь Дмитриевич\n",
    "2. Игнатов Константин Дмитриевич\n",
    "3. Казанов Амир Ринатович\n",
    "4. Клячин Иван Николаевич\n",
    "5. Котов Александр Андреевич\n",
    "6. Мелешкин Кирилл Андреевич"
   ]
  },
  {
   "cell_type": "markdown",
   "metadata": {
    "id": "suxuOHmSli09"
   },
   "source": [
    "**Задача 1.**\n",
    "\n",
    "Напишите программу, которая принимает два списка и выводит все элементы первого, которых нет во втором."
   ]
  },
  {
   "cell_type": "code",
   "execution_count": 1,
   "metadata": {
    "id": "Fx0y6uvQlqZO"
   },
   "outputs": [
    {
     "name": "stdout",
     "output_type": "stream",
     "text": [
      "5g gjj fkwf\n",
      "5g kkrjfj jjj\n",
      "gjj fkwf\n"
     ]
    }
   ],
   "source": [
    "a = list(map(str, input().split()))\n",
    "b = list(map(str, input().split()))\n",
    "c = []\n",
    "for i in a:\n",
    "    if not i in b:\n",
    "        c.append(i)\n",
    "print(*c)"
   ]
  },
  {
   "cell_type": "markdown",
   "metadata": {
    "id": "QSWi4FNvlpPK"
   },
   "source": [
    "**Задача 2.**\n",
    "\n",
    "Вам дан список, переставьте соседние элементы местами."
   ]
  },
  {
   "cell_type": "code",
   "execution_count": 3,
   "metadata": {
    "id": "vrr5JJkVoEcr"
   },
   "outputs": [
    {
     "name": "stdout",
     "output_type": "stream",
     "text": [
      "[4, 'a', (1, 5), 'hello', 'b', 10]\n"
     ]
    }
   ],
   "source": [
    "lst= ['a', 4, 'hello', (1,5), 10, 'b']\n",
    "for i in range(0,len(lst)-1,2):\n",
    "    lst[i],lst[i+1]=lst[i+1],lst[i]\n",
    "print(lst)"
   ]
  },
  {
   "cell_type": "markdown",
   "metadata": {
    "id": "7VpdDp3EoIju"
   },
   "source": [
    "**Задача 3.**\n",
    "\n",
    "С клавиатуры вводится слово. Напишите проверку на то, является ли строка палиндромом. Палиндром — это слово или фраза, которые одинаково читаются слева направо и справа налево."
   ]
  },
  {
   "cell_type": "code",
   "execution_count": 6,
   "metadata": {
    "id": "TLBqPcawoK1R"
   },
   "outputs": [
    {
     "name": "stdout",
     "output_type": "stream",
     "text": [
      "фбффбф\n",
      "YES\n"
     ]
    }
   ],
   "source": [
    "a = input()\n",
    "for i in range(len(a)//2):\n",
    "    if a[i]!=a[len(a)-i-1]:\n",
    "        print('NO')\n",
    "        exit()\n",
    "print('YES')"
   ]
  },
  {
   "cell_type": "markdown",
   "metadata": {
    "id": "jz5JsJ_El6NO"
   },
   "source": [
    "**Задача 4.**\n",
    "\n",
    "На входе программа получает список целых чисел n. Ваша задача - вывести следующие списки по одному в строке, используя генераторы списков:\n",
    "\n",
    "*   Список, состоящий из квадрытных корней элементов списка n.\n",
    "*   Список, состоящий из целый части от деления на 4 элементов n.\n",
    "*   Список, состоящий только из нечётных элементов n.\n",
    "*   Список, состоящий из чисел, которые если больше 0, то умножаются на 2, если меньше 0, то делятся на 2.\n",
    "*   Список, состоящий из выражений [n[i], n[i]_next], где n[i] - элемент списка n, n[i]_next - следующее значение этого элемента (например, [1,2], [4,5], [0,1].\n",
    "*   Список, состоящий из элементов s, стоящих на позициях, кратных 5."
   ]
  },
  {
   "cell_type": "code",
   "execution_count": 10,
   "metadata": {},
   "outputs": [
    {
     "name": "stdout",
     "output_type": "stream",
     "text": [
      "-3 -4 56 73 -145\n",
      "[(1.0605752387249068e-16+1.7320508075688772j), (1.2246467991473532e-16+2j), 7.483314773547883, 8.54400374531753, (7.373350128774053e-16+12.041594578792296j)] [0, -1, 14, 18, -36] [-3, 73, -145] [-1.5, -2.0, 112, 146, -72.5] [[-3, -4], [-4, 56], [56, 73], [73, -145]] [-3]\n"
     ]
    }
   ],
   "source": [
    "\n",
    "n = list(map(int,input().split()))\n",
    "a = [i**0.5 for i in n]\n",
    "b = [int(i/4) for i in n]\n",
    "c = [i for i in n if i%2!=0]\n",
    "d = []\n",
    "for i in n:\n",
    "    if i>0:\n",
    "        d.append(i*2)\n",
    "    else:\n",
    "        d.append(i/2)\n",
    "e = [[n[i],n[i+1]] for i in range(len(n)-1)]\n",
    "f = [n[s] for s in range(len(n)) if s%5==0]\n",
    "print(a,b,c,d,e,f)"
   ]
  },
  {
   "cell_type": "code",
   "execution_count": null,
   "metadata": {
    "id": "7PP4mpcgoG2u"
   },
   "outputs": [],
   "source": [
    "# Ваше решение"
   ]
  },
  {
   "cell_type": "markdown",
   "metadata": {
    "id": "Ycu4hFCRpAWI"
   },
   "source": [
    "# Вариант 3"
   ]
  },
  {
   "cell_type": "markdown",
   "metadata": {
    "id": "fHJxyAAhpE0x"
   },
   "source": [
    "***Кто делает***:\n",
    "\n",
    "1. Таланов Максим Андреевич\n",
    "2. Файзуллин Илья Денисович\n",
    "3. Чупрова Ася Александровна\n",
    "4. Ямпольская Ирина Вадимовна"
   ]
  },
  {
   "cell_type": "markdown",
   "metadata": {
    "id": "RxleHpr0pJzJ"
   },
   "source": [
    "**Задача 1.**\n",
    "\n",
    "Задана последовательность чисел. Сдвиньте все нули в конец последовательности, сохранив относительный порядок ненулевых элементов.\n",
    "\n",
    "Например:\n",
    "\n",
    "Ввод:\n",
    "\n",
    "`3 0 5 0 0 -4`\n",
    "\n",
    "Вывод:\n",
    "\n",
    "`3 5 -4 0 0 0`\n"
   ]
  },
  {
   "cell_type": "code",
   "execution_count": null,
   "metadata": {
    "id": "a2PUa66CpmCU"
   },
   "outputs": [],
   "source": [
    "# Ваше решение"
   ]
  },
  {
   "cell_type": "markdown",
   "metadata": {
    "id": "t8r41njjpno-"
   },
   "source": [
    "**Задача 2.**\n",
    "\n",
    "С клавиатуры вводится строка. Напишите программу, которая формирует словарь, где ключ - это слово, значение - сколько раз это слово встречается в строке."
   ]
  },
  {
   "cell_type": "code",
   "execution_count": null,
   "metadata": {
    "id": "dJ_sTzqvqMw_"
   },
   "outputs": [],
   "source": [
    "# Ваше решение"
   ]
  },
  {
   "cell_type": "markdown",
   "metadata": {
    "id": "L-aO8MLDqNOp"
   },
   "source": [
    "**Задача 3.**\n",
    "\n",
    "Определить, принадлежит ли точка с координатами (x; y) кругу радиуса R с центром в начале координат.\n",
    "\n",
    "Пользователь вводит координаты точки и радиус круга."
   ]
  },
  {
   "cell_type": "code",
   "execution_count": null,
   "metadata": {
    "id": "3d8mTLROqlQO"
   },
   "outputs": [],
   "source": [
    "# Ваше решение"
   ]
  },
  {
   "cell_type": "markdown",
   "metadata": {
    "id": "gS0vf7RvqysI"
   },
   "source": [
    "**Задача 4.**\n",
    "\n",
    "Вам дан список имен и список фамилий, используя генератор списков, создайте новый список, состоящий из имени и фамилии.\n",
    "\n",
    "Ввод:\n",
    "\n",
    "\n",
    "```\n",
    "names = ['Pete']\n",
    "surnames = ['Black']\n",
    "```\n",
    "\n",
    "\n",
    "\n",
    "Вывод:\n",
    "\n",
    "`new = ['Pete Black']`"
   ]
  },
  {
   "cell_type": "code",
   "execution_count": null,
   "metadata": {
    "id": "FRq8ttWdrSoS"
   },
   "outputs": [],
   "source": [
    "names = ['Никита', 'Евгений', 'Андрей', 'Роман', 'Егор']\n",
    "surnames = ['Нечаев', 'Нуромский', 'Родин', 'Рыженко', 'Юлов']\n",
    "\n",
    "# Ваше решение"
   ]
  },
  {
   "cell_type": "markdown",
   "metadata": {
    "id": "XOZgymlJ3hDy"
   },
   "source": [
    "# Вариант 4."
   ]
  },
  {
   "cell_type": "markdown",
   "metadata": {
    "id": "DOMiZWjs3lhz"
   },
   "source": [
    "***Кто делает***:\n",
    "\n",
    "1. Морозов Максим Олегович\n",
    "2. Переттруов Никита Артемович\n",
    "3. Пославский Егор Константинович\n",
    "4. Садохин Константин Павлович\n",
    "5. Скиданов Дмитрий Артёмович\n",
    "6. Судариков Андрей Геннадьевич"
   ]
  },
  {
   "cell_type": "markdown",
   "metadata": {
    "id": "tcuzaO8G3r0e"
   },
   "source": [
    "**Задача 1.**\n",
    "\n",
    "С клавиатуры пользователь вводит строку.\n",
    "\n",
    "1. Сначала выведите третий символ этой строки.\n",
    "2. Во второй строке выведите предпоследний символ этой строки.\n",
    "3. В третьей строке выведите первые пять символов этой строки.\n",
    "4. В четвертой строке выведите всю строку, кроме последних двух символов.\n",
    "5. В пятой строке выведите все символы с четными индексами (считая, что индексация начинается с 0, поэтому символы выводятся начиная с первого).\n",
    "6. В седьмой строке выведите все символы в обратном порядке.\n",
    "7. В восьмой строке выведите все символы строки через один в обратном порядке, начиная с последнего."
   ]
  },
  {
   "cell_type": "code",
   "execution_count": null,
   "metadata": {
    "id": "graFB1dV5PDk"
   },
   "outputs": [],
   "source": [
    "# Ваше решение"
   ]
  },
  {
   "cell_type": "markdown",
   "metadata": {
    "id": "_PNwyovA5QWu"
   },
   "source": [
    "**Задача 2.**\n",
    "\n",
    "Дан список чисел. Определите, сколько в этом списке элементов, которые больше двух своих соседей, и выведите количество таких элементов. Крайние элементы списка никогда не учитываются, поскольку у них недостаточно соседей."
   ]
  },
  {
   "cell_type": "markdown",
   "metadata": {
    "id": "d2xbGYN55bHr"
   },
   "source": [
    "Например:\n",
    "\n",
    "**Ввод:**\n",
    "\n",
    "1 2 3 4 5\n",
    "\n",
    "**Вывод:**\n",
    "\n",
    "0\n",
    "\n",
    "**Ввод:**\n",
    "\n",
    "1 5 1 5 1\n",
    "\n",
    "**Вывод:**\n",
    "\n",
    "2"
   ]
  },
  {
   "cell_type": "code",
   "execution_count": null,
   "metadata": {
    "id": "sdcHJY155YYU"
   },
   "outputs": [],
   "source": [
    "# Ваше решение"
   ]
  },
  {
   "cell_type": "markdown",
   "metadata": {
    "id": "99NXpuVa5nqW"
   },
   "source": [
    "**Задача 3.**\n",
    "\n",
    "С клавиатуры вводится строка. Создайте словарь, где ключ - это слово, значение: сколько раз слово встретилось в строке."
   ]
  },
  {
   "cell_type": "code",
   "execution_count": null,
   "metadata": {
    "id": "Y9CAnJel6OAw"
   },
   "outputs": [],
   "source": [
    "# Ваше решение"
   ]
  },
  {
   "cell_type": "markdown",
   "metadata": {
    "id": "N7TomW7H6Q1k"
   },
   "source": [
    "**Задача 4.**\n",
    "\n",
    "Используя генератор списков, составьте список из квадратов каждого элемента в списке, если квадрат больше 50."
   ]
  },
  {
   "cell_type": "code",
   "execution_count": null,
   "metadata": {
    "id": "TWFoCKAQ7DBv"
   },
   "outputs": [],
   "source": [
    "# Ваше решение"
   ]
  }
 ],
 "metadata": {
  "colab": {
   "provenance": []
  },
  "kernelspec": {
   "display_name": "Python 3",
   "language": "python",
   "name": "python3"
  },
  "language_info": {
   "codemirror_mode": {
    "name": "ipython",
    "version": 3
   },
   "file_extension": ".py",
   "mimetype": "text/x-python",
   "name": "python",
   "nbconvert_exporter": "python",
   "pygments_lexer": "ipython3",
   "version": "3.10.7"
  }
 },
 "nbformat": 4,
 "nbformat_minor": 1
}
