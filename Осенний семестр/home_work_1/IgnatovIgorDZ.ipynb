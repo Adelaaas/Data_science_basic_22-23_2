{
  "nbformat": 4,
  "nbformat_minor": 0,
  "metadata": {
    "colab": {
      "provenance": []
    },
    "kernelspec": {
      "name": "python3",
      "display_name": "Python 3"
    },
    "language_info": {
      "name": "python"
    }
  },
  "cells": [
    {
      "cell_type": "markdown",
      "source": [
        "1."
      ],
      "metadata": {
        "id": "JilK0Qu6Y7MC"
      }
    },
    {
      "cell_type": "code",
      "execution_count": 45,
      "metadata": {
        "colab": {
          "base_uri": "https://localhost:8080/"
        },
        "id": "bpw5eigwYxzO",
        "outputId": "ec0b18c8-c885-49fe-dcf0-3304733b83af"
      },
      "outputs": [
        {
          "output_type": "stream",
          "name": "stdout",
          "text": [
            "12 23 44\n",
            "23\n",
            "12\n",
            "44\n"
          ]
        }
      ],
      "source": [
        "a=list(map(int,input().split()))\n",
        "b=list(map(int,input().split()))\n",
        "for i in a:\n",
        "  if i not in b:\n",
        "    print(i)"
      ]
    },
    {
      "cell_type": "markdown",
      "source": [
        "2"
      ],
      "metadata": {
        "id": "JvvY15loZXLG"
      }
    },
    {
      "cell_type": "code",
      "source": [
        "lst= ['a', 4, 'hello', (1,5), 10, 'b']\n",
        "lst[0:2]=[4,'a']\n",
        "lst[2:4]=[(1,5),'hello']\n",
        "lst[4:6]=['b',10]\n",
        "print(lst)"
      ],
      "metadata": {
        "colab": {
          "base_uri": "https://localhost:8080/"
        },
        "id": "jMmrkKaJYzNy",
        "outputId": "72e85e9b-82aa-4ca8-e363-836a9c512164"
      },
      "execution_count": 1,
      "outputs": [
        {
          "output_type": "stream",
          "name": "stdout",
          "text": [
            "[4, 'a', (1, 5), 'hello', 'b', 10]\n"
          ]
        }
      ]
    },
    {
      "cell_type": "markdown",
      "source": [
        "3"
      ],
      "metadata": {
        "id": "ZbW4l0y-ZemG"
      }
    },
    {
      "cell_type": "code",
      "source": [
        "a=input()\n",
        "if a==a[-1::-1 ]:\n",
        "    print(\"Yes\")\n",
        "else:\n",
        "    print(\"NO\")"
      ],
      "metadata": {
        "id": "lsNS0U-9ZhAN"
      },
      "execution_count": null,
      "outputs": []
    },
    {
      "cell_type": "markdown",
      "source": [
        "4"
      ],
      "metadata": {
        "id": "f_K9v0osZlx0"
      }
    },
    {
      "cell_type": "code",
      "source": [
        "n=list(map(int,input().split()))\n",
        "sp1=[]\n",
        "sp2=[]\n",
        "sp3=[]\n",
        "sp4=[]\n",
        "sp5=[]\n",
        "sp6=[]\n",
        "l=len(n)\n",
        "sp1=[i**2 for i in n]\n",
        "sp2=[i//4 for i in n]\n",
        "for i in range(0,l):\n",
        "  if n[i]>0:\n",
        "    sp4.append(n[i]*2)\n",
        "  else:\n",
        "    sp4.append(float(n[i])/2)\n",
        "  if n[i]%2!=0:\n",
        "    sp3.append(n[i])\n",
        "  sp5.append(n[i])\n",
        "  sp5.append(n[i]+1)\n",
        "  if i%5==0:\n",
        "    sp6.append(n[i])\n",
        "\n",
        "print(sp1,sp2,sp3,sp4,sp5,sp6)\n"
      ],
      "metadata": {
        "colab": {
          "base_uri": "https://localhost:8080/"
        },
        "id": "nxmhmR1iZmfi",
        "outputId": "15507857-849d-45a5-fa5a-6cf95fec3080"
      },
      "execution_count": 36,
      "outputs": [
        {
          "output_type": "stream",
          "name": "stdout",
          "text": [
            "1\n",
            "[1] [0] [1] [2] [1, 2] [1]\n"
          ]
        }
      ]
    },
    {
      "cell_type": "code",
      "source": [],
      "metadata": {
        "id": "O7H8HpqxkaQI"
      },
      "execution_count": null,
      "outputs": []
    }
  ]
}