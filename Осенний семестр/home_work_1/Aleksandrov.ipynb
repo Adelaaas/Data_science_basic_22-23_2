{
  "nbformat": 4,
  "nbformat_minor": 0,
  "metadata": {
    "colab": {
      "provenance": []
    },
    "kernelspec": {
      "name": "python3",
      "display_name": "Python 3"
    },
    "language_info": {
      "name": "python"
    }
  },
  "cells": [
    {
      "cell_type": "markdown",
      "source": [
        "Задание 1"
      ],
      "metadata": {
        "id": "Xt_mz2JD4Whx"
      }
    },
    {
      "cell_type": "code",
      "execution_count": null,
      "metadata": {
        "id": "j7gO6FTY4QQV"
      },
      "outputs": [],
      "source": [
        "a=[1,1,2,3,5,8,13,21,34,55,89]\n",
        "b=[1,2,3,4,5,6,7,8,9,10,11,12,13]\n",
        "c=[]\n",
        "for i in a:\n",
        "    for j in b:\n",
        "            if i==j and i not in c :\n",
        "                c.append(i)\n",
        "print(c)\n"
      ]
    },
    {
      "cell_type": "markdown",
      "source": [
        "Задание 2"
      ],
      "metadata": {
        "id": "pmNEvBSe4Shs"
      }
    },
    {
      "cell_type": "code",
      "source": [
        "my_dict = {'a':500, 'b':5874, 'c': 560,'d':400, 'e':5874, 'f': 20, 'g':-10}\n",
        "c=[]\n",
        "for i in my_dict:\n",
        "    c.append(my_dict[i])\n",
        "c=sorted(c)\n",
        "print(c[-1],c[-2],c[-3])\n"
      ],
      "metadata": {
        "id": "xERAkt4Z4nBH"
      },
      "execution_count": null,
      "outputs": []
    },
    {
      "cell_type": "markdown",
      "source": [
        "Задание 3"
      ],
      "metadata": {
        "id": "wrJffDk04Q-k"
      }
    },
    {
      "cell_type": "code",
      "source": [
        "a=str(input())\n",
        "b=str(input())\n",
        "d=0\n",
        "for j in range(len(a)):\n",
        "    c=a[j:j+len(b)]\n",
        "    if b==c:\n",
        "        d+=1\n",
        "print(d)\n",
        "        \n"
      ],
      "metadata": {
        "id": "6VDlVfYB49Sh"
      },
      "execution_count": null,
      "outputs": []
    },
    {
      "cell_type": "markdown",
      "source": [
        "Задание 4"
      ],
      "metadata": {
        "id": "GvEvXJMG5C9S"
      }
    },
    {
      "cell_type": "code",
      "source": [
        "a=input().split()\n",
        "for j in range(len(a)):\n",
        "    a[j]=int(a[j])\n",
        "k=[i**2 for i in a]\n",
        "ostatok=[i%11 for i in a]\n",
        "chetniy=[i for i in a if i%2==0]\n",
        "nechet=[i for i in a if len(str(i))%2==1]\n",
        "dvy=[[i]*2 for i in a if len(str(i))==2]\n",
        "s=[a[i] for i in range(len(a)) if (i+1)%3!=0]\n",
        "\n",
        "print(k,ostatok,chetniy,nechet,dvy,s)\n"
      ],
      "metadata": {
        "id": "0TPUAEhP5Ebp"
      },
      "execution_count": null,
      "outputs": []
    }
  ]
}