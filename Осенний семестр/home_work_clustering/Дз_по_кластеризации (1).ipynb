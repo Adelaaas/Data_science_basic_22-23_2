{
  "nbformat": 4,
  "nbformat_minor": 0,
  "metadata": {
    "colab": {
      "provenance": []
    },
    "kernelspec": {
      "name": "python3",
      "display_name": "Python 3"
    },
    "language_info": {
      "name": "python"
    }
  },
  "cells": [
    {
      "cell_type": "markdown",
      "source": [
        "# Домашнее задание по кластеризации"
      ],
      "metadata": {
        "id": "M57jBUotL_jB"
      }
    },
    {
      "cell_type": "markdown",
      "source": [
        "Сегментация клиентов — это разделение рынка на отдельные группы клиентов со схожими характеристиками. Сегментация клиентов может быть мощным средством выявления неудовлетворенных потребностей клиентов. Используя вышеуказанные данные, компании могут превзойти конкурентов, разработав уникальные привлекательные продукты и услуги.\n",
        "\n",
        "Вы владеете супермаркетом и с помощью членских карт у вас есть некоторые основные данные о ваших клиентах, такие как идентификатор клиента, возраст, пол, годовой доход и оценка расходов.\n",
        "\n",
        "Вы хотите понять клиентов, например, кто является целевыми клиентами, чтобы это можно было передать маркетинговой команде и соответствующим образом спланировать стратегию.\n",
        "\n",
        "Для этого вам нужно разбить клиентов на различные группы по похожести."
      ],
      "metadata": {
        "id": "wKPvbnzKMDnN"
      }
    },
    {
      "cell_type": "markdown",
      "source": [
        "## Задания"
      ],
      "metadata": {
        "id": "bFGoZP8xMoYK"
      }
    },
    {
      "cell_type": "markdown",
      "source": [
        "### Задание 1.\n",
        "\n",
        "Провести исследование данных с визуализацией:\n",
        "1. Постройте Диаграмму разброса (точечный график) от двух переменных: `Age` и `Income`.\n",
        "2. Построить график анализа пропущенных значений.\n",
        "3. Построить boxplot для всех числовых переменных. График должен быть один, используя разные subplot() для каждой переменной (т.е. одна фигура и несколько сабплотов).\n",
        "4. Построить barplot по переменной `Sex`.\n",
        "5. Построить матрицу корреляции для всех переменных.\n",
        "\n",
        "*P.s. Все графики, оси и переменные должны быть подписаны. И по графикам необходимо сделать выводы.*"
      ],
      "metadata": {
        "id": "PUAfF6sMMcM8"
      }
    },
    {
      "cell_type": "code",
      "source": [
        "# это пример диаграммы пропущенных значений в датасете\n",
        "# из нее видно что пропусков нет)\n",
        "# а код чтобы построить такую диаграмму - вам надо написать самим)))"
      ],
      "metadata": {
        "colab": {
          "base_uri": "https://localhost:8080/",
          "height": 404
        },
        "id": "AW8WOhxRNRa5",
        "outputId": "053f7c2a-63e8-463e-873f-ac5a8de2488e"
      },
      "execution_count": 4,
      "outputs": [
        {
          "output_type": "execute_result",
          "data": {
            "text/plain": [
              "<seaborn.axisgrid.FacetGrid at 0x7f8940445640>"
            ]
          },
          "metadata": {},
          "execution_count": 4
        },
        {
          "output_type": "display_data",
          "data": {
            "text/plain": [
              "<Figure size 720x432 with 0 Axes>"
            ]
          },
          "metadata": {}
        },
        {
          "output_type": "display_data",
          "data": {
            "text/plain": [
              "<Figure size 511.25x360 with 1 Axes>"
            ],
            "image/png": "[encoded data removed]"
          },
          "metadata": {
            "needs_background": "light"
          }
        }
      ]
    },
    {
      "cell_type": "markdown",
      "source": [
        "### Задание 2\n",
        "\n",
        "Реализовать метод кластарезации KMeans:\n",
        "1. Методом локтя и силуета (в том числе с использованием графиков) оценить оптимальное число кластеров и обосновать его.\n",
        "2. Построить точечный график объектов до кластеризации и после с цветовым разделением на кластеры. Для построения графиков придется взять только две переменные как признаки, но строить кластеризацию не обязательно на двух переменных. \n",
        "\n",
        "P.s. все графики должны быть подписанны и к ним должны прилагаться выводы."
      ],
      "metadata": {
        "id": "F0Nlbys7NWZb"
      }
    },
    {
      "cell_type": "markdown",
      "source": [
        "### Задание 3\n",
        "\n",
        "Реализовать иерархический метод кластарезации:\n",
        "1. Должны быть построены дендрограммы и обоснован выбор количества кластеров.\n",
        "2. Построить точечный график объектов до кластеризации и после с цветовым разделением на кластеры. Для построения графиков придется взять только две переменные как признаки, но строить кластеризацию не обязательно на двух переменных.\n",
        "\n",
        "P.s. все графики должны быть подписанны и к ним должны прилагаться выводы."
      ],
      "metadata": {
        "id": "oP-dVUF1NWdc"
      }
    }
  ]
}