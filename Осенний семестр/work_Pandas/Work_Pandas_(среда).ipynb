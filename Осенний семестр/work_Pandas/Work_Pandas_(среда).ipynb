{
  "nbformat": 4,
  "nbformat_minor": 0,
  "metadata": {
    "colab": {
      "provenance": []
    },
    "kernelspec": {
      "name": "python3",
      "display_name": "Python 3"
    },
    "language_info": {
      "name": "python"
    }
  },
  "cells": [
    {
      "cell_type": "markdown",
      "source": [
        "# Домашнее задание"
      ],
      "metadata": {
        "id": "Lb0fH4pWyGBE"
      }
    },
    {
      "cell_type": "markdown",
      "source": [
        "В домашнем задании вам необходимо рассмтреть данные с олимпиады НТИ по профилю \"Исскусственный интеллект\" за 2019-2020 год.\n",
        "\n",
        "Задачу можно найти по ссылке:\n",
        "\n",
        "https://www.kaggle.com/c/onti-students-performance/data"
      ],
      "metadata": {
        "id": "FbPB2pyrx33h"
      }
    },
    {
      "cell_type": "markdown",
      "source": [
        "## **Как загрузить данные в Google Colab?**\n",
        "\n",
        "1. Из Github (файлы <25 МБ)\n",
        "2. С локального диска\n",
        "3. С Google Диска"
      ],
      "metadata": {
        "id": "0g6EbTpkyLb-"
      }
    },
    {
      "cell_type": "code",
      "source": [
        "# Github\n",
        "# 1. Нажмите на файл с данными, которые хотите подключить\n",
        "# 2. Нажмите \"Raw\"\n",
        "# 3. Скопируйте ссылку открывшейся старницы\n",
        "import pandas as pd\n",
        "\n",
        "url1 = 'https://raw.githubusercontent.com/Adelaaas/Data_science_basic_22-23_1/main/class_work_4_Pandas/ONTI%20Students%20performance/X_train.csv'\n",
        "url2 = 'https://raw.githubusercontent.com/Adelaaas/Data_science_basic_22-23_1/main/class_work_4_Pandas/ONTI%20Students%20performance/studs_info.csv'\n",
        "url3 = 'https://raw.githubusercontent.com/Adelaaas/Data_science_basic_22-23_1/main/class_work_4_Pandas/ONTI%20Students%20performance/zachety.csv'\n",
        "url4 = 'https://raw.githubusercontent.com/Adelaaas/Data_science_basic_22-23_1/main/class_work_4_Pandas/ONTI%20Students%20performance/y_train.csv'\n",
        "\n",
        "X_train = pd.read_csv(url1)\n",
        "studs_info = pd.read_csv(url2)\n",
        "zachety = pd.read_csv(url3)\n",
        "y_train = pd.read_csv(url4)"
      ],
      "metadata": {
        "id": "1HDXz97qyMaw"
      },
      "execution_count": null,
      "outputs": []
    },
    {
      "cell_type": "code",
      "source": [
        "# С локального компьютера\n",
        "\n",
        "from google.colab import files\n",
        "uploaded = files.upload()"
      ],
      "metadata": {
        "id": "Ny4jIq-qyQDr"
      },
      "execution_count": null,
      "outputs": []
    },
    {
      "cell_type": "code",
      "source": [
        "studs_info = pd.read_csv('studs_info.csv')\n",
        "X_train = pd.read_csv('X_train.csv')\n",
        "y_train = pd.read_csv('y_train.csv')\n",
        "zachety = pd.read_csv('zachety.csv')"
      ],
      "metadata": {
        "id": "hf8wQfdfyQbg"
      },
      "execution_count": null,
      "outputs": []
    },
    {
      "cell_type": "code",
      "source": [
        "# Google disk\n",
        "\n",
        "from google.colab import drive\n",
        "drive.mount('/content/drive')"
      ],
      "metadata": {
        "id": "oiKry3qfySAM"
      },
      "execution_count": null,
      "outputs": []
    },
    {
      "cell_type": "code",
      "source": [
        "path = \"copied path\"\n",
        "# /content/drive/MyDrive/Data Science для школьников/ОНТИ /ONTI Students performance/X_train.csv\n",
        "df_bonus = pd.read_csv(path)"
      ],
      "metadata": {
        "id": "OnSm0IL2yVHJ"
      },
      "execution_count": null,
      "outputs": []
    },
    {
      "cell_type": "markdown",
      "source": [
        "## Вариант 1."
      ],
      "metadata": {
        "id": "KAW0d_zSyX_d"
      }
    },
    {
      "cell_type": "markdown",
      "source": [
        "Кто делает:\n",
        "1. Александров Данила Александрович\n",
        "2. Быков Дмитрий Александрович \n",
        "3. Горбунов Сергей Михайлович \n",
        "4. Горячко Дарья Романовна \n",
        "5. Громов Алексей Игоревич\n",
        "6. Игнатов Константин Дмитриевич\n",
        "7. Ямпольская Ирина Вадимовна\n",
        "8. Дидковский Илья Радионович"
      ],
      "metadata": {
        "id": "uz5vhuFPyZAk"
      }
    },
    {
      "cell_type": "markdown",
      "source": [
        "1. Посмотреть размерность дата фреймов.\n",
        "2. Соедить два датафрейма X_train и y_train в один train по индексам.\n",
        "3. Посчитать пропуски в получившемся датафрейме train.\n",
        "4. Посчитать сколько раз встречается каждая специальность в колонке studs_info['направление (специальность)'].\n",
        "5. Создать новый датафрейм из studs_info, в котором будут только женщины с лечебного дела.\n",
        "6. Разложить колонку \"Дата выпуска\" на три: Год выпуска, Месяц выпуска, День выпуска.\n",
        "7. Посчитать сколько уникальных значений в колонке studs_info['Категория обучения'].\n",
        "8. Заменить в колонке studs_info['Категория обучения'] все строковые категории на числовые.\n",
        "9. Удалить ненужную на ваш вгляд колонку из датафрейма studs_info.\n",
        "10. Посчитать сколько мужчин выпустились 2019-08-31."
      ],
      "metadata": {
        "id": "YyYlw9TSybvn"
      }
    },
    {
      "cell_type": "markdown",
      "source": [
        "## Вариант 2."
      ],
      "metadata": {
        "id": "60ibBknFydqG"
      }
    },
    {
      "cell_type": "markdown",
      "source": [
        "Кто делает:\n",
        "1. Ивлиев Степан Дмитриевич\n",
        "2. Игнатов Игорь Дмитриевич\n",
        "3. Казанов Амир Ринатович\n",
        "4. Клячин Иван Николаевич\n",
        "5. Котов Александр Андреевич\n",
        "6. Мелешкин Кирилл Андреевич\n",
        "7. Файзуллин Илья Денисович\n",
        "8. Чупрова Ася Александровна"
      ],
      "metadata": {
        "id": "bCvfKEe6yhTU"
      }
    },
    {
      "cell_type": "markdown",
      "source": [
        "1. Посмотреть размерность дата фреймов.\n",
        "2. Соедить два датафрейма X_train и y_train в один train по индексам.\n",
        "3. Посчитать пропуски в датафрейме studs_info.\n",
        "4. Посчитать сколько мужчин, сколько женщин в датафрейме studs_info.\n",
        "5. Создать новый датафрейм из studs_info, в котором будут только мужчины 2019-06-30 года выпуска.\n",
        "6. Разложить колонку \"Дата выдачи\" на четыре: Год выдачи, Месяц выдачи, День выдачи, Время выдачи.\n",
        "7. Посчитать сколько уникальных значений в колонке studs_info['Статус'] и сколько раз каждое значение встречается в датафрейм.\n",
        "8. Посчитать сколько раз какая оценка встречатся в датафрейм y_train.\n",
        "9. Посчитать средний балл для студента с ID=175711 по всем предметам.\n",
        "10. Удалить любую ненужны колонку на ваш вгляд из датафрейм train."
      ],
      "metadata": {
        "id": "NR37HA6dyjMf"
      }
    },
    {
      "cell_type": "code",
      "source": [
        "# Ваше решение\n",
        "\n",
        "df[df['name'] == 'Ivan']"
      ],
      "metadata": {
        "id": "N7AQr_fpyk5d"
      },
      "execution_count": null,
      "outputs": []
    },
    {
      "cell_type": "markdown",
      "source": [
        "## Вариант 3."
      ],
      "metadata": {
        "id": "nedg9G4FynNZ"
      }
    },
    {
      "cell_type": "markdown",
      "source": [
        "Кто делает:\n",
        "1. Морозов Максим Олегович\n",
        "2. Переттруов Никита Артемович\n",
        "3. Пославский Егор Константинович\n",
        "4. Садохин Константин Павлович\n",
        "5. Скиданов Дмитрий Артёмович\n",
        "6. Судариков Андрей Геннадьевич\n",
        "7. Таланов Максим Андреевич"
      ],
      "metadata": {
        "id": "6yxwMjM9yp61"
      }
    },
    {
      "cell_type": "markdown",
      "source": [
        "Задания:\n",
        "1. Посмотреть размерность дата фреймов.\n",
        "2. Соедить два датафрейма X_train и y_train в один train по индексам.\n",
        "3. Посчитать пропуски в датафрейме studs_info.\n",
        "4. Посчитать сколько уникальных значений в колонке АТТЕСТАЦИЯ и сколько раз каждое из них встречается.\n",
        "5. Переименовать все колонки датафрейм train, чтобы названия были маленькими буквами.\n",
        "6. Разложить колонку \"направление\" на две: Код направления, Название направления.\n",
        "7. Создать новый датафрейм, в котором будут только мужчины 3 курса обучения.\n",
        "8. Заменить все строковые значения в колонке Пол на числовые.\n",
        "9. Сколько всего студентов сдавали предмет \"Информатика\" в виде экзамена? И какой средний балл по всем сдававшим?"
      ],
      "metadata": {
        "id": "lObmItbYyqiz"
      }
    },
    {
      "cell_type": "code",
      "source": [
        "# Ваше решение"
      ],
      "metadata": {
        "id": "kXtVspQUysSA"
      },
      "execution_count": null,
      "outputs": []
    }
  ]
}