{
  "nbformat": 4,
  "nbformat_minor": 0,
  "metadata": {
    "colab": {
      "provenance": []
    },
    "kernelspec": {
      "name": "python3",
      "display_name": "Python 3"
    },
    "language_info": {
      "name": "python"
    }
  },
  "cells": [
    {
      "cell_type": "markdown",
      "source": [
        "Задание 1"
      ],
      "metadata": {
        "id": "u4wUEQ1jTmnE"
      }
    },
    {
      "cell_type": "code",
      "execution_count": 3,
      "metadata": {
        "colab": {
          "base_uri": "https://localhost:8080/"
        },
        "id": "a2cn5nFeE90D",
        "outputId": "aa8ab519-85f6-4e89-ee77-6f1040d6e16d"
      },
      "outputs": [
        {
          "output_type": "stream",
          "name": "stdout",
          "text": [
            "[6.0, 9.0]\n"
          ]
        }
      ],
      "source": [
        "import numpy as np\n",
        "def ro(x):\n",
        "    b = []\n",
        "    for i in x:\n",
        "        if i > 3:\n",
        "            b.append(i)\n",
        "    return b\n",
        "            \n",
        "a=np.array([1,-5,6,9], float)\n",
        "print(ro(a))\n"
      ]
    },
    {
      "cell_type": "markdown",
      "source": [
        "Задание 2"
      ],
      "metadata": {
        "id": "_LtS3xrjTrSO"
      }
    },
    {
      "cell_type": "code",
      "source": [
        "import numpy as np\n",
        "import math\n",
        "\n",
        "            \n",
        "def ro(x):\n",
        "    max = -1\n",
        "    for i in a:\n",
        "        s = math.sqrt(i[0]**2+i[1]**2+i[2]**2)\n",
        "        if s>max:\n",
        "            max = s\n",
        "    return(max)\n",
        "a=np.array([[1,5,9],[1,5,6], [5,6,9], [1,6,9]], float)\n",
        "print(ro(a))\n"
      ],
      "metadata": {
        "colab": {
          "base_uri": "https://localhost:8080/"
        },
        "id": "ZSXDaGwdGt2h",
        "outputId": "7d682b4c-16ae-44af-b254-2fe7aae140f8"
      },
      "execution_count": 14,
      "outputs": [
        {
          "output_type": "stream",
          "name": "stdout",
          "text": [
            "11.916375287812984\n"
          ]
        }
      ]
    },
    {
      "cell_type": "markdown",
      "source": [
        "Задание 3"
      ],
      "metadata": {
        "id": "F09Ox4T0TurT"
      }
    },
    {
      "cell_type": "code",
      "source": [
        "import numpy as np\n",
        "import math\n",
        "\n",
        "            \n",
        "a=np.array([1,5,9], float)\n",
        "max = -1\n",
        "b = []\n",
        "for i in a:\n",
        "    b.append(i)\n",
        "    b.append(0)\n",
        "    b.append(0)\n",
        "    b.append(0)\n",
        "    \n",
        "print(b)\n"
      ],
      "metadata": {
        "colab": {
          "base_uri": "https://localhost:8080/"
        },
        "outputId": "b174cb13-e0f0-4841-8686-41e4212b6e65",
        "id": "MYzsAIlgICP6"
      },
      "execution_count": 18,
      "outputs": [
        {
          "output_type": "stream",
          "name": "stdout",
          "text": [
            "[1.0, 0, 0, 0, 5.0, 0, 0, 0, 9.0, 0, 0, 0]\n"
          ]
        }
      ]
    },
    {
      "cell_type": "markdown",
      "source": [
        "Я не понял своё первое задание, поэтому сделал его из другого варианта\n"
      ],
      "metadata": {
        "id": "vIO6txj8TxX_"
      }
    },
    {
      "cell_type": "code",
      "source": [
        "a = input().split(\"-\")\n",
        "b = input().split(\"-\")\n",
        "a = [int(a[0]),int(a[1]),int(a[2])]\n",
        "b = [int(a[0]),int(a[1]),int(a[2])]\n",
        "c =[]\n",
        "for i in range(a[1],12):\n",
        "  if(i == 2 and a[0]%4 != 0 ):\n",
        "      for j in range(a[2], 29):\n",
        "        c.append(str(a[0])+\"-\"+str(i//10)+str(i%10)+\"-\"+str(j//10)+str(j%10))\n",
        "  elif(i == 2 and a[0]%4 == 0 ):\n",
        "      for j in range(a[2], 30):\n",
        "        c.append(str(a[0])+\"-\"+str(i//10)+str(i%10)+\"-\"+str(j//10)+str(j%10))\n",
        "  \n",
        "  elif(i== 4 and i==6 and i == 9 and i==11):\n",
        "    for j in range(a[2], 31):\n",
        "        c.append(str(a[0])+\"-\"+str(i//10)+str(i%10)+\"-\"+str(j//10)+str(j%10))\n",
        "  else:\n",
        "    for j in range(a[2], 32):\n",
        "        c.append(str(a[0])+\"-\"+str(i//10)+str(i%10)+\"-\"+str(j//10)+str(j%10))\n",
        "for y in range(a[0]+1,b[0]-1):\n",
        "    for i in range(1,13):\n",
        "       if(i == 2 and y%4 != 0 ):\n",
        "          for j in range(1, 29):\n",
        "            c.append(str(y)+\"-\"+str(i//10)+str(i%10)+\"-\"+str(j//10)+str(j%10))\n",
        "       elif(i == 2 and y%4 == 0 ):\n",
        "           for j in range(1, 30):\n",
        "            c.append(str(y)+\"-\"+str(i//10)+str(i%10)+\"-\"+str(j//10)+str(j%10))\n",
        "  \n",
        "       elif(i== 4 and i==6 and i == 9 and i==11):\n",
        "         for j in range(1, 31):\n",
        "            c.append(str(y)+\"-\"+str(i//10)+str(i%10)+\"-\"+str(j//10)+str(j%10))\n",
        "       else:\n",
        "        for j in range(1, 32):\n",
        "            c.append(str(y)+\"-\"+str(i//10)+str(i%10)+\"-\"+str(j//10)+str(j%10))\n",
        "for i in range(b[1],12):\n",
        "  if(i == 2 and b[0]%4 != 0 ):\n",
        "      for j in range(b[2], 29):\n",
        "        c.append(str(b[0])+\"-\"+str(i//10)+str(i%10)+\"-\"+str(j//10)+str(j%10))\n",
        "  elif(i == 2 and b[0]%4 == 0 ):\n",
        "      for j in range(b[2], 30):\n",
        "        c.append(str(b[0])+\"-\"+str(i//10)+str(i%10)+\"-\"+str(j//10)+str(j%10))\n",
        "  \n",
        "  elif(i== 4 and i==6 and i == 9 and i==11):\n",
        "    for j in range(b[2], 31):\n",
        "        c.append(str(b[0])+\"-\"+str(i//10)+str(i%10)+\"-\"+str(j//10)+str(j%10))\n",
        "  else:\n",
        "    for j in range(b[2], 32):\n",
        "        c.append(str(b[0])+\"-\"+str(i//10)+str(i%10)+\"-\"+str(j//10)+str(j%10))\n",
        "for i in c:\n",
        "  print(i)"
      ],
      "metadata": {
        "colab": {
          "base_uri": "https://localhost:8080/"
        },
        "id": "WP-3hJw8J6hf",
        "outputId": "d38137ba-fbfc-4bff-9987-c3acfad16b25"
      },
      "execution_count": null,
      "outputs": [
        {
          "name": "stdout",
          "output_type": "stream",
          "text": [
            "2006-09-30\n"
          ]
        }
      ]
    }
  ]
}