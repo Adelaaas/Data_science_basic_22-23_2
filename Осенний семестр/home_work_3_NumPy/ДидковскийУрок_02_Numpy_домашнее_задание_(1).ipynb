{
  "nbformat": 4,
  "nbformat_minor": 0,
  "metadata": {
    "colab": {
      "provenance": [],
      "toc_visible": true,
      "collapsed_sections": []
    },
    "kernelspec": {
      "name": "python3",
      "display_name": "Python 3"
    },
    "language_info": {
      "name": "python"
    }
  },
  "cells": [
    {
      "cell_type": "markdown",
      "source": [
        "# Вариант 4."
      ],
      "metadata": {
        "id": "-QEGzcgoNVx_"
      }
    },
    {
      "cell_type": "markdown",
      "source": [
        "Кто делает:\n",
        "1. Игнатов Игорь Дмитриевич\n",
        "2. Файзуллин Илья Денисович\n",
        "3. Чупрова Ася Александровна\n",
        "4. Ямпольская Ирина Вадимовна\n",
        "5. Дидковский Илья Радионович"
      ],
      "metadata": {
        "id": "o7jyDAXVNXSI"
      }
    },
    {
      "cell_type": "markdown",
      "source": [
        "**Задача 1.**\n",
        "\n",
        "Реализовать функцию, которая принимает матрицу 3x3 и возвращает обратную по отношеную к ней матрицу.\n",
        "\n",
        "**Немного теории**. *Матрица $А^{-1}$ называется обратной матрицей по отношению к матрице $А$, если $А*А^{-1} = Е$, где $Е$ — единичная матрица n-го порядка. Обратная матрица может существовать только для квадратных матриц.*\n",
        "\n",
        "P.s. использовать встроенные функции запрещено."
      ],
      "metadata": {
        "id": "Y2AweIhaIhrl"
      }
    },
    {
      "cell_type": "code",
      "source": [
        "# ваше решение"
      ],
      "metadata": {
        "id": "wRH4GNSAJchA"
      },
      "execution_count": null,
      "outputs": []
    },
    {
      "cell_type": "markdown",
      "source": [
        "**Задача 2.**\n",
        "\n",
        "Дан одномернный массив. Создайте функцию, которая принимает данные массив и возвращает массив, состоящий из элементов, целая часть от деления которых больше 3."
      ],
      "metadata": {
        "id": "_CimGvMAJiw5"
      }
    },
    {
      "cell_type": "code",
      "source": [
        "import numpy as np\n",
        "\n",
        "\n",
        "def proverka(b):\n",
        "    c = []\n",
        "    for i in b:\n",
        "        if round(i) > 3:\n",
        "            c.append(i)\n",
        "\n",
        "    return c\n",
        "\n",
        "\n",
        "masiv = np.array([50, 80, 101, 7852, 524])\n",
        "print(proverka(masiv))\n"
      ],
      "metadata": {
        "id": "4vTLwhjQJj2L",
        "colab": {
          "base_uri": "https://localhost:8080/"
        },
        "outputId": "df4bf5b1-b506-44bc-e9d6-696b1ea3008e"
      },
      "execution_count": 1,
      "outputs": [
        {
          "output_type": "stream",
          "name": "stdout",
          "text": [
            "[50, 80, 101, 7852, 524]\n"
          ]
        }
      ]
    },
    {
      "cell_type": "markdown",
      "source": [
        "**Задача 3.**\n",
        "\n",
        "Дана матрица 4х3 (содержащаяя координаты 4х векторов, столбцы это соотсветсвенно x,y,z) и вектор (x,y,z). Напишите функцию которая возвращает ближащий вектор из матрицы к заданому вектору (согласно расстоянию между векторами)."
      ],
      "metadata": {
        "id": "SFdz-fHbJ7yt"
      }
    },
    {
      "cell_type": "code",
      "source": [
        "import numpy as np\n",
        "\n",
        "dano = np.array([[1, 2, 9], [2, 4, 2], [1, -1, 2]])\n",
        "zapros = np.array([1, 2, 3])\n",
        "\n",
        "\n",
        "def proverka(dan, zapr):\n",
        "    lmin = 2 ^ 16\n",
        "    buff = []\n",
        "    for i in range(0, 3):\n",
        "        l = (dan[i][0] + zapr[0]) ** 2 + (dan[i][1] + zapr[1]) ** 2 + (dan[i][2] + zapr[2])\n",
        "        if l < lmin:\n",
        "            lmin = l\n",
        "            buff = dan[i]\n",
        "    return buff\n",
        "\n",
        "\n",
        "print(proverka(dano, zapros))\n"
      ],
      "metadata": {
        "id": "dJny__RzKv3W",
        "colab": {
          "base_uri": "https://localhost:8080/"
        },
        "outputId": "a3e50809-6149-46ff-b9a3-ed89c260bb95"
      },
      "execution_count": 2,
      "outputs": [
        {
          "output_type": "stream",
          "name": "stdout",
          "text": [
            "[ 1 -1  2]\n"
          ]
        }
      ]
    },
    {
      "cell_type": "markdown",
      "source": [
        "**Задача 4.**\n",
        "\n",
        "Дан вектор из ненулевых элементов. Вставьте между каждыми элементами по три 0."
      ],
      "metadata": {
        "id": "KYTvVWDPLE43"
      }
    },
    {
      "cell_type": "code",
      "source": [
        "import numpy as np\n",
        "\n",
        "dan = list(np.array([1, 2, 3, 4, 5, 6, 7, 8, 9, 8, 7, 6, 5, 00], float))\n",
        "\n",
        "for i in range(1, len(dan) - 1):\n",
        "  dan.insert(i * 2, '000')\n",
        "\n",
        "dan.insert(1, '000')\n",
        "print(dan)\n"
      ],
      "metadata": {
        "id": "g6RUeHBfLMPc",
        "colab": {
          "base_uri": "https://localhost:8080/"
        },
        "outputId": "f9800ede-9899-4ec3-e230-01565cb1420d"
      },
      "execution_count": 3,
      "outputs": [
        {
          "output_type": "stream",
          "name": "stdout",
          "text": [
            "[1.0, '000', 2.0, '000', 3.0, '000', 4.0, '000', 5.0, '000', 6.0, '000', 7.0, '000', 8.0, '000', 9.0, '000', 8.0, '000', 7.0, '000', 6.0, '000', 5.0, '000', 0.0]\n"
          ]
        }
      ]
    }
  ]
}