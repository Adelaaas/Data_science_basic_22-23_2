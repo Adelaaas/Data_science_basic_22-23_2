{
  "nbformat": 4,
  "nbformat_minor": 0,
  "metadata": {
    "colab": {
      "provenance": [],
      "toc_visible": true,
      "collapsed_sections": []
    },
    "kernelspec": {
      "name": "python3",
      "display_name": "Python 3"
    },
    "language_info": {
      "name": "python"
    }
  },
  "cells": [
    {
      "cell_type": "markdown",
      "source": [
        "# Вариант 2."
      ],
      "metadata": {
        "id": "lyuKr1rn81O_"
      }
    },
    {
      "cell_type": "markdown",
      "source": [
        "Кто делает:\n",
        "1. Игнатов Константин Дмитриевич\n",
        "2. Казанов Амир Ринатович\n",
        "3. Клячин Иван Николаевич\n",
        "4. Котов Александр Андреевич\n",
        "5. Мелешкин Кирилл Андреевич\n",
        "6. Морозов Максим Олегович"
      ],
      "metadata": {
        "id": "xAlXF5iENHaw"
      }
    },
    {
      "cell_type": "markdown",
      "source": [
        "**Задача 1.**\n",
        "\n",
        "На вход подаются 3 числа (каждое с новой строки):\n",
        "\n",
        "- start\n",
        "- stop\n",
        "- n\n",
        "\n",
        "Создайте функцию, которая принимает 3 введеных числа и возвращает список (numpy.array) из n точек на отрезке (start, stop), попарно равноудалённых друг от друга и от концов отрезка (т.е. разделите отрезок на n+1 часть). Округлите значения точек до 3 знака после запятой."
      ],
      "metadata": {
        "id": "do65Avzw4DVz"
      }
    },
    {
      "cell_type": "code",
      "source": [
        "import numpy as np\n",
        "def funks(a,b,c):\n",
        "    step= (b - a) / (c + 1)\n",
        "    z = np.around(np.arange(a + step, b, step), 3)\n",
        "    return z\n",
        "start=float(input())\n",
        "stop=float(input())\n",
        "n=float(input())\n",
        "print(funks(start,stop,n))"
      ],
      "metadata": {
        "id": "uHozyVss-IeX",
        "colab": {
          "base_uri": "https://localhost:8080/"
        },
        "outputId": "9e60f7ec-e35b-4c86-d3e4-92b22aa5f7d9"
      },
      "execution_count": null,
      "outputs": [
        {
          "output_type": "stream",
          "name": "stdout",
          "text": [
            "0\n",
            "1\n",
            "10\n",
            "[0.091 0.182 0.273 0.364 0.455 0.545 0.636 0.727 0.818 0.909]\n"
          ]
        }
      ]
    },
    {
      "cell_type": "markdown",
      "source": [
        "**Задача 2.**\n",
        "\n",
        "Дан массив размерностью NxM.\n",
        "\n",
        "Напишите функцию, которая нормализует все элементы матрицы.\n",
        "\n",
        "**Немного теории.** *Нормализацией данных называется приведение их к некоторой общей шкале без потери информации о различии диапазонов.*\n",
        "\n",
        "*Новые значения элементов расчитываются как:*\n",
        "\n",
        "$x' = \\frac{x-x_{min}}{x_{max}-x_{min}}$"
      ],
      "metadata": {
        "id": "kZGqA0gITmaM"
      }
    },
    {
      "cell_type": "code",
      "source": [
        "import numpy as np\n",
        "def funnorm(matr):\n",
        "    m=matr.flatten()\n",
        "    c=[]\n",
        "    for i in range(0,len(m)):\n",
        "        z=(m[i]-min(m))/(max(m)-min(m))\n",
        "        c.append(z)\n",
        "    return c\n",
        "matrica=np.array([[1,2,3],[6,-9,13]],int)\n",
        "print(funnorm(matrica))"
      ],
      "metadata": {
        "id": "2WyWqRRcCpb_",
        "colab": {
          "base_uri": "https://localhost:8080/"
        },
        "outputId": "0a8427e3-91a9-4e7e-b0fd-5ec93f4147d5"
      },
      "execution_count": null,
      "outputs": [
        {
          "output_type": "stream",
          "name": "stdout",
          "text": [
            "[0.45454545454545453, 0.5, 0.5454545454545454, 0.6818181818181818, 0.0, 1.0]\n"
          ]
        }
      ]
    },
    {
      "cell_type": "markdown",
      "source": [
        "**Задача 3.**\n",
        "\n",
        "Вам дан одномерный массив. Напишите функцию, которая принимает этот массив и возвращает:\n",
        "1. Количество локальных максимумов для этого массива;\n",
        "2. И сами эти максимумы.\n",
        "\n",
        "*P.s. встроенными функциями пользоваться запрещено.*"
      ],
      "metadata": {
        "id": "dCVTOO-_FYkU"
      }
    },
    {
      "cell_type": "code",
      "source": [
        "import numpy as np\n",
        "def funks(a):\n",
        "    z=[]\n",
        "    k=0\n",
        "    if (a[0]>a[1] or a[len(a)-1]>a[len(a)-2]):\n",
        "        for i in range(1,len(a)-1):\n",
        "            if (a[i]>a[i-1] and a[i]>a[i+1]):\n",
        "                k=k+1\n",
        "                z.append(a[i])\n",
        "    else:\n",
        "        for i in range(0,len(a)):\n",
        "            if (a[i]>a[i-1] and a[i]>a[i+1]):\n",
        "                k=k+1\n",
        "                z.append(a[i])\n",
        "    return [k,z]\n",
        "mas=np.array(list(map(int, input().split())), int)\n",
        "print(*funks(mas))"
      ],
      "metadata": {
        "id": "wjMpSkDjGgdp",
        "colab": {
          "base_uri": "https://localhost:8080/"
        },
        "outputId": "8de8a580-8713-4cd4-8908-ad42512aaa85"
      },
      "execution_count": 5,
      "outputs": [
        {
          "output_type": "stream",
          "name": "stdout",
          "text": [
            "3 2 4 1 7 5 9\n",
            "2 [4, 7]\n"
          ]
        }
      ]
    },
    {
      "cell_type": "markdown",
      "source": [
        "**Задача 4.**\n",
        "\n",
        "Реализуйте функцию умножения двух матриц, без использования встроенной функции."
      ],
      "metadata": {
        "id": "sPTzH_1fGs1u"
      }
    },
    {
      "cell_type": "code",
      "source": [
        "# ваше решение"
      ],
      "metadata": {
        "id": "JzgPFrc0H6L0"
      },
      "execution_count": null,
      "outputs": []
    }
  ]
}
