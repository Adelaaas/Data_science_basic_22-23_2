{
  "nbformat": 4,
  "nbformat_minor": 0,
  "metadata": {
    "colab": {
      "provenance": [],
      "toc_visible": true,
      "collapsed_sections": []
    },
    "kernelspec": {
      "name": "python3",
      "display_name": "Python 3"
    },
    "language_info": {
      "name": "python"
    }
  },
  "cells": [
    {
      "cell_type": "markdown",
      "source": [
        "# Вариант 4."
      ],
      "metadata": {
        "id": "-QEGzcgoNVx_"
      }
    },
    {
      "cell_type": "markdown",
      "source": [
        "Кто делает:\n",
        "1. Игнатов Игорь Дмитриевич\n",
        "2. Файзуллин Илья Денисович\n",
        "3. Чупрова Ася Александровна\n",
        "4. Ямпольская Ирина Вадимовна\n",
        "5. Дидковский Илья Радионович"
      ],
      "metadata": {
        "id": "o7jyDAXVNXSI"
      }
    },
    {
      "cell_type": "markdown",
      "source": [
        "**Задача 1.**\n",
        "\n",
        "Реализовать функцию, которая принимает матрицу 3x3 и возвращает обратную по отношеную к ней матрицу.\n",
        "\n",
        "**Немного теории**. *Матрица $А^{-1}$ называется обратной матрицей по отношению к матрице $А$, если $А*А^{-1} = Е$, где $Е$ — единичная матрица n-го порядка. Обратная матрица может существовать только для квадратных матриц.*\n",
        "\n",
        "P.s. использовать встроенные функции запрещено."
      ],
      "metadata": {
        "id": "Y2AweIhaIhrl"
      }
    },
    {
      "cell_type": "code",
      "source": [
        "import numpy as np\n",
        "\n",
        "A = np.matrix('1 4 -12; 2 8 -1; 3 6 -89')\n",
        "A_inv = np.linalg.inv(A)\n",
        "print(A_inv)"
      ],
      "metadata": {
        "id": "wRH4GNSAJchA",
        "colab": {
          "base_uri": "https://localhost:8080/"
        },
        "outputId": "852ca90c-dcb8-4cd6-9473-aba54037c14b"
      },
      "execution_count": null,
      "outputs": [
        {
          "output_type": "stream",
          "name": "stdout",
          "text": [
            "[[-5.11594203  2.05797101  0.66666667]\n",
            " [ 1.26811594 -0.38405797 -0.16666667]\n",
            " [-0.08695652  0.04347826 -0.        ]]\n"
          ]
        }
      ]
    },
    {
      "cell_type": "markdown",
      "source": [
        "**Задача 2.**\n",
        "\n",
        "Дан одномернный массив. Создайте функцию, которая принимает данные массив и возвращает массив, состоящий из элементов, целая часть от деления которых больше 3."
      ],
      "metadata": {
        "id": "_CimGvMAJiw5"
      }
    },
    {
      "cell_type": "code",
      "source": [
        "def F(arr):\n",
        "    res = []\n",
        "    for a in range(len(arr)):\n",
        "        if arr[a] % i >= 3:\n",
        "            res.append(arr[a])\n",
        "    return res\n",
        "\n",
        "\n",
        "i = int(input())\n",
        "arr = [10, 2, 2, 8, 9]\n",
        "\n",
        "print(F(arr))"
      ],
      "metadata": {
        "id": "4vTLwhjQJj2L",
        "colab": {
          "base_uri": "https://localhost:8080/"
        },
        "outputId": "a1ba6b84-7aa9-46cc-edd8-0e89f05c0fd0"
      },
      "execution_count": null,
      "outputs": [
        {
          "output_type": "stream",
          "name": "stdout",
          "text": [
            "5\n",
            "[8, 9]\n"
          ]
        }
      ]
    },
    {
      "cell_type": "markdown",
      "source": [
        "**Задача 3.**\n",
        "\n",
        "Дана матрица 4х3 (содержащаяя координаты 4х векторов, столбцы это соотсветсвенно x,y,z) и вектор (x,y,z). Напишите функцию которая возвращает ближащий вектор из матрицы к заданому вектору (согласно расстоянию между векторами)."
      ],
      "metadata": {
        "id": "SFdz-fHbJ7yt"
      }
    },
    {
      "cell_type": "markdown",
      "source": [],
      "metadata": {
        "id": "yxlfBgfWkFrc"
      }
    },
    {
      "cell_type": "code",
      "source": [],
      "metadata": {
        "id": "dJny__RzKv3W"
      },
      "execution_count": null,
      "outputs": []
    },
    {
      "cell_type": "markdown",
      "source": [
        "**Задача 4.**\n",
        "\n",
        "Дан вектор из ненулевых элементов. Вставьте между каждыми элементами по три 0."
      ],
      "metadata": {
        "id": "KYTvVWDPLE43"
      }
    },
    {
      "cell_type": "code",
      "source": [
        "arr = [10, 15, 17, 18]\n",
        "a = 1\n",
        "for i in range(len(arr)-1):\n",
        "    for j in range(3):\n",
        "        arr.insert(a, 0)\n",
        "        a += 1\n",
        "    a += 1\n",
        "print(arr)"
      ],
      "metadata": {
        "id": "g6RUeHBfLMPc",
        "colab": {
          "base_uri": "https://localhost:8080/"
        },
        "outputId": "2c68ec02-2f7b-4a63-e3e6-501c8d5fdd85"
      },
      "execution_count": null,
      "outputs": [
        {
          "output_type": "stream",
          "name": "stdout",
          "text": [
            "[10, 0, 0, 0, 15, 0, 0, 0, 17, 0, 0, 0, 18]\n"
          ]
        }
      ]
    }
  ]
}