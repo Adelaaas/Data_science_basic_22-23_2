{
  "nbformat": 4,
  "nbformat_minor": 0,
  "metadata": {
    "colab": {
      "provenance": [],
      "toc_visible": true
    },
    "kernelspec": {
      "name": "python3",
      "display_name": "Python 3"
    },
    "language_info": {
      "name": "python"
    }
  },
  "cells": [
    {
      "cell_type": "code",
      "execution_count": 21,
      "metadata": {
        "colab": {
          "base_uri": "https://localhost:8080/",
          "height": 279
        },
        "id": "o5iLHodT6_sk",
        "outputId": "59c6ac31-f428-438b-899a-51e0996ac282"
      },
      "outputs": [
        {
          "output_type": "display_data",
          "data": {
            "text/plain": [
              "<Figure size 432x288 with 4 Axes>"
            ],
            "image/png": "[encoded data removed]"
          },
          "metadata": {
            "needs_background": "light"
          }
        }
      ],
      "source": [
        "import pandas as pd\n",
        "import matplotlib.pyplot as plt\n",
        "import random\n",
        "import seaborn as sns\n",
        "import numpy as np\n",
        "\n",
        "x = [18, 13, 19, 14, 2, 11, 2, -30, 10, 1, 8, 11, 18, 15, 50]\n",
        "y = [7, 9, 19, 13, 2, 17, 20, -40, 9, 10, 18, 3, 2, 2, 80]\n",
        "z = [0.203, 0.443, 0.603, 0.879, 0.871, 0.164, 0.078, 0.766, 0.353, 0.949, 0.391, 0.2, 0.094, 0.692, 0.992]\n",
        "\n",
        "\n",
        "#plt.plot([18, 13, 19, 14, 2, 11, 2, -30, 10, 1, 8, 11, 18, 15, 50],[7, 9, 19, 13, 2, 17, 20, -40, 9, 10, 18, 3, 2, 2, 80])\n",
        "\n",
        "fig, ax = plt.subplots(2,2)\n",
        "plt.xlabel(\"Это x\") # подись для оси х\n",
        "plt.ylabel(\"Это y\") # подись для оси y\n",
        "ax[0,0].plot(x, y)    #  цвет точек\n",
        "ax[0,1].scatter(x, y)\n",
        "ax[1,0].hist(x)\n",
        "ax[1,1].hist(y)\n",
        "\n",
        "# ax.set_facecolor('black')     #  цвет области Axes\n",
        "\n",
        "plt.show()"
      ]
    },
    {
      "cell_type": "code",
      "source": [
        "import pandas as pd\n",
        "import matplotlib.pyplot as plt\n",
        "import random\n",
        "import seaborn as sns\n",
        "import numpy as np\n",
        "\n",
        "x = [18, 13, 19, 14, 2, 11, 2, -30, 10, 1, 8, 11, 18, 15, 50]\n",
        "y = [7, 9, 19, 13, 2, 17, 20, -40, 9, 10, 18, 3, 2, 2, 80]\n",
        "z = [0.203, 0.443, 0.603, 0.879, 0.871, 0.164, 0.078, 0.766, 0.353, 0.949, 0.391, 0.2, 0.094, 0.692, 0.992]\n",
        "\n",
        "df = pd.DataFrame({'1': [18, 13, 19, 14, 2, 11, 2, -30, 10, 1, 8, 11, 18, 15, 50]})\n",
        "df.boxplot(column=['1'], grid= False , color='black')\n"
      ],
      "metadata": {
        "colab": {
          "base_uri": "https://localhost:8080/",
          "height": 282
        },
        "id": "48W9mCbvVg26",
        "outputId": "496708a4-ba60-4b18-9029-143fd223d112"
      },
      "execution_count": 10,
      "outputs": [
        {
          "output_type": "execute_result",
          "data": {
            "text/plain": [
              "<matplotlib.axes._subplots.AxesSubplot at 0x7f638458eb90>"
            ]
          },
          "metadata": {},
          "execution_count": 10
        },
        {
          "output_type": "display_data",
          "data": {
            "text/plain": [
              "<Figure size 432x288 with 1 Axes>"
            ],
            "image/png": "[encoded data removed]"
          },
          "metadata": {
            "needs_background": "light"
          }
        }
      ]
    },
    {
      "cell_type": "code",
      "source": [
        "import pandas as pd\n",
        "import matplotlib.pyplot as plt\n",
        "import random\n",
        "import seaborn as sns\n",
        "import numpy as np\n",
        "\n",
        "x = [18, 13, 19, 14, 2, 11, 2, -30, 10, 1, 8, 11, 18, 15, 50]\n",
        "y = [7, 9, 19, 13, 2, 17, 20, -40, 9, 10, 18, 3, 2, 2, 80]\n",
        "z = [0.203, 0.443, 0.603, 0.879, 0.871, 0.164, 0.078, 0.766, 0.353, 0.949, 0.391, 0.2, 0.094, 0.692, 0.992]\n",
        "\n",
        "df = pd.DataFrame({'1': [7, 9, 19, 13, 2, 17, 20, -40, 9, 10, 18, 3, 2, 2, 80]})\n",
        "df.boxplot(column=['1'], grid= False , color='black')\n"
      ],
      "metadata": {
        "colab": {
          "base_uri": "https://localhost:8080/",
          "height": 282
        },
        "id": "uQpxn1wgYQTZ",
        "outputId": "7f158f95-262b-4e5e-8d85-d3f9d3ee51b2"
      },
      "execution_count": 11,
      "outputs": [
        {
          "output_type": "execute_result",
          "data": {
            "text/plain": [
              "<matplotlib.axes._subplots.AxesSubplot at 0x7f6384448750>"
            ]
          },
          "metadata": {},
          "execution_count": 11
        },
        {
          "output_type": "display_data",
          "data": {
            "text/plain": [
              "<Figure size 432x288 with 1 Axes>"
            ],
            "image/png": "[encoded data removed]"
          },
          "metadata": {
            "needs_background": "light"
          }
        }
      ]
    },
    {
      "cell_type": "code",
      "source": [
        "import pandas as pd\n",
        "import matplotlib.pyplot as plt\n",
        "import random\n",
        "import seaborn as sns\n",
        "import numpy as np\n",
        "\n",
        "x = [18, 13, 19, 14, 2, 11, 2, -30, 10, 1, 8, 11, 18, 15, 50]\n",
        "y = [7, 9, 19, 13, 2, 17, 20, -40, 9, 10, 18, 3, 2, 2, 80]\n",
        "z = [0.203, 0.443, 0.603, 0.879, 0.871, 0.164, 0.078, 0.766, 0.353, 0.949, 0.391, 0.2, 0.094, 0.692, 0.992]\n",
        "\n",
        "df = pd.DataFrame({'x': x,\n",
        "                  'y':y,\n",
        "                   'z':z})\n",
        "df.style.background_gradient(cmap='Reds')\n"
      ],
      "metadata": {
        "colab": {
          "base_uri": "https://localhost:8080/",
          "height": 520
        },
        "id": "KDEVvBMGYk55",
        "outputId": "23af7e09-9747-49b8-c223-f375ad58f2c4"
      },
      "execution_count": 16,
      "outputs": [
        {
          "output_type": "execute_result",
          "data": {
            "text/plain": [
              "<pandas.io.formats.style.Styler at 0x7f6383f54b50>"
            ],
            "text/html": [
              "<style type=\"text/css\">\n",
              "#T_92b8f_row0_col0, #T_92b8f_row12_col0 {\n",
              "  background-color: #f14432;\n",
              "  color: #f1f1f1;\n",
              "}\n",
              "#T_92b8f_row0_col1 {\n",
              "  background-color: #fc8d6d;\n",
              "  color: #f1f1f1;\n",
              "}\n",
              "#T_92b8f_row0_col2 {\n",
              "  background-color: #fedccd;\n",
              "  color: #000000;\n",
              "}\n",
              "#T_92b8f_row1_col0 {\n",
              "  background-color: #f75c41;\n",
              "  color: #f1f1f1;\n",
              "}\n",
              "#T_92b8f_row1_col1, #T_92b8f_row8_col1 {\n",
              "  background-color: #fc8767;\n",
              "  color: #f1f1f1;\n",
              "}\n",
              "#T_92b8f_row1_col2, #T_92b8f_row4_col0, #T_92b8f_row6_col0 {\n",
              "  background-color: #fc8a6a;\n",
              "  color: #f1f1f1;\n",
              "}\n",
              "#T_92b8f_row2_col0 {\n",
              "  background-color: #f0402f;\n",
              "  color: #f1f1f1;\n",
              "}\n",
              "#T_92b8f_row2_col1 {\n",
              "  background-color: #fb6d4d;\n",
              "  color: #f1f1f1;\n",
              "}\n",
              "#T_92b8f_row2_col2 {\n",
              "  background-color: #f44d38;\n",
              "  color: #f1f1f1;\n",
              "}\n",
              "#T_92b8f_row3_col0 {\n",
              "  background-color: #f6583e;\n",
              "  color: #f1f1f1;\n",
              "}\n",
              "#T_92b8f_row3_col1 {\n",
              "  background-color: #fb7c5c;\n",
              "  color: #f1f1f1;\n",
              "}\n",
              "#T_92b8f_row3_col2 {\n",
              "  background-color: #a30f15;\n",
              "  color: #f1f1f1;\n",
              "}\n",
              "#T_92b8f_row4_col1, #T_92b8f_row12_col1, #T_92b8f_row13_col1 {\n",
              "  background-color: #fc9b7c;\n",
              "  color: #000000;\n",
              "}\n",
              "#T_92b8f_row4_col2 {\n",
              "  background-color: #a60f15;\n",
              "  color: #f1f1f1;\n",
              "}\n",
              "#T_92b8f_row5_col0, #T_92b8f_row11_col0 {\n",
              "  background-color: #fa6547;\n",
              "  color: #f1f1f1;\n",
              "}\n",
              "#T_92b8f_row5_col1, #T_92b8f_row10_col0 {\n",
              "  background-color: #fb7252;\n",
              "  color: #f1f1f1;\n",
              "}\n",
              "#T_92b8f_row5_col2 {\n",
              "  background-color: #fee5d9;\n",
              "  color: #000000;\n",
              "}\n",
              "#T_92b8f_row6_col1, #T_92b8f_row8_col0 {\n",
              "  background-color: #fb694a;\n",
              "  color: #f1f1f1;\n",
              "}\n",
              "#T_92b8f_row6_col2, #T_92b8f_row7_col0, #T_92b8f_row7_col1 {\n",
              "  background-color: #fff5f0;\n",
              "  color: #000000;\n",
              "}\n",
              "#T_92b8f_row7_col2 {\n",
              "  background-color: #ca181d;\n",
              "  color: #f1f1f1;\n",
              "}\n",
              "#T_92b8f_row8_col2 {\n",
              "  background-color: #fcaa8d;\n",
              "  color: #000000;\n",
              "}\n",
              "#T_92b8f_row9_col0 {\n",
              "  background-color: #fc8e6e;\n",
              "  color: #000000;\n",
              "}\n",
              "#T_92b8f_row9_col1 {\n",
              "  background-color: #fc8565;\n",
              "  color: #f1f1f1;\n",
              "}\n",
              "#T_92b8f_row9_col2 {\n",
              "  background-color: #7e0610;\n",
              "  color: #f1f1f1;\n",
              "}\n",
              "#T_92b8f_row10_col1 {\n",
              "  background-color: #fb7050;\n",
              "  color: #f1f1f1;\n",
              "}\n",
              "#T_92b8f_row10_col2 {\n",
              "  background-color: #fc9d7f;\n",
              "  color: #000000;\n",
              "}\n",
              "#T_92b8f_row11_col1 {\n",
              "  background-color: #fc9879;\n",
              "  color: #000000;\n",
              "}\n",
              "#T_92b8f_row11_col2 {\n",
              "  background-color: #fedecf;\n",
              "  color: #000000;\n",
              "}\n",
              "#T_92b8f_row12_col2 {\n",
              "  background-color: #fff2ec;\n",
              "  color: #000000;\n",
              "}\n",
              "#T_92b8f_row13_col0 {\n",
              "  background-color: #f5523a;\n",
              "  color: #f1f1f1;\n",
              "}\n",
              "#T_92b8f_row13_col2 {\n",
              "  background-color: #e22e27;\n",
              "  color: #f1f1f1;\n",
              "}\n",
              "#T_92b8f_row14_col0, #T_92b8f_row14_col1, #T_92b8f_row14_col2 {\n",
              "  background-color: #67000d;\n",
              "  color: #f1f1f1;\n",
              "}\n",
              "</style>\n",
              "<table id=\"T_92b8f_\" class=\"dataframe\">\n",
              "  <thead>\n",
              "    <tr>\n",
              "      <th class=\"blank level0\" >&nbsp;</th>\n",
              "      <th class=\"col_heading level0 col0\" >x</th>\n",
              "      <th class=\"col_heading level0 col1\" >y</th>\n",
              "      <th class=\"col_heading level0 col2\" >z</th>\n",
              "    </tr>\n",
              "  </thead>\n",
              "  <tbody>\n",
              "    <tr>\n",
              "      <th id=\"T_92b8f_level0_row0\" class=\"row_heading level0 row0\" >0</th>\n",
              "      <td id=\"T_92b8f_row0_col0\" class=\"data row0 col0\" >18</td>\n",
              "      <td id=\"T_92b8f_row0_col1\" class=\"data row0 col1\" >7</td>\n",
              "      <td id=\"T_92b8f_row0_col2\" class=\"data row0 col2\" >0.203000</td>\n",
              "    </tr>\n",
              "    <tr>\n",
              "      <th id=\"T_92b8f_level0_row1\" class=\"row_heading level0 row1\" >1</th>\n",
              "      <td id=\"T_92b8f_row1_col0\" class=\"data row1 col0\" >13</td>\n",
              "      <td id=\"T_92b8f_row1_col1\" class=\"data row1 col1\" >9</td>\n",
              "      <td id=\"T_92b8f_row1_col2\" class=\"data row1 col2\" >0.443000</td>\n",
              "    </tr>\n",
              "    <tr>\n",
              "      <th id=\"T_92b8f_level0_row2\" class=\"row_heading level0 row2\" >2</th>\n",
              "      <td id=\"T_92b8f_row2_col0\" class=\"data row2 col0\" >19</td>\n",
              "      <td id=\"T_92b8f_row2_col1\" class=\"data row2 col1\" >19</td>\n",
              "      <td id=\"T_92b8f_row2_col2\" class=\"data row2 col2\" >0.603000</td>\n",
              "    </tr>\n",
              "    <tr>\n",
              "      <th id=\"T_92b8f_level0_row3\" class=\"row_heading level0 row3\" >3</th>\n",
              "      <td id=\"T_92b8f_row3_col0\" class=\"data row3 col0\" >14</td>\n",
              "      <td id=\"T_92b8f_row3_col1\" class=\"data row3 col1\" >13</td>\n",
              "      <td id=\"T_92b8f_row3_col2\" class=\"data row3 col2\" >0.879000</td>\n",
              "    </tr>\n",
              "    <tr>\n",
              "      <th id=\"T_92b8f_level0_row4\" class=\"row_heading level0 row4\" >4</th>\n",
              "      <td id=\"T_92b8f_row4_col0\" class=\"data row4 col0\" >2</td>\n",
              "      <td id=\"T_92b8f_row4_col1\" class=\"data row4 col1\" >2</td>\n",
              "      <td id=\"T_92b8f_row4_col2\" class=\"data row4 col2\" >0.871000</td>\n",
              "    </tr>\n",
              "    <tr>\n",
              "      <th id=\"T_92b8f_level0_row5\" class=\"row_heading level0 row5\" >5</th>\n",
              "      <td id=\"T_92b8f_row5_col0\" class=\"data row5 col0\" >11</td>\n",
              "      <td id=\"T_92b8f_row5_col1\" class=\"data row5 col1\" >17</td>\n",
              "      <td id=\"T_92b8f_row5_col2\" class=\"data row5 col2\" >0.164000</td>\n",
              "    </tr>\n",
              "    <tr>\n",
              "      <th id=\"T_92b8f_level0_row6\" class=\"row_heading level0 row6\" >6</th>\n",
              "      <td id=\"T_92b8f_row6_col0\" class=\"data row6 col0\" >2</td>\n",
              "      <td id=\"T_92b8f_row6_col1\" class=\"data row6 col1\" >20</td>\n",
              "      <td id=\"T_92b8f_row6_col2\" class=\"data row6 col2\" >0.078000</td>\n",
              "    </tr>\n",
              "    <tr>\n",
              "      <th id=\"T_92b8f_level0_row7\" class=\"row_heading level0 row7\" >7</th>\n",
              "      <td id=\"T_92b8f_row7_col0\" class=\"data row7 col0\" >-30</td>\n",
              "      <td id=\"T_92b8f_row7_col1\" class=\"data row7 col1\" >-40</td>\n",
              "      <td id=\"T_92b8f_row7_col2\" class=\"data row7 col2\" >0.766000</td>\n",
              "    </tr>\n",
              "    <tr>\n",
              "      <th id=\"T_92b8f_level0_row8\" class=\"row_heading level0 row8\" >8</th>\n",
              "      <td id=\"T_92b8f_row8_col0\" class=\"data row8 col0\" >10</td>\n",
              "      <td id=\"T_92b8f_row8_col1\" class=\"data row8 col1\" >9</td>\n",
              "      <td id=\"T_92b8f_row8_col2\" class=\"data row8 col2\" >0.353000</td>\n",
              "    </tr>\n",
              "    <tr>\n",
              "      <th id=\"T_92b8f_level0_row9\" class=\"row_heading level0 row9\" >9</th>\n",
              "      <td id=\"T_92b8f_row9_col0\" class=\"data row9 col0\" >1</td>\n",
              "      <td id=\"T_92b8f_row9_col1\" class=\"data row9 col1\" >10</td>\n",
              "      <td id=\"T_92b8f_row9_col2\" class=\"data row9 col2\" >0.949000</td>\n",
              "    </tr>\n",
              "    <tr>\n",
              "      <th id=\"T_92b8f_level0_row10\" class=\"row_heading level0 row10\" >10</th>\n",
              "      <td id=\"T_92b8f_row10_col0\" class=\"data row10 col0\" >8</td>\n",
              "      <td id=\"T_92b8f_row10_col1\" class=\"data row10 col1\" >18</td>\n",
              "      <td id=\"T_92b8f_row10_col2\" class=\"data row10 col2\" >0.391000</td>\n",
              "    </tr>\n",
              "    <tr>\n",
              "      <th id=\"T_92b8f_level0_row11\" class=\"row_heading level0 row11\" >11</th>\n",
              "      <td id=\"T_92b8f_row11_col0\" class=\"data row11 col0\" >11</td>\n",
              "      <td id=\"T_92b8f_row11_col1\" class=\"data row11 col1\" >3</td>\n",
              "      <td id=\"T_92b8f_row11_col2\" class=\"data row11 col2\" >0.200000</td>\n",
              "    </tr>\n",
              "    <tr>\n",
              "      <th id=\"T_92b8f_level0_row12\" class=\"row_heading level0 row12\" >12</th>\n",
              "      <td id=\"T_92b8f_row12_col0\" class=\"data row12 col0\" >18</td>\n",
              "      <td id=\"T_92b8f_row12_col1\" class=\"data row12 col1\" >2</td>\n",
              "      <td id=\"T_92b8f_row12_col2\" class=\"data row12 col2\" >0.094000</td>\n",
              "    </tr>\n",
              "    <tr>\n",
              "      <th id=\"T_92b8f_level0_row13\" class=\"row_heading level0 row13\" >13</th>\n",
              "      <td id=\"T_92b8f_row13_col0\" class=\"data row13 col0\" >15</td>\n",
              "      <td id=\"T_92b8f_row13_col1\" class=\"data row13 col1\" >2</td>\n",
              "      <td id=\"T_92b8f_row13_col2\" class=\"data row13 col2\" >0.692000</td>\n",
              "    </tr>\n",
              "    <tr>\n",
              "      <th id=\"T_92b8f_level0_row14\" class=\"row_heading level0 row14\" >14</th>\n",
              "      <td id=\"T_92b8f_row14_col0\" class=\"data row14 col0\" >50</td>\n",
              "      <td id=\"T_92b8f_row14_col1\" class=\"data row14 col1\" >80</td>\n",
              "      <td id=\"T_92b8f_row14_col2\" class=\"data row14 col2\" >0.992000</td>\n",
              "    </tr>\n",
              "  </tbody>\n",
              "</table>\n"
            ]
          },
          "metadata": {},
          "execution_count": 16
        }
      ]
    }
  ]
}