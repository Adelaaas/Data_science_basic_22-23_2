{
  "nbformat": 4,
  "nbformat_minor": 0,
  "metadata": {
    "colab": {
      "provenance": [],
      "toc_visible": true
    },
    "kernelspec": {
      "name": "python3",
      "display_name": "Python 3"
    },
    "language_info": {
      "name": "python"
    }
  },
  "cells": [
    {
      "cell_type": "code",
      "execution_count": 55,
      "metadata": {
        "colab": {
          "base_uri": "https://localhost:8080/",
          "height": 736
        },
        "id": "qLqNT80I5zG9",
        "outputId": "f42a3ce9-0ebf-401a-8053-d5d7551e1581"
      },
      "outputs": [
        {
          "output_type": "display_data",
          "data": {
            "text/plain": [
              "<Figure size 432x288 with 1 Axes>"
            ],
            "image/png": "[encoded data removed]"
          },
          "metadata": {
            "needs_background": "light"
          }
        },
        {
          "output_type": "stream",
          "name": "stdout",
          "text": [
            "      X     Y  cluster\n",
            "0  11.5  16.5        0\n",
            "1   9.5  15.5        0\n",
            "2  11.0  14.5        0\n",
            "3  13.5   7.5        1\n",
            "4  17.0   6.8        1\n",
            "5  15.3   5.6        1\n",
            "6  14.5   5.0        1\n",
            "7   3.7   7.0        2\n",
            "8   5.4   4.7        2\n",
            "9   7.5   4.3        2\n"
          ]
        },
        {
          "output_type": "execute_result",
          "data": {
            "text/plain": [
              "\"\\nplt.xlabel('SepalLengthCm')\\nplt.ylabel('PetalLengthCm')\\nplt.legend(loc=0)\\nplt.show()\\n\""
            ],
            "application/vnd.google.colaboratory.intrinsic+json": {
              "type": "string"
            }
          },
          "metadata": {},
          "execution_count": 55
        },
        {
          "output_type": "display_data",
          "data": {
            "text/plain": [
              "<Figure size 432x288 with 1 Axes>"
            ],
            "image/png": "[encoded data removed]"
          },
          "metadata": {
            "needs_background": "light"
          }
        }
      ],
      "source": [
        "import matplotlib.pyplot as plt\n",
        "from sklearn.cluster import KMeans\n",
        "from google.colab import files\n",
        "#uploaded = files.upload()\n",
        "import pandas as pd\n",
        "\n",
        "\n",
        "x = [11.5, 9.5, 11, 13.5, 17, 15.3, 14.5, 3.7, 5.4, 7.5]\n",
        "y = [16.5, 15.5, 14.5, 7.5, 6.8, 5.6, 5, 7, 4.7, 4.3]\n",
        "\n",
        "SSE = [] # Сумма квадратов ошибок для каждого результата\n",
        "\n",
        "data = {'X': x, 'Y': y}\n",
        "a = pd.DataFrame(data)\n",
        "\n",
        "\n",
        "for k in range(1,9):\n",
        "    kmeans = KMeans(n_clusters = k) # построить кластер\n",
        "    kmeans.fit(a)\n",
        "    SSE.append(kmeans.inertia_)\n",
        "plt.plot(range(1,9), SSE, marker='s');\n",
        "plt.xlabel('k')\n",
        "plt.ylabel('SSE');\n",
        "plt.show()\n",
        "#SSE=pd.DataFrame(data)\n",
        "#print(SSE\n",
        "\n",
        "n=3\n",
        "kmeans = KMeans(n_clusters=n)\n",
        "kmeans.fit(a)\n",
        "Y_pred = kmeans.labels_\n",
        "a['cluster'] = Y_pred\n",
        "\n",
        "plt.plot(a[a['cluster']==0]['X'], a[a['cluster']==0]['Y'], 'bo', label='class1')\n",
        "plt.plot(a[a['cluster']==1]['X'], a[a['cluster']==1]['Y'], 'go', label='class2')\n",
        "plt.plot(a[a['cluster']==2]['X'], a[a['cluster']==2]['Y'], 'ro', label='class3')\n",
        "#plt.plot(a[a['cluster']==3]['X'], a[a['cluster']==3]['Y'], '', label='class4')\n",
        "\n",
        "'''\n",
        "plt.xlabel('SepalLengthCm')\n",
        "plt.ylabel('PetalLengthCm')\n",
        "plt.legend(loc=0)\n",
        "plt.show()\n",
        "'''\n",
        "\n"
      ]
    }
  ]
}