{
  "nbformat": 4,
  "nbformat_minor": 0,
  "metadata": {
    "colab": {
      "provenance": []
    },
    "kernelspec": {
      "name": "python3",
      "display_name": "Python 3"
    },
    "language_info": {
      "name": "python"
    }
  },
  "cells": [
    {
      "cell_type": "markdown",
      "source": [
        "**Задание 1.**\n",
        "\n",
        "На вход подаётся 2 строки:\n",
        "\n",
        "- 1-я строка содержит 2 натуральных числа: n, m\n",
        "- 2-я строка содержит число k\n",
        "\n",
        "Создайте **функциию**, которая возвращает матрицу размера n*m такую, что каждая её строка содержит числа от k до k+m-1 (с шагом 1)."
      ],
      "metadata": {
        "id": "3QitFv7rb-zv"
      }
    },
    {
      "cell_type": "code",
      "execution_count": null,
      "metadata": {
        "id": "okt77IQhb8AH"
      },
      "outputs": [],
      "source": [
        "# Ваше решение"
      ]
    },
    {
      "cell_type": "markdown",
      "source": [
        "**Задание 2.**\n",
        "\n",
        "Переменные A и B содержат по numpy вектору. Создайте **функцию**, которая принимает А и В и возвращет их скалярное произведение и сохраните в переменную Z.\n",
        "\n",
        "P.s. встроенные функции использовать нельзя."
      ],
      "metadata": {
        "id": "PyNEkuOqcTfB"
      }
    },
    {
      "cell_type": "code",
      "source": [
        "# Ваше решение"
      ],
      "metadata": {
        "id": "MIK6GjGQcp5_"
      },
      "execution_count": null,
      "outputs": []
    },
    {
      "cell_type": "markdown",
      "source": [
        "**Задание 3.**\n",
        "\n",
        "Поменяйте знак всех чисел из интервала (3; 9), хранящихся в векторе Z."
      ],
      "metadata": {
        "id": "moh1dlBmcqY9"
      }
    },
    {
      "cell_type": "code",
      "source": [
        "# Ваше решение"
      ],
      "metadata": {
        "id": "z5m6BPTxcvs9"
      },
      "execution_count": null,
      "outputs": []
    },
    {
      "cell_type": "markdown",
      "source": [
        "**Задание 4.**\n",
        "\n",
        "Даны 2 вектора целых чисел A и B.\n",
        "\n",
        "Создайте **функцию**, которая возвращает числа, встречающиеся в обоих векторах и составьте их по возрастанию.\n",
        "\n",
        "*Если пересечений нет, то вектор Z будет пустым.*"
      ],
      "metadata": {
        "id": "i4ITBd2tcxs0"
      }
    },
    {
      "cell_type": "code",
      "source": [
        "# Ваше решение"
      ],
      "metadata": {
        "id": "fCmadyNXcw2k"
      },
      "execution_count": null,
      "outputs": []
    }
  ]
}