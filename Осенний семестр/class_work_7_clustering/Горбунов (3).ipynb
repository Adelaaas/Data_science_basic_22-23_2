{
  "nbformat": 4,
  "nbformat_minor": 0,
  "metadata": {
    "colab": {
      "provenance": [],
      "toc_visible": true
    },
    "kernelspec": {
      "name": "python3",
      "display_name": "Python 3"
    },
    "language_info": {
      "name": "python"
    }
  },
  "cells": [
    {
      "cell_type": "code",
      "execution_count": 8,
      "metadata": {
        "colab": {
          "base_uri": "https://localhost:8080/"
        },
        "id": "qLqNT80I5zG9",
        "outputId": "0f9daf0f-9a08-4a0e-8e0b-a7c114854102"
      },
      "outputs": [
        {
          "output_type": "stream",
          "name": "stdout",
          "text": [
            "[0, 1, 4, 9, 16, 25, 36, 49, 64, 81]\n"
          ]
        }
      ],
      "source": [
        "#2\n",
        "import numpy as np\n",
        "def add(a,b):\n",
        "  z=[]\n",
        "  for i in range(len(a)):\n",
        "    z.append(a[i]*b[i])\n",
        "  return z\n",
        "\n",
        "a = np.array([0, 1, 2, 3, 4, 5, 6, 7, 8, 9])\n",
        "b = np.array([0, 1, 2, 3, 4, 5, 6, 7, 8, 9])\n",
        "print(add(a,b))\n"
      ]
    },
    {
      "cell_type": "code",
      "source": [
        "#3\n",
        "z = np.array([0, 1, 2, 3, 4, 5, 6, 7, 8, 9])\n",
        "\n",
        "for i in range(3,9):\n",
        "  z[i]=-z[i]\n",
        "print(z)"
      ],
      "metadata": {
        "colab": {
          "base_uri": "https://localhost:8080/"
        },
        "id": "TpN_Kq1ixP03",
        "outputId": "4289ce9c-1e4f-41ce-c551-e51f3967e4d1"
      },
      "execution_count": 9,
      "outputs": [
        {
          "output_type": "stream",
          "name": "stdout",
          "text": [
            "[ 0  1  2 -3 -4 -5 -6 -7 -8  9]\n"
          ]
        }
      ]
    },
    {
      "cell_type": "code",
      "source": [
        "#4\n",
        "\n",
        "def add(a,b):\n",
        "  m=[]\n",
        "  for i in range(len(a)):\n",
        "      for j in range(len(b)):\n",
        "        if(a[i]==b[j]):\n",
        "          m.append(a[i])\n",
        "  m.sort()\n",
        "  return m\n",
        "a = np.array([0, 18, 2, 3, 60, 5, 6, 7, 4, 44])\n",
        "b = np.array([0, 1, 2, 56, 4, 44, 6, 32, 16, 9])\n",
        "print(add(a,b))\n"
      ],
      "metadata": {
        "colab": {
          "base_uri": "https://localhost:8080/"
        },
        "id": "FugbB60M0D_2",
        "outputId": "99dc87f8-e14c-4c32-f539-3a662a0e0c1b"
      },
      "execution_count": 14,
      "outputs": [
        {
          "output_type": "stream",
          "name": "stdout",
          "text": [
            "[0, 2, 4, 6, 44]\n"
          ]
        }
      ]
    },
    {
      "cell_type": "code",
      "source": [],
      "metadata": {
        "id": "5k8375nz0PBk"
      },
      "execution_count": null,
      "outputs": []
    }
  ]
}