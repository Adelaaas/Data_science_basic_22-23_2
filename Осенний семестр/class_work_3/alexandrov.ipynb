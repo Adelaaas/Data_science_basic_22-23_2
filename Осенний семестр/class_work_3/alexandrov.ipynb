{
  "nbformat": 4,
  "nbformat_minor": 0,
  "metadata": {
    "colab": {
      "provenance": [],
      "collapsed_sections": []
    },
    "kernelspec": {
      "name": "python3",
      "display_name": "Python 3"
    },
    "language_info": {
      "name": "python"
    }
  },
  "cells": [
    {
      "cell_type": "code",
      "execution_count": null,
      "metadata": {
        "id": "b8cgeAd5unTy"
      },
      "outputs": [],
      "source": [
        "import numpy as np\n",
        "a=np.zeros((10,10))\n",
        "for i in range(10):\n",
        "    a[i][0]=1\n",
        "    a[0][i]=1\n",
        "    a[9][i]=1\n",
        "    a[i][9]=1\n",
        "print (a)"
      ]
    }
  ]
}