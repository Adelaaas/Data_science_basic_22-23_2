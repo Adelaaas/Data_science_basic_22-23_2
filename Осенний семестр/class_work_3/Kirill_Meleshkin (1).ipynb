{
  "nbformat": 4,
  "nbformat_minor": 0,
  "metadata": {
    "colab": {
      "provenance": []
    },
    "kernelspec": {
      "name": "python3",
      "display_name": "Python 3"
    },
    "language_info": {
      "name": "python"
    }
  },
  "cells": [
    {
      "cell_type": "code",
      "execution_count": 9,
      "metadata": {
        "colab": {
          "base_uri": "https://localhost:8080/"
        },
        "id": "B52MDH_XYwG8",
        "outputId": "67d59c35-5e52-4a3c-9c7e-3ee825d43ee1"
      },
      "outputs": [
        {
          "output_type": "stream",
          "name": "stdout",
          "text": [
            "0.05333333333333334\n"
          ]
        }
      ],
      "source": [
        "import numpy as np\n",
        "\n",
        "a = np.array([1, 2, 3], float)\n",
        "b = np.array([6, 3, 7], float)\n",
        "\n",
        "res1 = 0\n",
        "res2 = 0\n",
        "res3 = 0\n",
        "\n",
        "for i in range(2):\n",
        "  res1 += a[i] * b[i]\n",
        "  res2 += a[i]**2\n",
        "  res3 += b[i]**2\n",
        "print(res1/(res2 * res3))"
      ]
    }
  ]
}