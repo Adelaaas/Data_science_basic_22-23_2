{
  "nbformat": 4,
  "nbformat_minor": 0,
  "metadata": {
    "colab": {
      "provenance": [],
      "collapsed_sections": []
    },
    "kernelspec": {
      "name": "python3",
      "display_name": "Python 3"
    },
    "language_info": {
      "name": "python"
    }
  },
  "cells": [
    {
      "cell_type": "code",
      "execution_count": 2,
      "metadata": {
        "colab": {
          "base_uri": "https://localhost:8080/"
        },
        "id": "CFJgDTrKZH8z",
        "outputId": "5d832966-1bc9-4c3c-a11b-93b09450eda4"
      },
      "outputs": [
        {
          "output_type": "stream",
          "name": "stdout",
          "text": [
            "1.123 1 0 -1.123\n",
            "[ 2.  1.  0. -2.]\n"
          ]
        }
      ],
      "source": [
        "from numpy import *\n",
        "\n",
        "a = array(list(map(float, input().split())), float)\n",
        "z = array([0]*len(a), float)\n",
        "for i in range(0, len(a)):\n",
        "    if a[i] >= 0:\n",
        "      z[i] = ceil(a[i])\n",
        "    else:\n",
        "      z[i] = floor(a[i])\n",
        "print(z)"
      ]
    }
  ]
}