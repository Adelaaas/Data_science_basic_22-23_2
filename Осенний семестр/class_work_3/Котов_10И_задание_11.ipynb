{
  "nbformat": 4,
  "nbformat_minor": 0,
  "metadata": {
    "colab": {
      "provenance": [],
      "collapsed_sections": []
    },
    "kernelspec": {
      "name": "python3",
      "display_name": "Python 3"
    },
    "language_info": {
      "name": "python"
    }
  },
  "cells": [
    {
      "cell_type": "code",
      "execution_count": 2,
      "metadata": {
        "colab": {
          "base_uri": "https://localhost:8080/"
        },
        "id": "c8yW68kZvUuW",
        "outputId": "da15c4b0-d848-41f0-c54f-54dd40ba4622"
      },
      "outputs": [
        {
          "output_type": "stream",
          "name": "stdout",
          "text": [
            "1 3 5\n",
            "1 10 2\n",
            "58\n"
          ]
        }
      ],
      "source": [
        "from numpy import *\n",
        "\n",
        "a = array(list(map(int, input().split())), int)\n",
        "b = array(list(map(int, input().split())), int)\n",
        "\n",
        "print(sum((a-b)*(a-b)))"
      ]
    }
  ]
}