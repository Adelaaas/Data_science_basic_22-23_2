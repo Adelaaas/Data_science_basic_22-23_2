{
  "nbformat": 4,
  "nbformat_minor": 0,
  "metadata": {
    "colab": {
      "provenance": [],
      "collapsed_sections": []
    },
    "kernelspec": {
      "name": "python3",
      "display_name": "Python 3"
    },
    "language_info": {
      "name": "python"
    }
  },
  "cells": [
    {
      "cell_type": "code",
      "execution_count": 1,
      "metadata": {
        "id": "5UZKn_QmAvub"
      },
      "outputs": [],
      "source": [
        "from numpy import *"
      ]
    },
    {
      "cell_type": "code",
      "source": [
        "# Задача 1\n",
        "\n",
        "start = int(input())\n",
        "stop = int(input())\n",
        "n = int(input())\n",
        "\n",
        "ans = round((stop-start)/(n+1), 3)\n",
        "Ans = arange(start + ans, stop - ans + 1, ans)\n",
        "print(Ans)"
      ],
      "metadata": {
        "id": "VCbeqpJfA7nb"
      },
      "execution_count": null,
      "outputs": []
    },
    {
      "cell_type": "code",
      "source": [
        "# Задача 2\n",
        "\n",
        "def Normalization():\n",
        "  n, m = map(int, input(\"Введите размеры N и M массива: \").split())\n",
        "  matrix = zeros((n, m))\n",
        "  mx, mn = -1000000, 1000000\n",
        "  print(\"Введите массив:\")\n",
        "  for i in range(0, n):\n",
        "    a = list(map(int, input().split()))\n",
        "    if min(a) < mn:\n",
        "      mn = min(a)\n",
        "    if max(a) > mx:\n",
        "      mx = max(a)\n",
        "    for j in range(0, m):\n",
        "      matrix[i][j] = a[j]\n",
        "  matrix = (matrix - mn)/(mx - mn)\n",
        "  for i in range(0, n):\n",
        "    print(*matrix[i])\n",
        "\n",
        "Normalization()"
      ],
      "metadata": {
        "colab": {
          "base_uri": "https://localhost:8080/"
        },
        "id": "152wlfhhB_AL",
        "outputId": "d05b24b6-b550-4d60-846c-86f95c42dbff"
      },
      "execution_count": 5,
      "outputs": [
        {
          "output_type": "stream",
          "name": "stdout",
          "text": [
            "Введите размеры N и M массива: 3 2\n",
            "Введите массив:\n",
            "1 2\n",
            "3 4\n",
            "5 6\n",
            "0.0 0.2\n",
            "0.4 0.6\n",
            "0.8 1.0\n"
          ]
        }
      ]
    },
    {
      "cell_type": "code",
      "source": [
        "# Задача 3\n",
        "\n",
        "a = list(map(int, input().split()))\n",
        "ans, mx = 0, []\n",
        "if len(a) == 1:\n",
        "  print(1)\n",
        "  print(a[0])\n",
        "elif len(a) == 2:\n",
        "  if a[0] == a[1]:\n",
        "    print(0)\n",
        "  else:\n",
        "    print(1)\n",
        "    print(max(a[1], a[0]))\n",
        "else:\n",
        "  if a[0] > a[1]:\n",
        "    ans += 1\n",
        "    mx.append(a[0])\n",
        "  for i in range(0, len(a) - 1):\n",
        "    if a[i] > a[i-1] and a[i] > a[i+1]:\n",
        "      ans += 1\n",
        "      mx.append(a[i])\n",
        "  if a[-1] > a[-2]:\n",
        "    ans+=1\n",
        "    mx.append(a[-1])\n",
        "  print(ans)\n",
        "  print(*mx)"
      ],
      "metadata": {
        "colab": {
          "base_uri": "https://localhost:8080/"
        },
        "id": "T8PymGtNEIeJ",
        "outputId": "275a1172-1859-4b30-9a1b-4d561a4994ab"
      },
      "execution_count": 10,
      "outputs": [
        {
          "output_type": "stream",
          "name": "stdout",
          "text": [
            "1 2 1\n",
            "1\n",
            "2\n"
          ]
        }
      ]
    },
    {
      "cell_type": "code",
      "source": [
        "# Задача 4\n",
        "\n",
        "def Morpheus(a, b):\n",
        "  ans = 0\n",
        "  for i in range(0, m1):\n",
        "    ans += mat1[a][i] * mat2[i][b]\n",
        "  return ans\n",
        "\n",
        "\n",
        "n1, m1 = map(int, input().split())\n",
        "mat1 = zeros((n1, m1))\n",
        "for i in range(0, n1):\n",
        "    a = list(map(int, input().split()))\n",
        "    for j in range(0, m1):\n",
        "      mat1[i][j] = a[j]\n",
        "\n",
        "n2, m2 = map(int, input().split())\n",
        "mat2 = zeros((n2, m2))\n",
        "for i in range(0, n1):\n",
        "  a = list(map(int, input().split()))\n",
        "  for j in range(0, m2):\n",
        "    mat2[i][j] = a[j]\n",
        "\n",
        "if m1 != n2:\n",
        "  print(\"Эти матрицы нельзя перемножить\")\n",
        "else:\n",
        "  mat3 = zeros((n1, m2))\n",
        "  for i in range(0, n1):\n",
        "    for j in range(0, m2):\n",
        "      mat3[i][j] = Morpheus(i, j)\n",
        "for i in range(0, n1):\n",
        "  print(*mat3[i])"
      ],
      "metadata": {
        "colab": {
          "base_uri": "https://localhost:8080/"
        },
        "id": "CzXYDsuVFHrB",
        "outputId": "4569eb59-675d-4fdb-86ed-724af229e1ca"
      },
      "execution_count": 11,
      "outputs": [
        {
          "output_type": "stream",
          "name": "stdout",
          "text": [
            "2 2\n",
            "15 27\n",
            "18 10\n",
            "2 1\n",
            "35\n",
            "16\n",
            "[957.]\n",
            "[790.]\n"
          ]
        }
      ]
    }
  ]
}