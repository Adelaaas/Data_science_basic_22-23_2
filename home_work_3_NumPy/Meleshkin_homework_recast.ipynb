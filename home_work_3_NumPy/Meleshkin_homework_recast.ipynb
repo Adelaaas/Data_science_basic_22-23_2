{
  "nbformat": 4,
  "nbformat_minor": 0,
  "metadata": {
    "colab": {
      "provenance": []
    },
    "kernelspec": {
      "name": "python3",
      "display_name": "Python 3"
    },
    "language_info": {
      "name": "python"
    }
  },
  "cells": [
    {
      "cell_type": "markdown",
      "source": [
        "Вариант 4. Мелешкин Кирилл"
      ],
      "metadata": {
        "id": "3gvvI8-kwXRo"
      }
    },
    {
      "cell_type": "markdown",
      "source": [
        "**Задача 1**\n",
        "\n",
        "Реализовать функцию, которая принимает матрицу 3x3 и возвращает обратную по отношеную к ней матрицу.\n",
        "\n",
        "Немного теории. Матрица А называется обратной матрицей по отношению к матрице А, если $АА^{-1} = ЕгдеЕ$ — единичная матрица n-го порядка. Обратная матрица может существовать только для квадратных матриц.*\n",
        "\n",
        "P.s. использовать встроенные функции запрещено."
      ],
      "metadata": {
        "id": "DicsWSFUwcS8"
      }
    },
    {
      "cell_type": "markdown",
      "source": [
        "Задача достаточно сложна в реализации, просьба объяснить 02.11.22"
      ],
      "metadata": {
        "id": "tbWbBVu3wggr"
      }
    },
    {
      "cell_type": "markdown",
      "source": [
        "**Задача 2.**\n",
        "\n",
        "Дан одномернный массив. Создайте функцию, которая принимает данные массив и возвращает массив, состоящий из элементов, целая часть от деления которых больше 3."
      ],
      "metadata": {
        "id": "gipTlUJAwqyw"
      }
    },
    {
      "cell_type": "code",
      "source": [
        "def Division(a):\n",
        "    b = []\n",
        "    for j in range(len(a)):\n",
        "        if int(a[j]) % i >= 3:\n",
        "            b.append(a[j])\n",
        "    return b\n",
        "\n",
        "i = int(input())\n",
        "a = input().split()\n",
        "\n",
        "print(Division(a))"
      ],
      "metadata": {
        "id": "bEz3wvNuwuyG"
      },
      "execution_count": null,
      "outputs": []
    },
    {
      "cell_type": "markdown",
      "source": [
        "**Задача 3.**\n",
        "\n",
        "Дана матрица 4х3 (содержащаяя координаты 4х векторов, столбцы это соотсветсвенно x,y,z) и вектор (x,y,z). Напишите функцию которая возвращает ближащий вектор из матрицы к заданому вектору (согласно расстоянию между векторами)."
      ],
      "metadata": {
        "id": "ioOHlKcywymG"
      }
    },
    {
      "cell_type": "code",
      "source": [
        "import numpy as np\n",
        "\n",
        "a = np.array([[6, 8, 9], [1, 7, 15], [3, 0, 4], [3, 5, 8]])\n",
        "b = np.array([0, 0, 0])\n",
        "minimum = 999999\n",
        "for i in range(3):\n",
        "  square = np.square(a - b)\n",
        "  sum_square = np.sum(square)\n",
        "  distance = np.sqrt(sum_square)\n",
        "  if distance < minimum:\n",
        "    minimum = distance\n",
        "    min_i = i\n",
        "\n",
        "print(a[i])"
      ],
      "metadata": {
        "colab": {
          "base_uri": "https://localhost:8080/"
        },
        "id": "HNk81Pvvw2Kn",
        "outputId": "c0e763e7-a5f9-48b4-996e-50b80f28e681"
      },
      "execution_count": 5,
      "outputs": [
        {
          "output_type": "stream",
          "name": "stdout",
          "text": [
            "[3 0 4]\n"
          ]
        }
      ]
    },
    {
      "cell_type": "markdown",
      "source": [
        "**Задача 4.**\n",
        "\n",
        "Дан вектор из ненулевых элементов. Вставьте между каждыми элементами по три 0."
      ],
      "metadata": {
        "id": "h7dHegDZwMe1"
      }
    },
    {
      "cell_type": "code",
      "execution_count": null,
      "metadata": {
        "id": "7FFI_yPSwLi1"
      },
      "outputs": [],
      "source": [
        "a = input().split()\n",
        "vsp = 1\n",
        "for i in range(len(a)-1):\n",
        "    for j in range(3):\n",
        "        a.insert(vsp, 0)\n",
        "        vsp += 1\n",
        "    vsp += 1\n",
        "print(a)"
      ]
    }
  ]
}