{
  "nbformat": 4,
  "nbformat_minor": 0,
  "metadata": {
    "colab": {
      "provenance": []
    },
    "kernelspec": {
      "name": "python3",
      "display_name": "Python 3"
    },
    "language_info": {
      "name": "python"
    }
  },
  "cells": [
    {
      "cell_type": "code",
      "source": [
        "import numpy as np"
      ],
      "metadata": {
        "id": "vWDMYmt6fmnO"
      },
      "execution_count": 1,
      "outputs": []
    },
    {
      "cell_type": "markdown",
      "source": [
        "Задача 1.\n",
        "\n",
        "На вход подаются 3 числа (каждое с новой строки):\n",
        "\n",
        "start\n",
        "\n",
        "*   start\n",
        "*   stop\n",
        "*   n\n",
        "\n",
        "Создайте функцию, которая возвращает список из n точек на отрезке [start, stop] в геометрической прогрессии, включая start и stop.\n",
        "\n",
        "Округлите значения точек до 3 знака после запятой."
      ],
      "metadata": {
        "id": "pAzN2hXQfB-s"
      }
    },
    {
      "cell_type": "code",
      "execution_count": 7,
      "metadata": {
        "colab": {
          "base_uri": "https://localhost:8080/"
        },
        "id": "SMQANc3be63Z",
        "outputId": "4a222b06-0425-425a-db90-28aaa1eeba70"
      },
      "outputs": [
        {
          "output_type": "stream",
          "name": "stdout",
          "text": [
            "1\n",
            "10\n",
            "5\n",
            "1\n",
            "1.778\n",
            "3.162\n",
            "5.623\n",
            "10.0\n"
          ]
        }
      ],
      "source": [
        "#1\n",
        "start=int(input())\n",
        "stop=int(input())\n",
        "n=int(input())\n",
        "m=stop/start\n",
        "i=0\n",
        "f=m**(1/(n-1))\n",
        "while i!=n:\n",
        "    print(round(start, 3))\n",
        "    start=start*f\n",
        "    i+=1"
      ]
    },
    {
      "cell_type": "markdown",
      "source": [
        "**Задача 2.**\n",
        "\n",
        "Дана матрица. Напишите функцию, которая принимает в качестве аргумента данную матрицу и возврщает транспонированную матрицу.\n",
        "\n",
        "**Немного теории.** Транспонированной матрицей  называется матрица, полученная из исходной матрицы заменой строк на столбцы. Формально: элементы матрицы  определяются как , где  — элемент матрицы , стоящий на пересечении строки с номером  и столбца с номером .\n",
        "\n",
        "P.s. использовать встроенные функции Numpy для транспонирования запрещено."
      ],
      "metadata": {
        "id": "KyHnoQCRgp01"
      }
    },
    {
      "cell_type": "code",
      "source": [
        "#2\n",
        "c = [[1, 2, 3, 4, 5], [6, 7, 8, 9, 10]]\n",
        "b = [list(a) for a in list(zip(*c))]\n",
        "print(b)\n"
      ],
      "metadata": {
        "colab": {
          "base_uri": "https://localhost:8080/"
        },
        "id": "7cHX2e7Lg4EG",
        "outputId": "a0e0e11b-55b9-474a-ad85-c2a185189fb8"
      },
      "execution_count": 3,
      "outputs": [
        {
          "output_type": "stream",
          "name": "stdout",
          "text": [
            "[[1, 6], [2, 7], [3, 8], [4, 9], [5, 10]]\n"
          ]
        }
      ]
    },
    {
      "cell_type": "markdown",
      "source": [
        "**Задача 3.**\n",
        "\n",
        "Даны два массива A и B формы (8,3) и (2,2). Напишите фукнкцию, которая возвращает строки A, содержащие элементы каждой строки B, независимо от порядка элементов в B?"
      ],
      "metadata": {
        "id": "60w7ElVSiO_a"
      }
    },
    {
      "cell_type": "code",
      "source": [
        "#3\n",
        "A = np.random.randint(0,5,(8,3))\n",
        "B = np.random.randint(0,5,(2,2))\n",
        "C = (A[..., np.newaxis, np.newaxis] == B)\n",
        "rows = (C.sum(axis=(1,2,3)) >= B.shape[1]).nonzero()[0]\n",
        "print(rows)"
      ],
      "metadata": {
        "colab": {
          "base_uri": "https://localhost:8080/"
        },
        "id": "-Eya8Jv8iT_E",
        "outputId": "a39ff84c-9a21-4773-b479-ea0cdbd8fe0f"
      },
      "execution_count": 20,
      "outputs": [
        {
          "output_type": "stream",
          "name": "stdout",
          "text": [
            "[0 1 4 5 6 7]\n"
          ]
        }
      ]
    },
    {
      "cell_type": "markdown",
      "source": [],
      "metadata": {
        "id": "Gd-qc4lRjSuN"
      }
    },
    {
      "cell_type": "code",
      "source": [
        "#4\n",
        "a=[0, 1, 2, 3, 15, 16, 32, 64, 128]\n",
        "l=len(a)\n",
        "n=0\n",
        "i=0\n",
        "while i<l:\n",
        "    d=[]\n",
        "    c=a[i]+1\n",
        "    while (c-2**n)>0:\n",
        "        n+=1\n",
        "    while n>-1:\n",
        "        if c-2**n>0:\n",
        "            c=c-2**n\n",
        "            d.append(1)\n",
        "        else:\n",
        "            d.append(0)\n",
        "        n-=1\n",
        "    i+=1\n",
        "    print(d[1:])"
      ],
      "metadata": {
        "colab": {
          "base_uri": "https://localhost:8080/"
        },
        "id": "dDlrC1FpjTAq",
        "outputId": "ac9f292f-d6ad-4e69-e009-a422b6f241ab"
      },
      "execution_count": 6,
      "outputs": [
        {
          "output_type": "stream",
          "name": "stdout",
          "text": [
            "[]\n",
            "[1]\n",
            "[1, 0]\n",
            "[1, 1]\n",
            "[1, 1, 1, 1]\n",
            "[1, 0, 0, 0, 0]\n",
            "[1, 0, 0, 0, 0, 0]\n",
            "[1, 0, 0, 0, 0, 0, 0]\n",
            "[1, 0, 0, 0, 0, 0, 0, 0]\n"
          ]
        }
      ]
    }
  ]
}