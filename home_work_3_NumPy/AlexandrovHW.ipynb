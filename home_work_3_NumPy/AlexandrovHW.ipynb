{
  "cells": [
    {
      "cell_type": "markdown",
      "metadata": {
        "id": "UQHS3TM4LgQe"
      },
      "source": [
        "Задача 2"
      ]
    },
    {
      "cell_type": "code",
      "execution_count": 10,
      "metadata": {
        "colab": {
          "base_uri": "https://localhost:8080/"
        },
        "id": "KruH8A4LscSG",
        "outputId": "9910e82f-bb34-4b6c-84c4-72d8ecd0e81d"
      },
      "outputs": [
        {
          "name": "stdout",
          "output_type": "stream",
          "text": [
            "10\n",
            "2\n",
            "3\n",
            "[[ 2.  0.  0.  0.  0.  0.  0.  0.  0.  0.]\n",
            " [ 0.  5.  0.  0.  0.  0.  0.  0.  0.  0.]\n",
            " [ 0.  0.  8.  0.  0.  0.  0.  0.  0.  0.]\n",
            " [ 0.  0.  0. 11.  0.  0.  0.  0.  0.  0.]\n",
            " [ 0.  0.  0.  0. 14.  0.  0.  0.  0.  0.]\n",
            " [ 0.  0.  0.  0.  0. 17.  0.  0.  0.  0.]\n",
            " [ 0.  0.  0.  0.  0.  0. 20.  0.  0.  0.]\n",
            " [ 0.  0.  0.  0.  0.  0.  0. 23.  0.  0.]\n",
            " [ 0.  0.  0.  0.  0.  0.  0.  0. 26.  0.]\n",
            " [ 0.  0.  0.  0.  0.  0.  0.  0.  0. 29.]]\n"
          ]
        }
      ],
      "source": [
        "from IPython.core.interactiveshell import no_op\n",
        "import numpy as np \n",
        "n=int(input())\n",
        "a=float(input())\n",
        "d=float(input())\n",
        "b=np.zeros((n,n))\n",
        "for i in range(n):\n",
        "  b[i][i]=a+d*i\n",
        "print(b)\n"
      ]
    },
    {
      "cell_type": "markdown",
      "metadata": {
        "id": "lbqfWP3tUGig"
      },
      "source": [
        "Задача 1"
      ]
    },
    {
      "cell_type": "code",
      "execution_count": null,
      "metadata": {
        "id": "Lcy_0WEUsruE"
      },
      "outputs": [],
      "source": [
        "a=str(input())\n",
        "b=str(input())\n",
        "y1=int(a[0:4])\n",
        "m1=int(a[5:7])\n",
        "d1=int(a[8:10])\n",
        "y2=int(b[0:4])\n",
        "m2=int(b[5:7])\n",
        "d2=int(b[8:10])\n",
        "t=[]\n",
        "for i in range(y1,y1):\n",
        "    for j in range(m1,m1):\n",
        "        for k in range(d1,32):\n",
        "            if j==6 and k==31 and j==4 and j==9 and j==11:\n",
        "                continue\n",
        "            elif j==2 and k>=29:\n",
        "                continue\n",
        "            if j<10 and k<10:\n",
        "                p=str(y1)+\"-0\"+str(j)+\"-0\"+str(k)\n",
        "                t.append(p)\n",
        "            elif j<10 and k>=10:\n",
        "                p=str(y1)+\"-0\"+str(j)+\"-\"+str(k)\n",
        "                t.append(p)\n",
        "            elif k<10 and j>=10:\n",
        "                p=str(y1)+\"-\"+str(j)+\"-0\"+str(k)\n",
        "                t.append(p)\n",
        "for i in range(y1,y1):\n",
        "    for j in range(m1+1,13):\n",
        "        for k in range(1,32):\n",
        "            if j==6 and k==31 and j==4 and j==9 and j==11:\n",
        "                continue\n",
        "            elif j==2 and k>=29:\n",
        "                continue\n",
        "            if j<10 and k<10:\n",
        "                p=str(y1)+\"-0\"+str(j)+\"-0\"+str(k)\n",
        "                t.append(p)\n",
        "            elif j<10 and k>=10:\n",
        "                p=str(y1)+\"-0\"+str(j)+\"-\"+str(k)\n",
        "                t.append(p)\n",
        "            elif k<10 and j>=10:\n",
        "                p=str(y1)+\"-\"+str(j)+\"-0\"+str(k)\n",
        "                t.append(p)\n",
        "for i in range(y1+1,y2):\n",
        "    for j in range(1,13):\n",
        "        for k in range(1,32):\n",
        "            if j==6 and k==31 and j==4 and j==9 and j==11:\n",
        "                continue\n",
        "            elif j==2 and k>=29:\n",
        "                continue\n",
        "            if j<10 and k<10:\n",
        "                p=str(y1)+\"-0\"+str(j)+\"-0\"+str(k)\n",
        "                t.append(p)\n",
        "            elif j<10 and k>=10:\n",
        "                p=str(y1)+\"-0\"+str(j)+\"-\"+str(k)\n",
        "                t.append(p)\n",
        "            elif k<10 and j>=10:\n",
        "                p=str(y1)+\"-\"+str(j)+\"-0\"+str(k)\n",
        "                t.append(p)\n",
        "for i in range(y2-1,y2):\n",
        "    for j in range(1,m2):\n",
        "        for k in range(1,d2):\n",
        "            if j==6 and k==31 and j==4 and j==9 and j==11:\n",
        "                continue\n",
        "            elif j==2 and k>=29:\n",
        "                continue\n",
        "            if j<10 and k<10:\n",
        "                p=str(y1)+\"-0\"+str(j)+\"-0\"+str(k)\n",
        "                t.append(p)\n",
        "            elif j<10 and k>=10:\n",
        "                p=str(y1)+\"-0\"+str(j)+\"-\"+str(k)\n",
        "                t.append(p)\n",
        "            elif k<10 and j>=10:\n",
        "                p=str(y1)+\"-\"+str(j)+\"-0\"+str(k)\n",
        "                t.append(p)\n",
        "\n",
        "print(t)"
      ]
    },
    {
      "cell_type": "markdown",
      "metadata": {
        "id": "vAE_vviPUZGc"
      },
      "source": [
        "Задача 3"
      ]
    },
    {
      "cell_type": "code",
      "execution_count": 8,
      "metadata": {
        "colab": {
          "base_uri": "https://localhost:8080/",
          "height": 397
        },
        "id": "682moJGTUMGk",
        "outputId": "68f4261b-19e8-4ec0-ebd2-d3fb9c7c2c45"
      },
      "outputs": [
        {
          "ename": "KeyboardInterrupt",
          "evalue": "ignored",
          "output_type": "error",
          "traceback": [
            "\u001b[0;31m---------------------------------------------------------------------------\u001b[0m",
            "\u001b[0;31mKeyboardInterrupt\u001b[0m                         Traceback (most recent call last)",
            "\u001b[0;32m<ipython-input-8-69da61ab90b8>\u001b[0m in \u001b[0;36m<module>\u001b[0;34m\u001b[0m\n\u001b[1;32m      1\u001b[0m \u001b[0mc\u001b[0m\u001b[0;34m=\u001b[0m\u001b[0;36m0\u001b[0m\u001b[0;34m\u001b[0m\u001b[0;34m\u001b[0m\u001b[0m\n\u001b[0;32m----> 2\u001b[0;31m \u001b[0ma\u001b[0m\u001b[0;34m=\u001b[0m\u001b[0mnp\u001b[0m\u001b[0;34m.\u001b[0m\u001b[0masarray\u001b[0m\u001b[0;34m(\u001b[0m\u001b[0minput\u001b[0m\u001b[0;34m(\u001b[0m\u001b[0;34m)\u001b[0m\u001b[0;34m)\u001b[0m\u001b[0;34m\u001b[0m\u001b[0;34m\u001b[0m\u001b[0m\n\u001b[0m\u001b[1;32m      3\u001b[0m \u001b[0;32mfor\u001b[0m \u001b[0mi\u001b[0m \u001b[0;32min\u001b[0m \u001b[0mrange\u001b[0m\u001b[0;34m(\u001b[0m\u001b[0mlen\u001b[0m\u001b[0;34m(\u001b[0m\u001b[0ma\u001b[0m\u001b[0;34m)\u001b[0m\u001b[0;34m)\u001b[0m\u001b[0;34m:\u001b[0m\u001b[0;34m\u001b[0m\u001b[0;34m\u001b[0m\u001b[0m\n\u001b[1;32m      4\u001b[0m   \u001b[0;32mif\u001b[0m \u001b[0ma\u001b[0m\u001b[0;34m[\u001b[0m\u001b[0mi\u001b[0m\u001b[0;34m]\u001b[0m\u001b[0;34m==\u001b[0m\u001b[0;34m\" \"\u001b[0m\u001b[0;34m:\u001b[0m\u001b[0;34m\u001b[0m\u001b[0;34m\u001b[0m\u001b[0m\n\u001b[1;32m      5\u001b[0m     \u001b[0ma\u001b[0m\u001b[0;34m[\u001b[0m\u001b[0mi\u001b[0m\u001b[0;34m]\u001b[0m\u001b[0;34m=\u001b[0m\u001b[0minput\u001b[0m\u001b[0;34m(\u001b[0m\u001b[0;34m)\u001b[0m\u001b[0;34m\u001b[0m\u001b[0;34m\u001b[0m\u001b[0m\n",
            "\u001b[0;32m/usr/local/lib/python3.7/dist-packages/ipykernel/kernelbase.py\u001b[0m in \u001b[0;36mraw_input\u001b[0;34m(self, prompt)\u001b[0m\n\u001b[1;32m    861\u001b[0m             \u001b[0mself\u001b[0m\u001b[0;34m.\u001b[0m\u001b[0m_parent_ident\u001b[0m\u001b[0;34m,\u001b[0m\u001b[0;34m\u001b[0m\u001b[0;34m\u001b[0m\u001b[0m\n\u001b[1;32m    862\u001b[0m             \u001b[0mself\u001b[0m\u001b[0;34m.\u001b[0m\u001b[0m_parent_header\u001b[0m\u001b[0;34m,\u001b[0m\u001b[0;34m\u001b[0m\u001b[0;34m\u001b[0m\u001b[0m\n\u001b[0;32m--> 863\u001b[0;31m             \u001b[0mpassword\u001b[0m\u001b[0;34m=\u001b[0m\u001b[0;32mFalse\u001b[0m\u001b[0;34m,\u001b[0m\u001b[0;34m\u001b[0m\u001b[0;34m\u001b[0m\u001b[0m\n\u001b[0m\u001b[1;32m    864\u001b[0m         )\n\u001b[1;32m    865\u001b[0m \u001b[0;34m\u001b[0m\u001b[0m\n",
            "\u001b[0;32m/usr/local/lib/python3.7/dist-packages/ipykernel/kernelbase.py\u001b[0m in \u001b[0;36m_input_request\u001b[0;34m(self, prompt, ident, parent, password)\u001b[0m\n\u001b[1;32m    902\u001b[0m             \u001b[0;32mexcept\u001b[0m \u001b[0mKeyboardInterrupt\u001b[0m\u001b[0;34m:\u001b[0m\u001b[0;34m\u001b[0m\u001b[0;34m\u001b[0m\u001b[0m\n\u001b[1;32m    903\u001b[0m                 \u001b[0;31m# re-raise KeyboardInterrupt, to truncate traceback\u001b[0m\u001b[0;34m\u001b[0m\u001b[0;34m\u001b[0m\u001b[0;34m\u001b[0m\u001b[0m\n\u001b[0;32m--> 904\u001b[0;31m                 \u001b[0;32mraise\u001b[0m \u001b[0mKeyboardInterrupt\u001b[0m\u001b[0;34m(\u001b[0m\u001b[0;34m\"Interrupted by user\"\u001b[0m\u001b[0;34m)\u001b[0m \u001b[0;32mfrom\u001b[0m \u001b[0;32mNone\u001b[0m\u001b[0;34m\u001b[0m\u001b[0;34m\u001b[0m\u001b[0m\n\u001b[0m\u001b[1;32m    905\u001b[0m             \u001b[0;32mexcept\u001b[0m \u001b[0mException\u001b[0m \u001b[0;32mas\u001b[0m \u001b[0me\u001b[0m\u001b[0;34m:\u001b[0m\u001b[0;34m\u001b[0m\u001b[0;34m\u001b[0m\u001b[0m\n\u001b[1;32m    906\u001b[0m                 \u001b[0mself\u001b[0m\u001b[0;34m.\u001b[0m\u001b[0mlog\u001b[0m\u001b[0;34m.\u001b[0m\u001b[0mwarning\u001b[0m\u001b[0;34m(\u001b[0m\u001b[0;34m\"Invalid Message:\"\u001b[0m\u001b[0;34m,\u001b[0m \u001b[0mexc_info\u001b[0m\u001b[0;34m=\u001b[0m\u001b[0;32mTrue\u001b[0m\u001b[0;34m)\u001b[0m\u001b[0;34m\u001b[0m\u001b[0;34m\u001b[0m\u001b[0m\n",
            "\u001b[0;31mKeyboardInterrupt\u001b[0m: Interrupted by user"
          ]
        }
      ],
      "source": [
        "c=0\n",
        "a=np.asarray(input())\n",
        "for i in range(len(a)):\n",
        "  if a[i]==\" \":\n",
        "    a[i]=input()\n",
        "    c+=1\n",
        "print(c)\n"
      ]
    }
  ],
  "metadata": {
    "colab": {
      "collapsed_sections": [],
      "provenance": []
    },
    "kernelspec": {
      "display_name": "Python 3",
      "name": "python3"
    },
    "language_info": {
      "name": "python"
    }
  },
  "nbformat": 4,
  "nbformat_minor": 0
}
