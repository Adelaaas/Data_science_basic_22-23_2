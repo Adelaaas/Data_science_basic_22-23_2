{
  "nbformat": 4,
  "nbformat_minor": 0,
  "metadata": {
    "colab": {
      "provenance": [],
      "toc_visible": true,
      "collapsed_sections": []
    },
    "kernelspec": {
      "name": "python3",
      "display_name": "Python 3"
    },
    "language_info": {
      "name": "python"
    }
  },
  "cells": [
    {
      "cell_type": "markdown",
      "source": [
        "# Вариант 4."
      ],
      "metadata": {
        "id": "-QEGzcgoNVx_"
      }
    },
    {
      "cell_type": "markdown",
      "source": [
        "Кто делает:\n",
        "1. Игнатов Игорь Дмитриевич\n",
        "2. Файзуллин Илья Денисович\n",
        "3. Чупрова Ася Александровна\n",
        "4. Ямпольская Ирина Вадимовна\n",
        "5. Дидковский Илья Радионович"
      ],
      "metadata": {
        "id": "o7jyDAXVNXSI"
      }
    },
    {
      "cell_type": "markdown",
      "source": [
        "**Задача 1.**\n",
        "\n",
        "Реализовать функцию, которая принимает матрицу 3x3 и возвращает обратную по отношеную к ней матрицу.\n",
        "\n",
        "**Немного теории**. *Матрица $А^{-1}$ называется обратной матрицей по отношению к матрице $А$, если $А*А^{-1} = Е$, где $Е$ — единичная матрица n-го порядка. Обратная матрица может существовать только для квадратных матриц.*\n",
        "\n",
        "P.s. использовать встроенные функции запрещено."
      ],
      "metadata": {
        "id": "Y2AweIhaIhrl"
      }
    },
    {
      "cell_type": "code",
      "source": [
        "# ваше решение"
      ],
      "metadata": {
        "id": "wRH4GNSAJchA"
      },
      "execution_count": null,
      "outputs": []
    },
    {
      "cell_type": "markdown",
      "source": [
        "**Задача 2.**\n",
        "\n",
        "Дан одномернный массив. Создайте функцию, которая принимает данные массив и возвращает массив, состоящий из элементов, целая часть от деления которых больше 3."
      ],
      "metadata": {
        "id": "_CimGvMAJiw5"
      }
    },
    {
      "cell_type": "code",
      "source": [
        "import numpy as np\n",
        "def funk(b,v):\n",
        "  c = []\n",
        "  for i in b:\n",
        "    if round(i/v)>3:\n",
        "      c.append(i)\n",
        "\n",
        "  return c\n",
        "a = np.array([101, 34, 3, 4], float)\n",
        "v= float(input())\n",
        "print(funk(a,v))"
      ],
      "metadata": {
        "id": "4vTLwhjQJj2L",
        "colab": {
          "base_uri": "https://localhost:8080/"
        },
        "outputId": "8a67eef6-a4e4-48db-fd57-72a4664fb0f2"
      },
      "execution_count": 25,
      "outputs": [
        {
          "output_type": "stream",
          "name": "stdout",
          "text": [
            "0.9\n",
            "[101.0, 34.0, 4.0]\n"
          ]
        }
      ]
    },
    {
      "cell_type": "markdown",
      "source": [
        "**Задача 3.**\n",
        "\n",
        "Дана матрица 4х3 (содержащаяя координаты 4х векторов, столбцы это соотсветсвенно x,y,z) и вектор (x,y,z). Напишите функцию которая возвращает ближащий вектор из матрицы к заданому вектору (согласно расстоянию между векторами)."
      ],
      "metadata": {
        "id": "SFdz-fHbJ7yt"
      }
    },
    {
      "cell_type": "code",
      "source": [
        "a = np.array([[5, 2, 3], [4, 1, 12], [3, -1, 6]], float)\n",
        "v= np.array([1,2,3],float)\n",
        "\n",
        "def blizj(a, b):\n",
        "  lmin=9999999999999999999999999999\n",
        "  bliz=[]\n",
        "  for i in range(0,3):\n",
        "    l=(a[i][0]+v[0])**2+(a[i][1]+v[1])**2+(a[i][2]+v[2])\n",
        "    if l < lmin:\n",
        "      lmin=l\n",
        "      bliz=a[i]\n",
        "  return bliz\n",
        "print(blizj(a, v))\n",
        "    \n",
        "    \n",
        "  "
      ],
      "metadata": {
        "id": "dJny__RzKv3W",
        "colab": {
          "base_uri": "https://localhost:8080/"
        },
        "outputId": "7790f27a-13db-4e05-dcd2-863ebc032421"
      },
      "execution_count": null,
      "outputs": [
        {
          "output_type": "stream",
          "name": "stdout",
          "text": [
            "[ 3 -1  6]\n"
          ]
        }
      ]
    },
    {
      "cell_type": "markdown",
      "source": [
        "**Задача 4.**\n",
        "\n",
        "Дан вектор из ненулевых элементов. Вставьте между каждыми элементами по три 0."
      ],
      "metadata": {
        "id": "KYTvVWDPLE43"
      }
    },
    {
      "cell_type": "code",
      "source": [
        "import numpy as np\n",
        "a=[]\n",
        "v= np.array([1,3,4,6,7,8,8], float)\n",
        "for i in range(0,4*len(v)):\n",
        "  a.append(0)\n",
        "for j in range(0,len(v)):\n",
        "  a[j*4]=v[j]\n",
        "print(a[:4*len(v)-3])\n",
        "\n",
        "  \n"
      ],
      "metadata": {
        "id": "g6RUeHBfLMPc",
        "colab": {
          "base_uri": "https://localhost:8080/"
        },
        "outputId": "5c3637da-3ec1-4cd7-af5d-29c724474d4a"
      },
      "execution_count": 19,
      "outputs": [
        {
          "output_type": "stream",
          "name": "stdout",
          "text": [
            "[1.0, 0, 0, 0, 3.0, 0, 0, 0, 4.0, 0, 0, 0, 6.0, 0, 0, 0, 7.0, 0, 0, 0, 8.0, 0, 0, 0, 8.0]\n"
          ]
        }
      ]
    }
  ]
}