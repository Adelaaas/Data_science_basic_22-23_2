{
  "nbformat": 4,
  "nbformat_minor": 0,
  "metadata": {
    "colab": {
      "provenance": [],
      "toc_visible": true,
      "collapsed_sections": []
    },
    "kernelspec": {
      "name": "python3",
      "display_name": "Python 3"
    },
    "language_info": {
      "name": "python"
    }
  },
  "cells": [
    {
      "cell_type": "markdown",
      "source": [
        "# Вариант 2."
      ],
      "metadata": {
        "id": "lyuKr1rn81O_"
      }
    },
    {
      "cell_type": "markdown",
      "source": [
        "Кто делает:\n",
        "1. Игнатов Константин Дмитриевич\n",
        "2. Казанов Амир Ринатович\n",
        "3. Клячин Иван Николаевич\n",
        "4. Котов Александр Андреевич\n",
        "5. Мелешкин Кирилл Андреевич\n",
        "6. Морозов Максим Олегович"
      ],
      "metadata": {
        "id": "xAlXF5iENHaw"
      }
    },
    {
      "cell_type": "markdown",
      "source": [
        "**Задача 1.**\n",
        "\n",
        "На вход подаются 3 числа (каждое с новой строки):\n",
        "\n",
        "- start\n",
        "- stop\n",
        "- n\n",
        "\n",
        "Создайте функцию, которая принимает 3 введеных числа и возвращает список (numpy.array) из n точек на отрезке (start, stop), попарно равноудалённых друг от друга и от концов отрезка (т.е. разделите отрезок на n+1 часть). Округлите значения точек до 3 знака после запятой."
      ],
      "metadata": {
        "id": "do65Avzw4DVz"
      }
    },
    {
      "cell_type": "code",
      "source": [
        "from numpy import *\n",
        "a = float(input())\n",
        "b = float(input())\n",
        "c = int(input())\n",
        "\n",
        "def arLine(strt, stp, n):\n",
        "  ln = stp - strt\n",
        "  ar = array([round(strt + i*ln/n, 3) for i in range(n+1)], float)\n",
        "  return ar\n",
        "\n",
        "print(arLine(a,b,c))"
      ],
      "metadata": {
        "id": "uHozyVss-IeX",
        "colab": {
          "base_uri": "https://localhost:8080/"
        },
        "outputId": "bf6b2ec0-4c8f-43e5-80a5-8ed1ba747bea"
      },
      "execution_count": 32,
      "outputs": [
        {
          "output_type": "stream",
          "name": "stdout",
          "text": [
            "3.5642\n",
            "18.54711\n",
            "9\n",
            "[ 3.564  5.229  6.894  8.559 10.223 11.888 13.553 15.218 16.882 18.547]\n"
          ]
        }
      ]
    },
    {
      "cell_type": "markdown",
      "source": [
        "**Задача 2.**\n",
        "\n",
        "Дан массив размерностью NxM.\n",
        "\n",
        "Напишите функцию, которая нормализует все элементы матрицы.\n",
        "\n",
        "**Немного теории.** *Нормализацией данных называется приведение их к некоторой общей шкале без потери информации о различии диапазонов.*\n",
        "\n",
        "*Новые значения элементов расчитываются как:*\n",
        "\n",
        "$x' = \\frac{x-x_{min}}{x_{max}-x_{min}}$"
      ],
      "metadata": {
        "id": "kZGqA0gITmaM"
      }
    },
    {
      "cell_type": "code",
      "source": [
        "from numpy import *\n",
        "ar = array([[4 , 7 , 6],[1, -8, 5],[2.54, 6.11, 9]], float)\n",
        "\n",
        "def nrmMtrx(m):\n",
        "    m = (m-m.min())/(m.max()-m.min())\n",
        "    return m\n",
        "\n",
        "print(nrmMtrx(ar))"
      ],
      "metadata": {
        "id": "2WyWqRRcCpb_",
        "colab": {
          "base_uri": "https://localhost:8080/"
        },
        "outputId": "53d69037-96ae-4bc9-d253-a1f695cad767"
      },
      "execution_count": 29,
      "outputs": [
        {
          "output_type": "stream",
          "name": "stdout",
          "text": [
            "[[0.70588235 0.88235294 0.82352941]\n",
            " [0.52941176 0.         0.76470588]\n",
            " [0.62       0.83       1.        ]]\n"
          ]
        }
      ]
    },
    {
      "cell_type": "markdown",
      "source": [
        "**Задача 3.**\n",
        "\n",
        "Вам дан одномерный массив. Напишите функцию, которая принимает этот массив и возвращает:\n",
        "1. Количество локальных максимумов для этого массива;\n",
        "2. И сами эти максимумы.\n",
        "\n",
        "*P.s. встроенными функциями пользоваться запрещено.*"
      ],
      "metadata": {
        "id": "dCVTOO-_FYkU"
      }
    },
    {
      "cell_type": "code",
      "source": [
        "from numpy import *\n",
        "ar = array(list(map(float, input().split())), float)\n",
        "\n",
        "def maxAr(x):\n",
        "    cnt = 0\n",
        "    a = []\n",
        "\n",
        "    for i in range(1, len(x)-1):\n",
        "      if x[i] > x[i-1] and x[i] > x[i+1]:\n",
        "        cnt += 1\n",
        "        a.append(x[i])\n",
        "    return cnt, a\n",
        "\n",
        "maxAr(ar)"
      ],
      "metadata": {
        "id": "wjMpSkDjGgdp",
        "colab": {
          "base_uri": "https://localhost:8080/"
        },
        "outputId": "ee5916c4-982a-4712-e8a4-06f183cc1771"
      },
      "execution_count": 18,
      "outputs": [
        {
          "name": "stdout",
          "output_type": "stream",
          "text": [
            "2 8 6 5 3 10 122 20 213 16 1287  23176823 16213 7214712476\n"
          ]
        },
        {
          "output_type": "execute_result",
          "data": {
            "text/plain": [
              "(4, [8.0, 122.0, 213.0, 23176823.0])"
            ]
          },
          "metadata": {},
          "execution_count": 18
        }
      ]
    },
    {
      "cell_type": "markdown",
      "source": [
        "**Задача 4.**\n",
        "\n",
        "Реализуйте функцию умножения двух матриц, без использования встроенной функции."
      ],
      "metadata": {
        "id": "sPTzH_1fGs1u"
      }
    },
    {
      "cell_type": "code",
      "source": [
        "from numpy import *\n",
        "\n",
        "mtrx1 = array([[1, 62.42, 12.6, 7], [3, 4, 21.5, 8]], float)\n",
        "mtrx2 = array([[9, 1.32], [3, 4], [1, 9], [5, 0.4]], float)\n",
        "\n",
        "def mtrxMltp(m1, m2):\n",
        "    a = zeros((m1.shape[0], m2.shape[1]))\n",
        "    z = m2.flatten()\n",
        "    for i in range(m1.shape[0]):\n",
        "      for j in range(m2.shape[1]):\n",
        "        a[i,j] = sum(m1[i] * z[j::m2.shape[1]])\n",
        "\n",
        "\n",
        "    return a\n",
        "\n",
        "print(mtrxMltp(mtrx2, mtrx1), '\\n\\n')\n",
        "print(dot(mtrx2, mtrx1))"
      ],
      "metadata": {
        "id": "JzgPFrc0H6L0",
        "colab": {
          "base_uri": "https://localhost:8080/"
        },
        "outputId": "661c09c6-4f3b-428f-d3b1-7004505c97af"
      },
      "execution_count": 43,
      "outputs": [
        {
          "output_type": "stream",
          "name": "stdout",
          "text": [
            "[[ 12.96 567.06 141.78  73.56]\n",
            " [ 15.   203.26 123.8   53.  ]\n",
            " [ 28.    98.42 206.1   79.  ]\n",
            " [  6.2  313.7   71.6   38.2 ]] \n",
            "\n",
            "\n",
            "[[ 12.96 567.06 141.78  73.56]\n",
            " [ 15.   203.26 123.8   53.  ]\n",
            " [ 28.    98.42 206.1   79.  ]\n",
            " [  6.2  313.7   71.6   38.2 ]]\n"
          ]
        }
      ]
    }
  ]
}