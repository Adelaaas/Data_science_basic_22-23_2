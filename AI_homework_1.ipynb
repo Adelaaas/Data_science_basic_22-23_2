{
 "cells": [
  {
   "cell_type": "code",
   "execution_count": 1,
   "id": "173c55fc",
   "metadata": {},
   "outputs": [
    {
     "name": "stdout",
     "output_type": "stream",
     "text": [
      "123456\n",
      "3\n",
      "5\n",
      "12345\n",
      "1234\n",
      "246\n",
      "654321\n",
      "642\n"
     ]
    }
   ],
   "source": [
    "#Задание 1\n",
    "a = input()\n",
    "print(a[2])\n",
    "print(a[-2])\n",
    "print(a[0:5])\n",
    "print(a[0:-2])\n",
    "print(a[1::2])\n",
    "print(a[::-1])\n",
    "print(a[-1::-2])"
   ]
  },
  {
   "cell_type": "code",
   "execution_count": 4,
   "id": "b4787f99",
   "metadata": {},
   "outputs": [
    {
     "name": "stdout",
     "output_type": "stream",
     "text": [
      "1 5 1 5 1\n",
      "2\n"
     ]
    }
   ],
   "source": [
    "#Задание 2\n",
    "a = list(map(int, input().split()))\n",
    "ans = 0\n",
    "for i in range(1, len(a)-1):\n",
    "    if a[i] > a[i-1] and a[i] > a[i+1]:\n",
    "        ans+=1\n",
    "print(ans)"
   ]
  },
  {
   "cell_type": "code",
   "execution_count": 7,
   "id": "501bca1a",
   "metadata": {},
   "outputs": [
    {
     "name": "stdout",
     "output_type": "stream",
     "text": [
      "Hello Hello Man how are ya Man\n",
      "{'Hello': 2, 'Man': 2, 'how': 1, 'are': 1, 'ya': 1}\n"
     ]
    }
   ],
   "source": [
    "#Задание 3\n",
    "a = list(input().split())\n",
    "#я на всякий случай сделаю для строки с знаками препинания\n",
    "words = dict()\n",
    "already_met = [] #костыль, конечно, но что уж...\n",
    "for i in range(0, len(a)):\n",
    "    if a[i][-1] in [',', '.', ':', ';', '!', '?', '(', ')', '[', ']', '{', '}']:\n",
    "        a[i] = a[i][:-1]\n",
    "    if a[i] in already_met:\n",
    "        words[a[i]] += 1\n",
    "    else:\n",
    "        words[a[i]] = 1\n",
    "        already_met.append(a[i])\n",
    "print(words)"
   ]
  },
  {
   "cell_type": "code",
   "execution_count": 11,
   "id": "04a6c93c",
   "metadata": {},
   "outputs": [
    {
     "name": "stdout",
     "output_type": "stream",
     "text": [
      "1 2 8 9 3\n"
     ]
    },
    {
     "data": {
      "text/plain": [
       "[64, 81]"
      ]
     },
     "execution_count": 11,
     "metadata": {},
     "output_type": "execute_result"
    }
   ],
   "source": [
    "a = list(map(int, input().split()))\n",
    "ans = [a[i]*a[i] for i in range(0, len(a)) if a[i]*a[i] > 50]\n",
    "print(*ans)"
   ]
  }
 ],
 "metadata": {
  "kernelspec": {
   "display_name": "Python 3",
   "language": "python",
   "name": "python3"
  },
  "language_info": {
   "codemirror_mode": {
    "name": "ipython",
    "version": 3
   },
   "file_extension": ".py",
   "mimetype": "text/x-python",
   "name": "python",
   "nbconvert_exporter": "python",
   "pygments_lexer": "ipython3",
   "version": "3.8.8"
  }
 },
 "nbformat": 4,
 "nbformat_minor": 5
}
