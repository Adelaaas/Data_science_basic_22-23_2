{
  "nbformat": 4,
  "nbformat_minor": 0,
  "metadata": {
    "colab": {
      "provenance": [],
      "collapsed_sections": []
    },
    "kernelspec": {
      "name": "python3",
      "display_name": "Python 3"
    },
    "language_info": {
      "name": "python"
    }
  },
  "cells": [
    {
      "cell_type": "code",
      "execution_count": null,
      "metadata": {
        "id": "84Og3hejrhK4"
      },
      "outputs": [],
      "source": [
        "import pandas as pd\n",
        "\n",
        "url1 = 'https://raw.githubusercontent.com/Adelaaas/Data_science_basic_22-23_1/main/class_work_4_Pandas/ONTI%20Students%20performance/X_train.csv'\n",
        "url2 = 'https://raw.githubusercontent.com/Adelaaas/Data_science_basic_22-23_1/main/class_work_4_Pandas/ONTI%20Students%20performance/studs_info.csv'\n",
        "url3 = 'https://raw.githubusercontent.com/Adelaaas/Data_science_basic_22-23_1/main/class_work_4_Pandas/ONTI%20Students%20performance/zachety.csv'\n",
        "url4 = 'https://raw.githubusercontent.com/Adelaaas/Data_science_basic_22-23_1/main/class_work_4_Pandas/ONTI%20Students%20performance/y_train.csv'\n",
        "\n",
        "X_train = pd.read_csv(url1)\n",
        "studs_info = pd.read_csv(url2)\n",
        "zachety = pd.read_csv(url3)\n",
        "y_train = pd.read_csv(url4)\n",
        "\n",
        "\n",
        "#1\n",
        "print(X_train.shape,studs_info.shape,zachety.shape,y_train.shape)\n"
      ]
    },
    {
      "cell_type": "code",
      "source": [
        "\n",
        "#1\n",
        "print(X_train.shape,studs_info.shape,zachety.shape,y_train.shape)"
      ],
      "metadata": {
        "id": "b91Vpj8Qr0f0"
      },
      "execution_count": null,
      "outputs": []
    },
    {
      "cell_type": "code",
      "source": [
        "#2\n",
        "x = pd.concat([X_train,y_train],axis=1)\n",
        "x"
      ],
      "metadata": {
        "id": "NUxanI4Lstqz"
      },
      "execution_count": null,
      "outputs": []
    },
    {
      "cell_type": "code",
      "source": [
        "#3\n",
        "studs_info.isna().sum().sum()"
      ],
      "metadata": {
        "id": "WLmL3QNKuL7A"
      },
      "execution_count": null,
      "outputs": []
    },
    {
      "cell_type": "code",
      "source": [
        "#4\n",
        "x = studs_info\n",
        "x['Пол'].value_counts()"
      ],
      "metadata": {
        "colab": {
          "base_uri": "https://localhost:8080/"
        },
        "id": "onc3f53fuho-",
        "outputId": "9bd57f3f-f979-437b-d424-379dded1a972"
      },
      "execution_count": 53,
      "outputs": [
        {
          "output_type": "execute_result",
          "data": {
            "text/plain": [
              "Ж    3192\n",
              "М    2273\n",
              "Name: Пол, dtype: int64"
            ]
          },
          "metadata": {},
          "execution_count": 53
        }
      ]
    },
    {
      "cell_type": "code",
      "source": [
        "#5\n",
        "x2 = x[x['Дата выпуска']=='2019-06-30']\n",
        "x2[x2['Пол']=='М']"
      ],
      "metadata": {
        "id": "nZNpkzmWuhuA"
      },
      "execution_count": null,
      "outputs": []
    },
    {
      "cell_type": "code",
      "source": [
        "#7\n",
        "print(len(x['Статус'].unique()))\n",
        "print(x['Статус'].value_counts())"
      ],
      "metadata": {
        "id": "I9yQSbhdwEZH"
      },
      "execution_count": null,
      "outputs": []
    },
    {
      "cell_type": "code",
      "source": [
        "#8\n",
        "y_train['mark'].value_counts()"
      ],
      "metadata": {
        "id": "Adj1Jeq9wjSq"
      },
      "execution_count": null,
      "outputs": []
    },
    {
      "cell_type": "code",
      "source": [
        "#9\n",
        "x = pd.concat([X_train,y_train],axis=1)\n",
        "x = x[x['STD_ID']==175711]\n",
        "x['mark'].sum()/len(x['mark'])"
      ],
      "metadata": {
        "id": "UugIJcsZw6BU"
      },
      "execution_count": null,
      "outputs": []
    },
    {
      "cell_type": "code",
      "source": [
        "#10\n",
        "y_train.drop(columns = ['mark','index'])\n"
      ],
      "metadata": {
        "id": "VIdVZbk-w6HU"
      },
      "execution_count": null,
      "outputs": []
    },
    {
      "cell_type": "markdown",
      "source": [
        "НЕТУ ТОЛЬКО 6 НОМЕРА \n"
      ],
      "metadata": {
        "id": "rayAp9uE6Gxy"
      }
    }
  ]
}