{
  "nbformat": 4,
  "nbformat_minor": 0,
  "metadata": {
    "colab": {
      "provenance": []
    },
    "kernelspec": {
      "name": "python3",
      "display_name": "Python 3"
    },
    "language_info": {
      "name": "python"
    }
  },
  "cells": [
    {
      "cell_type": "code",
      "execution_count": 2,
      "metadata": {
        "id": "HnPfsEA27DxE"
      },
      "outputs": [],
      "source": [
        "import pandas as pd\n",
        "import matplotlib.pyplot as plt\n",
        "import random\n",
        "import seaborn as sns\n",
        "from numpy import *\n",
        "\n",
        "x = [18, 13, 19, 14, 2, 11, 2, -30, 10, 1, 8, 11, 18, 15, 50]\n",
        "y = [7, 9, 19, 13, 2, 17, 20, -40, 9, 10, 18, 3, 2, 2, 80]\n",
        "z = [0.203, 0.443, 0.603, 0.879, 0.871, 0.164, 0.078, 0.766, 0.353, 0.949, 0.391, 0.2, 0.094, 0.692, 0.992]\n",
        "\n",
        "# Первые 4 графика должны быть на одной figure, но на разных subplots\n",
        "# 1 - обычный линей график y(x)\n",
        "# 2 - точечный график y(x)\n",
        "# 3 - гистограмма расределения x\n",
        "# 4 - гистограмма распределения y\n",
        "\n",
        "# 5 и 6 графики должны быть на разных фигурах\n",
        "# 5 - boxplot для x\n",
        "# 6 - boxplot для y\n",
        "\n",
        "# 7 график:\n",
        "# создайте датафрейм со столбцами x, y, z\n",
        "# постройте heatmap корреляции между x, y, z"
      ]
    },
    {
      "cell_type": "code",
      "source": [
        "fig, ax = plt.subplots(2, 2)\n",
        "\n",
        "ax[0, 0].plot(x, y)\n",
        "ax[0, 1].scatter(x, y)\n",
        "ax[1, 0].hist(x)\n",
        "ax[1, 1].hist(y)\n",
        "\n",
        "plt.show()"
      ],
      "metadata": {
        "colab": {
          "base_uri": "https://localhost:8080/",
          "height": 265
        },
        "id": "ZCavs4hHO5oX",
        "outputId": "941e04f9-87cf-41c3-f14c-c0836f2e661b"
      },
      "execution_count": 4,
      "outputs": [
        {
          "output_type": "display_data",
          "data": {
            "text/plain": [
              "<Figure size 432x288 with 4 Axes>"
            ],
            "image/png": "[encoded data removed]"
          },
          "metadata": {
            "needs_background": "light"
          }
        }
      ]
    },
    {
      "cell_type": "code",
      "source": [
        "df = pd.DataFrame({\"x\": x, \"y\": y, \"z\": z})\n",
        "df.boxplot(column = ['x'])"
      ],
      "metadata": {
        "colab": {
          "base_uri": "https://localhost:8080/",
          "height": 282
        },
        "id": "2H_ujsMdPHrq",
        "outputId": "309466ea-d7cb-4cae-f889-1f047f2ea30d"
      },
      "execution_count": 7,
      "outputs": [
        {
          "output_type": "execute_result",
          "data": {
            "text/plain": [
              "<matplotlib.axes._subplots.AxesSubplot at 0x7f299cbd7810>"
            ]
          },
          "metadata": {},
          "execution_count": 7
        },
        {
          "output_type": "display_data",
          "data": {
            "text/plain": [
              "<Figure size 432x288 with 1 Axes>"
            ],
            "image/png": "[encoded data removed]"
          },
          "metadata": {
            "needs_background": "light"
          }
        }
      ]
    },
    {
      "cell_type": "code",
      "source": [
        "df.boxplot(column = ['y'])"
      ],
      "metadata": {
        "colab": {
          "base_uri": "https://localhost:8080/",
          "height": 282
        },
        "id": "HIXu4pObPfZS",
        "outputId": "c6804a29-54d3-4d44-8833-698feee0fde2"
      },
      "execution_count": 6,
      "outputs": [
        {
          "output_type": "execute_result",
          "data": {
            "text/plain": [
              "<matplotlib.axes._subplots.AxesSubplot at 0x7f299cc67190>"
            ]
          },
          "metadata": {},
          "execution_count": 6
        },
        {
          "output_type": "display_data",
          "data": {
            "text/plain": [
              "<Figure size 432x288 with 1 Axes>"
            ],
            "image/png": "[encoded data removed]"
          },
          "metadata": {
            "needs_background": "light"
          }
        }
      ]
    }
  ]
}