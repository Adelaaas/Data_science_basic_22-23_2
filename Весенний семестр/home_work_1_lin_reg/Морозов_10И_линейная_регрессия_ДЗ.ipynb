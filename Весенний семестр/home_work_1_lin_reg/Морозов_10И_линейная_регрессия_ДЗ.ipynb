{
  "nbformat": 4,
  "nbformat_minor": 0,
  "metadata": {
    "colab": {
      "provenance": []
    },
    "kernelspec": {
      "name": "python3",
      "display_name": "Python 3"
    },
    "language_info": {
      "name": "python"
    }
  },
  "cells": [
    {
      "cell_type": "code",
      "execution_count": 2,
      "metadata": {
        "id": "E2dCGg5nkobZ"
      },
      "outputs": [],
      "source": [
        "from sklearn.linear_model import LinearRegression\n",
        "from sklearn.model_selection import train_test_split\n",
        "from sklearn.metrics import mean_absolute_error, mean_squared_error, r2_score\n",
        "import numpy as np\n",
        "import pandas as pd\n",
        "\n",
        "import pandas as pd\n",
        "\n",
        "weather = pd.read_csv(\"weatherHistory.csv\", sep=',')"
      ]
    },
    {
      "cell_type": "code",
      "source": [
        "X = weather.drop(columns = 'Temperature (C)')\n",
        "X = X.drop(columns = 'Precip Type')\n",
        "X = X.drop(columns = 'Summary')\n",
        "X = X.drop(columns = 'Daily Summary')\n",
        "X = X.drop(columns = 'Formatted Date')\n",
        "y = weather['Temperature (C)']\n",
        "\n",
        "x_train, x_test, y_train, y_test = train_test_split(X, y, test_size = 0.3)"
      ],
      "metadata": {
        "id": "AJLjLSvGrB33"
      },
      "execution_count": 19,
      "outputs": []
    },
    {
      "cell_type": "code",
      "source": [
        "Kitsuragi = LinearRegression()\n",
        "Kitsuragi.fit(x_train, y_train)"
      ],
      "metadata": {
        "colab": {
          "base_uri": "https://localhost:8080/"
        },
        "id": "3RTfrFWZzJsN",
        "outputId": "ac5aef78-cc7f-4e76-d6a2-0e0953d23b4c"
      },
      "execution_count": 20,
      "outputs": [
        {
          "output_type": "execute_result",
          "data": {
            "text/plain": [
              "LinearRegression()"
            ]
          },
          "metadata": {},
          "execution_count": 20
        }
      ]
    },
    {
      "cell_type": "code",
      "source": [
        "print('y =', Kitsuragi.intercept_, end = ' ')\n",
        "for i in range(0, len(Kitsuragi.coef_)):\n",
        "  print('+', Kitsuragi.coef_[i], f'* {x_train.columns.values[i]}',  end = ' ')"
      ],
      "metadata": {
        "colab": {
          "base_uri": "https://localhost:8080/"
        },
        "id": "mOh43DmQ0tvs",
        "outputId": "cd92d846-1854-4d1b-e84e-213783d67cae"
      },
      "execution_count": 27,
      "outputs": [
        {
          "output_type": "stream",
          "name": "stdout",
          "text": [
            "y = 2.8174593573836333 + 0.8725145901016934 * Apparent Temperature (C) + -1.4199154156038596 * Humidity + 0.08069930394490177 * Wind Speed (km/h) + -0.0004218503745807567 * Wind Bearing (degrees) + 0.009155196137593524 * Visibility (km) + 0.0 * Loud Cover + -0.0001979284523191127 * Pressure (millibars) "
          ]
        }
      ]
    },
    {
      "cell_type": "code",
      "source": [
        "weather.corr()"
      ],
      "metadata": {
        "colab": {
          "base_uri": "https://localhost:8080/",
          "height": 300
        },
        "id": "Lu7UaZlsAMxF",
        "outputId": "d642fec1-c885-4010-a802-989ab31123f5"
      },
      "execution_count": 29,
      "outputs": [
        {
          "output_type": "execute_result",
          "data": {
            "text/plain": [
              "                          Temperature (C)  Apparent Temperature (C)  Humidity  \\\n",
              "Temperature (C)                  1.000000                  0.992629 -0.632255   \n",
              "Apparent Temperature (C)         0.992629                  1.000000 -0.602571   \n",
              "Humidity                        -0.632255                 -0.602571  1.000000   \n",
              "Wind Speed (km/h)                0.008957                 -0.056650 -0.224951   \n",
              "Wind Bearing (degrees)           0.029988                  0.029031  0.000735   \n",
              "Visibility (km)                  0.392847                  0.381718 -0.369173   \n",
              "Loud Cover                            NaN                       NaN       NaN   \n",
              "Pressure (millibars)            -0.005447                 -0.000219  0.005454   \n",
              "\n",
              "                          Wind Speed (km/h)  Wind Bearing (degrees)  \\\n",
              "Temperature (C)                    0.008957                0.029988   \n",
              "Apparent Temperature (C)          -0.056650                0.029031   \n",
              "Humidity                          -0.224951                0.000735   \n",
              "Wind Speed (km/h)                  1.000000                0.103822   \n",
              "Wind Bearing (degrees)             0.103822                1.000000   \n",
              "Visibility (km)                    0.100749                0.047594   \n",
              "Loud Cover                              NaN                     NaN   \n",
              "Pressure (millibars)              -0.049263               -0.011651   \n",
              "\n",
              "                          Visibility (km)  Loud Cover  Pressure (millibars)  \n",
              "Temperature (C)                  0.392847         NaN             -0.005447  \n",
              "Apparent Temperature (C)         0.381718         NaN             -0.000219  \n",
              "Humidity                        -0.369173         NaN              0.005454  \n",
              "Wind Speed (km/h)                0.100749         NaN             -0.049263  \n",
              "Wind Bearing (degrees)           0.047594         NaN             -0.011651  \n",
              "Visibility (km)                  1.000000         NaN              0.059818  \n",
              "Loud Cover                            NaN         NaN                   NaN  \n",
              "Pressure (millibars)             0.059818         NaN              1.000000  "
            ],
            "text/html": [
              "\n",
              "  <div id=\"df-2ef847ee-2459-4375-9f53-722f1594a54f\">\n",
              "    <div class=\"colab-df-container\">\n",
              "      <div>\n",
              "<style scoped>\n",
              "    .dataframe tbody tr th:only-of-type {\n",
              "        vertical-align: middle;\n",
              "    }\n",
              "\n",
              "    .dataframe tbody tr th {\n",
              "        vertical-align: top;\n",
              "    }\n",
              "\n",
              "    .dataframe thead th {\n",
              "        text-align: right;\n",
              "    }\n",
              "</style>\n",
              "<table border=\"1\" class=\"dataframe\">\n",
              "  <thead>\n",
              "    <tr style=\"text-align: right;\">\n",
              "      <th></th>\n",
              "      <th>Temperature (C)</th>\n",
              "      <th>Apparent Temperature (C)</th>\n",
              "      <th>Humidity</th>\n",
              "      <th>Wind Speed (km/h)</th>\n",
              "      <th>Wind Bearing (degrees)</th>\n",
              "      <th>Visibility (km)</th>\n",
              "      <th>Loud Cover</th>\n",
              "      <th>Pressure (millibars)</th>\n",
              "    </tr>\n",
              "  </thead>\n",
              "  <tbody>\n",
              "    <tr>\n",
              "      <th>Temperature (C)</th>\n",
              "      <td>1.000000</td>\n",
              "      <td>0.992629</td>\n",
              "      <td>-0.632255</td>\n",
              "      <td>0.008957</td>\n",
              "      <td>0.029988</td>\n",
              "      <td>0.392847</td>\n",
              "      <td>NaN</td>\n",
              "      <td>-0.005447</td>\n",
              "    </tr>\n",
              "    <tr>\n",
              "      <th>Apparent Temperature (C)</th>\n",
              "      <td>0.992629</td>\n",
              "      <td>1.000000</td>\n",
              "      <td>-0.602571</td>\n",
              "      <td>-0.056650</td>\n",
              "      <td>0.029031</td>\n",
              "      <td>0.381718</td>\n",
              "      <td>NaN</td>\n",
              "      <td>-0.000219</td>\n",
              "    </tr>\n",
              "    <tr>\n",
              "      <th>Humidity</th>\n",
              "      <td>-0.632255</td>\n",
              "      <td>-0.602571</td>\n",
              "      <td>1.000000</td>\n",
              "      <td>-0.224951</td>\n",
              "      <td>0.000735</td>\n",
              "      <td>-0.369173</td>\n",
              "      <td>NaN</td>\n",
              "      <td>0.005454</td>\n",
              "    </tr>\n",
              "    <tr>\n",
              "      <th>Wind Speed (km/h)</th>\n",
              "      <td>0.008957</td>\n",
              "      <td>-0.056650</td>\n",
              "      <td>-0.224951</td>\n",
              "      <td>1.000000</td>\n",
              "      <td>0.103822</td>\n",
              "      <td>0.100749</td>\n",
              "      <td>NaN</td>\n",
              "      <td>-0.049263</td>\n",
              "    </tr>\n",
              "    <tr>\n",
              "      <th>Wind Bearing (degrees)</th>\n",
              "      <td>0.029988</td>\n",
              "      <td>0.029031</td>\n",
              "      <td>0.000735</td>\n",
              "      <td>0.103822</td>\n",
              "      <td>1.000000</td>\n",
              "      <td>0.047594</td>\n",
              "      <td>NaN</td>\n",
              "      <td>-0.011651</td>\n",
              "    </tr>\n",
              "    <tr>\n",
              "      <th>Visibility (km)</th>\n",
              "      <td>0.392847</td>\n",
              "      <td>0.381718</td>\n",
              "      <td>-0.369173</td>\n",
              "      <td>0.100749</td>\n",
              "      <td>0.047594</td>\n",
              "      <td>1.000000</td>\n",
              "      <td>NaN</td>\n",
              "      <td>0.059818</td>\n",
              "    </tr>\n",
              "    <tr>\n",
              "      <th>Loud Cover</th>\n",
              "      <td>NaN</td>\n",
              "      <td>NaN</td>\n",
              "      <td>NaN</td>\n",
              "      <td>NaN</td>\n",
              "      <td>NaN</td>\n",
              "      <td>NaN</td>\n",
              "      <td>NaN</td>\n",
              "      <td>NaN</td>\n",
              "    </tr>\n",
              "    <tr>\n",
              "      <th>Pressure (millibars)</th>\n",
              "      <td>-0.005447</td>\n",
              "      <td>-0.000219</td>\n",
              "      <td>0.005454</td>\n",
              "      <td>-0.049263</td>\n",
              "      <td>-0.011651</td>\n",
              "      <td>0.059818</td>\n",
              "      <td>NaN</td>\n",
              "      <td>1.000000</td>\n",
              "    </tr>\n",
              "  </tbody>\n",
              "</table>\n",
              "</div>\n",
              "      <button class=\"colab-df-convert\" onclick=\"convertToInteractive('df-2ef847ee-2459-4375-9f53-722f1594a54f')\"\n",
              "              title=\"Convert this dataframe to an interactive table.\"\n",
              "              style=\"display:none;\">\n",
              "        \n",
              "  <svg xmlns=\"http://www.w3.org/2000/svg\" height=\"24px\"viewBox=\"0 0 24 24\"\n",
              "       width=\"24px\">\n",
              "    <path d=\"M0 0h24v24H0V0z\" fill=\"none\"/>\n",
              "    <path d=\"M18.56 5.44l.94 2.06.94-2.06 2.06-.94-2.06-.94-.94-2.06-.94 2.06-2.06.94zm-11 1L8.5 8.5l.94-2.06 2.06-.94-2.06-.94L8.5 2.5l-.94 2.06-2.06.94zm10 10l.94 2.06.94-2.06 2.06-.94-2.06-.94-.94-2.06-.94 2.06-2.06.94z\"/><path d=\"M17.41 7.96l-1.37-1.37c-.4-.4-.92-.59-1.43-.59-.52 0-1.04.2-1.43.59L10.3 9.45l-7.72 7.72c-.78.78-.78 2.05 0 2.83L4 21.41c.39.39.9.59 1.41.59.51 0 1.02-.2 1.41-.59l7.78-7.78 2.81-2.81c.8-.78.8-2.07 0-2.86zM5.41 20L4 18.59l7.72-7.72 1.47 1.35L5.41 20z\"/>\n",
              "  </svg>\n",
              "      </button>\n",
              "      \n",
              "  <style>\n",
              "    .colab-df-container {\n",
              "      display:flex;\n",
              "      flex-wrap:wrap;\n",
              "      gap: 12px;\n",
              "    }\n",
              "\n",
              "    .colab-df-convert {\n",
              "      background-color: #E8F0FE;\n",
              "      border: none;\n",
              "      border-radius: 50%;\n",
              "      cursor: pointer;\n",
              "      display: none;\n",
              "      fill: #1967D2;\n",
              "      height: 32px;\n",
              "      padding: 0 0 0 0;\n",
              "      width: 32px;\n",
              "    }\n",
              "\n",
              "    .colab-df-convert:hover {\n",
              "      background-color: #E2EBFA;\n",
              "      box-shadow: 0px 1px 2px rgba(60, 64, 67, 0.3), 0px 1px 3px 1px rgba(60, 64, 67, 0.15);\n",
              "      fill: #174EA6;\n",
              "    }\n",
              "\n",
              "    [theme=dark] .colab-df-convert {\n",
              "      background-color: #3B4455;\n",
              "      fill: #D2E3FC;\n",
              "    }\n",
              "\n",
              "    [theme=dark] .colab-df-convert:hover {\n",
              "      background-color: #434B5C;\n",
              "      box-shadow: 0px 1px 3px 1px rgba(0, 0, 0, 0.15);\n",
              "      filter: drop-shadow(0px 1px 2px rgba(0, 0, 0, 0.3));\n",
              "      fill: #FFFFFF;\n",
              "    }\n",
              "  </style>\n",
              "\n",
              "      <script>\n",
              "        const buttonEl =\n",
              "          document.querySelector('#df-2ef847ee-2459-4375-9f53-722f1594a54f button.colab-df-convert');\n",
              "        buttonEl.style.display =\n",
              "          google.colab.kernel.accessAllowed ? 'block' : 'none';\n",
              "\n",
              "        async function convertToInteractive(key) {\n",
              "          const element = document.querySelector('#df-2ef847ee-2459-4375-9f53-722f1594a54f');\n",
              "          const dataTable =\n",
              "            await google.colab.kernel.invokeFunction('convertToInteractive',\n",
              "                                                     [key], {});\n",
              "          if (!dataTable) return;\n",
              "\n",
              "          const docLinkHtml = 'Like what you see? Visit the ' +\n",
              "            '<a target=\"_blank\" href=https://colab.research.google.com/notebooks/data_table.ipynb>data table notebook</a>'\n",
              "            + ' to learn more about interactive tables.';\n",
              "          element.innerHTML = '';\n",
              "          dataTable['output_type'] = 'display_data';\n",
              "          await google.colab.output.renderOutput(dataTable, element);\n",
              "          const docLink = document.createElement('div');\n",
              "          docLink.innerHTML = docLinkHtml;\n",
              "          element.appendChild(docLink);\n",
              "        }\n",
              "      </script>\n",
              "    </div>\n",
              "  </div>\n",
              "  "
            ]
          },
          "metadata": {},
          "execution_count": 29
        }
      ]
    },
    {
      "cell_type": "markdown",
      "source": [
        "Наибольшая корреляция у температуры и влажности (Humidity)"
      ],
      "metadata": {
        "id": "0HlDTthbNeBv"
      }
    },
    {
      "cell_type": "code",
      "source": [
        "y_pred = Kitsuragi.predict(x_test)\n",
        "\n",
        "import matplotlib.pyplot as plt\n",
        "fig, ax = plt.subplots()\n",
        "ax.scatter(x_test[\"Humidity\"], y_test)\n",
        "ax.plot(x_test[\"Humidity\"], y_pred, color = \"red\")"
      ],
      "metadata": {
        "colab": {
          "base_uri": "https://localhost:8080/",
          "height": 282
        },
        "id": "01m7j1gwNl5W",
        "outputId": "53a4f6fc-2e90-4300-f024-b8bd937b9377"
      },
      "execution_count": 37,
      "outputs": [
        {
          "output_type": "execute_result",
          "data": {
            "text/plain": [
              "[<matplotlib.lines.Line2D at 0x7f89830b9190>]"
            ]
          },
          "metadata": {},
          "execution_count": 37
        },
        {
          "output_type": "display_data",
          "data": {
            "text/plain": [
              "<Figure size 432x288 with 1 Axes>"
            ],
            "image/png": "[encoded data removed]"
          },
          "metadata": {
            "needs_background": "light"
          }
        }
      ]
    },
    {
      "cell_type": "code",
      "source": [
        "print('mae:', mean_absolute_error(y_test, y_pred))\n",
        "print('mse:', mean_squared_error(y_test, y_pred))\n",
        "print('R2 score:', r2_score(y_test, y_pred))"
      ],
      "metadata": {
        "colab": {
          "base_uri": "https://localhost:8080/"
        },
        "id": "QL7y0h3rRkG3",
        "outputId": "1584a4a2-1c1c-4ee3-9e38-100d0c6d7bf8"
      },
      "execution_count": 38,
      "outputs": [
        {
          "output_type": "stream",
          "name": "stdout",
          "text": [
            "mae: 0.7402892543989921\n",
            "mse: 0.8974723471616732\n",
            "R2 score: 0.9901109329365582\n"
          ]
        }
      ]
    },
    {
      "cell_type": "markdown",
      "source": [
        "Судя по метрикам, модель довольно точно определяет влажность по остальным параметрам. Если взглянуть на матрицу корреляции, можно заметить, что наименьшее влияние на результат оказывает параметр давление."
      ],
      "metadata": {
        "id": "KXi7rqFmUSUL"
      }
    }
  ]
}