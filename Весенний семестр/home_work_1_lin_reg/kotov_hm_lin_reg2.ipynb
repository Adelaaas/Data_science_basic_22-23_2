{
  "nbformat": 4,
  "nbformat_minor": 0,
  "metadata": {
    "colab": {
      "provenance": []
    },
    "kernelspec": {
      "name": "python3",
      "display_name": "Python 3"
    },
    "language_info": {
      "name": "python"
    }
  },
  "cells": [
    {
      "cell_type": "markdown",
      "source": [
        "**Ваша задача:**\n",
        "1. Исследовать данные\n",
        "2. Создать тренировочную и тестовую подвыборки\n",
        "3. Построить модель линейной регрессии по своему набору данных (т.е. создать модель и обучить ее на тренировочной выборке)\n",
        "4. Получить коэффиценты уравнения линейной регрессии\n",
        "5. Написать уравнение линейной регрессии\n",
        "6. Визуализировать данные и полученное уравнение линейной регрессии\n",
        "7. Оценивать полученную модель с помощью MSE, MAE, R2.\n",
        "8. Сделать письменный вывод получившихся результатов (хорошая или плохая получлась оценка MSE и почему), привести восстановленное линейное уравнение регрессии, сделать вывод какие из признаков оказались наиболее значимыми, какие нет и почему."
      ],
      "metadata": {
        "id": "oO5iEmWfER82"
      }
    },
    {
      "cell_type": "code",
      "execution_count": 24,
      "metadata": {
        "id": "2OoC5KbLD03o"
      },
      "outputs": [],
      "source": [
        "import pandas as pd\n",
        "from sklearn.linear_model import LinearRegression\n",
        "from sklearn.metrics import mean_absolute_error, mean_squared_error, r2_score\n",
        "from sklearn.model_selection import train_test_split\n",
        "import matplotlib.pyplot as plt\n",
        "import seaborn as sns\n",
        "import numpy as np\n",
        "from sklearn.preprocessing import LabelEncoder"
      ]
    },
    {
      "cell_type": "code",
      "source": [
        "data = pd.read_csv(\"happyscore_income.csv\")\n",
        "data.drop(\"country.1\", axis=1, inplace=True)\n",
        "data.head(10)"
      ],
      "metadata": {
        "colab": {
          "base_uri": "https://localhost:8080/",
          "height": 363
        },
        "id": "NUGRNGlySdva",
        "outputId": "17d4e2b8-2551-4c04-caf8-3d4b51fd52c8"
      },
      "execution_count": 3,
      "outputs": [
        {
          "output_type": "execute_result",
          "data": {
            "text/plain": [
              "        country  adjusted_satisfaction  avg_satisfaction  std_satisfaction  \\\n",
              "0       Armenia                   37.0               4.9              2.42   \n",
              "1        Angola                   26.0               4.3              3.19   \n",
              "2     Argentina                   60.0               7.1              1.91   \n",
              "3       Austria                   59.0               7.2              2.11   \n",
              "4     Australia                   65.0               7.6              1.80   \n",
              "5    Azerbaijan                   46.0               5.8              2.27   \n",
              "6    Bangladesh                   43.0               5.3              2.10   \n",
              "7       Belgium                   63.0               7.2              1.72   \n",
              "8  Burkina Faso                   37.0               4.4              2.02   \n",
              "9      Bulgaria                   34.0               4.6              2.57   \n",
              "\n",
              "   avg_income  median_income  income_inequality  \\\n",
              "0    2096.760    1731.506667          31.445556   \n",
              "1    1448.880    1044.240000          42.720000   \n",
              "2    7101.120    5109.400000          45.475556   \n",
              "3   19457.040   16879.620000          30.296250   \n",
              "4   19917.000   15846.060000          35.285000   \n",
              "5    3381.600    2931.480000          24.215000   \n",
              "6    1265.340     994.140000          32.665000   \n",
              "7   17168.505   15166.455000          28.745000   \n",
              "8     870.840     630.240000          39.760000   \n",
              "9    5354.820    4523.565000          34.162500   \n",
              "\n",
              "                          region  happyScore      GDP  \n",
              "0   'Central and Eastern Europe'       4.350  0.76821  \n",
              "1           'Sub-Saharan Africa'       4.033  0.75778  \n",
              "2  'Latin America and Caribbean'       6.574  1.05351  \n",
              "3               'Western Europe'       7.200  1.33723  \n",
              "4    'Australia and New Zealand'       7.284  1.33358  \n",
              "5   'Central and Eastern Europe'       5.212  1.02389  \n",
              "6                'Southern Asia'       4.694  0.39753  \n",
              "7               'Western Europe'       6.937  1.30782  \n",
              "8           'Sub-Saharan Africa'       3.587  0.25812  \n",
              "9   'Central and Eastern Europe'       4.218  1.01216  "
            ],
            "text/html": [
              "\n",
              "  <div id=\"df-dd06c552-6b83-48f7-9a4f-1ad2cdc40ed5\">\n",
              "    <div class=\"colab-df-container\">\n",
              "      <div>\n",
              "<style scoped>\n",
              "    .dataframe tbody tr th:only-of-type {\n",
              "        vertical-align: middle;\n",
              "    }\n",
              "\n",
              "    .dataframe tbody tr th {\n",
              "        vertical-align: top;\n",
              "    }\n",
              "\n",
              "    .dataframe thead th {\n",
              "        text-align: right;\n",
              "    }\n",
              "</style>\n",
              "<table border=\"1\" class=\"dataframe\">\n",
              "  <thead>\n",
              "    <tr style=\"text-align: right;\">\n",
              "      <th></th>\n",
              "      <th>country</th>\n",
              "      <th>adjusted_satisfaction</th>\n",
              "      <th>avg_satisfaction</th>\n",
              "      <th>std_satisfaction</th>\n",
              "      <th>avg_income</th>\n",
              "      <th>median_income</th>\n",
              "      <th>income_inequality</th>\n",
              "      <th>region</th>\n",
              "      <th>happyScore</th>\n",
              "      <th>GDP</th>\n",
              "    </tr>\n",
              "  </thead>\n",
              "  <tbody>\n",
              "    <tr>\n",
              "      <th>0</th>\n",
              "      <td>Armenia</td>\n",
              "      <td>37.0</td>\n",
              "      <td>4.9</td>\n",
              "      <td>2.42</td>\n",
              "      <td>2096.760</td>\n",
              "      <td>1731.506667</td>\n",
              "      <td>31.445556</td>\n",
              "      <td>'Central and Eastern Europe'</td>\n",
              "      <td>4.350</td>\n",
              "      <td>0.76821</td>\n",
              "    </tr>\n",
              "    <tr>\n",
              "      <th>1</th>\n",
              "      <td>Angola</td>\n",
              "      <td>26.0</td>\n",
              "      <td>4.3</td>\n",
              "      <td>3.19</td>\n",
              "      <td>1448.880</td>\n",
              "      <td>1044.240000</td>\n",
              "      <td>42.720000</td>\n",
              "      <td>'Sub-Saharan Africa'</td>\n",
              "      <td>4.033</td>\n",
              "      <td>0.75778</td>\n",
              "    </tr>\n",
              "    <tr>\n",
              "      <th>2</th>\n",
              "      <td>Argentina</td>\n",
              "      <td>60.0</td>\n",
              "      <td>7.1</td>\n",
              "      <td>1.91</td>\n",
              "      <td>7101.120</td>\n",
              "      <td>5109.400000</td>\n",
              "      <td>45.475556</td>\n",
              "      <td>'Latin America and Caribbean'</td>\n",
              "      <td>6.574</td>\n",
              "      <td>1.05351</td>\n",
              "    </tr>\n",
              "    <tr>\n",
              "      <th>3</th>\n",
              "      <td>Austria</td>\n",
              "      <td>59.0</td>\n",
              "      <td>7.2</td>\n",
              "      <td>2.11</td>\n",
              "      <td>19457.040</td>\n",
              "      <td>16879.620000</td>\n",
              "      <td>30.296250</td>\n",
              "      <td>'Western Europe'</td>\n",
              "      <td>7.200</td>\n",
              "      <td>1.33723</td>\n",
              "    </tr>\n",
              "    <tr>\n",
              "      <th>4</th>\n",
              "      <td>Australia</td>\n",
              "      <td>65.0</td>\n",
              "      <td>7.6</td>\n",
              "      <td>1.80</td>\n",
              "      <td>19917.000</td>\n",
              "      <td>15846.060000</td>\n",
              "      <td>35.285000</td>\n",
              "      <td>'Australia and New Zealand'</td>\n",
              "      <td>7.284</td>\n",
              "      <td>1.33358</td>\n",
              "    </tr>\n",
              "    <tr>\n",
              "      <th>5</th>\n",
              "      <td>Azerbaijan</td>\n",
              "      <td>46.0</td>\n",
              "      <td>5.8</td>\n",
              "      <td>2.27</td>\n",
              "      <td>3381.600</td>\n",
              "      <td>2931.480000</td>\n",
              "      <td>24.215000</td>\n",
              "      <td>'Central and Eastern Europe'</td>\n",
              "      <td>5.212</td>\n",
              "      <td>1.02389</td>\n",
              "    </tr>\n",
              "    <tr>\n",
              "      <th>6</th>\n",
              "      <td>Bangladesh</td>\n",
              "      <td>43.0</td>\n",
              "      <td>5.3</td>\n",
              "      <td>2.10</td>\n",
              "      <td>1265.340</td>\n",
              "      <td>994.140000</td>\n",
              "      <td>32.665000</td>\n",
              "      <td>'Southern Asia'</td>\n",
              "      <td>4.694</td>\n",
              "      <td>0.39753</td>\n",
              "    </tr>\n",
              "    <tr>\n",
              "      <th>7</th>\n",
              "      <td>Belgium</td>\n",
              "      <td>63.0</td>\n",
              "      <td>7.2</td>\n",
              "      <td>1.72</td>\n",
              "      <td>17168.505</td>\n",
              "      <td>15166.455000</td>\n",
              "      <td>28.745000</td>\n",
              "      <td>'Western Europe'</td>\n",
              "      <td>6.937</td>\n",
              "      <td>1.30782</td>\n",
              "    </tr>\n",
              "    <tr>\n",
              "      <th>8</th>\n",
              "      <td>Burkina Faso</td>\n",
              "      <td>37.0</td>\n",
              "      <td>4.4</td>\n",
              "      <td>2.02</td>\n",
              "      <td>870.840</td>\n",
              "      <td>630.240000</td>\n",
              "      <td>39.760000</td>\n",
              "      <td>'Sub-Saharan Africa'</td>\n",
              "      <td>3.587</td>\n",
              "      <td>0.25812</td>\n",
              "    </tr>\n",
              "    <tr>\n",
              "      <th>9</th>\n",
              "      <td>Bulgaria</td>\n",
              "      <td>34.0</td>\n",
              "      <td>4.6</td>\n",
              "      <td>2.57</td>\n",
              "      <td>5354.820</td>\n",
              "      <td>4523.565000</td>\n",
              "      <td>34.162500</td>\n",
              "      <td>'Central and Eastern Europe'</td>\n",
              "      <td>4.218</td>\n",
              "      <td>1.01216</td>\n",
              "    </tr>\n",
              "  </tbody>\n",
              "</table>\n",
              "</div>\n",
              "      <button class=\"colab-df-convert\" onclick=\"convertToInteractive('df-dd06c552-6b83-48f7-9a4f-1ad2cdc40ed5')\"\n",
              "              title=\"Convert this dataframe to an interactive table.\"\n",
              "              style=\"display:none;\">\n",
              "        \n",
              "  <svg xmlns=\"http://www.w3.org/2000/svg\" height=\"24px\"viewBox=\"0 0 24 24\"\n",
              "       width=\"24px\">\n",
              "    <path d=\"M0 0h24v24H0V0z\" fill=\"none\"/>\n",
              "    <path d=\"M18.56 5.44l.94 2.06.94-2.06 2.06-.94-2.06-.94-.94-2.06-.94 2.06-2.06.94zm-11 1L8.5 8.5l.94-2.06 2.06-.94-2.06-.94L8.5 2.5l-.94 2.06-2.06.94zm10 10l.94 2.06.94-2.06 2.06-.94-2.06-.94-.94-2.06-.94 2.06-2.06.94z\"/><path d=\"M17.41 7.96l-1.37-1.37c-.4-.4-.92-.59-1.43-.59-.52 0-1.04.2-1.43.59L10.3 9.45l-7.72 7.72c-.78.78-.78 2.05 0 2.83L4 21.41c.39.39.9.59 1.41.59.51 0 1.02-.2 1.41-.59l7.78-7.78 2.81-2.81c.8-.78.8-2.07 0-2.86zM5.41 20L4 18.59l7.72-7.72 1.47 1.35L5.41 20z\"/>\n",
              "  </svg>\n",
              "      </button>\n",
              "      \n",
              "  <style>\n",
              "    .colab-df-container {\n",
              "      display:flex;\n",
              "      flex-wrap:wrap;\n",
              "      gap: 12px;\n",
              "    }\n",
              "\n",
              "    .colab-df-convert {\n",
              "      background-color: #E8F0FE;\n",
              "      border: none;\n",
              "      border-radius: 50%;\n",
              "      cursor: pointer;\n",
              "      display: none;\n",
              "      fill: #1967D2;\n",
              "      height: 32px;\n",
              "      padding: 0 0 0 0;\n",
              "      width: 32px;\n",
              "    }\n",
              "\n",
              "    .colab-df-convert:hover {\n",
              "      background-color: #E2EBFA;\n",
              "      box-shadow: 0px 1px 2px rgba(60, 64, 67, 0.3), 0px 1px 3px 1px rgba(60, 64, 67, 0.15);\n",
              "      fill: #174EA6;\n",
              "    }\n",
              "\n",
              "    [theme=dark] .colab-df-convert {\n",
              "      background-color: #3B4455;\n",
              "      fill: #D2E3FC;\n",
              "    }\n",
              "\n",
              "    [theme=dark] .colab-df-convert:hover {\n",
              "      background-color: #434B5C;\n",
              "      box-shadow: 0px 1px 3px 1px rgba(0, 0, 0, 0.15);\n",
              "      filter: drop-shadow(0px 1px 2px rgba(0, 0, 0, 0.3));\n",
              "      fill: #FFFFFF;\n",
              "    }\n",
              "  </style>\n",
              "\n",
              "      <script>\n",
              "        const buttonEl =\n",
              "          document.querySelector('#df-dd06c552-6b83-48f7-9a4f-1ad2cdc40ed5 button.colab-df-convert');\n",
              "        buttonEl.style.display =\n",
              "          google.colab.kernel.accessAllowed ? 'block' : 'none';\n",
              "\n",
              "        async function convertToInteractive(key) {\n",
              "          const element = document.querySelector('#df-dd06c552-6b83-48f7-9a4f-1ad2cdc40ed5');\n",
              "          const dataTable =\n",
              "            await google.colab.kernel.invokeFunction('convertToInteractive',\n",
              "                                                     [key], {});\n",
              "          if (!dataTable) return;\n",
              "\n",
              "          const docLinkHtml = 'Like what you see? Visit the ' +\n",
              "            '<a target=\"_blank\" href=https://colab.research.google.com/notebooks/data_table.ipynb>data table notebook</a>'\n",
              "            + ' to learn more about interactive tables.';\n",
              "          element.innerHTML = '';\n",
              "          dataTable['output_type'] = 'display_data';\n",
              "          await google.colab.output.renderOutput(dataTable, element);\n",
              "          const docLink = document.createElement('div');\n",
              "          docLink.innerHTML = docLinkHtml;\n",
              "          element.appendChild(docLink);\n",
              "        }\n",
              "      </script>\n",
              "    </div>\n",
              "  </div>\n",
              "  "
            ]
          },
          "metadata": {},
          "execution_count": 3
        }
      ]
    },
    {
      "cell_type": "code",
      "source": [
        "model = LabelEncoder()\n",
        "model.fit(data['region'])\n",
        "data['region'] = model.transform(data['region'])"
      ],
      "metadata": {
        "id": "G8HzTy24QOW_"
      },
      "execution_count": 25,
      "outputs": []
    },
    {
      "cell_type": "code",
      "source": [
        "data.head(10)"
      ],
      "metadata": {
        "colab": {
          "base_uri": "https://localhost:8080/",
          "height": 363
        },
        "id": "RMROGoamQOg-",
        "outputId": "3a6e1c76-d1af-436f-90b5-353915b01076"
      },
      "execution_count": 26,
      "outputs": [
        {
          "output_type": "execute_result",
          "data": {
            "text/plain": [
              "        country  adjusted_satisfaction  avg_satisfaction  std_satisfaction  \\\n",
              "0       Armenia                   37.0               4.9              2.42   \n",
              "1        Angola                   26.0               4.3              3.19   \n",
              "2     Argentina                   60.0               7.1              1.91   \n",
              "3       Austria                   59.0               7.2              2.11   \n",
              "4     Australia                   65.0               7.6              1.80   \n",
              "5    Azerbaijan                   46.0               5.8              2.27   \n",
              "6    Bangladesh                   43.0               5.3              2.10   \n",
              "7       Belgium                   63.0               7.2              1.72   \n",
              "8  Burkina Faso                   37.0               4.4              2.02   \n",
              "9      Bulgaria                   34.0               4.6              2.57   \n",
              "\n",
              "   avg_income  median_income  income_inequality  region  happyScore      GDP  \n",
              "0    2096.760    1731.506667          31.445556       1       4.350  0.76821  \n",
              "1    1448.880    1044.240000          42.720000       8       4.033  0.75778  \n",
              "2    7101.120    5109.400000          45.475556       3       6.574  1.05351  \n",
              "3   19457.040   16879.620000          30.296250       9       7.200  1.33723  \n",
              "4   19917.000   15846.060000          35.285000       0       7.284  1.33358  \n",
              "5    3381.600    2931.480000          24.215000       1       5.212  1.02389  \n",
              "6    1265.340     994.140000          32.665000       7       4.694  0.39753  \n",
              "7   17168.505   15166.455000          28.745000       9       6.937  1.30782  \n",
              "8     870.840     630.240000          39.760000       8       3.587  0.25812  \n",
              "9    5354.820    4523.565000          34.162500       1       4.218  1.01216  "
            ],
            "text/html": [
              "\n",
              "  <div id=\"df-6e41bfb9-3bf2-4007-95ee-51fa85ed982d\">\n",
              "    <div class=\"colab-df-container\">\n",
              "      <div>\n",
              "<style scoped>\n",
              "    .dataframe tbody tr th:only-of-type {\n",
              "        vertical-align: middle;\n",
              "    }\n",
              "\n",
              "    .dataframe tbody tr th {\n",
              "        vertical-align: top;\n",
              "    }\n",
              "\n",
              "    .dataframe thead th {\n",
              "        text-align: right;\n",
              "    }\n",
              "</style>\n",
              "<table border=\"1\" class=\"dataframe\">\n",
              "  <thead>\n",
              "    <tr style=\"text-align: right;\">\n",
              "      <th></th>\n",
              "      <th>country</th>\n",
              "      <th>adjusted_satisfaction</th>\n",
              "      <th>avg_satisfaction</th>\n",
              "      <th>std_satisfaction</th>\n",
              "      <th>avg_income</th>\n",
              "      <th>median_income</th>\n",
              "      <th>income_inequality</th>\n",
              "      <th>region</th>\n",
              "      <th>happyScore</th>\n",
              "      <th>GDP</th>\n",
              "    </tr>\n",
              "  </thead>\n",
              "  <tbody>\n",
              "    <tr>\n",
              "      <th>0</th>\n",
              "      <td>Armenia</td>\n",
              "      <td>37.0</td>\n",
              "      <td>4.9</td>\n",
              "      <td>2.42</td>\n",
              "      <td>2096.760</td>\n",
              "      <td>1731.506667</td>\n",
              "      <td>31.445556</td>\n",
              "      <td>1</td>\n",
              "      <td>4.350</td>\n",
              "      <td>0.76821</td>\n",
              "    </tr>\n",
              "    <tr>\n",
              "      <th>1</th>\n",
              "      <td>Angola</td>\n",
              "      <td>26.0</td>\n",
              "      <td>4.3</td>\n",
              "      <td>3.19</td>\n",
              "      <td>1448.880</td>\n",
              "      <td>1044.240000</td>\n",
              "      <td>42.720000</td>\n",
              "      <td>8</td>\n",
              "      <td>4.033</td>\n",
              "      <td>0.75778</td>\n",
              "    </tr>\n",
              "    <tr>\n",
              "      <th>2</th>\n",
              "      <td>Argentina</td>\n",
              "      <td>60.0</td>\n",
              "      <td>7.1</td>\n",
              "      <td>1.91</td>\n",
              "      <td>7101.120</td>\n",
              "      <td>5109.400000</td>\n",
              "      <td>45.475556</td>\n",
              "      <td>3</td>\n",
              "      <td>6.574</td>\n",
              "      <td>1.05351</td>\n",
              "    </tr>\n",
              "    <tr>\n",
              "      <th>3</th>\n",
              "      <td>Austria</td>\n",
              "      <td>59.0</td>\n",
              "      <td>7.2</td>\n",
              "      <td>2.11</td>\n",
              "      <td>19457.040</td>\n",
              "      <td>16879.620000</td>\n",
              "      <td>30.296250</td>\n",
              "      <td>9</td>\n",
              "      <td>7.200</td>\n",
              "      <td>1.33723</td>\n",
              "    </tr>\n",
              "    <tr>\n",
              "      <th>4</th>\n",
              "      <td>Australia</td>\n",
              "      <td>65.0</td>\n",
              "      <td>7.6</td>\n",
              "      <td>1.80</td>\n",
              "      <td>19917.000</td>\n",
              "      <td>15846.060000</td>\n",
              "      <td>35.285000</td>\n",
              "      <td>0</td>\n",
              "      <td>7.284</td>\n",
              "      <td>1.33358</td>\n",
              "    </tr>\n",
              "    <tr>\n",
              "      <th>5</th>\n",
              "      <td>Azerbaijan</td>\n",
              "      <td>46.0</td>\n",
              "      <td>5.8</td>\n",
              "      <td>2.27</td>\n",
              "      <td>3381.600</td>\n",
              "      <td>2931.480000</td>\n",
              "      <td>24.215000</td>\n",
              "      <td>1</td>\n",
              "      <td>5.212</td>\n",
              "      <td>1.02389</td>\n",
              "    </tr>\n",
              "    <tr>\n",
              "      <th>6</th>\n",
              "      <td>Bangladesh</td>\n",
              "      <td>43.0</td>\n",
              "      <td>5.3</td>\n",
              "      <td>2.10</td>\n",
              "      <td>1265.340</td>\n",
              "      <td>994.140000</td>\n",
              "      <td>32.665000</td>\n",
              "      <td>7</td>\n",
              "      <td>4.694</td>\n",
              "      <td>0.39753</td>\n",
              "    </tr>\n",
              "    <tr>\n",
              "      <th>7</th>\n",
              "      <td>Belgium</td>\n",
              "      <td>63.0</td>\n",
              "      <td>7.2</td>\n",
              "      <td>1.72</td>\n",
              "      <td>17168.505</td>\n",
              "      <td>15166.455000</td>\n",
              "      <td>28.745000</td>\n",
              "      <td>9</td>\n",
              "      <td>6.937</td>\n",
              "      <td>1.30782</td>\n",
              "    </tr>\n",
              "    <tr>\n",
              "      <th>8</th>\n",
              "      <td>Burkina Faso</td>\n",
              "      <td>37.0</td>\n",
              "      <td>4.4</td>\n",
              "      <td>2.02</td>\n",
              "      <td>870.840</td>\n",
              "      <td>630.240000</td>\n",
              "      <td>39.760000</td>\n",
              "      <td>8</td>\n",
              "      <td>3.587</td>\n",
              "      <td>0.25812</td>\n",
              "    </tr>\n",
              "    <tr>\n",
              "      <th>9</th>\n",
              "      <td>Bulgaria</td>\n",
              "      <td>34.0</td>\n",
              "      <td>4.6</td>\n",
              "      <td>2.57</td>\n",
              "      <td>5354.820</td>\n",
              "      <td>4523.565000</td>\n",
              "      <td>34.162500</td>\n",
              "      <td>1</td>\n",
              "      <td>4.218</td>\n",
              "      <td>1.01216</td>\n",
              "    </tr>\n",
              "  </tbody>\n",
              "</table>\n",
              "</div>\n",
              "      <button class=\"colab-df-convert\" onclick=\"convertToInteractive('df-6e41bfb9-3bf2-4007-95ee-51fa85ed982d')\"\n",
              "              title=\"Convert this dataframe to an interactive table.\"\n",
              "              style=\"display:none;\">\n",
              "        \n",
              "  <svg xmlns=\"http://www.w3.org/2000/svg\" height=\"24px\"viewBox=\"0 0 24 24\"\n",
              "       width=\"24px\">\n",
              "    <path d=\"M0 0h24v24H0V0z\" fill=\"none\"/>\n",
              "    <path d=\"M18.56 5.44l.94 2.06.94-2.06 2.06-.94-2.06-.94-.94-2.06-.94 2.06-2.06.94zm-11 1L8.5 8.5l.94-2.06 2.06-.94-2.06-.94L8.5 2.5l-.94 2.06-2.06.94zm10 10l.94 2.06.94-2.06 2.06-.94-2.06-.94-.94-2.06-.94 2.06-2.06.94z\"/><path d=\"M17.41 7.96l-1.37-1.37c-.4-.4-.92-.59-1.43-.59-.52 0-1.04.2-1.43.59L10.3 9.45l-7.72 7.72c-.78.78-.78 2.05 0 2.83L4 21.41c.39.39.9.59 1.41.59.51 0 1.02-.2 1.41-.59l7.78-7.78 2.81-2.81c.8-.78.8-2.07 0-2.86zM5.41 20L4 18.59l7.72-7.72 1.47 1.35L5.41 20z\"/>\n",
              "  </svg>\n",
              "      </button>\n",
              "      \n",
              "  <style>\n",
              "    .colab-df-container {\n",
              "      display:flex;\n",
              "      flex-wrap:wrap;\n",
              "      gap: 12px;\n",
              "    }\n",
              "\n",
              "    .colab-df-convert {\n",
              "      background-color: #E8F0FE;\n",
              "      border: none;\n",
              "      border-radius: 50%;\n",
              "      cursor: pointer;\n",
              "      display: none;\n",
              "      fill: #1967D2;\n",
              "      height: 32px;\n",
              "      padding: 0 0 0 0;\n",
              "      width: 32px;\n",
              "    }\n",
              "\n",
              "    .colab-df-convert:hover {\n",
              "      background-color: #E2EBFA;\n",
              "      box-shadow: 0px 1px 2px rgba(60, 64, 67, 0.3), 0px 1px 3px 1px rgba(60, 64, 67, 0.15);\n",
              "      fill: #174EA6;\n",
              "    }\n",
              "\n",
              "    [theme=dark] .colab-df-convert {\n",
              "      background-color: #3B4455;\n",
              "      fill: #D2E3FC;\n",
              "    }\n",
              "\n",
              "    [theme=dark] .colab-df-convert:hover {\n",
              "      background-color: #434B5C;\n",
              "      box-shadow: 0px 1px 3px 1px rgba(0, 0, 0, 0.15);\n",
              "      filter: drop-shadow(0px 1px 2px rgba(0, 0, 0, 0.3));\n",
              "      fill: #FFFFFF;\n",
              "    }\n",
              "  </style>\n",
              "\n",
              "      <script>\n",
              "        const buttonEl =\n",
              "          document.querySelector('#df-6e41bfb9-3bf2-4007-95ee-51fa85ed982d button.colab-df-convert');\n",
              "        buttonEl.style.display =\n",
              "          google.colab.kernel.accessAllowed ? 'block' : 'none';\n",
              "\n",
              "        async function convertToInteractive(key) {\n",
              "          const element = document.querySelector('#df-6e41bfb9-3bf2-4007-95ee-51fa85ed982d');\n",
              "          const dataTable =\n",
              "            await google.colab.kernel.invokeFunction('convertToInteractive',\n",
              "                                                     [key], {});\n",
              "          if (!dataTable) return;\n",
              "\n",
              "          const docLinkHtml = 'Like what you see? Visit the ' +\n",
              "            '<a target=\"_blank\" href=https://colab.research.google.com/notebooks/data_table.ipynb>data table notebook</a>'\n",
              "            + ' to learn more about interactive tables.';\n",
              "          element.innerHTML = '';\n",
              "          dataTable['output_type'] = 'display_data';\n",
              "          await google.colab.output.renderOutput(dataTable, element);\n",
              "          const docLink = document.createElement('div');\n",
              "          docLink.innerHTML = docLinkHtml;\n",
              "          element.appendChild(docLink);\n",
              "        }\n",
              "      </script>\n",
              "    </div>\n",
              "  </div>\n",
              "  "
            ]
          },
          "metadata": {},
          "execution_count": 26
        }
      ]
    },
    {
      "cell_type": "code",
      "source": [
        "print(f\"Число объектов - {data.shape[0]}, Число признаков - {data.shape[1]}\")\n",
        "\n",
        "plt.figure(figsize=(15,9))\n",
        "sns.displot(\n",
        "    data=data.isna().melt(value_name=\"missing\"),\n",
        "    y=\"variable\",\n",
        "    hue=\"missing\",\n",
        "    multiple=\"fill\",\n",
        "    aspect=2\n",
        ")\n",
        "plt.xlabel(\"Count\")\n",
        "plt.ylabel(\"Variable\")\n",
        "plt.show()\n",
        "\n",
        "print(data.isna().sum())\n",
        "# Пропущенных значений нет"
      ],
      "metadata": {
        "colab": {
          "base_uri": "https://localhost:8080/",
          "height": 595
        },
        "id": "7Dq0wNVnTJ1p",
        "outputId": "980e511c-5796-4ad0-fa58-9fea4cdd17fb"
      },
      "execution_count": 27,
      "outputs": [
        {
          "output_type": "stream",
          "name": "stdout",
          "text": [
            "Число объектов - 111, Число признаков - 10\n"
          ]
        },
        {
          "output_type": "display_data",
          "data": {
            "text/plain": [
              "<Figure size 1080x648 with 0 Axes>"
            ]
          },
          "metadata": {}
        },
        {
          "output_type": "display_data",
          "data": {
            "text/plain": [
              "<Figure size 781.25x360 with 1 Axes>"
            ],
            "image/png": "[encoded data removed]"
          },
          "metadata": {
            "needs_background": "light"
          }
        },
        {
          "output_type": "stream",
          "name": "stdout",
          "text": [
            "country                  0\n",
            "adjusted_satisfaction    0\n",
            "avg_satisfaction         0\n",
            "std_satisfaction         0\n",
            "avg_income               0\n",
            "median_income            0\n",
            "income_inequality        0\n",
            "region                   0\n",
            "happyScore               0\n",
            "GDP                      0\n",
            "dtype: int64\n"
          ]
        }
      ]
    },
    {
      "cell_type": "code",
      "source": [
        "plt.figure(figsize=(12,10))\n",
        "sns.heatmap(data.corr(), xticklabels=data.corr().columns, yticklabels=data.corr().columns, cmap='RdYlGn', center=0, annot=True)\n",
        "\n",
        "plt.title('Матрица корреляций ', fontsize=18)\n",
        "plt.xticks(fontsize=9)\n",
        "plt.yticks(fontsize=9)\n",
        "plt.show()"
      ],
      "metadata": {
        "colab": {
          "base_uri": "https://localhost:8080/",
          "height": 697
        },
        "id": "-UmxBKLPUOlK",
        "outputId": "29f2a6c0-c32e-49ff-ea43-c2a9872fd6d8"
      },
      "execution_count": 28,
      "outputs": [
        {
          "output_type": "display_data",
          "data": {
            "text/plain": [
              "<Figure size 864x720 with 2 Axes>"
            ],
            "image/png": "[encoded data removed]"
          },
          "metadata": {
            "needs_background": "light"
          }
        }
      ]
    },
    {
      "cell_type": "code",
      "source": [
        "model = LinearRegression()\n",
        "x_train, x_test, y_train, y_test = train_test_split(data.drop(['happyScore', 'country'], axis=1), data['happyScore'], test_size = 0.3)\n",
        "model.fit(x_train, y_train)"
      ],
      "metadata": {
        "colab": {
          "base_uri": "https://localhost:8080/",
          "height": 75
        },
        "id": "ih_3EFuAVJlD",
        "outputId": "b41c8d07-1c25-4bc1-cd15-543901c93894"
      },
      "execution_count": 31,
      "outputs": [
        {
          "output_type": "execute_result",
          "data": {
            "text/plain": [
              "LinearRegression()"
            ],
            "text/html": [
              "<style>#sk-container-id-3 {color: black;background-color: white;}#sk-container-id-3 pre{padding: 0;}#sk-container-id-3 div.sk-toggleable {background-color: white;}#sk-container-id-3 label.sk-toggleable__label {cursor: pointer;display: block;width: 100%;margin-bottom: 0;padding: 0.3em;box-sizing: border-box;text-align: center;}#sk-container-id-3 label.sk-toggleable__label-arrow:before {content: \"▸\";float: left;margin-right: 0.25em;color: #696969;}#sk-container-id-3 label.sk-toggleable__label-arrow:hover:before {color: black;}#sk-container-id-3 div.sk-estimator:hover label.sk-toggleable__label-arrow:before {color: black;}#sk-container-id-3 div.sk-toggleable__content {max-height: 0;max-width: 0;overflow: hidden;text-align: left;background-color: #f0f8ff;}#sk-container-id-3 div.sk-toggleable__content pre {margin: 0.2em;color: black;border-radius: 0.25em;background-color: #f0f8ff;}#sk-container-id-3 input.sk-toggleable__control:checked~div.sk-toggleable__content {max-height: 200px;max-width: 100%;overflow: auto;}#sk-container-id-3 input.sk-toggleable__control:checked~label.sk-toggleable__label-arrow:before {content: \"▾\";}#sk-container-id-3 div.sk-estimator input.sk-toggleable__control:checked~label.sk-toggleable__label {background-color: #d4ebff;}#sk-container-id-3 div.sk-label input.sk-toggleable__control:checked~label.sk-toggleable__label {background-color: #d4ebff;}#sk-container-id-3 input.sk-hidden--visually {border: 0;clip: rect(1px 1px 1px 1px);clip: rect(1px, 1px, 1px, 1px);height: 1px;margin: -1px;overflow: hidden;padding: 0;position: absolute;width: 1px;}#sk-container-id-3 div.sk-estimator {font-family: monospace;background-color: #f0f8ff;border: 1px dotted black;border-radius: 0.25em;box-sizing: border-box;margin-bottom: 0.5em;}#sk-container-id-3 div.sk-estimator:hover {background-color: #d4ebff;}#sk-container-id-3 div.sk-parallel-item::after {content: \"\";width: 100%;border-bottom: 1px solid gray;flex-grow: 1;}#sk-container-id-3 div.sk-label:hover label.sk-toggleable__label {background-color: #d4ebff;}#sk-container-id-3 div.sk-serial::before {content: \"\";position: absolute;border-left: 1px solid gray;box-sizing: border-box;top: 0;bottom: 0;left: 50%;z-index: 0;}#sk-container-id-3 div.sk-serial {display: flex;flex-direction: column;align-items: center;background-color: white;padding-right: 0.2em;padding-left: 0.2em;position: relative;}#sk-container-id-3 div.sk-item {position: relative;z-index: 1;}#sk-container-id-3 div.sk-parallel {display: flex;align-items: stretch;justify-content: center;background-color: white;position: relative;}#sk-container-id-3 div.sk-item::before, #sk-container-id-3 div.sk-parallel-item::before {content: \"\";position: absolute;border-left: 1px solid gray;box-sizing: border-box;top: 0;bottom: 0;left: 50%;z-index: -1;}#sk-container-id-3 div.sk-parallel-item {display: flex;flex-direction: column;z-index: 1;position: relative;background-color: white;}#sk-container-id-3 div.sk-parallel-item:first-child::after {align-self: flex-end;width: 50%;}#sk-container-id-3 div.sk-parallel-item:last-child::after {align-self: flex-start;width: 50%;}#sk-container-id-3 div.sk-parallel-item:only-child::after {width: 0;}#sk-container-id-3 div.sk-dashed-wrapped {border: 1px dashed gray;margin: 0 0.4em 0.5em 0.4em;box-sizing: border-box;padding-bottom: 0.4em;background-color: white;}#sk-container-id-3 div.sk-label label {font-family: monospace;font-weight: bold;display: inline-block;line-height: 1.2em;}#sk-container-id-3 div.sk-label-container {text-align: center;}#sk-container-id-3 div.sk-container {/* jupyter's `normalize.less` sets `[hidden] { display: none; }` but bootstrap.min.css set `[hidden] { display: none !important; }` so we also need the `!important` here to be able to override the default hidden behavior on the sphinx rendered scikit-learn.org. See: https://github.com/scikit-learn/scikit-learn/issues/21755 */display: inline-block !important;position: relative;}#sk-container-id-3 div.sk-text-repr-fallback {display: none;}</style><div id=\"sk-container-id-3\" class=\"sk-top-container\"><div class=\"sk-text-repr-fallback\"><pre>LinearRegression()</pre><b>In a Jupyter environment, please rerun this cell to show the HTML representation or trust the notebook. <br />On GitHub, the HTML representation is unable to render, please try loading this page with nbviewer.org.</b></div><div class=\"sk-container\" hidden><div class=\"sk-item\"><div class=\"sk-estimator sk-toggleable\"><input class=\"sk-toggleable__control sk-hidden--visually\" id=\"sk-estimator-id-3\" type=\"checkbox\" checked><label for=\"sk-estimator-id-3\" class=\"sk-toggleable__label sk-toggleable__label-arrow\">LinearRegression</label><div class=\"sk-toggleable__content\"><pre>LinearRegression()</pre></div></div></div></div></div>"
            ]
          },
          "metadata": {},
          "execution_count": 31
        }
      ]
    },
    {
      "cell_type": "code",
      "source": [
        "w0 = model.intercept_\n",
        "w = model.coef_\n",
        "print(w0, end = ' ')\n",
        "x = data.drop(['happyScore', 'country'], axis = 1).columns\n",
        "for i in range(w.shape[0]):\n",
        "  print(f'+ {w[i]} {x[i]}', end = ' ')\n",
        "# По уравнению видно, что коэффиценты признаков avg_income,\n",
        "# median_income, income_inequality и region очень малы, \n",
        "# поэтому их следует убрать"
      ],
      "metadata": {
        "colab": {
          "base_uri": "https://localhost:8080/"
        },
        "id": "ct7rPOUdZA1K",
        "outputId": "f17cd15f-011f-430d-e16d-1bd4f9532015"
      },
      "execution_count": 32,
      "outputs": [
        {
          "output_type": "stream",
          "name": "stdout",
          "text": [
            "4.831315836117946 + -0.08079565418092945 adjusted_satisfaction + 1.1408656484650472 avg_satisfaction + -1.2133053829414784 std_satisfaction + 0.00014553144447992938 avg_income + -9.202298319610502e-05 median_income + 0.0017592145370568788 income_inequality + -0.04301225184155208 region + 0.02266684346901005 GDP "
          ]
        }
      ]
    },
    {
      "cell_type": "code",
      "source": [
        "new_model = LinearRegression()\n",
        "new_model.fit(x_train.drop([\"avg_income\", \"median_income\", \"income_inequality\", \"region\"], axis=1), y_train)\n",
        "\n",
        "w0 = new_model.intercept_\n",
        "w = new_model.coef_\n",
        "print(w0, end = ' ')\n",
        "x = data.drop(['happyScore', 'country', 'region', \"avg_income\", \"median_income\", \"income_inequality\"], axis = 1).columns\n",
        "for i in range(w.shape[0]):\n",
        "  print(f'+ {w[i]} {x[i]}', end = ' ')"
      ],
      "metadata": {
        "colab": {
          "base_uri": "https://localhost:8080/"
        },
        "id": "zJLaQ56hbew6",
        "outputId": "6cf2ea50-09f8-4367-eb63-ccc731d727aa"
      },
      "execution_count": 33,
      "outputs": [
        {
          "output_type": "stream",
          "name": "stdout",
          "text": [
            "4.964572377795283 + -0.08764473007834421 adjusted_satisfaction + 1.2119658153302504 avg_satisfaction + -1.5192443739127615 std_satisfaction + 0.911197210233637 GDP "
          ]
        }
      ]
    },
    {
      "cell_type": "code",
      "source": [
        "y_pred = model.predict(x_test)\n",
        "new_y_pred = new_model.predict(x_test.drop([\"avg_income\", \"median_income\", \"income_inequality\", \"region\"], axis=1))\n",
        "\n",
        "fig, ax = plt.subplots(2, 2)\n",
        "\n",
        "ax[0][0].set_title(\"Модель с 7 признаками\")\n",
        "ax[0][1].set_title(\"Модель с 3 признаками\")\n",
        "ax[0][0].scatter(data['median_income'], data['happyScore'])\n",
        "ax[0][1].scatter(data['median_income'], data['happyScore'])\n",
        "\n",
        "fig.set_figheight(7)\n",
        "fig.set_figwidth(15)\n",
        "\n",
        "ax[1][0].scatter(np.array(data['median_income']).reshape((-1,1)), np.array(data['happyScore']))\n",
        "ax[1][0].scatter(x_test['median_income'], y_pred, color=\"red\", linewidth=0.5)\n",
        "ax[1][1].scatter(np.array(data['median_income']).reshape((-1,1)), np.array(data['happyScore']))\n",
        "ax[1][1].scatter(x_test['median_income'], new_y_pred, color=\"red\", linewidth=0.5)\n",
        "plt.show()\n",
        "\n",
        "plt.show()"
      ],
      "metadata": {
        "colab": {
          "base_uri": "https://localhost:8080/",
          "height": 444
        },
        "id": "XlUgIBp3cjTy",
        "outputId": "2fea5f7d-2e24-4e0b-9892-2fb6ecb64855"
      },
      "execution_count": 35,
      "outputs": [
        {
          "output_type": "display_data",
          "data": {
            "text/plain": [
              "<Figure size 1080x504 with 4 Axes>"
            ],
            "image/png": "[encoded data removed]"
          },
          "metadata": {
            "needs_background": "light"
          }
        }
      ]
    },
    {
      "cell_type": "code",
      "source": [
        "print('Модель с 7 признаками')\n",
        "print('Mean Absolute Error:', mean_absolute_error(y_test, y_pred))\n",
        "print('Mean Squared Error:', mean_squared_error(y_test, y_pred))\n",
        "print('R2 score:', r2_score(y_test, y_pred))\n",
        "print('\\n')\n",
        "print('Модель с 3 признаками')\n",
        "print('Mean Absolute Error:', mean_absolute_error(y_test, new_y_pred))\n",
        "print('Mean Squared Error:', mean_squared_error(y_test, new_y_pred))\n",
        "print('R2 score:', r2_score(y_test, new_y_pred))\n",
        "\n",
        "# Из полученных значений MAE, MSE и R2 видно, что\n",
        "# обе модели сработали хорошо(но 1-ая лучше)\n",
        "# по причине наличия линейной зависимости между\n",
        "# Счастьем людей и их удовлетворенностью"
      ],
      "metadata": {
        "colab": {
          "base_uri": "https://localhost:8080/"
        },
        "id": "-4ufmMYygGYO",
        "outputId": "127a3b78-6d26-4fd1-8a76-2967f9d98a86"
      },
      "execution_count": 36,
      "outputs": [
        {
          "output_type": "stream",
          "name": "stdout",
          "text": [
            "Модель с 7 признаками\n",
            "Mean Absolute Error: 0.3301462338511892\n",
            "Mean Squared Error: 0.13851480507981387\n",
            "R2 score: 0.8508440963802846\n",
            "\n",
            "\n",
            "Модель с 3 признаками\n",
            "Mean Absolute Error: 0.3289845386649466\n",
            "Mean Squared Error: 0.15212996622983763\n",
            "R2 score: 0.8361829800967966\n"
          ]
        }
      ]
    }
  ]
}