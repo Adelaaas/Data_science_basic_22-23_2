{
  "nbformat": 4,
  "nbformat_minor": 0,
  "metadata": {
    "colab": {
      "provenance": []
    },
    "kernelspec": {
      "name": "python3",
      "display_name": "Python 3"
    },
    "language_info": {
      "name": "python"
    }
  },
  "cells": [
    {
      "cell_type": "markdown",
      "source": [
        "# Задание"
      ],
      "metadata": {
        "id": "YNLDQZORD40U"
      }
    },
    {
      "cell_type": "markdown",
      "source": [
        "У каждого есть свой набор данный, который можно найти в ведомости на вкладке \"Линейная регрессия\":\n",
        "\n",
        "https://clck.ru/32BVWe\n",
        "\n",
        "Скачиваете свой датасет с kaggle (для этого нужно авторизоваться с гугл аккаунт и скачать датасет)."
      ],
      "metadata": {
        "id": "ZXteIzIFD6iO"
      }
    },
    {
      "cell_type": "markdown",
      "source": [
        "**Ваша задача:**\n",
        "1. Исследовать данные\n",
        "2. Создать тренировочную и тестовую подвыборки\n",
        "3. Построить модель линейной регрессии по своему набору данных (т.е. создать модель и обучить ее на тренировочной выборке)\n",
        "4. Получить коэффиценты уравнения линейной регрессии\n",
        "5. Написать уравнение линейной регрессии\n",
        "6. Визуализировать данные и полученное уравнение линейной регрессии\n",
        "7. Оценивать полученную модель с помощью MSE, MAE, R2.\n",
        "8. Сделать письменный вывод получившихся результатов (хорошая или плохая получлась оценка MSE и почему), привести восстановленное линейное уравнение регрессии, сделать вывод какие из признаков оказались наиболее значимыми, какие нет и почему."
      ],
      "metadata": {
        "id": "oO5iEmWfER82"
      }
    },
    {
      "cell_type": "markdown",
      "source": [
        "#1) Исследовать данные"
      ],
      "metadata": {
        "id": "QI0eaP_C4FmS"
      }
    },
    {
      "cell_type": "code",
      "execution_count": 13,
      "metadata": {
        "id": "2OoC5KbLD03o"
      },
      "outputs": [],
      "source": [
        "from sklearn.metrics import mean_absolute_error, mean_squared_error, r2_score\n",
        "\n",
        "import numpy as np\n",
        "import pandas as pd\n",
        "from math import sqrt\n",
        "import matplotlib.pyplot as plt\n",
        "from collections import Counter \n",
        "from sklearn.metrics import accuracy_score\n",
        "from sklearn.model_selection import train_test_split\n",
        "from sklearn.neighbors import KNeighborsClassifier\n",
        "\n",
        "from sklearn.model_selection import cross_val_score \n",
        "from sklearn.preprocessing import StandardScaler\n",
        "\n",
        "from sklearn.linear_model import LinearRegression\n",
        "from sklearn.metrics import r2_score, mean_squared_error\n",
        "from sklearn.model_selection import train_test_split"
      ]
    },
    {
      "cell_type": "code",
      "source": [
        "df = pd.read_csv('train.csv')\n",
        "df"
      ],
      "metadata": {
        "colab": {
          "base_uri": "https://localhost:8080/",
          "height": 424
        },
        "id": "OMYktLaH1BMj",
        "outputId": "abc70531-d053-410c-f070-7a50a5c7eb71"
      },
      "execution_count": 10,
      "outputs": [
        {
          "output_type": "execute_result",
          "data": {
            "text/plain": [
              "          id  MedInc  HouseAge  AveRooms  AveBedrms  Population  AveOccup  \\\n",
              "0          0  2.3859      15.0  3.827160   1.112100      1280.0  2.486989   \n",
              "1          1  3.7188      17.0  6.013373   1.054217      1504.0  3.813084   \n",
              "2          2  4.7750      27.0  6.535604   1.103175      1061.0  2.464602   \n",
              "3          3  2.4138      16.0  3.350203   0.965432      1255.0  2.089286   \n",
              "4          4  3.7500      52.0  4.284404   1.069246      1793.0  1.604790   \n",
              "...      ...     ...       ...       ...        ...         ...       ...   \n",
              "37132  37132  3.3438      50.0  4.936508   1.079365      1775.0  3.022222   \n",
              "37133  37133  3.7308      26.0  5.087533   0.966019      1006.0  4.316901   \n",
              "37134  37134  4.1716      52.0  4.678862   1.101485      1156.0  1.431734   \n",
              "37135  37135  2.7143      16.0  5.710074   1.068376       584.0  2.803659   \n",
              "37136  37136  2.2419      34.0  5.424419   1.058685      1340.0  3.799065   \n",
              "\n",
              "       Latitude  Longitude  MedHouseVal  \n",
              "0         34.60    -120.12        0.980  \n",
              "1         38.69    -121.22        0.946  \n",
              "2         34.71    -120.45        1.576  \n",
              "3         32.66    -117.09        1.336  \n",
              "4         37.80    -122.41        4.500  \n",
              "...         ...        ...          ...  \n",
              "37132     34.19    -118.36        1.856  \n",
              "37133     37.32    -121.86        1.588  \n",
              "37134     37.75    -122.44        3.387  \n",
              "37135     38.40    -120.98        1.592  \n",
              "37136     36.34    -119.64        0.652  \n",
              "\n",
              "[37137 rows x 10 columns]"
            ],
            "text/html": [
              "\n",
              "  <div id=\"df-535ea3f0-f8be-44ea-89aa-ce5e041702f4\">\n",
              "    <div class=\"colab-df-container\">\n",
              "      <div>\n",
              "<style scoped>\n",
              "    .dataframe tbody tr th:only-of-type {\n",
              "        vertical-align: middle;\n",
              "    }\n",
              "\n",
              "    .dataframe tbody tr th {\n",
              "        vertical-align: top;\n",
              "    }\n",
              "\n",
              "    .dataframe thead th {\n",
              "        text-align: right;\n",
              "    }\n",
              "</style>\n",
              "<table border=\"1\" class=\"dataframe\">\n",
              "  <thead>\n",
              "    <tr style=\"text-align: right;\">\n",
              "      <th></th>\n",
              "      <th>id</th>\n",
              "      <th>MedInc</th>\n",
              "      <th>HouseAge</th>\n",
              "      <th>AveRooms</th>\n",
              "      <th>AveBedrms</th>\n",
              "      <th>Population</th>\n",
              "      <th>AveOccup</th>\n",
              "      <th>Latitude</th>\n",
              "      <th>Longitude</th>\n",
              "      <th>MedHouseVal</th>\n",
              "    </tr>\n",
              "  </thead>\n",
              "  <tbody>\n",
              "    <tr>\n",
              "      <th>0</th>\n",
              "      <td>0</td>\n",
              "      <td>2.3859</td>\n",
              "      <td>15.0</td>\n",
              "      <td>3.827160</td>\n",
              "      <td>1.112100</td>\n",
              "      <td>1280.0</td>\n",
              "      <td>2.486989</td>\n",
              "      <td>34.60</td>\n",
              "      <td>-120.12</td>\n",
              "      <td>0.980</td>\n",
              "    </tr>\n",
              "    <tr>\n",
              "      <th>1</th>\n",
              "      <td>1</td>\n",
              "      <td>3.7188</td>\n",
              "      <td>17.0</td>\n",
              "      <td>6.013373</td>\n",
              "      <td>1.054217</td>\n",
              "      <td>1504.0</td>\n",
              "      <td>3.813084</td>\n",
              "      <td>38.69</td>\n",
              "      <td>-121.22</td>\n",
              "      <td>0.946</td>\n",
              "    </tr>\n",
              "    <tr>\n",
              "      <th>2</th>\n",
              "      <td>2</td>\n",
              "      <td>4.7750</td>\n",
              "      <td>27.0</td>\n",
              "      <td>6.535604</td>\n",
              "      <td>1.103175</td>\n",
              "      <td>1061.0</td>\n",
              "      <td>2.464602</td>\n",
              "      <td>34.71</td>\n",
              "      <td>-120.45</td>\n",
              "      <td>1.576</td>\n",
              "    </tr>\n",
              "    <tr>\n",
              "      <th>3</th>\n",
              "      <td>3</td>\n",
              "      <td>2.4138</td>\n",
              "      <td>16.0</td>\n",
              "      <td>3.350203</td>\n",
              "      <td>0.965432</td>\n",
              "      <td>1255.0</td>\n",
              "      <td>2.089286</td>\n",
              "      <td>32.66</td>\n",
              "      <td>-117.09</td>\n",
              "      <td>1.336</td>\n",
              "    </tr>\n",
              "    <tr>\n",
              "      <th>4</th>\n",
              "      <td>4</td>\n",
              "      <td>3.7500</td>\n",
              "      <td>52.0</td>\n",
              "      <td>4.284404</td>\n",
              "      <td>1.069246</td>\n",
              "      <td>1793.0</td>\n",
              "      <td>1.604790</td>\n",
              "      <td>37.80</td>\n",
              "      <td>-122.41</td>\n",
              "      <td>4.500</td>\n",
              "    </tr>\n",
              "    <tr>\n",
              "      <th>...</th>\n",
              "      <td>...</td>\n",
              "      <td>...</td>\n",
              "      <td>...</td>\n",
              "      <td>...</td>\n",
              "      <td>...</td>\n",
              "      <td>...</td>\n",
              "      <td>...</td>\n",
              "      <td>...</td>\n",
              "      <td>...</td>\n",
              "      <td>...</td>\n",
              "    </tr>\n",
              "    <tr>\n",
              "      <th>37132</th>\n",
              "      <td>37132</td>\n",
              "      <td>3.3438</td>\n",
              "      <td>50.0</td>\n",
              "      <td>4.936508</td>\n",
              "      <td>1.079365</td>\n",
              "      <td>1775.0</td>\n",
              "      <td>3.022222</td>\n",
              "      <td>34.19</td>\n",
              "      <td>-118.36</td>\n",
              "      <td>1.856</td>\n",
              "    </tr>\n",
              "    <tr>\n",
              "      <th>37133</th>\n",
              "      <td>37133</td>\n",
              "      <td>3.7308</td>\n",
              "      <td>26.0</td>\n",
              "      <td>5.087533</td>\n",
              "      <td>0.966019</td>\n",
              "      <td>1006.0</td>\n",
              "      <td>4.316901</td>\n",
              "      <td>37.32</td>\n",
              "      <td>-121.86</td>\n",
              "      <td>1.588</td>\n",
              "    </tr>\n",
              "    <tr>\n",
              "      <th>37134</th>\n",
              "      <td>37134</td>\n",
              "      <td>4.1716</td>\n",
              "      <td>52.0</td>\n",
              "      <td>4.678862</td>\n",
              "      <td>1.101485</td>\n",
              "      <td>1156.0</td>\n",
              "      <td>1.431734</td>\n",
              "      <td>37.75</td>\n",
              "      <td>-122.44</td>\n",
              "      <td>3.387</td>\n",
              "    </tr>\n",
              "    <tr>\n",
              "      <th>37135</th>\n",
              "      <td>37135</td>\n",
              "      <td>2.7143</td>\n",
              "      <td>16.0</td>\n",
              "      <td>5.710074</td>\n",
              "      <td>1.068376</td>\n",
              "      <td>584.0</td>\n",
              "      <td>2.803659</td>\n",
              "      <td>38.40</td>\n",
              "      <td>-120.98</td>\n",
              "      <td>1.592</td>\n",
              "    </tr>\n",
              "    <tr>\n",
              "      <th>37136</th>\n",
              "      <td>37136</td>\n",
              "      <td>2.2419</td>\n",
              "      <td>34.0</td>\n",
              "      <td>5.424419</td>\n",
              "      <td>1.058685</td>\n",
              "      <td>1340.0</td>\n",
              "      <td>3.799065</td>\n",
              "      <td>36.34</td>\n",
              "      <td>-119.64</td>\n",
              "      <td>0.652</td>\n",
              "    </tr>\n",
              "  </tbody>\n",
              "</table>\n",
              "<p>37137 rows × 10 columns</p>\n",
              "</div>\n",
              "      <button class=\"colab-df-convert\" onclick=\"convertToInteractive('df-535ea3f0-f8be-44ea-89aa-ce5e041702f4')\"\n",
              "              title=\"Convert this dataframe to an interactive table.\"\n",
              "              style=\"display:none;\">\n",
              "        \n",
              "  <svg xmlns=\"http://www.w3.org/2000/svg\" height=\"24px\"viewBox=\"0 0 24 24\"\n",
              "       width=\"24px\">\n",
              "    <path d=\"M0 0h24v24H0V0z\" fill=\"none\"/>\n",
              "    <path d=\"M18.56 5.44l.94 2.06.94-2.06 2.06-.94-2.06-.94-.94-2.06-.94 2.06-2.06.94zm-11 1L8.5 8.5l.94-2.06 2.06-.94-2.06-.94L8.5 2.5l-.94 2.06-2.06.94zm10 10l.94 2.06.94-2.06 2.06-.94-2.06-.94-.94-2.06-.94 2.06-2.06.94z\"/><path d=\"M17.41 7.96l-1.37-1.37c-.4-.4-.92-.59-1.43-.59-.52 0-1.04.2-1.43.59L10.3 9.45l-7.72 7.72c-.78.78-.78 2.05 0 2.83L4 21.41c.39.39.9.59 1.41.59.51 0 1.02-.2 1.41-.59l7.78-7.78 2.81-2.81c.8-.78.8-2.07 0-2.86zM5.41 20L4 18.59l7.72-7.72 1.47 1.35L5.41 20z\"/>\n",
              "  </svg>\n",
              "      </button>\n",
              "      \n",
              "  <style>\n",
              "    .colab-df-container {\n",
              "      display:flex;\n",
              "      flex-wrap:wrap;\n",
              "      gap: 12px;\n",
              "    }\n",
              "\n",
              "    .colab-df-convert {\n",
              "      background-color: #E8F0FE;\n",
              "      border: none;\n",
              "      border-radius: 50%;\n",
              "      cursor: pointer;\n",
              "      display: none;\n",
              "      fill: #1967D2;\n",
              "      height: 32px;\n",
              "      padding: 0 0 0 0;\n",
              "      width: 32px;\n",
              "    }\n",
              "\n",
              "    .colab-df-convert:hover {\n",
              "      background-color: #E2EBFA;\n",
              "      box-shadow: 0px 1px 2px rgba(60, 64, 67, 0.3), 0px 1px 3px 1px rgba(60, 64, 67, 0.15);\n",
              "      fill: #174EA6;\n",
              "    }\n",
              "\n",
              "    [theme=dark] .colab-df-convert {\n",
              "      background-color: #3B4455;\n",
              "      fill: #D2E3FC;\n",
              "    }\n",
              "\n",
              "    [theme=dark] .colab-df-convert:hover {\n",
              "      background-color: #434B5C;\n",
              "      box-shadow: 0px 1px 3px 1px rgba(0, 0, 0, 0.15);\n",
              "      filter: drop-shadow(0px 1px 2px rgba(0, 0, 0, 0.3));\n",
              "      fill: #FFFFFF;\n",
              "    }\n",
              "  </style>\n",
              "\n",
              "      <script>\n",
              "        const buttonEl =\n",
              "          document.querySelector('#df-535ea3f0-f8be-44ea-89aa-ce5e041702f4 button.colab-df-convert');\n",
              "        buttonEl.style.display =\n",
              "          google.colab.kernel.accessAllowed ? 'block' : 'none';\n",
              "\n",
              "        async function convertToInteractive(key) {\n",
              "          const element = document.querySelector('#df-535ea3f0-f8be-44ea-89aa-ce5e041702f4');\n",
              "          const dataTable =\n",
              "            await google.colab.kernel.invokeFunction('convertToInteractive',\n",
              "                                                     [key], {});\n",
              "          if (!dataTable) return;\n",
              "\n",
              "          const docLinkHtml = 'Like what you see? Visit the ' +\n",
              "            '<a target=\"_blank\" href=https://colab.research.google.com/notebooks/data_table.ipynb>data table notebook</a>'\n",
              "            + ' to learn more about interactive tables.';\n",
              "          element.innerHTML = '';\n",
              "          dataTable['output_type'] = 'display_data';\n",
              "          await google.colab.output.renderOutput(dataTable, element);\n",
              "          const docLink = document.createElement('div');\n",
              "          docLink.innerHTML = docLinkHtml;\n",
              "          element.appendChild(docLink);\n",
              "        }\n",
              "      </script>\n",
              "    </div>\n",
              "  </div>\n",
              "  "
            ]
          },
          "metadata": {},
          "execution_count": 10
        }
      ]
    },
    {
      "cell_type": "code",
      "source": [
        "df.info()"
      ],
      "metadata": {
        "colab": {
          "base_uri": "https://localhost:8080/"
        },
        "id": "SigxtYAh4AMP",
        "outputId": "6831c9a4-1bc0-48bf-e18a-f9525ffbd1cf"
      },
      "execution_count": 11,
      "outputs": [
        {
          "output_type": "stream",
          "name": "stdout",
          "text": [
            "<class 'pandas.core.frame.DataFrame'>\n",
            "RangeIndex: 37137 entries, 0 to 37136\n",
            "Data columns (total 10 columns):\n",
            " #   Column       Non-Null Count  Dtype  \n",
            "---  ------       --------------  -----  \n",
            " 0   id           37137 non-null  int64  \n",
            " 1   MedInc       37137 non-null  float64\n",
            " 2   HouseAge     37137 non-null  float64\n",
            " 3   AveRooms     37137 non-null  float64\n",
            " 4   AveBedrms    37137 non-null  float64\n",
            " 5   Population   37137 non-null  float64\n",
            " 6   AveOccup     37137 non-null  float64\n",
            " 7   Latitude     37137 non-null  float64\n",
            " 8   Longitude    37137 non-null  float64\n",
            " 9   MedHouseVal  37137 non-null  float64\n",
            "dtypes: float64(9), int64(1)\n",
            "memory usage: 2.8 MB\n"
          ]
        }
      ]
    },
    {
      "cell_type": "markdown",
      "source": [
        "#2) Создать тренировочную и тестовую подвыборки"
      ],
      "metadata": {
        "id": "uMho2C2V4K_4"
      }
    },
    {
      "cell_type": "code",
      "source": [
        "X = df.drop(columns=['MedHouseVal'])\n",
        "y = df['MedHouseVal']\n",
        "\n",
        "X_train, X_test, y_train, y_test = train_test_split(X, y, test_size=0.2, random_state=42)\n",
        "X_train"
      ],
      "metadata": {
        "colab": {
          "base_uri": "https://localhost:8080/",
          "height": 424
        },
        "id": "VawXUcxp4Khi",
        "outputId": "6312b3e5-551e-4926-b337-3160cc0317b9"
      },
      "execution_count": 16,
      "outputs": [
        {
          "output_type": "execute_result",
          "data": {
            "text/plain": [
              "          id  MedInc  HouseAge  AveRooms  AveBedrms  Population  AveOccup  \\\n",
              "7714    7714  3.5000      37.0  4.460000   1.068000       570.0  2.600000   \n",
              "32447  32447  1.9489      23.0  4.604613   1.080780      1122.0  2.737057   \n",
              "32451  32451  2.7841      26.0  5.652299   1.207547      1644.0  4.192529   \n",
              "23542  23542  2.1771      20.0  4.681388   1.111437      1315.0  3.226586   \n",
              "9728    9728  4.0000      32.0  5.808271   1.084568       909.0  2.653646   \n",
              "...      ...     ...       ...       ...        ...         ...       ...   \n",
              "16850  16850  2.7797      35.0  4.539378   1.035316      1583.0  3.128959   \n",
              "6265    6265  3.0481      39.0  5.930000   1.171875       779.0  2.738750   \n",
              "11284  11284  3.6346      33.0  5.010462   1.021423      2099.0  2.263598   \n",
              "860      860  2.1979      21.0  4.722298   1.039690      1614.0  2.432316   \n",
              "15795  15795  2.1449      21.0  5.017953   1.026930      1413.0  2.072797   \n",
              "\n",
              "       Latitude  Longitude  \n",
              "7714      37.35    -121.90  \n",
              "32447     32.79    -115.55  \n",
              "32451     33.79    -117.11  \n",
              "23542     32.97    -117.10  \n",
              "9728      33.92    -118.15  \n",
              "...         ...        ...  \n",
              "16850     37.35    -121.86  \n",
              "6265      35.34    -119.01  \n",
              "11284     37.65    -122.43  \n",
              "860       34.58    -117.41  \n",
              "15795     38.49    -121.50  \n",
              "\n",
              "[29709 rows x 9 columns]"
            ],
            "text/html": [
              "\n",
              "  <div id=\"df-3bd35310-b64a-46dc-a134-84abc969527e\">\n",
              "    <div class=\"colab-df-container\">\n",
              "      <div>\n",
              "<style scoped>\n",
              "    .dataframe tbody tr th:only-of-type {\n",
              "        vertical-align: middle;\n",
              "    }\n",
              "\n",
              "    .dataframe tbody tr th {\n",
              "        vertical-align: top;\n",
              "    }\n",
              "\n",
              "    .dataframe thead th {\n",
              "        text-align: right;\n",
              "    }\n",
              "</style>\n",
              "<table border=\"1\" class=\"dataframe\">\n",
              "  <thead>\n",
              "    <tr style=\"text-align: right;\">\n",
              "      <th></th>\n",
              "      <th>id</th>\n",
              "      <th>MedInc</th>\n",
              "      <th>HouseAge</th>\n",
              "      <th>AveRooms</th>\n",
              "      <th>AveBedrms</th>\n",
              "      <th>Population</th>\n",
              "      <th>AveOccup</th>\n",
              "      <th>Latitude</th>\n",
              "      <th>Longitude</th>\n",
              "    </tr>\n",
              "  </thead>\n",
              "  <tbody>\n",
              "    <tr>\n",
              "      <th>7714</th>\n",
              "      <td>7714</td>\n",
              "      <td>3.5000</td>\n",
              "      <td>37.0</td>\n",
              "      <td>4.460000</td>\n",
              "      <td>1.068000</td>\n",
              "      <td>570.0</td>\n",
              "      <td>2.600000</td>\n",
              "      <td>37.35</td>\n",
              "      <td>-121.90</td>\n",
              "    </tr>\n",
              "    <tr>\n",
              "      <th>32447</th>\n",
              "      <td>32447</td>\n",
              "      <td>1.9489</td>\n",
              "      <td>23.0</td>\n",
              "      <td>4.604613</td>\n",
              "      <td>1.080780</td>\n",
              "      <td>1122.0</td>\n",
              "      <td>2.737057</td>\n",
              "      <td>32.79</td>\n",
              "      <td>-115.55</td>\n",
              "    </tr>\n",
              "    <tr>\n",
              "      <th>32451</th>\n",
              "      <td>32451</td>\n",
              "      <td>2.7841</td>\n",
              "      <td>26.0</td>\n",
              "      <td>5.652299</td>\n",
              "      <td>1.207547</td>\n",
              "      <td>1644.0</td>\n",
              "      <td>4.192529</td>\n",
              "      <td>33.79</td>\n",
              "      <td>-117.11</td>\n",
              "    </tr>\n",
              "    <tr>\n",
              "      <th>23542</th>\n",
              "      <td>23542</td>\n",
              "      <td>2.1771</td>\n",
              "      <td>20.0</td>\n",
              "      <td>4.681388</td>\n",
              "      <td>1.111437</td>\n",
              "      <td>1315.0</td>\n",
              "      <td>3.226586</td>\n",
              "      <td>32.97</td>\n",
              "      <td>-117.10</td>\n",
              "    </tr>\n",
              "    <tr>\n",
              "      <th>9728</th>\n",
              "      <td>9728</td>\n",
              "      <td>4.0000</td>\n",
              "      <td>32.0</td>\n",
              "      <td>5.808271</td>\n",
              "      <td>1.084568</td>\n",
              "      <td>909.0</td>\n",
              "      <td>2.653646</td>\n",
              "      <td>33.92</td>\n",
              "      <td>-118.15</td>\n",
              "    </tr>\n",
              "    <tr>\n",
              "      <th>...</th>\n",
              "      <td>...</td>\n",
              "      <td>...</td>\n",
              "      <td>...</td>\n",
              "      <td>...</td>\n",
              "      <td>...</td>\n",
              "      <td>...</td>\n",
              "      <td>...</td>\n",
              "      <td>...</td>\n",
              "      <td>...</td>\n",
              "    </tr>\n",
              "    <tr>\n",
              "      <th>16850</th>\n",
              "      <td>16850</td>\n",
              "      <td>2.7797</td>\n",
              "      <td>35.0</td>\n",
              "      <td>4.539378</td>\n",
              "      <td>1.035316</td>\n",
              "      <td>1583.0</td>\n",
              "      <td>3.128959</td>\n",
              "      <td>37.35</td>\n",
              "      <td>-121.86</td>\n",
              "    </tr>\n",
              "    <tr>\n",
              "      <th>6265</th>\n",
              "      <td>6265</td>\n",
              "      <td>3.0481</td>\n",
              "      <td>39.0</td>\n",
              "      <td>5.930000</td>\n",
              "      <td>1.171875</td>\n",
              "      <td>779.0</td>\n",
              "      <td>2.738750</td>\n",
              "      <td>35.34</td>\n",
              "      <td>-119.01</td>\n",
              "    </tr>\n",
              "    <tr>\n",
              "      <th>11284</th>\n",
              "      <td>11284</td>\n",
              "      <td>3.6346</td>\n",
              "      <td>33.0</td>\n",
              "      <td>5.010462</td>\n",
              "      <td>1.021423</td>\n",
              "      <td>2099.0</td>\n",
              "      <td>2.263598</td>\n",
              "      <td>37.65</td>\n",
              "      <td>-122.43</td>\n",
              "    </tr>\n",
              "    <tr>\n",
              "      <th>860</th>\n",
              "      <td>860</td>\n",
              "      <td>2.1979</td>\n",
              "      <td>21.0</td>\n",
              "      <td>4.722298</td>\n",
              "      <td>1.039690</td>\n",
              "      <td>1614.0</td>\n",
              "      <td>2.432316</td>\n",
              "      <td>34.58</td>\n",
              "      <td>-117.41</td>\n",
              "    </tr>\n",
              "    <tr>\n",
              "      <th>15795</th>\n",
              "      <td>15795</td>\n",
              "      <td>2.1449</td>\n",
              "      <td>21.0</td>\n",
              "      <td>5.017953</td>\n",
              "      <td>1.026930</td>\n",
              "      <td>1413.0</td>\n",
              "      <td>2.072797</td>\n",
              "      <td>38.49</td>\n",
              "      <td>-121.50</td>\n",
              "    </tr>\n",
              "  </tbody>\n",
              "</table>\n",
              "<p>29709 rows × 9 columns</p>\n",
              "</div>\n",
              "      <button class=\"colab-df-convert\" onclick=\"convertToInteractive('df-3bd35310-b64a-46dc-a134-84abc969527e')\"\n",
              "              title=\"Convert this dataframe to an interactive table.\"\n",
              "              style=\"display:none;\">\n",
              "        \n",
              "  <svg xmlns=\"http://www.w3.org/2000/svg\" height=\"24px\"viewBox=\"0 0 24 24\"\n",
              "       width=\"24px\">\n",
              "    <path d=\"M0 0h24v24H0V0z\" fill=\"none\"/>\n",
              "    <path d=\"M18.56 5.44l.94 2.06.94-2.06 2.06-.94-2.06-.94-.94-2.06-.94 2.06-2.06.94zm-11 1L8.5 8.5l.94-2.06 2.06-.94-2.06-.94L8.5 2.5l-.94 2.06-2.06.94zm10 10l.94 2.06.94-2.06 2.06-.94-2.06-.94-.94-2.06-.94 2.06-2.06.94z\"/><path d=\"M17.41 7.96l-1.37-1.37c-.4-.4-.92-.59-1.43-.59-.52 0-1.04.2-1.43.59L10.3 9.45l-7.72 7.72c-.78.78-.78 2.05 0 2.83L4 21.41c.39.39.9.59 1.41.59.51 0 1.02-.2 1.41-.59l7.78-7.78 2.81-2.81c.8-.78.8-2.07 0-2.86zM5.41 20L4 18.59l7.72-7.72 1.47 1.35L5.41 20z\"/>\n",
              "  </svg>\n",
              "      </button>\n",
              "      \n",
              "  <style>\n",
              "    .colab-df-container {\n",
              "      display:flex;\n",
              "      flex-wrap:wrap;\n",
              "      gap: 12px;\n",
              "    }\n",
              "\n",
              "    .colab-df-convert {\n",
              "      background-color: #E8F0FE;\n",
              "      border: none;\n",
              "      border-radius: 50%;\n",
              "      cursor: pointer;\n",
              "      display: none;\n",
              "      fill: #1967D2;\n",
              "      height: 32px;\n",
              "      padding: 0 0 0 0;\n",
              "      width: 32px;\n",
              "    }\n",
              "\n",
              "    .colab-df-convert:hover {\n",
              "      background-color: #E2EBFA;\n",
              "      box-shadow: 0px 1px 2px rgba(60, 64, 67, 0.3), 0px 1px 3px 1px rgba(60, 64, 67, 0.15);\n",
              "      fill: #174EA6;\n",
              "    }\n",
              "\n",
              "    [theme=dark] .colab-df-convert {\n",
              "      background-color: #3B4455;\n",
              "      fill: #D2E3FC;\n",
              "    }\n",
              "\n",
              "    [theme=dark] .colab-df-convert:hover {\n",
              "      background-color: #434B5C;\n",
              "      box-shadow: 0px 1px 3px 1px rgba(0, 0, 0, 0.15);\n",
              "      filter: drop-shadow(0px 1px 2px rgba(0, 0, 0, 0.3));\n",
              "      fill: #FFFFFF;\n",
              "    }\n",
              "  </style>\n",
              "\n",
              "      <script>\n",
              "        const buttonEl =\n",
              "          document.querySelector('#df-3bd35310-b64a-46dc-a134-84abc969527e button.colab-df-convert');\n",
              "        buttonEl.style.display =\n",
              "          google.colab.kernel.accessAllowed ? 'block' : 'none';\n",
              "\n",
              "        async function convertToInteractive(key) {\n",
              "          const element = document.querySelector('#df-3bd35310-b64a-46dc-a134-84abc969527e');\n",
              "          const dataTable =\n",
              "            await google.colab.kernel.invokeFunction('convertToInteractive',\n",
              "                                                     [key], {});\n",
              "          if (!dataTable) return;\n",
              "\n",
              "          const docLinkHtml = 'Like what you see? Visit the ' +\n",
              "            '<a target=\"_blank\" href=https://colab.research.google.com/notebooks/data_table.ipynb>data table notebook</a>'\n",
              "            + ' to learn more about interactive tables.';\n",
              "          element.innerHTML = '';\n",
              "          dataTable['output_type'] = 'display_data';\n",
              "          await google.colab.output.renderOutput(dataTable, element);\n",
              "          const docLink = document.createElement('div');\n",
              "          docLink.innerHTML = docLinkHtml;\n",
              "          element.appendChild(docLink);\n",
              "        }\n",
              "      </script>\n",
              "    </div>\n",
              "  </div>\n",
              "  "
            ]
          },
          "metadata": {},
          "execution_count": 16
        }
      ]
    },
    {
      "cell_type": "markdown",
      "source": [
        "#3) Построить модель линейной регрессии по своему набору данных (т.е. создать модель и обучить ее на тренировочной выборке)"
      ],
      "metadata": {
        "id": "3SWERZpT5Aqm"
      }
    },
    {
      "cell_type": "code",
      "source": [
        "lr = LinearRegression()\n",
        "lr.fit(X_train, y_train)"
      ],
      "metadata": {
        "colab": {
          "base_uri": "https://localhost:8080/"
        },
        "id": "symsodiH48gv",
        "outputId": "afb6cb46-e8be-473c-fbcb-5468ab7de36f"
      },
      "execution_count": 17,
      "outputs": [
        {
          "output_type": "execute_result",
          "data": {
            "text/plain": [
              "LinearRegression()"
            ]
          },
          "metadata": {},
          "execution_count": 17
        }
      ]
    },
    {
      "cell_type": "markdown",
      "source": [
        "#4) Получить коэффиценты уравнения линейной регрессии"
      ],
      "metadata": {
        "id": "ifW7H2Dd5blr"
      }
    },
    {
      "cell_type": "code",
      "source": [
        "lr.coef_"
      ],
      "metadata": {
        "colab": {
          "base_uri": "https://localhost:8080/"
        },
        "id": "EiVYTmSb5gbT",
        "outputId": "354e76e0-d7db-4d13-9c3f-32c23b0bc314"
      },
      "execution_count": 18,
      "outputs": [
        {
          "output_type": "execute_result",
          "data": {
            "text/plain": [
              "array([-3.05713658e-08,  4.87294869e-01,  8.64139642e-03, -1.54883250e-01,\n",
              "        1.05494514e+00, -1.48568181e-05, -1.35944743e-02, -4.06503047e-01,\n",
              "       -4.20089409e-01])"
            ]
          },
          "metadata": {},
          "execution_count": 18
        }
      ]
    },
    {
      "cell_type": "markdown",
      "source": [
        "#5) Написать уравнение линейной регрессии"
      ],
      "metadata": {
        "id": "cOTAryyK5jj-"
      }
    },
    {
      "cell_type": "code",
      "source": [
        "print('y =', round(lr.intercept_, 2), end = ' ')\n",
        "for i in range(len(lr.coef_)):\n",
        "  print('+', round(lr.coef_[i], 2), f'* {X_train.columns.values[i]}',  end = ' ')"
      ],
      "metadata": {
        "colab": {
          "base_uri": "https://localhost:8080/"
        },
        "id": "EIlloBiX5ndR",
        "outputId": "241257fb-fdc5-44e5-e533-1a8b01c7b645"
      },
      "execution_count": 21,
      "outputs": [
        {
          "output_type": "stream",
          "name": "stdout",
          "text": [
            "y = -36.05 + -0.0 * id + 0.49 * MedInc + 0.01 * HouseAge + -0.15 * AveRooms + 1.05 * AveBedrms + -0.0 * Population + -0.01 * AveOccup + -0.41 * Latitude + -0.42 * Longitude "
          ]
        }
      ]
    },
    {
      "cell_type": "code",
      "source": [
        "array = [(df.columns[i], lr.coef_[i]) for i in range(len(lr.coef_))]\n",
        "\n",
        "array.sort(key=lambda x:abs(x[1]), reverse=True)\n",
        "array"
      ],
      "metadata": {
        "colab": {
          "base_uri": "https://localhost:8080/"
        },
        "id": "gaLdvAIS83qb",
        "outputId": "dc7a82bd-6f20-4700-ebdd-29fcdc2b4d04"
      },
      "execution_count": 35,
      "outputs": [
        {
          "output_type": "execute_result",
          "data": {
            "text/plain": [
              "[('AveBedrms', 1.0549451371545573),\n",
              " ('MedInc', 0.48729486882640466),\n",
              " ('Longitude', -0.4200894091803602),\n",
              " ('Latitude', -0.40650304691819245),\n",
              " ('AveRooms', -0.15488325044915535),\n",
              " ('AveOccup', -0.013594474309721497),\n",
              " ('HouseAge', 0.00864139641859294),\n",
              " ('Population', -1.4856818117137127e-05),\n",
              " ('id', -3.057136584067721e-08)]"
            ]
          },
          "metadata": {},
          "execution_count": 35
        }
      ]
    },
    {
      "cell_type": "markdown",
      "source": [
        "#6) Визуализировать данные и полученное уравнение линейной регрессии"
      ],
      "metadata": {
        "id": "ZR8Tq5tb57fE"
      }
    },
    {
      "cell_type": "code",
      "source": [
        "y_pred = lr.predict(X_test)\n",
        "\n",
        "fig, ax = plt.subplots()\n",
        "col = 'Longitude'\n",
        "ax.plot(X_test[col], y_pred, color='red', linewidth=2)\n",
        "ax.scatter(X_test[col], y_test)\n",
        "plt.show()"
      ],
      "metadata": {
        "colab": {
          "base_uri": "https://localhost:8080/",
          "height": 266
        },
        "id": "80kU8LVc6AUR",
        "outputId": "cbfe41b0-2aa9-4b56-8a92-05d1bd2f1bc6"
      },
      "execution_count": 30,
      "outputs": [
        {
          "output_type": "display_data",
          "data": {
            "text/plain": [
              "<Figure size 432x288 with 1 Axes>"
            ],
            "image/png": "[encoded data removed]"
          },
          "metadata": {
            "needs_background": "light"
          }
        }
      ]
    },
    {
      "cell_type": "markdown",
      "source": [
        "#7) Оценивать полученную модель с помощью MSE, MAE, R2."
      ],
      "metadata": {
        "id": "p-pGVDc87LfY"
      }
    },
    {
      "cell_type": "code",
      "source": [
        "print('Mean Absolute Error:', mean_absolute_error(y_test, y_pred))\n",
        "print('Mean Squared Error:', mean_squared_error(y_test, y_pred))\n",
        "print('R2 score:', r2_score(y_test, y_pred))"
      ],
      "metadata": {
        "colab": {
          "base_uri": "https://localhost:8080/"
        },
        "id": "JCw0E1t07PTW",
        "outputId": "07de457e-d441-487a-d63e-ed2d77f798b9"
      },
      "execution_count": 31,
      "outputs": [
        {
          "output_type": "stream",
          "name": "stdout",
          "text": [
            "Mean Absolute Error: 0.5442926093731721\n",
            "Mean Squared Error: 0.5597357262879421\n",
            "R2 score: 0.5882730401141982\n"
          ]
        }
      ]
    },
    {
      "cell_type": "markdown",
      "source": [
        "Модель не очень зорошо предсказывает значения "
      ],
      "metadata": {
        "id": "MW1Z5AUv7scv"
      }
    },
    {
      "cell_type": "markdown",
      "source": [
        "#8) Сделать письменный вывод получившихся результатов (хорошая или плохая получлась оценка MSE и почему), привести восстановленное линейное уравнение регрессии, сделать вывод какие из признаков оказались наиболее значимыми, какие нет и почему."
      ],
      "metadata": {
        "id": "GsuO48Bb7mgG"
      }
    },
    {
      "cell_type": "markdown",
      "source": [
        "Модель не очень хорошо предсказывает значения, судя по метрикам. Это скорее всего связано с тем, что признаки влияют не линейно на ответ\n",
        "==\n",
        "* Количество спальных комнат влияет на площадь квартиры => влияет на его цену\n",
        "\n",
        "* Чем больше зарплата в районе, тем он дороже => влияет на цену квартиры\n",
        "\n",
        "* Номер квартиры почти никак не влияет на саму квартиру => не влияет на его цену"
      ],
      "metadata": {
        "id": "hj4ikkPp8ajO"
      }
    }
  ]
}
