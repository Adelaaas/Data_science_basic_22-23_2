{
  "nbformat": 4,
  "nbformat_minor": 0,
  "metadata": {
    "colab": {
      "provenance": []
    },
    "kernelspec": {
      "name": "python3",
      "display_name": "Python 3"
    }
  },
  "cells": [
    {
      "cell_type": "markdown",
      "source": [
        "# Метод ближайших соседей"
      ],
      "metadata": {
        "id": "0UktjEWj1Upf"
      }
    },
    {
      "cell_type": "markdown",
      "source": [
        "**KNN (k Nearest Neighbor или k Ближайших Соседей) — очень популярный алгоритм машинного обучения с учителем.**"
      ],
      "metadata": {
        "id": "AVxY3pmj1VVy"
      }
    },
    {
      "cell_type": "markdown",
      "source": [
        "Алгоритм достаточно быстрый, но требует большого объема памяти. \n",
        "\n",
        "**KNN может быть применен как для решения задач классификации, так и для решения задачи регрессии.**"
      ],
      "metadata": {
        "id": "32W5zLIu1qPm"
      }
    },
    {
      "cell_type": "markdown",
      "metadata": {
        "id": "Zf2BMIzeTbQ7"
      },
      "source": [
        "**Краткий алгоритм работы KNN:**\n",
        "1. Пусть имеется набор данных, состоящий из $N$ объектов $X_i(i=1,...n)$ для каждого которых задан класс $C_i$.\n",
        "2. Выбираем число $K$ - количество соседей. $K$ - любое целое число.\n",
        "3. Далее вычисляется расстояние от каждого объекта  $X_i$  до каждого из объектов  $X$  обучающей выборки. \n",
        "*Методы расчета расстояния: Евклидово, Манхэттенское или Хэмминговское расстояние.*\n",
        "4. Выбирается  $K$  объектов, расстояние до которых минимально;\n",
        "5. Далее объект относится к классу, к которому относится большинство из выбранных $K$ ближайших соседей:\n",
        "\n",
        "$$a(u) = \\underset{y}{\\text{argmax}}\\sum_{i=1}^{k}[y_{u}^{(i)}=y],$$\n",
        "\n",
        "то есть провести голосование.\n",
        "\n",
        "\n",
        "Под задачу регрессии метод адаптируется довольно легко – на 5 шаге возвращается не метка, а число – среднее (или медианное) значение целевого признака среди соседей."
      ]
    },
    {
      "cell_type": "markdown",
      "source": [
        "**Пример.**\n",
        "\n",
        "Пусть $K = 5$.\n",
        "\n",
        "&X_i& - серая точка.\n",
        "\n",
        "Хотим определить к какому классу она относится."
      ],
      "metadata": {
        "id": "eLqSVJ6J4irC"
      }
    },
    {
      "cell_type": "markdown",
      "source": [
        "\n",
        "![SimpleKnnExample.png](data:image/png;base64,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)"
      ],
      "metadata": {
        "id": "lT651oe71Tws"
      }
    },
    {
      "cell_type": "markdown",
      "source": [
        "## Вычислительная сложность алгоритма"
      ],
      "metadata": {
        "id": "BYIkTk035JWA"
      }
    },
    {
      "cell_type": "markdown",
      "source": [
        "Чтобы вычислить вычислительную сложность KNN, давайте рассмотрим $d$ - мерное пространство, $k$ — количество соседей, а $n$ — общее количество точек обучающих данных."
      ],
      "metadata": {
        "id": "o2AszuC35M7i"
      }
    },
    {
      "cell_type": "markdown",
      "source": [
        "Чтобы понять, как мы можем рассчитать сложность этого алгоритма, взгляните на формальный псевдокод! Каждое вычисление расстояния требует $O(d)$ времени выполнения, поэтому расчет для одной точки до всех других требует $O(nd)$ работы. Для каждой итерации на третьем шаге мы выполняем $O(n)$ работы, перебирая наблюдения обучающего набора, поэтому в целом шаг требует $O(nk)$ работы. Первый шаг требует только $O(n)$ работы, поэтому мы получаем время выполнения $O(nd + kn)$."
      ],
      "metadata": {
        "id": "5ST9OUjh5cf4"
      }
    },
    {
      "cell_type": "markdown",
      "metadata": {
        "id": "uz1vKZvbU-fO"
      },
      "source": [
        "# Практика\n",
        "\n",
        "Датасет: https://www.kaggle.com/uciml/pima-indians-diabetes-database"
      ]
    },
    {
      "cell_type": "code",
      "metadata": {
        "colab": {
          "base_uri": "https://localhost:8080/",
          "height": 38
        },
        "id": "-MDR81jtTKr2",
        "outputId": "bc3126e6-ce70-4e1b-d58d-e62945c81a59"
      },
      "source": [
        "from google.colab import files\n",
        "uploaded = files.upload()"
      ],
      "execution_count": 1,
      "outputs": [
        {
          "output_type": "display_data",
          "data": {
            "text/plain": [
              "<IPython.core.display.HTML object>"
            ],
            "text/html": [
              "\n",
              "     <input type=\"file\" id=\"files-f9bef862-e8e1-4157-ada8-57c0df80c2e9\" name=\"files[]\" multiple disabled\n",
              "        style=\"border:none\" />\n",
              "     <output id=\"result-f9bef862-e8e1-4157-ada8-57c0df80c2e9\">\n",
              "      Upload widget is only available when the cell has been executed in the\n",
              "      current browser session. Please rerun this cell to enable.\n",
              "      </output>\n",
              "      <script>// Copyright 2017 Google LLC\n",
              "//\n",
              "// Licensed under the Apache License, Version 2.0 (the \"License\");\n",
              "// you may not use this file except in compliance with the License.\n",
              "// You may obtain a copy of the License at\n",
              "//\n",
              "//      http://www.apache.org/licenses/LICENSE-2.0\n",
              "//\n",
              "// Unless required by applicable law or agreed to in writing, software\n",
              "// distributed under the License is distributed on an \"AS IS\" BASIS,\n",
              "// WITHOUT WARRANTIES OR CONDITIONS OF ANY KIND, either express or implied.\n",
              "// See the License for the specific language governing permissions and\n",
              "// limitations under the License.\n",
              "\n",
              "/**\n",
              " * @fileoverview Helpers for google.colab Python module.\n",
              " */\n",
              "(function(scope) {\n",
              "function span(text, styleAttributes = {}) {\n",
              "  const element = document.createElement('span');\n",
              "  element.textContent = text;\n",
              "  for (const key of Object.keys(styleAttributes)) {\n",
              "    element.style[key] = styleAttributes[key];\n",
              "  }\n",
              "  return element;\n",
              "}\n",
              "\n",
              "// Max number of bytes which will be uploaded at a time.\n",
              "const MAX_PAYLOAD_SIZE = 100 * 1024;\n",
              "\n",
              "function _uploadFiles(inputId, outputId) {\n",
              "  const steps = uploadFilesStep(inputId, outputId);\n",
              "  const outputElement = document.getElementById(outputId);\n",
              "  // Cache steps on the outputElement to make it available for the next call\n",
              "  // to uploadFilesContinue from Python.\n",
              "  outputElement.steps = steps;\n",
              "\n",
              "  return _uploadFilesContinue(outputId);\n",
              "}\n",
              "\n",
              "// This is roughly an async generator (not supported in the browser yet),\n",
              "// where there are multiple asynchronous steps and the Python side is going\n",
              "// to poll for completion of each step.\n",
              "// This uses a Promise to block the python side on completion of each step,\n",
              "// then passes the result of the previous step as the input to the next step.\n",
              "function _uploadFilesContinue(outputId) {\n",
              "  const outputElement = document.getElementById(outputId);\n",
              "  const steps = outputElement.steps;\n",
              "\n",
              "  const next = steps.next(outputElement.lastPromiseValue);\n",
              "  return Promise.resolve(next.value.promise).then((value) => {\n",
              "    // Cache the last promise value to make it available to the next\n",
              "    // step of the generator.\n",
              "    outputElement.lastPromiseValue = value;\n",
              "    return next.value.response;\n",
              "  });\n",
              "}\n",
              "\n",
              "/**\n",
              " * Generator function which is called between each async step of the upload\n",
              " * process.\n",
              " * @param {string} inputId Element ID of the input file picker element.\n",
              " * @param {string} outputId Element ID of the output display.\n",
              " * @return {!Iterable<!Object>} Iterable of next steps.\n",
              " */\n",
              "function* uploadFilesStep(inputId, outputId) {\n",
              "  const inputElement = document.getElementById(inputId);\n",
              "  inputElement.disabled = false;\n",
              "\n",
              "  const outputElement = document.getElementById(outputId);\n",
              "  outputElement.innerHTML = '';\n",
              "\n",
              "  const pickedPromise = new Promise((resolve) => {\n",
              "    inputElement.addEventListener('change', (e) => {\n",
              "      resolve(e.target.files);\n",
              "    });\n",
              "  });\n",
              "\n",
              "  const cancel = document.createElement('button');\n",
              "  inputElement.parentElement.appendChild(cancel);\n",
              "  cancel.textContent = 'Cancel upload';\n",
              "  const cancelPromise = new Promise((resolve) => {\n",
              "    cancel.onclick = () => {\n",
              "      resolve(null);\n",
              "    };\n",
              "  });\n",
              "\n",
              "  // Wait for the user to pick the files.\n",
              "  const files = yield {\n",
              "    promise: Promise.race([pickedPromise, cancelPromise]),\n",
              "    response: {\n",
              "      action: 'starting',\n",
              "    }\n",
              "  };\n",
              "\n",
              "  cancel.remove();\n",
              "\n",
              "  // Disable the input element since further picks are not allowed.\n",
              "  inputElement.disabled = true;\n",
              "\n",
              "  if (!files) {\n",
              "    return {\n",
              "      response: {\n",
              "        action: 'complete',\n",
              "      }\n",
              "    };\n",
              "  }\n",
              "\n",
              "  for (const file of files) {\n",
              "    const li = document.createElement('li');\n",
              "    li.append(span(file.name, {fontWeight: 'bold'}));\n",
              "    li.append(span(\n",
              "        `(${file.type || 'n/a'}) - ${file.size} bytes, ` +\n",
              "        `last modified: ${\n",
              "            file.lastModifiedDate ? file.lastModifiedDate.toLocaleDateString() :\n",
              "                                    'n/a'} - `));\n",
              "    const percent = span('0% done');\n",
              "    li.appendChild(percent);\n",
              "\n",
              "    outputElement.appendChild(li);\n",
              "\n",
              "    const fileDataPromise = new Promise((resolve) => {\n",
              "      const reader = new FileReader();\n",
              "      reader.onload = (e) => {\n",
              "        resolve(e.target.result);\n",
              "      };\n",
              "      reader.readAsArrayBuffer(file);\n",
              "    });\n",
              "    // Wait for the data to be ready.\n",
              "    let fileData = yield {\n",
              "      promise: fileDataPromise,\n",
              "      response: {\n",
              "        action: 'continue',\n",
              "      }\n",
              "    };\n",
              "\n",
              "    // Use a chunked sending to avoid message size limits. See b/62115660.\n",
              "    let position = 0;\n",
              "    do {\n",
              "      const length = Math.min(fileData.byteLength - position, MAX_PAYLOAD_SIZE);\n",
              "      const chunk = new Uint8Array(fileData, position, length);\n",
              "      position += length;\n",
              "\n",
              "      const base64 = btoa(String.fromCharCode.apply(null, chunk));\n",
              "      yield {\n",
              "        response: {\n",
              "          action: 'append',\n",
              "          file: file.name,\n",
              "          data: base64,\n",
              "        },\n",
              "      };\n",
              "\n",
              "      let percentDone = fileData.byteLength === 0 ?\n",
              "          100 :\n",
              "          Math.round((position / fileData.byteLength) * 100);\n",
              "      percent.textContent = `${percentDone}% done`;\n",
              "\n",
              "    } while (position < fileData.byteLength);\n",
              "  }\n",
              "\n",
              "  // All done.\n",
              "  yield {\n",
              "    response: {\n",
              "      action: 'complete',\n",
              "    }\n",
              "  };\n",
              "}\n",
              "\n",
              "scope.google = scope.google || {};\n",
              "scope.google.colab = scope.google.colab || {};\n",
              "scope.google.colab._files = {\n",
              "  _uploadFiles,\n",
              "  _uploadFilesContinue,\n",
              "};\n",
              "})(self);\n",
              "</script> "
            ]
          },
          "metadata": {}
        }
      ]
    },
    {
      "cell_type": "code",
      "metadata": {
        "colab": {
          "base_uri": "https://localhost:8080/",
          "height": 363
        },
        "id": "lYT18MQ9VaFd",
        "outputId": "7c744ed6-d7d3-4957-d324-93046c2f954c"
      },
      "source": [
        "import pandas as pd\n",
        "\n",
        "df = pd.read_csv(\"diabetes.csv\")\n",
        "df"
      ],
      "execution_count": 2,
      "outputs": [
        {
          "output_type": "error",
          "ename": "FileNotFoundError",
          "evalue": "ignored",
          "traceback": [
            "\u001b[0;31m---------------------------------------------------------------------------\u001b[0m",
            "\u001b[0;31mFileNotFoundError\u001b[0m                         Traceback (most recent call last)",
            "\u001b[0;32m<ipython-input-2-3e72db049acf>\u001b[0m in \u001b[0;36m<module>\u001b[0;34m\u001b[0m\n\u001b[1;32m      1\u001b[0m \u001b[0;32mimport\u001b[0m \u001b[0mpandas\u001b[0m \u001b[0;32mas\u001b[0m \u001b[0mpd\u001b[0m\u001b[0;34m\u001b[0m\u001b[0;34m\u001b[0m\u001b[0m\n\u001b[1;32m      2\u001b[0m \u001b[0;34m\u001b[0m\u001b[0m\n\u001b[0;32m----> 3\u001b[0;31m \u001b[0mdf\u001b[0m \u001b[0;34m=\u001b[0m \u001b[0mpd\u001b[0m\u001b[0;34m.\u001b[0m\u001b[0mread_csv\u001b[0m\u001b[0;34m(\u001b[0m\u001b[0;34m\"diabetes.csv\"\u001b[0m\u001b[0;34m)\u001b[0m\u001b[0;34m\u001b[0m\u001b[0;34m\u001b[0m\u001b[0m\n\u001b[0m\u001b[1;32m      4\u001b[0m \u001b[0mdf\u001b[0m\u001b[0;34m\u001b[0m\u001b[0;34m\u001b[0m\u001b[0m\n",
            "\u001b[0;32m/usr/local/lib/python3.9/dist-packages/pandas/util/_decorators.py\u001b[0m in \u001b[0;36mwrapper\u001b[0;34m(*args, **kwargs)\u001b[0m\n\u001b[1;32m    309\u001b[0m                     \u001b[0mstacklevel\u001b[0m\u001b[0;34m=\u001b[0m\u001b[0mstacklevel\u001b[0m\u001b[0;34m,\u001b[0m\u001b[0;34m\u001b[0m\u001b[0;34m\u001b[0m\u001b[0m\n\u001b[1;32m    310\u001b[0m                 )\n\u001b[0;32m--> 311\u001b[0;31m             \u001b[0;32mreturn\u001b[0m \u001b[0mfunc\u001b[0m\u001b[0;34m(\u001b[0m\u001b[0;34m*\u001b[0m\u001b[0margs\u001b[0m\u001b[0;34m,\u001b[0m \u001b[0;34m**\u001b[0m\u001b[0mkwargs\u001b[0m\u001b[0;34m)\u001b[0m\u001b[0;34m\u001b[0m\u001b[0;34m\u001b[0m\u001b[0m\n\u001b[0m\u001b[1;32m    312\u001b[0m \u001b[0;34m\u001b[0m\u001b[0m\n\u001b[1;32m    313\u001b[0m         \u001b[0;32mreturn\u001b[0m \u001b[0mwrapper\u001b[0m\u001b[0;34m\u001b[0m\u001b[0;34m\u001b[0m\u001b[0m\n",
            "\u001b[0;32m/usr/local/lib/python3.9/dist-packages/pandas/io/parsers/readers.py\u001b[0m in \u001b[0;36mread_csv\u001b[0;34m(filepath_or_buffer, sep, delimiter, header, names, index_col, usecols, squeeze, prefix, mangle_dupe_cols, dtype, engine, converters, true_values, false_values, skipinitialspace, skiprows, skipfooter, nrows, na_values, keep_default_na, na_filter, verbose, skip_blank_lines, parse_dates, infer_datetime_format, keep_date_col, date_parser, dayfirst, cache_dates, iterator, chunksize, compression, thousands, decimal, lineterminator, quotechar, quoting, doublequote, escapechar, comment, encoding, encoding_errors, dialect, error_bad_lines, warn_bad_lines, on_bad_lines, delim_whitespace, low_memory, memory_map, float_precision, storage_options)\u001b[0m\n\u001b[1;32m    676\u001b[0m     \u001b[0mkwds\u001b[0m\u001b[0;34m.\u001b[0m\u001b[0mupdate\u001b[0m\u001b[0;34m(\u001b[0m\u001b[0mkwds_defaults\u001b[0m\u001b[0;34m)\u001b[0m\u001b[0;34m\u001b[0m\u001b[0;34m\u001b[0m\u001b[0m\n\u001b[1;32m    677\u001b[0m \u001b[0;34m\u001b[0m\u001b[0m\n\u001b[0;32m--> 678\u001b[0;31m     \u001b[0;32mreturn\u001b[0m \u001b[0m_read\u001b[0m\u001b[0;34m(\u001b[0m\u001b[0mfilepath_or_buffer\u001b[0m\u001b[0;34m,\u001b[0m \u001b[0mkwds\u001b[0m\u001b[0;34m)\u001b[0m\u001b[0;34m\u001b[0m\u001b[0;34m\u001b[0m\u001b[0m\n\u001b[0m\u001b[1;32m    679\u001b[0m \u001b[0;34m\u001b[0m\u001b[0m\n\u001b[1;32m    680\u001b[0m \u001b[0;34m\u001b[0m\u001b[0m\n",
            "\u001b[0;32m/usr/local/lib/python3.9/dist-packages/pandas/io/parsers/readers.py\u001b[0m in \u001b[0;36m_read\u001b[0;34m(filepath_or_buffer, kwds)\u001b[0m\n\u001b[1;32m    573\u001b[0m \u001b[0;34m\u001b[0m\u001b[0m\n\u001b[1;32m    574\u001b[0m     \u001b[0;31m# Create the parser.\u001b[0m\u001b[0;34m\u001b[0m\u001b[0;34m\u001b[0m\u001b[0m\n\u001b[0;32m--> 575\u001b[0;31m     \u001b[0mparser\u001b[0m \u001b[0;34m=\u001b[0m \u001b[0mTextFileReader\u001b[0m\u001b[0;34m(\u001b[0m\u001b[0mfilepath_or_buffer\u001b[0m\u001b[0;34m,\u001b[0m \u001b[0;34m**\u001b[0m\u001b[0mkwds\u001b[0m\u001b[0;34m)\u001b[0m\u001b[0;34m\u001b[0m\u001b[0;34m\u001b[0m\u001b[0m\n\u001b[0m\u001b[1;32m    576\u001b[0m \u001b[0;34m\u001b[0m\u001b[0m\n\u001b[1;32m    577\u001b[0m     \u001b[0;32mif\u001b[0m \u001b[0mchunksize\u001b[0m \u001b[0;32mor\u001b[0m \u001b[0miterator\u001b[0m\u001b[0;34m:\u001b[0m\u001b[0;34m\u001b[0m\u001b[0;34m\u001b[0m\u001b[0m\n",
            "\u001b[0;32m/usr/local/lib/python3.9/dist-packages/pandas/io/parsers/readers.py\u001b[0m in \u001b[0;36m__init__\u001b[0;34m(self, f, engine, **kwds)\u001b[0m\n\u001b[1;32m    930\u001b[0m \u001b[0;34m\u001b[0m\u001b[0m\n\u001b[1;32m    931\u001b[0m         \u001b[0mself\u001b[0m\u001b[0;34m.\u001b[0m\u001b[0mhandles\u001b[0m\u001b[0;34m:\u001b[0m \u001b[0mIOHandles\u001b[0m \u001b[0;34m|\u001b[0m \u001b[0;32mNone\u001b[0m \u001b[0;34m=\u001b[0m \u001b[0;32mNone\u001b[0m\u001b[0;34m\u001b[0m\u001b[0;34m\u001b[0m\u001b[0m\n\u001b[0;32m--> 932\u001b[0;31m         \u001b[0mself\u001b[0m\u001b[0;34m.\u001b[0m\u001b[0m_engine\u001b[0m \u001b[0;34m=\u001b[0m \u001b[0mself\u001b[0m\u001b[0;34m.\u001b[0m\u001b[0m_make_engine\u001b[0m\u001b[0;34m(\u001b[0m\u001b[0mf\u001b[0m\u001b[0;34m,\u001b[0m \u001b[0mself\u001b[0m\u001b[0;34m.\u001b[0m\u001b[0mengine\u001b[0m\u001b[0;34m)\u001b[0m\u001b[0;34m\u001b[0m\u001b[0;34m\u001b[0m\u001b[0m\n\u001b[0m\u001b[1;32m    933\u001b[0m \u001b[0;34m\u001b[0m\u001b[0m\n\u001b[1;32m    934\u001b[0m     \u001b[0;32mdef\u001b[0m \u001b[0mclose\u001b[0m\u001b[0;34m(\u001b[0m\u001b[0mself\u001b[0m\u001b[0;34m)\u001b[0m\u001b[0;34m:\u001b[0m\u001b[0;34m\u001b[0m\u001b[0;34m\u001b[0m\u001b[0m\n",
            "\u001b[0;32m/usr/local/lib/python3.9/dist-packages/pandas/io/parsers/readers.py\u001b[0m in \u001b[0;36m_make_engine\u001b[0;34m(self, f, engine)\u001b[0m\n\u001b[1;32m   1214\u001b[0m             \u001b[0;31m# \"Union[str, PathLike[str], ReadCsvBuffer[bytes], ReadCsvBuffer[str]]\"\u001b[0m\u001b[0;34m\u001b[0m\u001b[0;34m\u001b[0m\u001b[0m\n\u001b[1;32m   1215\u001b[0m             \u001b[0;31m# , \"str\", \"bool\", \"Any\", \"Any\", \"Any\", \"Any\", \"Any\"\u001b[0m\u001b[0;34m\u001b[0m\u001b[0;34m\u001b[0m\u001b[0m\n\u001b[0;32m-> 1216\u001b[0;31m             self.handles = get_handle(  # type: ignore[call-overload]\n\u001b[0m\u001b[1;32m   1217\u001b[0m                 \u001b[0mf\u001b[0m\u001b[0;34m,\u001b[0m\u001b[0;34m\u001b[0m\u001b[0;34m\u001b[0m\u001b[0m\n\u001b[1;32m   1218\u001b[0m                 \u001b[0mmode\u001b[0m\u001b[0;34m,\u001b[0m\u001b[0;34m\u001b[0m\u001b[0;34m\u001b[0m\u001b[0m\n",
            "\u001b[0;32m/usr/local/lib/python3.9/dist-packages/pandas/io/common.py\u001b[0m in \u001b[0;36mget_handle\u001b[0;34m(path_or_buf, mode, encoding, compression, memory_map, is_text, errors, storage_options)\u001b[0m\n\u001b[1;32m    784\u001b[0m         \u001b[0;32mif\u001b[0m \u001b[0mioargs\u001b[0m\u001b[0;34m.\u001b[0m\u001b[0mencoding\u001b[0m \u001b[0;32mand\u001b[0m \u001b[0;34m\"b\"\u001b[0m \u001b[0;32mnot\u001b[0m \u001b[0;32min\u001b[0m \u001b[0mioargs\u001b[0m\u001b[0;34m.\u001b[0m\u001b[0mmode\u001b[0m\u001b[0;34m:\u001b[0m\u001b[0;34m\u001b[0m\u001b[0;34m\u001b[0m\u001b[0m\n\u001b[1;32m    785\u001b[0m             \u001b[0;31m# Encoding\u001b[0m\u001b[0;34m\u001b[0m\u001b[0;34m\u001b[0m\u001b[0m\n\u001b[0;32m--> 786\u001b[0;31m             handle = open(\n\u001b[0m\u001b[1;32m    787\u001b[0m                 \u001b[0mhandle\u001b[0m\u001b[0;34m,\u001b[0m\u001b[0;34m\u001b[0m\u001b[0;34m\u001b[0m\u001b[0m\n\u001b[1;32m    788\u001b[0m                 \u001b[0mioargs\u001b[0m\u001b[0;34m.\u001b[0m\u001b[0mmode\u001b[0m\u001b[0;34m,\u001b[0m\u001b[0;34m\u001b[0m\u001b[0;34m\u001b[0m\u001b[0m\n",
            "\u001b[0;31mFileNotFoundError\u001b[0m: [Errno 2] No such file or directory: 'diabetes.csv'"
          ]
        }
      ]
    },
    {
      "cell_type": "code",
      "metadata": {
        "colab": {
          "base_uri": "https://localhost:8080/"
        },
        "id": "HJtifh0oXB9e",
        "outputId": "69f56f28-ad4d-4f67-9e2e-1d90bcad4aef"
      },
      "source": [
        "df.info()"
      ],
      "execution_count": null,
      "outputs": [
        {
          "output_type": "stream",
          "name": "stdout",
          "text": [
            "<class 'pandas.core.frame.DataFrame'>\n",
            "RangeIndex: 768 entries, 0 to 767\n",
            "Data columns (total 9 columns):\n",
            " #   Column                    Non-Null Count  Dtype  \n",
            "---  ------                    --------------  -----  \n",
            " 0   Pregnancies               768 non-null    int64  \n",
            " 1   Glucose                   768 non-null    int64  \n",
            " 2   BloodPressure             768 non-null    int64  \n",
            " 3   SkinThickness             768 non-null    int64  \n",
            " 4   Insulin                   768 non-null    int64  \n",
            " 5   BMI                       768 non-null    float64\n",
            " 6   DiabetesPedigreeFunction  768 non-null    float64\n",
            " 7   Age                       768 non-null    int64  \n",
            " 8   Outcome                   768 non-null    int64  \n",
            "dtypes: float64(2), int64(7)\n",
            "memory usage: 54.1 KB\n"
          ]
        }
      ]
    },
    {
      "cell_type": "code",
      "source": [
        "import seaborn as sns\n",
        "import matplotlib.pyplot as plt\n",
        "\n",
        "fig, ax = plt.subplots()\n",
        "\n",
        "sns.countplot(df['Outcome'], ax=ax, palette='hls')\n",
        "plt.show()"
      ],
      "metadata": {
        "id": "wLoxFsJc7UTR"
      },
      "execution_count": null,
      "outputs": []
    },
    {
      "cell_type": "code",
      "metadata": {
        "id": "Uuv_JasGZNKN"
      },
      "source": [
        "X = df.drop(['Outcome'], axis = 1)\n",
        "y = df['Outcome']"
      ],
      "execution_count": null,
      "outputs": []
    },
    {
      "cell_type": "code",
      "metadata": {
        "id": "6eeI8U2qYYEc"
      },
      "source": [
        "from sklearn.preprocessing import StandardScaler\n",
        "\n",
        "scaler = StandardScaler()\n",
        "X_st = scaler.fit_transform(X)\n",
        "\n",
        "pd.DataFrame(X_st, columns = X.columns)\n",
        "\n",
        "# X - вектор признаков исходного набора\n",
        "# X_st - вектор стандартизированных признаков"
      ],
      "execution_count": null,
      "outputs": []
    },
    {
      "cell_type": "code",
      "metadata": {
        "id": "w-ijizmMajIi"
      },
      "source": [
        "from sklearn.model_selection import train_test_split\n",
        "\n",
        "X_train, X_test, y_train, y_test = train_test_split(X_st, y, test_size=1/3, random_state=42)\n",
        "\n",
        "print(f'Train shape: {X_train.shape}, {y_train.shape}')\n",
        "print(f'Test shape: {X_test.shape}, {y_test.shape}')"
      ],
      "execution_count": null,
      "outputs": []
    },
    {
      "cell_type": "markdown",
      "metadata": {
        "id": "1Z3o1FF6aw_H"
      },
      "source": [
        "Метод ближайщих соседей, реализован в библиотеке sklearn в модуле neighbors.\n",
        "\n",
        "Для использования необходимо явным образом указывать сколько соседей необходимо учитывать (если не указывать по умолчанию будет 5)\n",
        "\n",
        "https://scikit-learn.org/stable/modules/generated/sklearn.neighbors.KNeighborsClassifier.html"
      ]
    },
    {
      "cell_type": "markdown",
      "source": [
        "`sklearn.neighbors.KNeighborsClassifier(n_neighbors=5, *, weights='uniform', algorithm='auto', leaf_size=30, p=2, metric='minkowski', metric_params=None, n_jobs=None)`\n",
        "\n",
        "1. `n_neighbors` - количество соседей\n",
        "2. `weights` - функция для весов:\n",
        "-  `uniform` - однородные веса. Все точки в каждой окрестности имеют одинаковый вес.\n",
        "- `distance` - точки веса обратно пропорциональны их расстоянию. в этом случае более близкие соседи точки запроса будут иметь большее влияние, чем соседи, которые находятся дальше.\n",
        "3. `algorithm` - Алгоритм, используемый для вычисления ближайших соседей.\n",
        "4. `metric` - метод расчета расстояния (евклидово, манххэтонское и т.д.)"
      ],
      "metadata": {
        "id": "tREuuy-u8gtZ"
      }
    },
    {
      "cell_type": "code",
      "metadata": {
        "id": "NQhbDjU-bKa9"
      },
      "source": [
        "from sklearn.neighbors import KNeighborsClassifier # классификатор\n",
        "from sklearn.neighbors import KNeighborsRegressor # регрессор\n",
        "\n",
        "from sklearn.metrics import accuracy_score, confusion_matrix, recall_score, precision_score\n",
        "\n",
        "# создаем модель\n",
        "# как подобрать лучшее число соседей?\n",
        "scores = []\n",
        "for i in range(1,15):\n",
        "    score = {}\n",
        "    knn = KNeighborsClassifier(i)\n",
        "    knn.fit(X_train,y_train)\n",
        "    answers = knn.predict(X_test) # метод predict возвращает вектор ответов для X_test\n",
        "    \n",
        "    score['k'] = i\n",
        "    score['accuracy'] = accuracy_score(answers,y_test)\n",
        "    score['recall'] = recall_score(answers,y_test)\n",
        "    score['presicion'] = precision_score(answers,y_test)\n",
        "    \n",
        "    scores.append(score)\n",
        "\n",
        "scores = pd.DataFrame(scores)\n",
        "scores"
      ],
      "execution_count": null,
      "outputs": []
    },
    {
      "cell_type": "code",
      "source": [
        "plt.plot(scores['k'], scores['accuracy'], label='Accuracy')\n",
        "plt.plot(scores['k'], scores['recall'], label='Recall')\n",
        "plt.plot(scores['k'], scores['presicion'], label='Presicion')\n",
        "plt.xlabel('K')\n",
        "plt.xlabel('Score')\n",
        "plt.legend()"
      ],
      "metadata": {
        "id": "kZhIbf2f-V56"
      },
      "execution_count": null,
      "outputs": []
    },
    {
      "cell_type": "code",
      "metadata": {
        "id": "x4pATJIVgi7L"
      },
      "source": [
        "knn = KNeighborsClassifier(7)\n",
        "\n",
        "# обучаем\n",
        "knn.fit(X_train,y_train)\n",
        "\n",
        "# предсказываем значения\n",
        "y_pred = knn.predict(X_test)\n",
        "\n",
        "confusion_matrix(y_test,y_pred)\n",
        "\n",
        "# 0 - общее 133+43\n",
        "# 1 - общее37+43"
      ],
      "execution_count": null,
      "outputs": []
    },
    {
      "cell_type": "markdown",
      "source": [
        "# Балансировка"
      ],
      "metadata": {
        "id": "wc3jSQRYDGyY"
      }
    },
    {
      "cell_type": "markdown",
      "source": [
        "В машинном обучении балансировка классов означает балансировку классов с несбалансированными выборками. Перед использованием алгоритма машинного обучения важно избежать дисбаланса классов, потому что наша конечная цель – обучить модель машинного обучения, которая хорошо обобщается для всех возможных классов, предполагая, что у нас есть двоичный набор данных с равным количеством выборок."
      ],
      "metadata": {
        "id": "AgthHpgPDIq7"
      }
    },
    {
      "cell_type": "markdown",
      "source": [
        "Ребалансировка классов может происходить путём увеличения числа примеров миноритарного класса (**undersampling**), либо путём сокращения числа примеров мажоритарного (**oversampling**). Возможно также и сочетание обоих подходов."
      ],
      "metadata": {
        "id": "UDNamT6uDLDg"
      }
    },
    {
      "cell_type": "markdown",
      "source": [
        "**Сокращение числа примеров мажоритарного класса**\n",
        "\n",
        "В данном случае можно рандомно удалить некоторое число объектов из мажоритарного класса до достижения баланса. Либо использовать существующие алгоритмы: Nearmiss1/2, Tomek links, Edited nearest neighbors (ENN)\n",
        "\n",
        "`from imblearn.under_sampling import NearMiss`\n",
        "\n",
        "`from imblearn.under_sampling import RandomUnderSampler`"
      ],
      "metadata": {
        "id": "oBX4Ni5oDM6B"
      }
    },
    {
      "cell_type": "markdown",
      "source": [
        "**Увеличение числа примеров миноритарного класса**\n",
        "\n",
        "**Дублирование** примеров миноритарного класса (Oversampling). Самый простой метод – это дублирование примеров миноритарного класса. В зависимости от того, какое соотношение классов необходимо получить в выборке, выбирается случайным образом соответствующее количество наблюдений для дублирования.\n",
        "\n",
        "Такой подход к восстановлению баланса не всегда является наиболее эффективным, поэтому был предложен специальный метод увеличения числа наблюдений миноритарного класса – алгоритм SMOTE (Synthetic Minority Oversampling Technique).\n",
        "\n",
        "**Алгоритм SMOTE**. В основе алгоритма лежит идея генерации некоторого количества искусственных наблюдений, которые были бы «похожи» на наблюдения, имеющиеся в миноритарном классе, но при этом не дублировали их. "
      ],
      "metadata": {
        "id": "HQDGCoB1DQPa"
      }
    },
    {
      "cell_type": "markdown",
      "source": [
        "Подробнее о различных алгоритмах балансировки можно найти в библиотеке `imbalanced-learn`.\n",
        "\n",
        "https://imbalanced-learn.org/stable/index.html"
      ],
      "metadata": {
        "id": "kHv7F0ZXDSqV"
      }
    },
    {
      "cell_type": "code",
      "source": [
        "X = df.drop(['Outcome'], axis = 1)\n",
        "y = df['Outcome']\n",
        "\n",
        "print(f'Features shape: {X.shape}')\n",
        "print(f'Classes distribution:\\n{y.value_counts()}')"
      ],
      "metadata": {
        "id": "HTn6yJArBNeM"
      },
      "execution_count": null,
      "outputs": []
    },
    {
      "cell_type": "code",
      "source": [
        "from imblearn.over_sampling import SMOTE\n",
        "\n",
        "os = SMOTE(random_state=0, k_neighbors=10)\n",
        "\n",
        "columns = X.columns\n",
        "\n",
        "os_data_X, os_data_y = os.fit_resample(X, y)\n",
        "os_data_X = pd.DataFrame(os_data_X, columns = columns)\n",
        "os_data_y = pd.DataFrame(os_data_y, columns = ['Outcome'])"
      ],
      "metadata": {
        "id": "Kx4jxCOkAohr"
      },
      "execution_count": null,
      "outputs": []
    },
    {
      "cell_type": "code",
      "source": [
        "print(f'Features shape after SMOTE: {os_data_X.shape}')\n",
        "print(f'Classes distribution after SMOTE:\\n{os_data_y.value_counts()}')"
      ],
      "metadata": {
        "id": "y3Hxzi61CiVI"
      },
      "execution_count": null,
      "outputs": []
    },
    {
      "cell_type": "code",
      "source": [
        "from sklearn.preprocessing import StandardScaler\n",
        "\n",
        "scaler = StandardScaler()\n",
        "X_st = scaler.fit_transform(os_data_X)\n",
        "\n",
        "pd.DataFrame(X_st, columns = X.columns)"
      ],
      "metadata": {
        "id": "BRtUfETrC0z6"
      },
      "execution_count": null,
      "outputs": []
    },
    {
      "cell_type": "code",
      "source": [
        "from sklearn.model_selection import train_test_split\n",
        "\n",
        "X_train, X_test, y_train, y_test = train_test_split(X_st, os_data_y, test_size=1/3, random_state=42)\n",
        "\n",
        "print(f'Train shape: {X_train.shape}, {y_train.shape}')\n",
        "print(f'Test shape: {X_test.shape}, {y_test.shape}')"
      ],
      "metadata": {
        "id": "3GlK60FXCx5c"
      },
      "execution_count": null,
      "outputs": []
    },
    {
      "cell_type": "code",
      "source": [
        "from sklearn.neighbors import KNeighborsClassifier # классификатор\n",
        "from sklearn.neighbors import KNeighborsRegressor # регрессор\n",
        "\n",
        "from sklearn.metrics import accuracy_score, confusion_matrix, recall_score, precision_score\n",
        "\n",
        "# создаем модель\n",
        "# как подобрать лучшее число соседей?\n",
        "scores = []\n",
        "for i in range(1,15):\n",
        "    score = {}\n",
        "    knn = KNeighborsClassifier(i)\n",
        "    knn.fit(X_train,y_train)\n",
        "    answers = knn.predict(X_test) # метод predict возвращает вектор ответов для X_test\n",
        "    \n",
        "    score['k'] = i\n",
        "    score['accuracy'] = accuracy_score(answers,y_test)\n",
        "    score['recall'] = recall_score(answers,y_test)\n",
        "    score['presicion'] = precision_score(answers,y_test)\n",
        "    \n",
        "    scores.append(score)\n",
        "\n",
        "scores = pd.DataFrame(scores)\n",
        "scores"
      ],
      "metadata": {
        "id": "GbubcIPYBwzD"
      },
      "execution_count": null,
      "outputs": []
    },
    {
      "cell_type": "code",
      "source": [
        "plt.plot(scores['k'], scores['accuracy'], label='Accuracy')\n",
        "plt.plot(scores['k'], scores['recall'], label='Recall')\n",
        "plt.plot(scores['k'], scores['presicion'], label='Presicion')\n",
        "plt.xlabel('K')\n",
        "plt.xlabel('Score')\n",
        "plt.legend()"
      ],
      "metadata": {
        "id": "s0OcoOjxC_8G"
      },
      "execution_count": null,
      "outputs": []
    },
    {
      "cell_type": "markdown",
      "source": [
        "# Задание"
      ],
      "metadata": {
        "id": "NWyNPQ-lFpGb"
      }
    },
    {
      "cell_type": "markdown",
      "source": [
        "https://www.kaggle.com/competitions/hotel-booking-demand-3"
      ],
      "metadata": {
        "id": "HuL-3vtaFsHa"
      }
    },
    {
      "cell_type": "code",
      "source": [
        "from sklearn.neighbors import KNeighborsClassifier # классификатор\n",
        "from sklearn.neighbors import KNeighborsRegressor # регрессор\n",
        "from sklearn.model_selection import train_test_split\n",
        "from sklearn.metrics import accuracy_score, confusion_matrix, recall_score, precision_score\n",
        "from sklearn.preprocessing import StandardScaler\n",
        "from imblearn.over_sampling import SMOTE\n",
        "import pandas as pd\n",
        "from sklearn.preprocessing import StandardScaler\n"
      ],
      "metadata": {
        "id": "-ZJ66GPWFrNV"
      },
      "execution_count": 80,
      "outputs": []
    },
    {
      "cell_type": "code",
      "source": [
        "df = pd.read_csv(\"train_final.csv\")\n",
        "df.info()"
      ],
      "metadata": {
        "colab": {
          "base_uri": "https://localhost:8080/"
        },
        "id": "0TN45Zqfqe11",
        "outputId": "c1f7e7e3-7855-4530-aab6-db8b7ea5db53"
      },
      "execution_count": 81,
      "outputs": [
        {
          "output_type": "stream",
          "name": "stdout",
          "text": [
            "<class 'pandas.core.frame.DataFrame'>\n",
            "RangeIndex: 44638 entries, 0 to 44637\n",
            "Data columns (total 29 columns):\n",
            " #   Column                          Non-Null Count  Dtype  \n",
            "---  ------                          --------------  -----  \n",
            " 0   hotel                           44638 non-null  object \n",
            " 1   is_canceled                     44638 non-null  int64  \n",
            " 2   lead_time                       44638 non-null  int64  \n",
            " 3   arrival_date_year               44638 non-null  int64  \n",
            " 4   arrival_date_month              44638 non-null  object \n",
            " 5   arrival_date_week_number        44638 non-null  int64  \n",
            " 6   arrival_date_day_of_month       44638 non-null  int64  \n",
            " 7   stays_in_weekend_nights         44638 non-null  int64  \n",
            " 8   stays_in_week_nights            44638 non-null  int64  \n",
            " 9   adults                          44638 non-null  int64  \n",
            " 10  children                        44638 non-null  float64\n",
            " 11  babies                          44638 non-null  int64  \n",
            " 12  meal                            44638 non-null  object \n",
            " 13  country                         44638 non-null  object \n",
            " 14  market_segment                  44638 non-null  object \n",
            " 15  distribution_channel            44638 non-null  object \n",
            " 16  is_repeated_guest               44638 non-null  int64  \n",
            " 17  previous_cancellations          44638 non-null  int64  \n",
            " 18  previous_bookings_not_canceled  44638 non-null  int64  \n",
            " 19  reserved_room_type              44638 non-null  object \n",
            " 20  assigned_room_type              44638 non-null  object \n",
            " 21  booking_changes                 44638 non-null  int64  \n",
            " 22  deposit_type                    44638 non-null  object \n",
            " 23  days_in_waiting_list            44638 non-null  int64  \n",
            " 24  customer_type                   44638 non-null  object \n",
            " 25  adr                             44638 non-null  float64\n",
            " 26  required_car_parking_spaces     44638 non-null  int64  \n",
            " 27  total_of_special_requests       44638 non-null  int64  \n",
            " 28  reservation_status_date         44638 non-null  object \n",
            "dtypes: float64(2), int64(16), object(11)\n",
            "memory usage: 9.9+ MB\n"
          ]
        }
      ]
    },
    {
      "cell_type": "code",
      "source": [
        "df['country'].value_counts()"
      ],
      "metadata": {
        "colab": {
          "base_uri": "https://localhost:8080/"
        },
        "id": "m2zcY2tT5eBo",
        "outputId": "49268b60-fa4c-491d-f83c-6518b9a0cafe"
      },
      "execution_count": 161,
      "outputs": [
        {
          "output_type": "execute_result",
          "data": {
            "text/plain": [
              "PRT    16999\n",
              "GBR     4914\n",
              "FRA     4207\n",
              "ESP     3382\n",
              "DEU     2957\n",
              "       ...  \n",
              "MRT        1\n",
              "DMA        1\n",
              "LCA        1\n",
              "ETH        1\n",
              "CAF        1\n",
              "Name: country, Length: 156, dtype: int64"
            ]
          },
          "metadata": {},
          "execution_count": 161
        }
      ]
    },
    {
      "cell_type": "code",
      "source": [
        "X, y = df.drop(columns=[\"is_canceled\", \"reservation_status_date\", 'country']), df[\"is_canceled\"]"
      ],
      "metadata": {
        "id": "ruOB-ZRKsem6"
      },
      "execution_count": 140,
      "outputs": []
    },
    {
      "cell_type": "code",
      "source": [
        "X_test = pd.read_csv(\"test_final.csv\").drop(columns=[\"reservation_status_date\"])"
      ],
      "metadata": {
        "id": "5jo6f-r1xnov"
      },
      "execution_count": 141,
      "outputs": []
    },
    {
      "cell_type": "code",
      "source": [
        "n = 44638"
      ],
      "metadata": {
        "id": "sEZLRN3Kx6Ge"
      },
      "execution_count": 143,
      "outputs": []
    },
    {
      "cell_type": "code",
      "source": [
        "X = pd.concat([X_test, X], axis=0)"
      ],
      "metadata": {
        "id": "PkxCPcK5xuZm"
      },
      "execution_count": 144,
      "outputs": []
    },
    {
      "cell_type": "code",
      "source": [
        "X"
      ],
      "metadata": {
        "colab": {
          "base_uri": "https://localhost:8080/",
          "height": 661
        },
        "id": "yiZXVOuq0iST",
        "outputId": "ae22a01d-3a39-49fb-ccae-49d9b80064e6"
      },
      "execution_count": 145,
      "outputs": [
        {
          "output_type": "execute_result",
          "data": {
            "text/plain": [
              "              hotel  lead_time  arrival_date_year arrival_date_month  \\\n",
              "0        City Hotel         73               2016               July   \n",
              "1        City Hotel         37               2015            October   \n",
              "2        City Hotel        190               2017              April   \n",
              "3        City Hotel        287               2016             August   \n",
              "4      Resort Hotel        386               2016            October   \n",
              "...             ...        ...                ...                ...   \n",
              "44633    City Hotel         31               2017               June   \n",
              "44634  Resort Hotel        116               2015          September   \n",
              "44635    City Hotel         89               2017              April   \n",
              "44636    City Hotel        277               2016          September   \n",
              "44637    City Hotel         22               2015           November   \n",
              "\n",
              "       arrival_date_week_number  arrival_date_day_of_month  \\\n",
              "0                            28                          6   \n",
              "1                            43                         24   \n",
              "2                            14                          6   \n",
              "3                            35                         24   \n",
              "4                            43                         20   \n",
              "...                         ...                        ...   \n",
              "44633                        26                         27   \n",
              "44634                        39                         26   \n",
              "44635                        14                          3   \n",
              "44636                        37                          5   \n",
              "44637                        47                         17   \n",
              "\n",
              "       stays_in_weekend_nights  stays_in_week_nights  adults  children  ...  \\\n",
              "0                            0                     2       1       0.0  ...   \n",
              "1                            2                     5       1       1.0  ...   \n",
              "2                            2                     3       2       0.0  ...   \n",
              "3                            1                     4       2       0.0  ...   \n",
              "4                            1                     3       2       0.0  ...   \n",
              "...                        ...                   ...     ...       ...  ...   \n",
              "44633                        0                     1       1       0.0  ...   \n",
              "44634                        2                     5       2       0.0  ...   \n",
              "44635                        1                     2       2       0.0  ...   \n",
              "44636                        2                     5       2       0.0  ...   \n",
              "44637                        0                     1       1       0.0  ...   \n",
              "\n",
              "       previous_bookings_not_canceled reserved_room_type assigned_room_type  \\\n",
              "0                                   0                  A                  A   \n",
              "1                                   0                  A                  A   \n",
              "2                                   0                  A                  A   \n",
              "3                                   0                  B                  B   \n",
              "4                                   0                  A                  A   \n",
              "...                               ...                ...                ...   \n",
              "44633                               0                  D                  D   \n",
              "44634                               0                  E                  F   \n",
              "44635                               0                  A                  A   \n",
              "44636                               0                  A                  A   \n",
              "44637                               0                  A                  A   \n",
              "\n",
              "      booking_changes deposit_type  days_in_waiting_list    customer_type  \\\n",
              "0                   0   No Deposit                     0        Transient   \n",
              "1                   0   No Deposit                     0        Transient   \n",
              "2                   0   No Deposit                     0        Transient   \n",
              "3                   1   No Deposit                     0        Transient   \n",
              "4                   0   No Deposit                     0  Transient-Party   \n",
              "...               ...          ...                   ...              ...   \n",
              "44633               0   No Deposit                     0        Transient   \n",
              "44634               0   No Deposit                     0        Transient   \n",
              "44635               0   No Deposit                     0        Transient   \n",
              "44636               0   No Deposit                     0  Transient-Party   \n",
              "44637               0   No Deposit                     0  Transient-Party   \n",
              "\n",
              "          adr required_car_parking_spaces total_of_special_requests  \n",
              "0      107.10                           0                         0  \n",
              "1       87.78                           0                         0  \n",
              "2       88.40                           0                         0  \n",
              "3       76.71                           0                         0  \n",
              "4       49.00                           0                         0  \n",
              "...       ...                         ...                       ...  \n",
              "44633  119.00                           0                         2  \n",
              "44634   93.86                           0                         0  \n",
              "44635   99.00                           0                         1  \n",
              "44636   89.14                           0                         1  \n",
              "44637   62.00                           0                         0  \n",
              "\n",
              "[68163 rows x 27 columns]"
            ],
            "text/html": [
              "\n",
              "  <div id=\"df-0ae31c7d-0872-41f6-8386-bc79865950dd\">\n",
              "    <div class=\"colab-df-container\">\n",
              "      <div>\n",
              "<style scoped>\n",
              "    .dataframe tbody tr th:only-of-type {\n",
              "        vertical-align: middle;\n",
              "    }\n",
              "\n",
              "    .dataframe tbody tr th {\n",
              "        vertical-align: top;\n",
              "    }\n",
              "\n",
              "    .dataframe thead th {\n",
              "        text-align: right;\n",
              "    }\n",
              "</style>\n",
              "<table border=\"1\" class=\"dataframe\">\n",
              "  <thead>\n",
              "    <tr style=\"text-align: right;\">\n",
              "      <th></th>\n",
              "      <th>hotel</th>\n",
              "      <th>lead_time</th>\n",
              "      <th>arrival_date_year</th>\n",
              "      <th>arrival_date_month</th>\n",
              "      <th>arrival_date_week_number</th>\n",
              "      <th>arrival_date_day_of_month</th>\n",
              "      <th>stays_in_weekend_nights</th>\n",
              "      <th>stays_in_week_nights</th>\n",
              "      <th>adults</th>\n",
              "      <th>children</th>\n",
              "      <th>...</th>\n",
              "      <th>previous_bookings_not_canceled</th>\n",
              "      <th>reserved_room_type</th>\n",
              "      <th>assigned_room_type</th>\n",
              "      <th>booking_changes</th>\n",
              "      <th>deposit_type</th>\n",
              "      <th>days_in_waiting_list</th>\n",
              "      <th>customer_type</th>\n",
              "      <th>adr</th>\n",
              "      <th>required_car_parking_spaces</th>\n",
              "      <th>total_of_special_requests</th>\n",
              "    </tr>\n",
              "  </thead>\n",
              "  <tbody>\n",
              "    <tr>\n",
              "      <th>0</th>\n",
              "      <td>City Hotel</td>\n",
              "      <td>73</td>\n",
              "      <td>2016</td>\n",
              "      <td>July</td>\n",
              "      <td>28</td>\n",
              "      <td>6</td>\n",
              "      <td>0</td>\n",
              "      <td>2</td>\n",
              "      <td>1</td>\n",
              "      <td>0.0</td>\n",
              "      <td>...</td>\n",
              "      <td>0</td>\n",
              "      <td>A</td>\n",
              "      <td>A</td>\n",
              "      <td>0</td>\n",
              "      <td>No Deposit</td>\n",
              "      <td>0</td>\n",
              "      <td>Transient</td>\n",
              "      <td>107.10</td>\n",
              "      <td>0</td>\n",
              "      <td>0</td>\n",
              "    </tr>\n",
              "    <tr>\n",
              "      <th>1</th>\n",
              "      <td>City Hotel</td>\n",
              "      <td>37</td>\n",
              "      <td>2015</td>\n",
              "      <td>October</td>\n",
              "      <td>43</td>\n",
              "      <td>24</td>\n",
              "      <td>2</td>\n",
              "      <td>5</td>\n",
              "      <td>1</td>\n",
              "      <td>1.0</td>\n",
              "      <td>...</td>\n",
              "      <td>0</td>\n",
              "      <td>A</td>\n",
              "      <td>A</td>\n",
              "      <td>0</td>\n",
              "      <td>No Deposit</td>\n",
              "      <td>0</td>\n",
              "      <td>Transient</td>\n",
              "      <td>87.78</td>\n",
              "      <td>0</td>\n",
              "      <td>0</td>\n",
              "    </tr>\n",
              "    <tr>\n",
              "      <th>2</th>\n",
              "      <td>City Hotel</td>\n",
              "      <td>190</td>\n",
              "      <td>2017</td>\n",
              "      <td>April</td>\n",
              "      <td>14</td>\n",
              "      <td>6</td>\n",
              "      <td>2</td>\n",
              "      <td>3</td>\n",
              "      <td>2</td>\n",
              "      <td>0.0</td>\n",
              "      <td>...</td>\n",
              "      <td>0</td>\n",
              "      <td>A</td>\n",
              "      <td>A</td>\n",
              "      <td>0</td>\n",
              "      <td>No Deposit</td>\n",
              "      <td>0</td>\n",
              "      <td>Transient</td>\n",
              "      <td>88.40</td>\n",
              "      <td>0</td>\n",
              "      <td>0</td>\n",
              "    </tr>\n",
              "    <tr>\n",
              "      <th>3</th>\n",
              "      <td>City Hotel</td>\n",
              "      <td>287</td>\n",
              "      <td>2016</td>\n",
              "      <td>August</td>\n",
              "      <td>35</td>\n",
              "      <td>24</td>\n",
              "      <td>1</td>\n",
              "      <td>4</td>\n",
              "      <td>2</td>\n",
              "      <td>0.0</td>\n",
              "      <td>...</td>\n",
              "      <td>0</td>\n",
              "      <td>B</td>\n",
              "      <td>B</td>\n",
              "      <td>1</td>\n",
              "      <td>No Deposit</td>\n",
              "      <td>0</td>\n",
              "      <td>Transient</td>\n",
              "      <td>76.71</td>\n",
              "      <td>0</td>\n",
              "      <td>0</td>\n",
              "    </tr>\n",
              "    <tr>\n",
              "      <th>4</th>\n",
              "      <td>Resort Hotel</td>\n",
              "      <td>386</td>\n",
              "      <td>2016</td>\n",
              "      <td>October</td>\n",
              "      <td>43</td>\n",
              "      <td>20</td>\n",
              "      <td>1</td>\n",
              "      <td>3</td>\n",
              "      <td>2</td>\n",
              "      <td>0.0</td>\n",
              "      <td>...</td>\n",
              "      <td>0</td>\n",
              "      <td>A</td>\n",
              "      <td>A</td>\n",
              "      <td>0</td>\n",
              "      <td>No Deposit</td>\n",
              "      <td>0</td>\n",
              "      <td>Transient-Party</td>\n",
              "      <td>49.00</td>\n",
              "      <td>0</td>\n",
              "      <td>0</td>\n",
              "    </tr>\n",
              "    <tr>\n",
              "      <th>...</th>\n",
              "      <td>...</td>\n",
              "      <td>...</td>\n",
              "      <td>...</td>\n",
              "      <td>...</td>\n",
              "      <td>...</td>\n",
              "      <td>...</td>\n",
              "      <td>...</td>\n",
              "      <td>...</td>\n",
              "      <td>...</td>\n",
              "      <td>...</td>\n",
              "      <td>...</td>\n",
              "      <td>...</td>\n",
              "      <td>...</td>\n",
              "      <td>...</td>\n",
              "      <td>...</td>\n",
              "      <td>...</td>\n",
              "      <td>...</td>\n",
              "      <td>...</td>\n",
              "      <td>...</td>\n",
              "      <td>...</td>\n",
              "      <td>...</td>\n",
              "    </tr>\n",
              "    <tr>\n",
              "      <th>44633</th>\n",
              "      <td>City Hotel</td>\n",
              "      <td>31</td>\n",
              "      <td>2017</td>\n",
              "      <td>June</td>\n",
              "      <td>26</td>\n",
              "      <td>27</td>\n",
              "      <td>0</td>\n",
              "      <td>1</td>\n",
              "      <td>1</td>\n",
              "      <td>0.0</td>\n",
              "      <td>...</td>\n",
              "      <td>0</td>\n",
              "      <td>D</td>\n",
              "      <td>D</td>\n",
              "      <td>0</td>\n",
              "      <td>No Deposit</td>\n",
              "      <td>0</td>\n",
              "      <td>Transient</td>\n",
              "      <td>119.00</td>\n",
              "      <td>0</td>\n",
              "      <td>2</td>\n",
              "    </tr>\n",
              "    <tr>\n",
              "      <th>44634</th>\n",
              "      <td>Resort Hotel</td>\n",
              "      <td>116</td>\n",
              "      <td>2015</td>\n",
              "      <td>September</td>\n",
              "      <td>39</td>\n",
              "      <td>26</td>\n",
              "      <td>2</td>\n",
              "      <td>5</td>\n",
              "      <td>2</td>\n",
              "      <td>0.0</td>\n",
              "      <td>...</td>\n",
              "      <td>0</td>\n",
              "      <td>E</td>\n",
              "      <td>F</td>\n",
              "      <td>0</td>\n",
              "      <td>No Deposit</td>\n",
              "      <td>0</td>\n",
              "      <td>Transient</td>\n",
              "      <td>93.86</td>\n",
              "      <td>0</td>\n",
              "      <td>0</td>\n",
              "    </tr>\n",
              "    <tr>\n",
              "      <th>44635</th>\n",
              "      <td>City Hotel</td>\n",
              "      <td>89</td>\n",
              "      <td>2017</td>\n",
              "      <td>April</td>\n",
              "      <td>14</td>\n",
              "      <td>3</td>\n",
              "      <td>1</td>\n",
              "      <td>2</td>\n",
              "      <td>2</td>\n",
              "      <td>0.0</td>\n",
              "      <td>...</td>\n",
              "      <td>0</td>\n",
              "      <td>A</td>\n",
              "      <td>A</td>\n",
              "      <td>0</td>\n",
              "      <td>No Deposit</td>\n",
              "      <td>0</td>\n",
              "      <td>Transient</td>\n",
              "      <td>99.00</td>\n",
              "      <td>0</td>\n",
              "      <td>1</td>\n",
              "    </tr>\n",
              "    <tr>\n",
              "      <th>44636</th>\n",
              "      <td>City Hotel</td>\n",
              "      <td>277</td>\n",
              "      <td>2016</td>\n",
              "      <td>September</td>\n",
              "      <td>37</td>\n",
              "      <td>5</td>\n",
              "      <td>2</td>\n",
              "      <td>5</td>\n",
              "      <td>2</td>\n",
              "      <td>0.0</td>\n",
              "      <td>...</td>\n",
              "      <td>0</td>\n",
              "      <td>A</td>\n",
              "      <td>A</td>\n",
              "      <td>0</td>\n",
              "      <td>No Deposit</td>\n",
              "      <td>0</td>\n",
              "      <td>Transient-Party</td>\n",
              "      <td>89.14</td>\n",
              "      <td>0</td>\n",
              "      <td>1</td>\n",
              "    </tr>\n",
              "    <tr>\n",
              "      <th>44637</th>\n",
              "      <td>City Hotel</td>\n",
              "      <td>22</td>\n",
              "      <td>2015</td>\n",
              "      <td>November</td>\n",
              "      <td>47</td>\n",
              "      <td>17</td>\n",
              "      <td>0</td>\n",
              "      <td>1</td>\n",
              "      <td>1</td>\n",
              "      <td>0.0</td>\n",
              "      <td>...</td>\n",
              "      <td>0</td>\n",
              "      <td>A</td>\n",
              "      <td>A</td>\n",
              "      <td>0</td>\n",
              "      <td>No Deposit</td>\n",
              "      <td>0</td>\n",
              "      <td>Transient-Party</td>\n",
              "      <td>62.00</td>\n",
              "      <td>0</td>\n",
              "      <td>0</td>\n",
              "    </tr>\n",
              "  </tbody>\n",
              "</table>\n",
              "<p>68163 rows × 27 columns</p>\n",
              "</div>\n",
              "      <button class=\"colab-df-convert\" onclick=\"convertToInteractive('df-0ae31c7d-0872-41f6-8386-bc79865950dd')\"\n",
              "              title=\"Convert this dataframe to an interactive table.\"\n",
              "              style=\"display:none;\">\n",
              "        \n",
              "  <svg xmlns=\"http://www.w3.org/2000/svg\" height=\"24px\"viewBox=\"0 0 24 24\"\n",
              "       width=\"24px\">\n",
              "    <path d=\"M0 0h24v24H0V0z\" fill=\"none\"/>\n",
              "    <path d=\"M18.56 5.44l.94 2.06.94-2.06 2.06-.94-2.06-.94-.94-2.06-.94 2.06-2.06.94zm-11 1L8.5 8.5l.94-2.06 2.06-.94-2.06-.94L8.5 2.5l-.94 2.06-2.06.94zm10 10l.94 2.06.94-2.06 2.06-.94-2.06-.94-.94-2.06-.94 2.06-2.06.94z\"/><path d=\"M17.41 7.96l-1.37-1.37c-.4-.4-.92-.59-1.43-.59-.52 0-1.04.2-1.43.59L10.3 9.45l-7.72 7.72c-.78.78-.78 2.05 0 2.83L4 21.41c.39.39.9.59 1.41.59.51 0 1.02-.2 1.41-.59l7.78-7.78 2.81-2.81c.8-.78.8-2.07 0-2.86zM5.41 20L4 18.59l7.72-7.72 1.47 1.35L5.41 20z\"/>\n",
              "  </svg>\n",
              "      </button>\n",
              "      \n",
              "  <style>\n",
              "    .colab-df-container {\n",
              "      display:flex;\n",
              "      flex-wrap:wrap;\n",
              "      gap: 12px;\n",
              "    }\n",
              "\n",
              "    .colab-df-convert {\n",
              "      background-color: #E8F0FE;\n",
              "      border: none;\n",
              "      border-radius: 50%;\n",
              "      cursor: pointer;\n",
              "      display: none;\n",
              "      fill: #1967D2;\n",
              "      height: 32px;\n",
              "      padding: 0 0 0 0;\n",
              "      width: 32px;\n",
              "    }\n",
              "\n",
              "    .colab-df-convert:hover {\n",
              "      background-color: #E2EBFA;\n",
              "      box-shadow: 0px 1px 2px rgba(60, 64, 67, 0.3), 0px 1px 3px 1px rgba(60, 64, 67, 0.15);\n",
              "      fill: #174EA6;\n",
              "    }\n",
              "\n",
              "    [theme=dark] .colab-df-convert {\n",
              "      background-color: #3B4455;\n",
              "      fill: #D2E3FC;\n",
              "    }\n",
              "\n",
              "    [theme=dark] .colab-df-convert:hover {\n",
              "      background-color: #434B5C;\n",
              "      box-shadow: 0px 1px 3px 1px rgba(0, 0, 0, 0.15);\n",
              "      filter: drop-shadow(0px 1px 2px rgba(0, 0, 0, 0.3));\n",
              "      fill: #FFFFFF;\n",
              "    }\n",
              "  </style>\n",
              "\n",
              "      <script>\n",
              "        const buttonEl =\n",
              "          document.querySelector('#df-0ae31c7d-0872-41f6-8386-bc79865950dd button.colab-df-convert');\n",
              "        buttonEl.style.display =\n",
              "          google.colab.kernel.accessAllowed ? 'block' : 'none';\n",
              "\n",
              "        async function convertToInteractive(key) {\n",
              "          const element = document.querySelector('#df-0ae31c7d-0872-41f6-8386-bc79865950dd');\n",
              "          const dataTable =\n",
              "            await google.colab.kernel.invokeFunction('convertToInteractive',\n",
              "                                                     [key], {});\n",
              "          if (!dataTable) return;\n",
              "\n",
              "          const docLinkHtml = 'Like what you see? Visit the ' +\n",
              "            '<a target=\"_blank\" href=https://colab.research.google.com/notebooks/data_table.ipynb>data table notebook</a>'\n",
              "            + ' to learn more about interactive tables.';\n",
              "          element.innerHTML = '';\n",
              "          dataTable['output_type'] = 'display_data';\n",
              "          await google.colab.output.renderOutput(dataTable, element);\n",
              "          const docLink = document.createElement('div');\n",
              "          docLink.innerHTML = docLinkHtml;\n",
              "          element.appendChild(docLink);\n",
              "        }\n",
              "      </script>\n",
              "    </div>\n",
              "  </div>\n",
              "  "
            ]
          },
          "metadata": {},
          "execution_count": 145
        }
      ]
    },
    {
      "cell_type": "code",
      "source": [
        "X = pd.get_dummies(X, columns=[\"hotel\", \"arrival_date_month\", \"meal\", \"country\", \"market_segment\", \"distribution_channel\", \"reserved_room_type\", \"assigned_room_type\", \"deposit_type\", \"customer_type\"])"
      ],
      "metadata": {
        "id": "Q0Mw3bCwqvgL"
      },
      "execution_count": 146,
      "outputs": []
    },
    {
      "cell_type": "code",
      "source": [
        "X"
      ],
      "metadata": {
        "colab": {
          "base_uri": "https://localhost:8080/",
          "height": 505
        },
        "id": "iw56UciNrDjA",
        "outputId": "f8b07d88-738c-48b2-85b1-2c8993855ef2"
      },
      "execution_count": 147,
      "outputs": [
        {
          "output_type": "execute_result",
          "data": {
            "text/plain": [
              "       lead_time  arrival_date_year  arrival_date_week_number  \\\n",
              "0             73               2016                        28   \n",
              "1             37               2015                        43   \n",
              "2            190               2017                        14   \n",
              "3            287               2016                        35   \n",
              "4            386               2016                        43   \n",
              "...          ...                ...                       ...   \n",
              "44633         31               2017                        26   \n",
              "44634        116               2015                        39   \n",
              "44635         89               2017                        14   \n",
              "44636        277               2016                        37   \n",
              "44637         22               2015                        47   \n",
              "\n",
              "       arrival_date_day_of_month  stays_in_weekend_nights  \\\n",
              "0                              6                        0   \n",
              "1                             24                        2   \n",
              "2                              6                        2   \n",
              "3                             24                        1   \n",
              "4                             20                        1   \n",
              "...                          ...                      ...   \n",
              "44633                         27                        0   \n",
              "44634                         26                        2   \n",
              "44635                          3                        1   \n",
              "44636                          5                        2   \n",
              "44637                         17                        0   \n",
              "\n",
              "       stays_in_week_nights  adults  children  babies  is_repeated_guest  ...  \\\n",
              "0                         2       1       0.0       0                  0  ...   \n",
              "1                         5       1       1.0       0                  0  ...   \n",
              "2                         3       2       0.0       0                  0  ...   \n",
              "3                         4       2       0.0       0                  0  ...   \n",
              "4                         3       2       0.0       0                  0  ...   \n",
              "...                     ...     ...       ...     ...                ...  ...   \n",
              "44633                     1       1       0.0       0                  0  ...   \n",
              "44634                     5       2       0.0       0                  0  ...   \n",
              "44635                     2       2       0.0       0                  0  ...   \n",
              "44636                     5       2       0.0       0                  0  ...   \n",
              "44637                     1       1       0.0       0                  0  ...   \n",
              "\n",
              "       assigned_room_type_K  assigned_room_type_L  assigned_room_type_P  \\\n",
              "0                         0                     0                     0   \n",
              "1                         0                     0                     0   \n",
              "2                         0                     0                     0   \n",
              "3                         0                     0                     0   \n",
              "4                         0                     0                     0   \n",
              "...                     ...                   ...                   ...   \n",
              "44633                     0                     0                     0   \n",
              "44634                     0                     0                     0   \n",
              "44635                     0                     0                     0   \n",
              "44636                     0                     0                     0   \n",
              "44637                     0                     0                     0   \n",
              "\n",
              "       deposit_type_No Deposit  deposit_type_Non Refund  \\\n",
              "0                            1                        0   \n",
              "1                            1                        0   \n",
              "2                            1                        0   \n",
              "3                            1                        0   \n",
              "4                            1                        0   \n",
              "...                        ...                      ...   \n",
              "44633                        1                        0   \n",
              "44634                        1                        0   \n",
              "44635                        1                        0   \n",
              "44636                        1                        0   \n",
              "44637                        1                        0   \n",
              "\n",
              "       deposit_type_Refundable  customer_type_Contract  customer_type_Group  \\\n",
              "0                            0                       0                    0   \n",
              "1                            0                       0                    0   \n",
              "2                            0                       0                    0   \n",
              "3                            0                       0                    0   \n",
              "4                            0                       0                    0   \n",
              "...                        ...                     ...                  ...   \n",
              "44633                        0                       0                    0   \n",
              "44634                        0                       0                    0   \n",
              "44635                        0                       0                    0   \n",
              "44636                        0                       0                    0   \n",
              "44637                        0                       0                    0   \n",
              "\n",
              "       customer_type_Transient  customer_type_Transient-Party  \n",
              "0                            1                              0  \n",
              "1                            1                              0  \n",
              "2                            1                              0  \n",
              "3                            1                              0  \n",
              "4                            0                              1  \n",
              "...                        ...                            ...  \n",
              "44633                        1                              0  \n",
              "44634                        1                              0  \n",
              "44635                        1                              0  \n",
              "44636                        0                              1  \n",
              "44637                        0                              1  \n",
              "\n",
              "[68163 rows x 240 columns]"
            ],
            "text/html": [
              "\n",
              "  <div id=\"df-8488efdb-2133-415b-8477-bfb7a227b14d\">\n",
              "    <div class=\"colab-df-container\">\n",
              "      <div>\n",
              "<style scoped>\n",
              "    .dataframe tbody tr th:only-of-type {\n",
              "        vertical-align: middle;\n",
              "    }\n",
              "\n",
              "    .dataframe tbody tr th {\n",
              "        vertical-align: top;\n",
              "    }\n",
              "\n",
              "    .dataframe thead th {\n",
              "        text-align: right;\n",
              "    }\n",
              "</style>\n",
              "<table border=\"1\" class=\"dataframe\">\n",
              "  <thead>\n",
              "    <tr style=\"text-align: right;\">\n",
              "      <th></th>\n",
              "      <th>lead_time</th>\n",
              "      <th>arrival_date_year</th>\n",
              "      <th>arrival_date_week_number</th>\n",
              "      <th>arrival_date_day_of_month</th>\n",
              "      <th>stays_in_weekend_nights</th>\n",
              "      <th>stays_in_week_nights</th>\n",
              "      <th>adults</th>\n",
              "      <th>children</th>\n",
              "      <th>babies</th>\n",
              "      <th>is_repeated_guest</th>\n",
              "      <th>...</th>\n",
              "      <th>assigned_room_type_K</th>\n",
              "      <th>assigned_room_type_L</th>\n",
              "      <th>assigned_room_type_P</th>\n",
              "      <th>deposit_type_No Deposit</th>\n",
              "      <th>deposit_type_Non Refund</th>\n",
              "      <th>deposit_type_Refundable</th>\n",
              "      <th>customer_type_Contract</th>\n",
              "      <th>customer_type_Group</th>\n",
              "      <th>customer_type_Transient</th>\n",
              "      <th>customer_type_Transient-Party</th>\n",
              "    </tr>\n",
              "  </thead>\n",
              "  <tbody>\n",
              "    <tr>\n",
              "      <th>0</th>\n",
              "      <td>73</td>\n",
              "      <td>2016</td>\n",
              "      <td>28</td>\n",
              "      <td>6</td>\n",
              "      <td>0</td>\n",
              "      <td>2</td>\n",
              "      <td>1</td>\n",
              "      <td>0.0</td>\n",
              "      <td>0</td>\n",
              "      <td>0</td>\n",
              "      <td>...</td>\n",
              "      <td>0</td>\n",
              "      <td>0</td>\n",
              "      <td>0</td>\n",
              "      <td>1</td>\n",
              "      <td>0</td>\n",
              "      <td>0</td>\n",
              "      <td>0</td>\n",
              "      <td>0</td>\n",
              "      <td>1</td>\n",
              "      <td>0</td>\n",
              "    </tr>\n",
              "    <tr>\n",
              "      <th>1</th>\n",
              "      <td>37</td>\n",
              "      <td>2015</td>\n",
              "      <td>43</td>\n",
              "      <td>24</td>\n",
              "      <td>2</td>\n",
              "      <td>5</td>\n",
              "      <td>1</td>\n",
              "      <td>1.0</td>\n",
              "      <td>0</td>\n",
              "      <td>0</td>\n",
              "      <td>...</td>\n",
              "      <td>0</td>\n",
              "      <td>0</td>\n",
              "      <td>0</td>\n",
              "      <td>1</td>\n",
              "      <td>0</td>\n",
              "      <td>0</td>\n",
              "      <td>0</td>\n",
              "      <td>0</td>\n",
              "      <td>1</td>\n",
              "      <td>0</td>\n",
              "    </tr>\n",
              "    <tr>\n",
              "      <th>2</th>\n",
              "      <td>190</td>\n",
              "      <td>2017</td>\n",
              "      <td>14</td>\n",
              "      <td>6</td>\n",
              "      <td>2</td>\n",
              "      <td>3</td>\n",
              "      <td>2</td>\n",
              "      <td>0.0</td>\n",
              "      <td>0</td>\n",
              "      <td>0</td>\n",
              "      <td>...</td>\n",
              "      <td>0</td>\n",
              "      <td>0</td>\n",
              "      <td>0</td>\n",
              "      <td>1</td>\n",
              "      <td>0</td>\n",
              "      <td>0</td>\n",
              "      <td>0</td>\n",
              "      <td>0</td>\n",
              "      <td>1</td>\n",
              "      <td>0</td>\n",
              "    </tr>\n",
              "    <tr>\n",
              "      <th>3</th>\n",
              "      <td>287</td>\n",
              "      <td>2016</td>\n",
              "      <td>35</td>\n",
              "      <td>24</td>\n",
              "      <td>1</td>\n",
              "      <td>4</td>\n",
              "      <td>2</td>\n",
              "      <td>0.0</td>\n",
              "      <td>0</td>\n",
              "      <td>0</td>\n",
              "      <td>...</td>\n",
              "      <td>0</td>\n",
              "      <td>0</td>\n",
              "      <td>0</td>\n",
              "      <td>1</td>\n",
              "      <td>0</td>\n",
              "      <td>0</td>\n",
              "      <td>0</td>\n",
              "      <td>0</td>\n",
              "      <td>1</td>\n",
              "      <td>0</td>\n",
              "    </tr>\n",
              "    <tr>\n",
              "      <th>4</th>\n",
              "      <td>386</td>\n",
              "      <td>2016</td>\n",
              "      <td>43</td>\n",
              "      <td>20</td>\n",
              "      <td>1</td>\n",
              "      <td>3</td>\n",
              "      <td>2</td>\n",
              "      <td>0.0</td>\n",
              "      <td>0</td>\n",
              "      <td>0</td>\n",
              "      <td>...</td>\n",
              "      <td>0</td>\n",
              "      <td>0</td>\n",
              "      <td>0</td>\n",
              "      <td>1</td>\n",
              "      <td>0</td>\n",
              "      <td>0</td>\n",
              "      <td>0</td>\n",
              "      <td>0</td>\n",
              "      <td>0</td>\n",
              "      <td>1</td>\n",
              "    </tr>\n",
              "    <tr>\n",
              "      <th>...</th>\n",
              "      <td>...</td>\n",
              "      <td>...</td>\n",
              "      <td>...</td>\n",
              "      <td>...</td>\n",
              "      <td>...</td>\n",
              "      <td>...</td>\n",
              "      <td>...</td>\n",
              "      <td>...</td>\n",
              "      <td>...</td>\n",
              "      <td>...</td>\n",
              "      <td>...</td>\n",
              "      <td>...</td>\n",
              "      <td>...</td>\n",
              "      <td>...</td>\n",
              "      <td>...</td>\n",
              "      <td>...</td>\n",
              "      <td>...</td>\n",
              "      <td>...</td>\n",
              "      <td>...</td>\n",
              "      <td>...</td>\n",
              "      <td>...</td>\n",
              "    </tr>\n",
              "    <tr>\n",
              "      <th>44633</th>\n",
              "      <td>31</td>\n",
              "      <td>2017</td>\n",
              "      <td>26</td>\n",
              "      <td>27</td>\n",
              "      <td>0</td>\n",
              "      <td>1</td>\n",
              "      <td>1</td>\n",
              "      <td>0.0</td>\n",
              "      <td>0</td>\n",
              "      <td>0</td>\n",
              "      <td>...</td>\n",
              "      <td>0</td>\n",
              "      <td>0</td>\n",
              "      <td>0</td>\n",
              "      <td>1</td>\n",
              "      <td>0</td>\n",
              "      <td>0</td>\n",
              "      <td>0</td>\n",
              "      <td>0</td>\n",
              "      <td>1</td>\n",
              "      <td>0</td>\n",
              "    </tr>\n",
              "    <tr>\n",
              "      <th>44634</th>\n",
              "      <td>116</td>\n",
              "      <td>2015</td>\n",
              "      <td>39</td>\n",
              "      <td>26</td>\n",
              "      <td>2</td>\n",
              "      <td>5</td>\n",
              "      <td>2</td>\n",
              "      <td>0.0</td>\n",
              "      <td>0</td>\n",
              "      <td>0</td>\n",
              "      <td>...</td>\n",
              "      <td>0</td>\n",
              "      <td>0</td>\n",
              "      <td>0</td>\n",
              "      <td>1</td>\n",
              "      <td>0</td>\n",
              "      <td>0</td>\n",
              "      <td>0</td>\n",
              "      <td>0</td>\n",
              "      <td>1</td>\n",
              "      <td>0</td>\n",
              "    </tr>\n",
              "    <tr>\n",
              "      <th>44635</th>\n",
              "      <td>89</td>\n",
              "      <td>2017</td>\n",
              "      <td>14</td>\n",
              "      <td>3</td>\n",
              "      <td>1</td>\n",
              "      <td>2</td>\n",
              "      <td>2</td>\n",
              "      <td>0.0</td>\n",
              "      <td>0</td>\n",
              "      <td>0</td>\n",
              "      <td>...</td>\n",
              "      <td>0</td>\n",
              "      <td>0</td>\n",
              "      <td>0</td>\n",
              "      <td>1</td>\n",
              "      <td>0</td>\n",
              "      <td>0</td>\n",
              "      <td>0</td>\n",
              "      <td>0</td>\n",
              "      <td>1</td>\n",
              "      <td>0</td>\n",
              "    </tr>\n",
              "    <tr>\n",
              "      <th>44636</th>\n",
              "      <td>277</td>\n",
              "      <td>2016</td>\n",
              "      <td>37</td>\n",
              "      <td>5</td>\n",
              "      <td>2</td>\n",
              "      <td>5</td>\n",
              "      <td>2</td>\n",
              "      <td>0.0</td>\n",
              "      <td>0</td>\n",
              "      <td>0</td>\n",
              "      <td>...</td>\n",
              "      <td>0</td>\n",
              "      <td>0</td>\n",
              "      <td>0</td>\n",
              "      <td>1</td>\n",
              "      <td>0</td>\n",
              "      <td>0</td>\n",
              "      <td>0</td>\n",
              "      <td>0</td>\n",
              "      <td>0</td>\n",
              "      <td>1</td>\n",
              "    </tr>\n",
              "    <tr>\n",
              "      <th>44637</th>\n",
              "      <td>22</td>\n",
              "      <td>2015</td>\n",
              "      <td>47</td>\n",
              "      <td>17</td>\n",
              "      <td>0</td>\n",
              "      <td>1</td>\n",
              "      <td>1</td>\n",
              "      <td>0.0</td>\n",
              "      <td>0</td>\n",
              "      <td>0</td>\n",
              "      <td>...</td>\n",
              "      <td>0</td>\n",
              "      <td>0</td>\n",
              "      <td>0</td>\n",
              "      <td>1</td>\n",
              "      <td>0</td>\n",
              "      <td>0</td>\n",
              "      <td>0</td>\n",
              "      <td>0</td>\n",
              "      <td>0</td>\n",
              "      <td>1</td>\n",
              "    </tr>\n",
              "  </tbody>\n",
              "</table>\n",
              "<p>68163 rows × 240 columns</p>\n",
              "</div>\n",
              "      <button class=\"colab-df-convert\" onclick=\"convertToInteractive('df-8488efdb-2133-415b-8477-bfb7a227b14d')\"\n",
              "              title=\"Convert this dataframe to an interactive table.\"\n",
              "              style=\"display:none;\">\n",
              "        \n",
              "  <svg xmlns=\"http://www.w3.org/2000/svg\" height=\"24px\"viewBox=\"0 0 24 24\"\n",
              "       width=\"24px\">\n",
              "    <path d=\"M0 0h24v24H0V0z\" fill=\"none\"/>\n",
              "    <path d=\"M18.56 5.44l.94 2.06.94-2.06 2.06-.94-2.06-.94-.94-2.06-.94 2.06-2.06.94zm-11 1L8.5 8.5l.94-2.06 2.06-.94-2.06-.94L8.5 2.5l-.94 2.06-2.06.94zm10 10l.94 2.06.94-2.06 2.06-.94-2.06-.94-.94-2.06-.94 2.06-2.06.94z\"/><path d=\"M17.41 7.96l-1.37-1.37c-.4-.4-.92-.59-1.43-.59-.52 0-1.04.2-1.43.59L10.3 9.45l-7.72 7.72c-.78.78-.78 2.05 0 2.83L4 21.41c.39.39.9.59 1.41.59.51 0 1.02-.2 1.41-.59l7.78-7.78 2.81-2.81c.8-.78.8-2.07 0-2.86zM5.41 20L4 18.59l7.72-7.72 1.47 1.35L5.41 20z\"/>\n",
              "  </svg>\n",
              "      </button>\n",
              "      \n",
              "  <style>\n",
              "    .colab-df-container {\n",
              "      display:flex;\n",
              "      flex-wrap:wrap;\n",
              "      gap: 12px;\n",
              "    }\n",
              "\n",
              "    .colab-df-convert {\n",
              "      background-color: #E8F0FE;\n",
              "      border: none;\n",
              "      border-radius: 50%;\n",
              "      cursor: pointer;\n",
              "      display: none;\n",
              "      fill: #1967D2;\n",
              "      height: 32px;\n",
              "      padding: 0 0 0 0;\n",
              "      width: 32px;\n",
              "    }\n",
              "\n",
              "    .colab-df-convert:hover {\n",
              "      background-color: #E2EBFA;\n",
              "      box-shadow: 0px 1px 2px rgba(60, 64, 67, 0.3), 0px 1px 3px 1px rgba(60, 64, 67, 0.15);\n",
              "      fill: #174EA6;\n",
              "    }\n",
              "\n",
              "    [theme=dark] .colab-df-convert {\n",
              "      background-color: #3B4455;\n",
              "      fill: #D2E3FC;\n",
              "    }\n",
              "\n",
              "    [theme=dark] .colab-df-convert:hover {\n",
              "      background-color: #434B5C;\n",
              "      box-shadow: 0px 1px 3px 1px rgba(0, 0, 0, 0.15);\n",
              "      filter: drop-shadow(0px 1px 2px rgba(0, 0, 0, 0.3));\n",
              "      fill: #FFFFFF;\n",
              "    }\n",
              "  </style>\n",
              "\n",
              "      <script>\n",
              "        const buttonEl =\n",
              "          document.querySelector('#df-8488efdb-2133-415b-8477-bfb7a227b14d button.colab-df-convert');\n",
              "        buttonEl.style.display =\n",
              "          google.colab.kernel.accessAllowed ? 'block' : 'none';\n",
              "\n",
              "        async function convertToInteractive(key) {\n",
              "          const element = document.querySelector('#df-8488efdb-2133-415b-8477-bfb7a227b14d');\n",
              "          const dataTable =\n",
              "            await google.colab.kernel.invokeFunction('convertToInteractive',\n",
              "                                                     [key], {});\n",
              "          if (!dataTable) return;\n",
              "\n",
              "          const docLinkHtml = 'Like what you see? Visit the ' +\n",
              "            '<a target=\"_blank\" href=https://colab.research.google.com/notebooks/data_table.ipynb>data table notebook</a>'\n",
              "            + ' to learn more about interactive tables.';\n",
              "          element.innerHTML = '';\n",
              "          dataTable['output_type'] = 'display_data';\n",
              "          await google.colab.output.renderOutput(dataTable, element);\n",
              "          const docLink = document.createElement('div');\n",
              "          docLink.innerHTML = docLinkHtml;\n",
              "          element.appendChild(docLink);\n",
              "        }\n",
              "      </script>\n",
              "    </div>\n",
              "  </div>\n",
              "  "
            ]
          },
          "metadata": {},
          "execution_count": 147
        }
      ]
    },
    {
      "cell_type": "code",
      "source": [
        "y_train.value_counts()"
      ],
      "metadata": {
        "colab": {
          "base_uri": "https://localhost:8080/"
        },
        "id": "5uVix4HAt_S-",
        "outputId": "b0b2b99f-b403-43f7-eb5b-67b981eb6e73"
      },
      "execution_count": 148,
      "outputs": [
        {
          "output_type": "execute_result",
          "data": {
            "text/plain": [
              "is_canceled\n",
              "0              28254\n",
              "1              11920\n",
              "dtype: int64"
            ]
          },
          "metadata": {},
          "execution_count": 148
        }
      ]
    },
    {
      "cell_type": "code",
      "source": [
        "X, _X = X[:n], X[n:]\n",
        "len(X), len(_X)"
      ],
      "metadata": {
        "colab": {
          "base_uri": "https://localhost:8080/"
        },
        "id": "jfqm9lFv0s7y",
        "outputId": "f8cb7f2b-16f6-4b12-a8f1-b69f5c652ffb"
      },
      "execution_count": 149,
      "outputs": [
        {
          "output_type": "execute_result",
          "data": {
            "text/plain": [
              "(44638, 23525)"
            ]
          },
          "metadata": {},
          "execution_count": 149
        }
      ]
    },
    {
      "cell_type": "code",
      "source": [
        "os = SMOTE(random_state=0, k_neighbors=10)\n",
        "\n",
        "columns = X.columns\n",
        "\n",
        "os_data_X, os_data_y = os.fit_resample(X[:n], y)\n",
        "os_data_X = pd.DataFrame(os_data_X, columns = columns)\n",
        "os_data_y = pd.DataFrame(os_data_y, columns = ['is_canceled'])"
      ],
      "metadata": {
        "id": "7bg95vrXunw4"
      },
      "execution_count": 150,
      "outputs": []
    },
    {
      "cell_type": "code",
      "source": [
        "n = len(os_data_X)"
      ],
      "metadata": {
        "id": "Nbgd1RX41OKp"
      },
      "execution_count": 151,
      "outputs": []
    },
    {
      "cell_type": "code",
      "source": [
        "os_data_X = pd.concat([os_data_X, _X], axis=0)"
      ],
      "metadata": {
        "id": "aDOmmUMp1YUo"
      },
      "execution_count": 152,
      "outputs": []
    },
    {
      "cell_type": "code",
      "source": [
        "scaler = StandardScaler()\n",
        "X_st = scaler.fit_transform(os_data_X)\n",
        "\n",
        "X_st "
      ],
      "metadata": {
        "colab": {
          "base_uri": "https://localhost:8080/"
        },
        "id": "r3iZ8YQQu82_",
        "outputId": "34437f86-53b4-413b-8e83-27876d82515e"
      },
      "execution_count": 153,
      "outputs": [
        {
          "output_type": "execute_result",
          "data": {
            "text/plain": [
              "array([[-0.33140481, -0.17114775,  0.06787613, ..., -0.06045333,\n",
              "         0.60385473, -0.47052736],\n",
              "       [-0.66144445, -1.58901535,  1.17906735, ..., -0.06045333,\n",
              "         0.60385473, -0.47052736],\n",
              "       [ 0.74122401,  1.24671985, -0.96923567, ..., -0.06045333,\n",
              "         0.60385473, -0.47052736],\n",
              "       ...,\n",
              "       [-0.18472053,  1.24671985, -0.96923567, ..., -0.06045333,\n",
              "         0.60385473, -0.47052736],\n",
              "       [ 1.5388198 , -0.17114775,  0.73459087, ..., -0.06045333,\n",
              "        -1.65602744,  2.12527494],\n",
              "       [-0.79896097, -1.58901535,  1.47538501, ..., -0.06045333,\n",
              "        -1.65602744,  2.12527494]])"
            ]
          },
          "metadata": {},
          "execution_count": 153
        }
      ]
    },
    {
      "cell_type": "code",
      "source": [
        "len(_X)"
      ],
      "metadata": {
        "colab": {
          "base_uri": "https://localhost:8080/"
        },
        "id": "kQU5v5m403Zq",
        "outputId": "d973bc14-e286-4c25-a6be-0299dc57a502"
      },
      "execution_count": 154,
      "outputs": [
        {
          "output_type": "execute_result",
          "data": {
            "text/plain": [
              "23525"
            ]
          },
          "metadata": {},
          "execution_count": 154
        }
      ]
    },
    {
      "cell_type": "code",
      "source": [],
      "metadata": {
        "id": "REeW19e05Uk2"
      },
      "execution_count": null,
      "outputs": []
    },
    {
      "cell_type": "code",
      "source": [
        "%%time\n",
        "scores = []\n",
        "for i in range(1,15):\n",
        "    score = {}\n",
        "    knn = KNeighborsClassifier(i)\n",
        "    knn.fit(X_train,y_train)\n",
        "    answers = knn.predict(X_test) # метод predict возвращает вектор ответов для X_test\n",
        "    \n",
        "    score['k'] = i\n",
        "    score['accuracy'] = accuracy_score(answers,y_test)\n",
        "    score['recall'] = recall_score(answers,y_test)\n",
        "    score['presicion'] = precision_score(answers,y_test)\n",
        "    \n",
        "    scores.append(score)\n",
        "\n",
        "scores = pd.DataFrame(scores)\n",
        "scores"
      ],
      "metadata": {
        "id": "WNANV-K75GMW"
      },
      "execution_count": null,
      "outputs": []
    },
    {
      "cell_type": "code",
      "source": [
        "knn = KNeighborsClassifier(3)\n",
        "knn.fit(os_data_X.iloc[:n], os_data_y)\n",
        "answers = knn.predict(os_data_X.iloc[n:])"
      ],
      "metadata": {
        "colab": {
          "base_uri": "https://localhost:8080/"
        },
        "id": "yu_GxnXNwNtO",
        "outputId": "cfe8c0c1-bdb9-419a-bbdc-ee16bf3a088a"
      },
      "execution_count": 155,
      "outputs": [
        {
          "output_type": "stream",
          "name": "stderr",
          "text": [
            "/usr/local/lib/python3.9/dist-packages/sklearn/neighbors/_classification.py:215: DataConversionWarning: A column-vector y was passed when a 1d array was expected. Please change the shape of y to (n_samples,), for example using ravel().\n",
            "  return self._fit(X, y)\n"
          ]
        }
      ]
    },
    {
      "cell_type": "code",
      "source": [
        "len(answers)"
      ],
      "metadata": {
        "colab": {
          "base_uri": "https://localhost:8080/"
        },
        "id": "VAM_GRJjysk0",
        "outputId": "4ba93071-d892-4569-95e0-3bdc385e66b4"
      },
      "execution_count": 156,
      "outputs": [
        {
          "output_type": "execute_result",
          "data": {
            "text/plain": [
              "23525"
            ]
          },
          "metadata": {},
          "execution_count": 156
        }
      ]
    },
    {
      "cell_type": "code",
      "source": [
        "ans = pd.DataFrame(answers, columns=[\"is_canceled\"])\n",
        "ans = ans.reset_index()\n",
        "ans"
      ],
      "metadata": {
        "colab": {
          "base_uri": "https://localhost:8080/",
          "height": 424
        },
        "id": "-tWDGS9izDRp",
        "outputId": "edb1783c-7e9a-40e4-e638-158b663163dd"
      },
      "execution_count": 157,
      "outputs": [
        {
          "output_type": "execute_result",
          "data": {
            "text/plain": [
              "       index  is_canceled\n",
              "0          0            1\n",
              "1          1            0\n",
              "2          2            0\n",
              "3          3            0\n",
              "4          4            0\n",
              "...      ...          ...\n",
              "23520  23520            1\n",
              "23521  23521            0\n",
              "23522  23522            0\n",
              "23523  23523            1\n",
              "23524  23524            0\n",
              "\n",
              "[23525 rows x 2 columns]"
            ],
            "text/html": [
              "\n",
              "  <div id=\"df-084abc69-4300-4832-860a-cd1e18fae6ef\">\n",
              "    <div class=\"colab-df-container\">\n",
              "      <div>\n",
              "<style scoped>\n",
              "    .dataframe tbody tr th:only-of-type {\n",
              "        vertical-align: middle;\n",
              "    }\n",
              "\n",
              "    .dataframe tbody tr th {\n",
              "        vertical-align: top;\n",
              "    }\n",
              "\n",
              "    .dataframe thead th {\n",
              "        text-align: right;\n",
              "    }\n",
              "</style>\n",
              "<table border=\"1\" class=\"dataframe\">\n",
              "  <thead>\n",
              "    <tr style=\"text-align: right;\">\n",
              "      <th></th>\n",
              "      <th>index</th>\n",
              "      <th>is_canceled</th>\n",
              "    </tr>\n",
              "  </thead>\n",
              "  <tbody>\n",
              "    <tr>\n",
              "      <th>0</th>\n",
              "      <td>0</td>\n",
              "      <td>1</td>\n",
              "    </tr>\n",
              "    <tr>\n",
              "      <th>1</th>\n",
              "      <td>1</td>\n",
              "      <td>0</td>\n",
              "    </tr>\n",
              "    <tr>\n",
              "      <th>2</th>\n",
              "      <td>2</td>\n",
              "      <td>0</td>\n",
              "    </tr>\n",
              "    <tr>\n",
              "      <th>3</th>\n",
              "      <td>3</td>\n",
              "      <td>0</td>\n",
              "    </tr>\n",
              "    <tr>\n",
              "      <th>4</th>\n",
              "      <td>4</td>\n",
              "      <td>0</td>\n",
              "    </tr>\n",
              "    <tr>\n",
              "      <th>...</th>\n",
              "      <td>...</td>\n",
              "      <td>...</td>\n",
              "    </tr>\n",
              "    <tr>\n",
              "      <th>23520</th>\n",
              "      <td>23520</td>\n",
              "      <td>1</td>\n",
              "    </tr>\n",
              "    <tr>\n",
              "      <th>23521</th>\n",
              "      <td>23521</td>\n",
              "      <td>0</td>\n",
              "    </tr>\n",
              "    <tr>\n",
              "      <th>23522</th>\n",
              "      <td>23522</td>\n",
              "      <td>0</td>\n",
              "    </tr>\n",
              "    <tr>\n",
              "      <th>23523</th>\n",
              "      <td>23523</td>\n",
              "      <td>1</td>\n",
              "    </tr>\n",
              "    <tr>\n",
              "      <th>23524</th>\n",
              "      <td>23524</td>\n",
              "      <td>0</td>\n",
              "    </tr>\n",
              "  </tbody>\n",
              "</table>\n",
              "<p>23525 rows × 2 columns</p>\n",
              "</div>\n",
              "      <button class=\"colab-df-convert\" onclick=\"convertToInteractive('df-084abc69-4300-4832-860a-cd1e18fae6ef')\"\n",
              "              title=\"Convert this dataframe to an interactive table.\"\n",
              "              style=\"display:none;\">\n",
              "        \n",
              "  <svg xmlns=\"http://www.w3.org/2000/svg\" height=\"24px\"viewBox=\"0 0 24 24\"\n",
              "       width=\"24px\">\n",
              "    <path d=\"M0 0h24v24H0V0z\" fill=\"none\"/>\n",
              "    <path d=\"M18.56 5.44l.94 2.06.94-2.06 2.06-.94-2.06-.94-.94-2.06-.94 2.06-2.06.94zm-11 1L8.5 8.5l.94-2.06 2.06-.94-2.06-.94L8.5 2.5l-.94 2.06-2.06.94zm10 10l.94 2.06.94-2.06 2.06-.94-2.06-.94-.94-2.06-.94 2.06-2.06.94z\"/><path d=\"M17.41 7.96l-1.37-1.37c-.4-.4-.92-.59-1.43-.59-.52 0-1.04.2-1.43.59L10.3 9.45l-7.72 7.72c-.78.78-.78 2.05 0 2.83L4 21.41c.39.39.9.59 1.41.59.51 0 1.02-.2 1.41-.59l7.78-7.78 2.81-2.81c.8-.78.8-2.07 0-2.86zM5.41 20L4 18.59l7.72-7.72 1.47 1.35L5.41 20z\"/>\n",
              "  </svg>\n",
              "      </button>\n",
              "      \n",
              "  <style>\n",
              "    .colab-df-container {\n",
              "      display:flex;\n",
              "      flex-wrap:wrap;\n",
              "      gap: 12px;\n",
              "    }\n",
              "\n",
              "    .colab-df-convert {\n",
              "      background-color: #E8F0FE;\n",
              "      border: none;\n",
              "      border-radius: 50%;\n",
              "      cursor: pointer;\n",
              "      display: none;\n",
              "      fill: #1967D2;\n",
              "      height: 32px;\n",
              "      padding: 0 0 0 0;\n",
              "      width: 32px;\n",
              "    }\n",
              "\n",
              "    .colab-df-convert:hover {\n",
              "      background-color: #E2EBFA;\n",
              "      box-shadow: 0px 1px 2px rgba(60, 64, 67, 0.3), 0px 1px 3px 1px rgba(60, 64, 67, 0.15);\n",
              "      fill: #174EA6;\n",
              "    }\n",
              "\n",
              "    [theme=dark] .colab-df-convert {\n",
              "      background-color: #3B4455;\n",
              "      fill: #D2E3FC;\n",
              "    }\n",
              "\n",
              "    [theme=dark] .colab-df-convert:hover {\n",
              "      background-color: #434B5C;\n",
              "      box-shadow: 0px 1px 3px 1px rgba(0, 0, 0, 0.15);\n",
              "      filter: drop-shadow(0px 1px 2px rgba(0, 0, 0, 0.3));\n",
              "      fill: #FFFFFF;\n",
              "    }\n",
              "  </style>\n",
              "\n",
              "      <script>\n",
              "        const buttonEl =\n",
              "          document.querySelector('#df-084abc69-4300-4832-860a-cd1e18fae6ef button.colab-df-convert');\n",
              "        buttonEl.style.display =\n",
              "          google.colab.kernel.accessAllowed ? 'block' : 'none';\n",
              "\n",
              "        async function convertToInteractive(key) {\n",
              "          const element = document.querySelector('#df-084abc69-4300-4832-860a-cd1e18fae6ef');\n",
              "          const dataTable =\n",
              "            await google.colab.kernel.invokeFunction('convertToInteractive',\n",
              "                                                     [key], {});\n",
              "          if (!dataTable) return;\n",
              "\n",
              "          const docLinkHtml = 'Like what you see? Visit the ' +\n",
              "            '<a target=\"_blank\" href=https://colab.research.google.com/notebooks/data_table.ipynb>data table notebook</a>'\n",
              "            + ' to learn more about interactive tables.';\n",
              "          element.innerHTML = '';\n",
              "          dataTable['output_type'] = 'display_data';\n",
              "          await google.colab.output.renderOutput(dataTable, element);\n",
              "          const docLink = document.createElement('div');\n",
              "          docLink.innerHTML = docLinkHtml;\n",
              "          element.appendChild(docLink);\n",
              "        }\n",
              "      </script>\n",
              "    </div>\n",
              "  </div>\n",
              "  "
            ]
          },
          "metadata": {},
          "execution_count": 157
        }
      ]
    },
    {
      "cell_type": "code",
      "source": [
        "ans.to_csv(\"res.csv\", index=False)"
      ],
      "metadata": {
        "id": "u-guZWYdzere"
      },
      "execution_count": 160,
      "outputs": []
    }
  ]
}