{
  "nbformat": 4,
  "nbformat_minor": 0,
  "metadata": {
    "colab": {
      "provenance": []
    },
    "kernelspec": {
      "name": "python3",
      "display_name": "Python 3"
    },
    "language_info": {
      "name": "python"
    }
  },
  "cells": [
    {
      "cell_type": "code",
      "execution_count": 86,
      "metadata": {
        "id": "PHxazNvGYWrW"
      },
      "outputs": [],
      "source": [
        "import numpy as np\n",
        "import pandas as pd\n",
        "import random\n",
        "from sklearn.metrics import mean_absolute_error, mean_squared_error, accuracy_score, r2_score\n",
        "\n",
        "y_pred_clf = [random.randint(1,5) for i in range(30)] # предсказанные ответы классификатором\n",
        "y_true_clf = [random.randint(1,5) for i in range(30)] # правильные ответы классификатором\n",
        "\n",
        "y_pred_reg = [random.uniform(1,5) for i in range(30)] # предсказанные ответы регрессором\n",
        "y_true_reg = [random.uniform(1,5) for i in range(30)]\n",
        "a= {'y_pred_reg'  : y_pred_reg, 'y_true_reg' : y_true_reg}\n",
        "df = pd.DataFrame(a)"
      ]
    },
    {
      "cell_type": "code",
      "source": [
        "MSE =0\n",
        "for i in range(30):\n",
        "  MSE+= (y_true_reg[i]-y_pred_reg[i])**2\n",
        "  MAE += abs(y_true_reg[i]-y_pred_reg[i])\n",
        "MAE = MAE/30\n",
        "MSE = MSE/30"
      ],
      "metadata": {
        "id": "9nabc7vEYgnB"
      },
      "execution_count": 57,
      "outputs": []
    },
    {
      "cell_type": "code",
      "source": [
        "print(r2_score(y_true_reg, y_pred_reg))"
      ],
      "metadata": {
        "colab": {
          "base_uri": "https://localhost:8080/"
        },
        "id": "gTYDeXBWf3rw",
        "outputId": "a90e8673-fc69-47bb-f927-af2b46602512"
      },
      "execution_count": 87,
      "outputs": [
        {
          "output_type": "stream",
          "name": "stdout",
          "text": [
            "-1.1932447877172354\n"
          ]
        }
      ]
    },
    {
      "cell_type": "code",
      "source": [
        "a1 = mean_absolute_error(y_true_reg, y_pred_reg)\n",
        "a2 = mean_squared_error(y_true_reg, y_pred_reg)\n",
        "print(MSE, a2)\n",
        "print(MAE, a1)"
      ],
      "metadata": {
        "colab": {
          "base_uri": "https://localhost:8080/"
        },
        "id": "POPYzn-AaQI3",
        "outputId": "615791dd-8471-4970-a4ad-7f61c227d7a1"
      },
      "execution_count": 27,
      "outputs": [
        {
          "output_type": "stream",
          "name": "stdout",
          "text": [
            "1.9792701245206723 1.9792701245206723\n",
            "1.1264421357439773 1.0696643579661995\n"
          ]
        }
      ]
    },
    {
      "cell_type": "code",
      "source": [
        "accuracy = 0\n",
        "for i in range(30):\n",
        "  if(y_true_clf[i] == y_pred_clf[i]):\n",
        "    accuracy+=1\n",
        "accuracy = accuracy/30\n",
        "\n",
        "print(accuracy_score(y_true_clf, y_pred_clf), accuracy)"
      ],
      "metadata": {
        "colab": {
          "base_uri": "https://localhost:8080/"
        },
        "id": "Bb6Jn1J_bzfj",
        "outputId": "8bc25e5d-ca65-486c-fb02-d7163a34e527"
      },
      "execution_count": 31,
      "outputs": [
        {
          "output_type": "stream",
          "name": "stdout",
          "text": [
            "0.3333333333333333 0.3333333333333333\n"
          ]
        }
      ]
    }
  ]
}