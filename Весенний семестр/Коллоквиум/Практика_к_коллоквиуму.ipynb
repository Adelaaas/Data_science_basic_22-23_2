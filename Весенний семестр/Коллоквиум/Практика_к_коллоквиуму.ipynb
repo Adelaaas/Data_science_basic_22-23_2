{
  "nbformat": 4,
  "nbformat_minor": 0,
  "metadata": {
    "colab": {
      "provenance": []
    },
    "kernelspec": {
      "name": "python3",
      "display_name": "Python 3"
    },
    "language_info": {
      "name": "python"
    }
  },
  "cells": [
    {
      "cell_type": "code",
      "execution_count": null,
      "metadata": {
        "id": "yh0euR5HNIz3"
      },
      "outputs": [],
      "source": [
        "# Все необходимые импорты\n",
        "\n",
        "from sklearn.preprocessing import LabelEncoder\n",
        "\n",
        "import pandas as pd\n",
        "import numpy as np\n",
        "import matplotlib.pyplot as plt\n",
        "\n",
        "from sklearn.linear_model import LogisticRegression\n",
        "from sklearn.linear_model import LinearRegression\n",
        "\n",
        "from sklearn.metrics import mean_absolute_error, mean_squared_error, r2_score\n",
        "from sklearn.metrics import confusion_matrix, accuracy_score, precision_score, recall_score, f1_score\n",
        "\n",
        "from sklearn.model_selection import train_test_split"
      ]
    },
    {
      "cell_type": "markdown",
      "source": [
        "# Вариант 1"
      ],
      "metadata": {
        "id": "Cv0tuSa_IyBr"
      }
    },
    {
      "cell_type": "markdown",
      "source": [
        "1. Подсчитайте количество пропусков в каждой колонке данного DataFrame.\n",
        "2. Подсчитайте сколько уникальных значений в колонке `Hydrocarbon type` и сколько раз каждое уникальное значение встречается в данном DataFrame.\n",
        "3. Закодируйте колонку `Hydrocarbon type` двумя способами: `LabelEncoder()` и `get_dummies()`."
      ],
      "metadata": {
        "id": "mvLMNqzCJjsk"
      }
    },
    {
      "cell_type": "code",
      "source": [
        "import pandas as pd\n",
        "\n",
        "df = pd.read_csv(\"https://raw.githubusercontent.com/Adelaaas/Data_science_basic_22-23_1/main/%D0%92%D0%B5%D1%81%D0%B5%D0%BD%D0%BD%D0%B8%D0%B9%20%D1%81%D0%B5%D0%BC%D0%B5%D1%81%D1%82%D1%80/%D0%9A%D0%BE%D0%BB%D0%BB%D0%BE%D0%BA%D0%B2%D0%B8%D1%83%D0%BC/train_oil.csv\")"
      ],
      "metadata": {
        "id": "Y8KEdWqqIz6q"
      },
      "execution_count": null,
      "outputs": []
    },
    {
      "cell_type": "markdown",
      "source": [
        "# Вариант 2"
      ],
      "metadata": {
        "id": "sj6olFgMKHzV"
      }
    },
    {
      "cell_type": "markdown",
      "source": [
        "1. Постройте точечный график от двух переменных `Latitude` и\t`Longitude`. График и оси должны быть подписаны.\n",
        "2. Целевая переменная `Onshore/Offshore`. Выделите вектор целевой переменной и вектор признаков. Создайте тренировочную и тестовые подвыборки.\n",
        "3. Создайте массив типа np.array() размером (4,4) и заполните 1 по главной диагонали."
      ],
      "metadata": {
        "id": "-6xVShgAKJnd"
      }
    },
    {
      "cell_type": "code",
      "source": [
        "import pandas as pd\n",
        "\n",
        "df = pd.read_csv(\"https://raw.githubusercontent.com/Adelaaas/Data_science_basic_22-23_1/main/%D0%92%D0%B5%D1%81%D0%B5%D0%BD%D0%BD%D0%B8%D0%B9%20%D1%81%D0%B5%D0%BC%D0%B5%D1%81%D1%82%D1%80/%D0%9A%D0%BE%D0%BB%D0%BB%D0%BE%D0%BA%D0%B2%D0%B8%D1%83%D0%BC/train_oil.csv\")"
      ],
      "metadata": {
        "id": "i5WX3i3wKJyZ"
      },
      "execution_count": null,
      "outputs": []
    },
    {
      "cell_type": "markdown",
      "source": [
        "# Вариант 3."
      ],
      "metadata": {
        "id": "NhZEuH4ILjUY"
      }
    },
    {
      "cell_type": "markdown",
      "source": [
        "1. Реализуйте метод локтя для данного набора данных и сделайте вывод об оптимальном числе кластеров.\n",
        "2. Подсчитайте сколько мужин, а сколько женщин в данном наборе  данных.\n",
        "3. Постройте точечный график от двух переменных `Age` и `Income`.\n",
        "\n",
        "*P.s. все графики и оси должны быть подписаны.*"
      ],
      "metadata": {
        "id": "At47m00ELlBw"
      }
    },
    {
      "cell_type": "code",
      "source": [
        "import pandas as pd\n",
        "\n",
        "df = pd.read_csv(\"https://raw.githubusercontent.com/Adelaaas/Data_science_basic_22-23_1/main/%D0%92%D0%B5%D1%81%D0%B5%D0%BD%D0%BD%D0%B8%D0%B9%20%D1%81%D0%B5%D0%BC%D0%B5%D1%81%D1%82%D1%80/%D0%9A%D0%BE%D0%BB%D0%BB%D0%BE%D0%BA%D0%B2%D0%B8%D1%83%D0%BC/segmentation%20data%20(1).csv\")"
      ],
      "metadata": {
        "id": "ufy-Xxc9L9Rn"
      },
      "execution_count": 17,
      "outputs": []
    },
    {
      "cell_type": "markdown",
      "source": [
        "# Вариант 4."
      ],
      "metadata": {
        "id": "lD37x7amMb1w"
      }
    },
    {
      "cell_type": "markdown",
      "source": [
        "1. Постройте матрицу корреляции для данного набора данных и сделайте по ней вывод.\n",
        "2. Подсчитайте пропуски в данных.\n",
        "3. Есть ли в вашем наборе данных категориальные признаки? Если да, то закодируйте любой из них с использованием `get_dummies()`."
      ],
      "metadata": {
        "id": "ghMurV0vMjV7"
      }
    },
    {
      "cell_type": "code",
      "source": [
        "import pandas as pd\n",
        "\n",
        "df = pd.read_csv(\"https://raw.githubusercontent.com/Adelaaas/Data_science_basic_22-23_1/main/%D0%92%D0%B5%D1%81%D0%B5%D0%BD%D0%BD%D0%B8%D0%B9%20%D1%81%D0%B5%D0%BC%D0%B5%D1%81%D1%82%D1%80/%D0%9A%D0%BE%D0%BB%D0%BB%D0%BE%D0%BA%D0%B2%D0%B8%D1%83%D0%BC/segmentation%20data%20(1).csv\")"
      ],
      "metadata": {
        "id": "WYd-J9i9Mdbl"
      },
      "execution_count": null,
      "outputs": []
    },
    {
      "cell_type": "markdown",
      "source": [
        "# Вариант 5"
      ],
      "metadata": {
        "id": "2LjzboDsM__T"
      }
    },
    {
      "cell_type": "markdown",
      "source": [
        "1. Визуализируйте дендрограмму по данному набору данных.\n",
        "2. Подсчитайте сколько уникальных значений в колонке Education и сколько раз встречается каждое уникальное значение в наборе данных.\n",
        "3. Постройте точечный график от двух переменных `Age` и `Income`.\n",
        "\n",
        "*P.s. все графики и оси должны быть подписаны.*"
      ],
      "metadata": {
        "id": "UUpbfSt2NBtF"
      }
    },
    {
      "cell_type": "code",
      "source": [
        "import pandas as pd\n",
        "\n",
        "df = pd.read_csv(\"https://raw.githubusercontent.com/Adelaaas/Data_science_basic_22-23_1/main/%D0%92%D0%B5%D1%81%D0%B5%D0%BD%D0%BD%D0%B8%D0%B9%20%D1%81%D0%B5%D0%BC%D0%B5%D1%81%D1%82%D1%80/%D0%9A%D0%BE%D0%BB%D0%BB%D0%BE%D0%BA%D0%B2%D0%B8%D1%83%D0%BC/segmentation%20data%20(1).csv\")"
      ],
      "metadata": {
        "id": "0qPVBBn4NB2x"
      },
      "execution_count": null,
      "outputs": []
    },
    {
      "cell_type": "markdown",
      "source": [
        "# Вариант 6"
      ],
      "metadata": {
        "id": "DgLl-cBlNmNd"
      }
    },
    {
      "cell_type": "markdown",
      "source": [
        "Целевая переменная `name`. Реализуйте алгоритм класификации на данном наборе данных, с использование разделения выборки на тренировочный и тестовый подвыборки. Оцените полученный результат с использованием метрик классификации и сделайте вывод."
      ],
      "metadata": {
        "id": "UJG5GToSODDx"
      }
    },
    {
      "cell_type": "code",
      "source": [
        "import pandas as pd\n",
        "\n",
        "df = pd.read_csv(\"https://raw.githubusercontent.com/Adelaaas/Data_science_basic_22-23_1/main/%D0%92%D0%B5%D1%81%D0%B5%D0%BD%D0%BD%D0%B8%D0%B9%20%D1%81%D0%B5%D0%BC%D0%B5%D1%81%D1%82%D1%80/%D0%9A%D0%BE%D0%BB%D0%BB%D0%BE%D0%BA%D0%B2%D0%B8%D1%83%D0%BC/citrus.csv\")"
      ],
      "metadata": {
        "id": "wNmusxISNoT4"
      },
      "execution_count": null,
      "outputs": []
    },
    {
      "cell_type": "markdown",
      "source": [
        "# Вариант 7"
      ],
      "metadata": {
        "id": "E_dRCIpcOYsI"
      }
    },
    {
      "cell_type": "markdown",
      "source": [
        "Целевая переменная `charges`. Реализуйте алгоритм линейной регрессии на данном наборе данных, с использование разделения выборки на тренировочный и тестовый подвыборки. Оцените полученный результат с использованием метрик регрессии и сделайте вывод."
      ],
      "metadata": {
        "id": "-zTP-LiKOaQG"
      }
    },
    {
      "cell_type": "code",
      "source": [
        "import pandas as pd\n",
        "\n",
        "df = pd.read_csv(\"https://raw.githubusercontent.com/Adelaaas/Data_science_basic_22-23_1/main/%D0%92%D0%B5%D1%81%D0%B5%D0%BD%D0%BD%D0%B8%D0%B9%20%D1%81%D0%B5%D0%BC%D0%B5%D1%81%D1%82%D1%80/%D0%9A%D0%BE%D0%BB%D0%BB%D0%BE%D0%BA%D0%B2%D0%B8%D1%83%D0%BC/insurance.csv\")"
      ],
      "metadata": {
        "id": "6PH9RY8ROaZf"
      },
      "execution_count": null,
      "outputs": []
    },
    {
      "cell_type": "markdown",
      "source": [
        "# Вариант 8"
      ],
      "metadata": {
        "id": "9Bdu1wqLQxWb"
      }
    },
    {
      "cell_type": "markdown",
      "source": [
        "1. Посчитайте сколько уникальных значений в колонке `region` и сколько раз каждое уникальное значение встречается в наборе данных.\n",
        "2. Целевая колонка `charges`, к какому типу задач машинного обучения отнести данную задачу?\n",
        "3. Постройте алгоритм линейной регрессии для данного набора данных и напишите полученное уравнение регресии."
      ],
      "metadata": {
        "id": "dfeQcSQIQynI"
      }
    },
    {
      "cell_type": "code",
      "source": [
        "import pandas as pd\n",
        "\n",
        "df = pd.read_csv(\"https://raw.githubusercontent.com/Adelaaas/Data_science_basic_22-23_1/main/%D0%92%D0%B5%D1%81%D0%B5%D0%BD%D0%BD%D0%B8%D0%B9%20%D1%81%D0%B5%D0%BC%D0%B5%D1%81%D1%82%D1%80/%D0%9A%D0%BE%D0%BB%D0%BB%D0%BE%D0%BA%D0%B2%D0%B8%D1%83%D0%BC/insurance.csv\")"
      ],
      "metadata": {
        "id": "cJQ-PhJ3RUQ-"
      },
      "execution_count": null,
      "outputs": []
    },
    {
      "cell_type": "markdown",
      "source": [
        "# Вариант 9"
      ],
      "metadata": {
        "id": "I2L-OdqHRV-C"
      }
    },
    {
      "cell_type": "markdown",
      "source": [
        "Целевая переменная `Salary`. Реализуйте алгоритм линейной регрессии на данном наборе данных, с использование разделения выборки на тренировочный и тестовый подвыборки. Оцените полученный результат с использованием метрик регрессии и сделайте вывод. Визуализируйте полученную прямую регрессии."
      ],
      "metadata": {
        "id": "TtjtoPuWRX1T"
      }
    },
    {
      "cell_type": "code",
      "source": [
        "import pandas as pd\n",
        "\n",
        "df = pd.read_csv(\"https://raw.githubusercontent.com/Adelaaas/Data_science_basic_22-23_1/main/%D0%92%D0%B5%D1%81%D0%B5%D0%BD%D0%BD%D0%B8%D0%B9%20%D1%81%D0%B5%D0%BC%D0%B5%D1%81%D1%82%D1%80/%D0%9A%D0%BE%D0%BB%D0%BB%D0%BE%D0%BA%D0%B2%D0%B8%D1%83%D0%BC/Salary_Data.csv\")"
      ],
      "metadata": {
        "id": "TfEnQCcoRX-9"
      },
      "execution_count": null,
      "outputs": []
    },
    {
      "cell_type": "markdown",
      "source": [
        "# Вариант 10"
      ],
      "metadata": {
        "id": "WieAfKyoR4Np"
      }
    },
    {
      "cell_type": "markdown",
      "source": [
        "1. Закодируйте переменную `name` с использованием двух методов: `LabelEncoder()` и `get_dummies()`.\n",
        "2. Реализуйте алгоритм классификации на данном наборе данных и оцените результат работы модели с помощью `confusion matrix`. Целевая переменная `name`.\n",
        "3. Постройте точечный график от двух переменных `diameter` и `weight`."
      ],
      "metadata": {
        "id": "mo7O4R4ER5wW"
      }
    },
    {
      "cell_type": "code",
      "source": [
        "import pandas as pd\n",
        "\n",
        "df = pd.read_csv(\"https://raw.githubusercontent.com/Adelaaas/Data_science_basic_22-23_1/main/%D0%92%D0%B5%D1%81%D0%B5%D0%BD%D0%BD%D0%B8%D0%B9%20%D1%81%D0%B5%D0%BC%D0%B5%D1%81%D1%82%D1%80/%D0%9A%D0%BE%D0%BB%D0%BB%D0%BE%D0%BA%D0%B2%D0%B8%D1%83%D0%BC/citrus.csv\")"
      ],
      "metadata": {
        "id": "j5nQjAsaRraE"
      },
      "execution_count": null,
      "outputs": []
    },
    {
      "cell_type": "markdown",
      "source": [
        "# Вариант 11"
      ],
      "metadata": {
        "id": "NqURJD3_StbA"
      }
    },
    {
      "cell_type": "markdown",
      "source": [
        "Реализуйте алгоритм кластеризации Kmeans на данном наборе данных, с использованием метода локтя для поиска оптимального числа кластеров."
      ],
      "metadata": {
        "id": "nKalMU0OSv6m"
      }
    },
    {
      "cell_type": "code",
      "source": [
        "import pandas as pd\n",
        "\n",
        "df = pd.read_csv(\"https://raw.githubusercontent.com/Adelaaas/Data_science_basic_22-23_1/main/%D0%92%D0%B5%D1%81%D0%B5%D0%BD%D0%BD%D0%B8%D0%B9%20%D1%81%D0%B5%D0%BC%D0%B5%D1%81%D1%82%D1%80/%D0%9A%D0%BE%D0%BB%D0%BB%D0%BE%D0%BA%D0%B2%D0%B8%D1%83%D0%BC/bestsellers%20with%20categories.csv\")"
      ],
      "metadata": {
        "id": "dznGqN7JSwOo"
      },
      "execution_count": null,
      "outputs": []
    },
    {
      "cell_type": "markdown",
      "source": [
        "# Вариант 12"
      ],
      "metadata": {
        "id": "V8lEDL90Taju"
      }
    },
    {
      "cell_type": "markdown",
      "source": [
        "1. На данном наборе данных в случае решения задачи кластеризации, классификации и регрессии: что бы вы выбрали в качестве признаков, что в качестве целевой переменной?\n",
        "Для каждого случая напишите названия переменных.\n",
        "2. Посчитайте сколько уникальных значений в колонке `Genre` и сколько раз каждое уникальное значение встречается.\n",
        "3. Закадируйте переменную `Genre` с использованием двух методов: `LabelEncoder()` и `get_dummies()`."
      ],
      "metadata": {
        "id": "Psxel5uKThSd"
      }
    },
    {
      "cell_type": "code",
      "source": [
        "import pandas as pd\n",
        "\n",
        "df = pd.read_csv(\"https://raw.githubusercontent.com/Adelaaas/Data_science_basic_22-23_1/main/%D0%92%D0%B5%D1%81%D0%B5%D0%BD%D0%BD%D0%B8%D0%B9%20%D1%81%D0%B5%D0%BC%D0%B5%D1%81%D1%82%D1%80/%D0%9A%D0%BE%D0%BB%D0%BB%D0%BE%D0%BA%D0%B2%D0%B8%D1%83%D0%BC/bestsellers%20with%20categories.csv\")"
      ],
      "metadata": {
        "id": "lsu5vzEwT-JB"
      },
      "execution_count": null,
      "outputs": []
    },
    {
      "cell_type": "markdown",
      "source": [
        "# Вариант 13"
      ],
      "metadata": {
        "id": "AJu8qFQQUEVE"
      }
    },
    {
      "cell_type": "markdown",
      "source": [
        "1. Определите какие переменные в данном датасете являются категориальными и закодируйте их с использованием любого известного вам метода.\n",
        "2. Реализуйте алгоритм классификации на данном наборе данных, взяв за целевую переменную колонку `Genre`.\n",
        "3. Оцените алгоритм классификации любой известной вам метрикой классификации."
      ],
      "metadata": {
        "id": "KXDRPV9DUJZB"
      }
    },
    {
      "cell_type": "code",
      "source": [
        "import pandas as pd\n",
        "\n",
        "df = pd.read_csv(\"https://raw.githubusercontent.com/Adelaaas/Data_science_basic_22-23_1/main/%D0%92%D0%B5%D1%81%D0%B5%D0%BD%D0%BD%D0%B8%D0%B9%20%D1%81%D0%B5%D0%BC%D0%B5%D1%81%D1%82%D1%80/%D0%9A%D0%BE%D0%BB%D0%BB%D0%BE%D0%BA%D0%B2%D0%B8%D1%83%D0%BC/bestsellers%20with%20categories.csv\")"
      ],
      "metadata": {
        "id": "ZIH62Il8UF4k"
      },
      "execution_count": null,
      "outputs": []
    },
    {
      "cell_type": "markdown",
      "source": [
        "# Вариант 14"
      ],
      "metadata": {
        "id": "1NsSV2LrUnff"
      }
    },
    {
      "cell_type": "markdown",
      "source": [
        "У вас есть набор правильных и предсказанных ответов для классификатора и регрессора. Реализуйте вручую метод оценивания результатов работы алгоритмов. Посчитайте метрики воспользовавшись готовыми функциями из библиотеки `sklearn`, сравните, сделайте вывод о полученных значениях."
      ],
      "metadata": {
        "id": "UVgl0xOQUou7"
      }
    },
    {
      "cell_type": "code",
      "source": [
        "import numpy as np\n",
        "import pandas as pd\n",
        "import random\n",
        "\n",
        "y_pred_clf = [random.randint(1,5) for i in range(30)] # предсказанные ответы классификатором\n",
        "y_true_clf = [random.randint(1,5) for i in range(30)] # правильные ответы классификатором\n",
        "\n",
        "y_pred_reg = [random.uniform(1,5) for i in range(30)] # предсказанные ответы регрессором\n",
        "y_true_reg = [random.uniform(1,5) for i in range(30)] # правильные ответы регрессором"
      ],
      "metadata": {
        "id": "rvDq0vSwUo4t"
      },
      "execution_count": null,
      "outputs": []
    },
    {
      "cell_type": "markdown",
      "source": [
        "# Вариант 16"
      ],
      "metadata": {
        "id": "QZ-5vcK_V-fV"
      }
    },
    {
      "cell_type": "markdown",
      "source": [
        "1. Подсчитайте количество пропусков в каждой колонке данного DataFrame.\n",
        "2. Подсчитайте сколько уникальных значений в колонке `Hydrocarbon type` и сколько раз каждое уникальное значение встречается в данном DataFrame.\n",
        "3. Закодируйте колонку `Hydrocarbon type` двумя способами: `LabelEncoder()` и `get_dummies()`."
      ],
      "metadata": {
        "id": "UhI-tOQNWA0B"
      }
    },
    {
      "cell_type": "code",
      "source": [
        "import pandas as pd\n",
        "\n",
        "df = pd.read_csv(\"https://raw.githubusercontent.com/Adelaaas/Data_science_basic_22-23_1/main/%D0%92%D0%B5%D1%81%D0%B5%D0%BD%D0%BD%D0%B8%D0%B9%20%D1%81%D0%B5%D0%BC%D0%B5%D1%81%D1%82%D1%80/%D0%9A%D0%BE%D0%BB%D0%BB%D0%BE%D0%BA%D0%B2%D0%B8%D1%83%D0%BC/train_oil.csv\")"
      ],
      "metadata": {
        "id": "EsYV3vb5-1D_"
      },
      "execution_count": null,
      "outputs": []
    }
  ]
}