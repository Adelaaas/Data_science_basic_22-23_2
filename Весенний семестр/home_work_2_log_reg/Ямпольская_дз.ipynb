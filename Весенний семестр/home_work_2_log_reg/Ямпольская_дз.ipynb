{
  "nbformat": 4,
  "nbformat_minor": 0,
  "metadata": {
    "colab": {
      "provenance": []
    },
    "kernelspec": {
      "name": "python3",
      "display_name": "Python 3"
    },
    "language_info": {
      "name": "python"
    }
  },
  "cells": [
    {
      "cell_type": "markdown",
      "source": [
        "# Задание"
      ],
      "metadata": {
        "id": "YNLDQZORD40U"
      }
    },
    {
      "cell_type": "markdown",
      "source": [
        "У каждого есть свой набор данный, который можно найти в ведомости на вкладке \"Логистическая регрессия\":\n",
        "\n",
        "https://clck.ru/32BVWe\n",
        "\n",
        "Скачиваете свой датасет с kaggle (для этого нужно авторизоваться с гугл аккаунт и скачать датасет)."
      ],
      "metadata": {
        "id": "ZXteIzIFD6iO"
      }
    },
    {
      "cell_type": "markdown",
      "source": [
        "**Ваша задача:**\n",
        "1. Исследовать данные\n",
        "2. Создать тренировочную и тестовую подвыборки\n",
        "3. Построить модель логистической регрессии по своему набору данных (т.е. создать модель и обучить ее на тренировочной выборке)\n",
        "4. Получить коэффиценты уравнения логистической регрессии (т.е. уравнение разделяющей поверхности). Сделать вывод какие из признаков оказались наиболее значимыми, какие нет и почему\n",
        "5. Написать уравнение логистической регрессии.\n",
        "6. Вывести confusion matrix для получившейся модели.\n",
        "7. Вручную посчитать метрики: accuracy, recall, precision. f1.\n",
        "8. Посчитать метрики с помощью библиотеки sklearn и сравнить с оценками из п.7.\n",
        "9. Сделать письменный вывод получившихся результатов (хорошие или плохие получлись метрики и почему).\n",
        "\n",
        "ВСЕ графики должны быть подписанны.\n",
        "Ваша задача получить метрики как можно лучше."
      ],
      "metadata": {
        "id": "oO5iEmWfER82"
      }
    },
    {
      "cell_type": "code",
      "source": [
        "import numpy as np\n",
        "import pandas as pd\n",
        "from sklearn.model_selection import train_test_split\n",
        "from sklearn.metrics import confusion_matrix, accuracy_score, precision_score, recall_score, f1_score\n",
        "import matplotlib.pyplot as plt\n",
        "from sklearn.preprocessing import OrdinalEncoder\n",
        "import seaborn as sns\n",
        "from sklearn import preprocessing\n",
        "\n",
        "from sklearn.linear_model import LogisticRegression"
      ],
      "metadata": {
        "id": "ZNP83Im2lFgM"
      },
      "execution_count": 108,
      "outputs": []
    },
    {
      "cell_type": "code",
      "source": [
        "df = pd.read_csv(\"neo.csv\")\n",
        "df"
      ],
      "metadata": {
        "colab": {
          "base_uri": "https://localhost:8080/",
          "height": 424
        },
        "id": "lhaXoqKOlPvC",
        "outputId": "62c55e29-910b-40d3-cab8-38003e337462"
      },
      "execution_count": 88,
      "outputs": [
        {
          "output_type": "execute_result",
          "data": {
            "text/plain": [
              "             id                 name  est_diameter_min  est_diameter_max  \\\n",
              "0       2162635  162635 (2000 SS164)          1.198271          2.679415   \n",
              "1       2277475    277475 (2005 WK4)          0.265800          0.594347   \n",
              "2       2512244   512244 (2015 YE18)          0.722030          1.614507   \n",
              "3       3596030          (2012 BV13)          0.096506          0.215794   \n",
              "4       3667127          (2014 GE35)          0.255009          0.570217   \n",
              "...         ...                  ...               ...               ...   \n",
              "90831   3763337           (2016 VX1)          0.026580          0.059435   \n",
              "90832   3837603           (2019 AD3)          0.016771          0.037501   \n",
              "90833  54017201           (2020 JP3)          0.031956          0.071456   \n",
              "90834  54115824           (2021 CN5)          0.007321          0.016370   \n",
              "90835  54205447           (2021 TW7)          0.039862          0.089133   \n",
              "\n",
              "       relative_velocity  miss_distance orbiting_body  sentry_object  \\\n",
              "0           13569.249224   5.483974e+07         Earth          False   \n",
              "1           73588.726663   6.143813e+07         Earth          False   \n",
              "2          114258.692129   4.979872e+07         Earth          False   \n",
              "3           24764.303138   2.543497e+07         Earth          False   \n",
              "4           42737.733765   4.627557e+07         Earth          False   \n",
              "...                  ...            ...           ...            ...   \n",
              "90831       52078.886692   1.230039e+07         Earth          False   \n",
              "90832       46114.605073   5.432121e+07         Earth          False   \n",
              "90833        7566.807732   2.840077e+07         Earth          False   \n",
              "90834       69199.154484   6.869206e+07         Earth          False   \n",
              "90835       27024.455553   5.977213e+07         Earth          False   \n",
              "\n",
              "       absolute_magnitude  hazardous  \n",
              "0                   16.73      False  \n",
              "1                   20.00       True  \n",
              "2                   17.83      False  \n",
              "3                   22.20      False  \n",
              "4                   20.09       True  \n",
              "...                   ...        ...  \n",
              "90831               25.00      False  \n",
              "90832               26.00      False  \n",
              "90833               24.60      False  \n",
              "90834               27.80      False  \n",
              "90835               24.12      False  \n",
              "\n",
              "[90836 rows x 10 columns]"
            ],
            "text/html": [
              "\n",
              "  <div id=\"df-665f0929-4357-49ee-b818-3b7a979343e7\">\n",
              "    <div class=\"colab-df-container\">\n",
              "      <div>\n",
              "<style scoped>\n",
              "    .dataframe tbody tr th:only-of-type {\n",
              "        vertical-align: middle;\n",
              "    }\n",
              "\n",
              "    .dataframe tbody tr th {\n",
              "        vertical-align: top;\n",
              "    }\n",
              "\n",
              "    .dataframe thead th {\n",
              "        text-align: right;\n",
              "    }\n",
              "</style>\n",
              "<table border=\"1\" class=\"dataframe\">\n",
              "  <thead>\n",
              "    <tr style=\"text-align: right;\">\n",
              "      <th></th>\n",
              "      <th>id</th>\n",
              "      <th>name</th>\n",
              "      <th>est_diameter_min</th>\n",
              "      <th>est_diameter_max</th>\n",
              "      <th>relative_velocity</th>\n",
              "      <th>miss_distance</th>\n",
              "      <th>orbiting_body</th>\n",
              "      <th>sentry_object</th>\n",
              "      <th>absolute_magnitude</th>\n",
              "      <th>hazardous</th>\n",
              "    </tr>\n",
              "  </thead>\n",
              "  <tbody>\n",
              "    <tr>\n",
              "      <th>0</th>\n",
              "      <td>2162635</td>\n",
              "      <td>162635 (2000 SS164)</td>\n",
              "      <td>1.198271</td>\n",
              "      <td>2.679415</td>\n",
              "      <td>13569.249224</td>\n",
              "      <td>5.483974e+07</td>\n",
              "      <td>Earth</td>\n",
              "      <td>False</td>\n",
              "      <td>16.73</td>\n",
              "      <td>False</td>\n",
              "    </tr>\n",
              "    <tr>\n",
              "      <th>1</th>\n",
              "      <td>2277475</td>\n",
              "      <td>277475 (2005 WK4)</td>\n",
              "      <td>0.265800</td>\n",
              "      <td>0.594347</td>\n",
              "      <td>73588.726663</td>\n",
              "      <td>6.143813e+07</td>\n",
              "      <td>Earth</td>\n",
              "      <td>False</td>\n",
              "      <td>20.00</td>\n",
              "      <td>True</td>\n",
              "    </tr>\n",
              "    <tr>\n",
              "      <th>2</th>\n",
              "      <td>2512244</td>\n",
              "      <td>512244 (2015 YE18)</td>\n",
              "      <td>0.722030</td>\n",
              "      <td>1.614507</td>\n",
              "      <td>114258.692129</td>\n",
              "      <td>4.979872e+07</td>\n",
              "      <td>Earth</td>\n",
              "      <td>False</td>\n",
              "      <td>17.83</td>\n",
              "      <td>False</td>\n",
              "    </tr>\n",
              "    <tr>\n",
              "      <th>3</th>\n",
              "      <td>3596030</td>\n",
              "      <td>(2012 BV13)</td>\n",
              "      <td>0.096506</td>\n",
              "      <td>0.215794</td>\n",
              "      <td>24764.303138</td>\n",
              "      <td>2.543497e+07</td>\n",
              "      <td>Earth</td>\n",
              "      <td>False</td>\n",
              "      <td>22.20</td>\n",
              "      <td>False</td>\n",
              "    </tr>\n",
              "    <tr>\n",
              "      <th>4</th>\n",
              "      <td>3667127</td>\n",
              "      <td>(2014 GE35)</td>\n",
              "      <td>0.255009</td>\n",
              "      <td>0.570217</td>\n",
              "      <td>42737.733765</td>\n",
              "      <td>4.627557e+07</td>\n",
              "      <td>Earth</td>\n",
              "      <td>False</td>\n",
              "      <td>20.09</td>\n",
              "      <td>True</td>\n",
              "    </tr>\n",
              "    <tr>\n",
              "      <th>...</th>\n",
              "      <td>...</td>\n",
              "      <td>...</td>\n",
              "      <td>...</td>\n",
              "      <td>...</td>\n",
              "      <td>...</td>\n",
              "      <td>...</td>\n",
              "      <td>...</td>\n",
              "      <td>...</td>\n",
              "      <td>...</td>\n",
              "      <td>...</td>\n",
              "    </tr>\n",
              "    <tr>\n",
              "      <th>90831</th>\n",
              "      <td>3763337</td>\n",
              "      <td>(2016 VX1)</td>\n",
              "      <td>0.026580</td>\n",
              "      <td>0.059435</td>\n",
              "      <td>52078.886692</td>\n",
              "      <td>1.230039e+07</td>\n",
              "      <td>Earth</td>\n",
              "      <td>False</td>\n",
              "      <td>25.00</td>\n",
              "      <td>False</td>\n",
              "    </tr>\n",
              "    <tr>\n",
              "      <th>90832</th>\n",
              "      <td>3837603</td>\n",
              "      <td>(2019 AD3)</td>\n",
              "      <td>0.016771</td>\n",
              "      <td>0.037501</td>\n",
              "      <td>46114.605073</td>\n",
              "      <td>5.432121e+07</td>\n",
              "      <td>Earth</td>\n",
              "      <td>False</td>\n",
              "      <td>26.00</td>\n",
              "      <td>False</td>\n",
              "    </tr>\n",
              "    <tr>\n",
              "      <th>90833</th>\n",
              "      <td>54017201</td>\n",
              "      <td>(2020 JP3)</td>\n",
              "      <td>0.031956</td>\n",
              "      <td>0.071456</td>\n",
              "      <td>7566.807732</td>\n",
              "      <td>2.840077e+07</td>\n",
              "      <td>Earth</td>\n",
              "      <td>False</td>\n",
              "      <td>24.60</td>\n",
              "      <td>False</td>\n",
              "    </tr>\n",
              "    <tr>\n",
              "      <th>90834</th>\n",
              "      <td>54115824</td>\n",
              "      <td>(2021 CN5)</td>\n",
              "      <td>0.007321</td>\n",
              "      <td>0.016370</td>\n",
              "      <td>69199.154484</td>\n",
              "      <td>6.869206e+07</td>\n",
              "      <td>Earth</td>\n",
              "      <td>False</td>\n",
              "      <td>27.80</td>\n",
              "      <td>False</td>\n",
              "    </tr>\n",
              "    <tr>\n",
              "      <th>90835</th>\n",
              "      <td>54205447</td>\n",
              "      <td>(2021 TW7)</td>\n",
              "      <td>0.039862</td>\n",
              "      <td>0.089133</td>\n",
              "      <td>27024.455553</td>\n",
              "      <td>5.977213e+07</td>\n",
              "      <td>Earth</td>\n",
              "      <td>False</td>\n",
              "      <td>24.12</td>\n",
              "      <td>False</td>\n",
              "    </tr>\n",
              "  </tbody>\n",
              "</table>\n",
              "<p>90836 rows × 10 columns</p>\n",
              "</div>\n",
              "      <button class=\"colab-df-convert\" onclick=\"convertToInteractive('df-665f0929-4357-49ee-b818-3b7a979343e7')\"\n",
              "              title=\"Convert this dataframe to an interactive table.\"\n",
              "              style=\"display:none;\">\n",
              "        \n",
              "  <svg xmlns=\"http://www.w3.org/2000/svg\" height=\"24px\"viewBox=\"0 0 24 24\"\n",
              "       width=\"24px\">\n",
              "    <path d=\"M0 0h24v24H0V0z\" fill=\"none\"/>\n",
              "    <path d=\"M18.56 5.44l.94 2.06.94-2.06 2.06-.94-2.06-.94-.94-2.06-.94 2.06-2.06.94zm-11 1L8.5 8.5l.94-2.06 2.06-.94-2.06-.94L8.5 2.5l-.94 2.06-2.06.94zm10 10l.94 2.06.94-2.06 2.06-.94-2.06-.94-.94-2.06-.94 2.06-2.06.94z\"/><path d=\"M17.41 7.96l-1.37-1.37c-.4-.4-.92-.59-1.43-.59-.52 0-1.04.2-1.43.59L10.3 9.45l-7.72 7.72c-.78.78-.78 2.05 0 2.83L4 21.41c.39.39.9.59 1.41.59.51 0 1.02-.2 1.41-.59l7.78-7.78 2.81-2.81c.8-.78.8-2.07 0-2.86zM5.41 20L4 18.59l7.72-7.72 1.47 1.35L5.41 20z\"/>\n",
              "  </svg>\n",
              "      </button>\n",
              "      \n",
              "  <style>\n",
              "    .colab-df-container {\n",
              "      display:flex;\n",
              "      flex-wrap:wrap;\n",
              "      gap: 12px;\n",
              "    }\n",
              "\n",
              "    .colab-df-convert {\n",
              "      background-color: #E8F0FE;\n",
              "      border: none;\n",
              "      border-radius: 50%;\n",
              "      cursor: pointer;\n",
              "      display: none;\n",
              "      fill: #1967D2;\n",
              "      height: 32px;\n",
              "      padding: 0 0 0 0;\n",
              "      width: 32px;\n",
              "    }\n",
              "\n",
              "    .colab-df-convert:hover {\n",
              "      background-color: #E2EBFA;\n",
              "      box-shadow: 0px 1px 2px rgba(60, 64, 67, 0.3), 0px 1px 3px 1px rgba(60, 64, 67, 0.15);\n",
              "      fill: #174EA6;\n",
              "    }\n",
              "\n",
              "    [theme=dark] .colab-df-convert {\n",
              "      background-color: #3B4455;\n",
              "      fill: #D2E3FC;\n",
              "    }\n",
              "\n",
              "    [theme=dark] .colab-df-convert:hover {\n",
              "      background-color: #434B5C;\n",
              "      box-shadow: 0px 1px 3px 1px rgba(0, 0, 0, 0.15);\n",
              "      filter: drop-shadow(0px 1px 2px rgba(0, 0, 0, 0.3));\n",
              "      fill: #FFFFFF;\n",
              "    }\n",
              "  </style>\n",
              "\n",
              "      <script>\n",
              "        const buttonEl =\n",
              "          document.querySelector('#df-665f0929-4357-49ee-b818-3b7a979343e7 button.colab-df-convert');\n",
              "        buttonEl.style.display =\n",
              "          google.colab.kernel.accessAllowed ? 'block' : 'none';\n",
              "\n",
              "        async function convertToInteractive(key) {\n",
              "          const element = document.querySelector('#df-665f0929-4357-49ee-b818-3b7a979343e7');\n",
              "          const dataTable =\n",
              "            await google.colab.kernel.invokeFunction('convertToInteractive',\n",
              "                                                     [key], {});\n",
              "          if (!dataTable) return;\n",
              "\n",
              "          const docLinkHtml = 'Like what you see? Visit the ' +\n",
              "            '<a target=\"_blank\" href=https://colab.research.google.com/notebooks/data_table.ipynb>data table notebook</a>'\n",
              "            + ' to learn more about interactive tables.';\n",
              "          element.innerHTML = '';\n",
              "          dataTable['output_type'] = 'display_data';\n",
              "          await google.colab.output.renderOutput(dataTable, element);\n",
              "          const docLink = document.createElement('div');\n",
              "          docLink.innerHTML = docLinkHtml;\n",
              "          element.appendChild(docLink);\n",
              "        }\n",
              "      </script>\n",
              "    </div>\n",
              "  </div>\n",
              "  "
            ]
          },
          "metadata": {},
          "execution_count": 88
        }
      ]
    },
    {
      "cell_type": "code",
      "source": [
        "encoder = preprocessing.LabelEncoder()\n",
        "encoder.fit(df[\"hazardous\"])"
      ],
      "metadata": {
        "colab": {
          "base_uri": "https://localhost:8080/"
        },
        "id": "idVsgXxinF-Q",
        "outputId": "69e4220e-a594-4390-f924-dd529383aea1"
      },
      "execution_count": 91,
      "outputs": [
        {
          "output_type": "execute_result",
          "data": {
            "text/plain": [
              "LabelEncoder()"
            ]
          },
          "metadata": {},
          "execution_count": 91
        }
      ]
    },
    {
      "cell_type": "code",
      "source": [
        "df[\"hazardous\"] = encoder.transform(df[\"hazardous\"])\n",
        "df[\"sentry_object\"] = encoder.transform(df[\"sentry_object\"])\n",
        "df.drop(['name', 'orbiting_body'], axis=1, inplace=True)"
      ],
      "metadata": {
        "id": "yLXPYw7YoA_a"
      },
      "execution_count": 92,
      "outputs": []
    },
    {
      "cell_type": "code",
      "source": [
        "df"
      ],
      "metadata": {
        "colab": {
          "base_uri": "https://localhost:8080/",
          "height": 424
        },
        "id": "oAfmtgqGoF5y",
        "outputId": "d085e55e-e97a-405c-ba8b-7895256c18e2"
      },
      "execution_count": 93,
      "outputs": [
        {
          "output_type": "execute_result",
          "data": {
            "text/plain": [
              "             id  est_diameter_min  est_diameter_max  relative_velocity  \\\n",
              "0       2162635          1.198271          2.679415       13569.249224   \n",
              "1       2277475          0.265800          0.594347       73588.726663   \n",
              "2       2512244          0.722030          1.614507      114258.692129   \n",
              "3       3596030          0.096506          0.215794       24764.303138   \n",
              "4       3667127          0.255009          0.570217       42737.733765   \n",
              "...         ...               ...               ...                ...   \n",
              "90831   3763337          0.026580          0.059435       52078.886692   \n",
              "90832   3837603          0.016771          0.037501       46114.605073   \n",
              "90833  54017201          0.031956          0.071456        7566.807732   \n",
              "90834  54115824          0.007321          0.016370       69199.154484   \n",
              "90835  54205447          0.039862          0.089133       27024.455553   \n",
              "\n",
              "       miss_distance  sentry_object  absolute_magnitude  hazardous  \n",
              "0       5.483974e+07              0               16.73          0  \n",
              "1       6.143813e+07              0               20.00          1  \n",
              "2       4.979872e+07              0               17.83          0  \n",
              "3       2.543497e+07              0               22.20          0  \n",
              "4       4.627557e+07              0               20.09          1  \n",
              "...              ...            ...                 ...        ...  \n",
              "90831   1.230039e+07              0               25.00          0  \n",
              "90832   5.432121e+07              0               26.00          0  \n",
              "90833   2.840077e+07              0               24.60          0  \n",
              "90834   6.869206e+07              0               27.80          0  \n",
              "90835   5.977213e+07              0               24.12          0  \n",
              "\n",
              "[90836 rows x 8 columns]"
            ],
            "text/html": [
              "\n",
              "  <div id=\"df-f341fe19-053f-43dc-a4f1-dc334c266045\">\n",
              "    <div class=\"colab-df-container\">\n",
              "      <div>\n",
              "<style scoped>\n",
              "    .dataframe tbody tr th:only-of-type {\n",
              "        vertical-align: middle;\n",
              "    }\n",
              "\n",
              "    .dataframe tbody tr th {\n",
              "        vertical-align: top;\n",
              "    }\n",
              "\n",
              "    .dataframe thead th {\n",
              "        text-align: right;\n",
              "    }\n",
              "</style>\n",
              "<table border=\"1\" class=\"dataframe\">\n",
              "  <thead>\n",
              "    <tr style=\"text-align: right;\">\n",
              "      <th></th>\n",
              "      <th>id</th>\n",
              "      <th>est_diameter_min</th>\n",
              "      <th>est_diameter_max</th>\n",
              "      <th>relative_velocity</th>\n",
              "      <th>miss_distance</th>\n",
              "      <th>sentry_object</th>\n",
              "      <th>absolute_magnitude</th>\n",
              "      <th>hazardous</th>\n",
              "    </tr>\n",
              "  </thead>\n",
              "  <tbody>\n",
              "    <tr>\n",
              "      <th>0</th>\n",
              "      <td>2162635</td>\n",
              "      <td>1.198271</td>\n",
              "      <td>2.679415</td>\n",
              "      <td>13569.249224</td>\n",
              "      <td>5.483974e+07</td>\n",
              "      <td>0</td>\n",
              "      <td>16.73</td>\n",
              "      <td>0</td>\n",
              "    </tr>\n",
              "    <tr>\n",
              "      <th>1</th>\n",
              "      <td>2277475</td>\n",
              "      <td>0.265800</td>\n",
              "      <td>0.594347</td>\n",
              "      <td>73588.726663</td>\n",
              "      <td>6.143813e+07</td>\n",
              "      <td>0</td>\n",
              "      <td>20.00</td>\n",
              "      <td>1</td>\n",
              "    </tr>\n",
              "    <tr>\n",
              "      <th>2</th>\n",
              "      <td>2512244</td>\n",
              "      <td>0.722030</td>\n",
              "      <td>1.614507</td>\n",
              "      <td>114258.692129</td>\n",
              "      <td>4.979872e+07</td>\n",
              "      <td>0</td>\n",
              "      <td>17.83</td>\n",
              "      <td>0</td>\n",
              "    </tr>\n",
              "    <tr>\n",
              "      <th>3</th>\n",
              "      <td>3596030</td>\n",
              "      <td>0.096506</td>\n",
              "      <td>0.215794</td>\n",
              "      <td>24764.303138</td>\n",
              "      <td>2.543497e+07</td>\n",
              "      <td>0</td>\n",
              "      <td>22.20</td>\n",
              "      <td>0</td>\n",
              "    </tr>\n",
              "    <tr>\n",
              "      <th>4</th>\n",
              "      <td>3667127</td>\n",
              "      <td>0.255009</td>\n",
              "      <td>0.570217</td>\n",
              "      <td>42737.733765</td>\n",
              "      <td>4.627557e+07</td>\n",
              "      <td>0</td>\n",
              "      <td>20.09</td>\n",
              "      <td>1</td>\n",
              "    </tr>\n",
              "    <tr>\n",
              "      <th>...</th>\n",
              "      <td>...</td>\n",
              "      <td>...</td>\n",
              "      <td>...</td>\n",
              "      <td>...</td>\n",
              "      <td>...</td>\n",
              "      <td>...</td>\n",
              "      <td>...</td>\n",
              "      <td>...</td>\n",
              "    </tr>\n",
              "    <tr>\n",
              "      <th>90831</th>\n",
              "      <td>3763337</td>\n",
              "      <td>0.026580</td>\n",
              "      <td>0.059435</td>\n",
              "      <td>52078.886692</td>\n",
              "      <td>1.230039e+07</td>\n",
              "      <td>0</td>\n",
              "      <td>25.00</td>\n",
              "      <td>0</td>\n",
              "    </tr>\n",
              "    <tr>\n",
              "      <th>90832</th>\n",
              "      <td>3837603</td>\n",
              "      <td>0.016771</td>\n",
              "      <td>0.037501</td>\n",
              "      <td>46114.605073</td>\n",
              "      <td>5.432121e+07</td>\n",
              "      <td>0</td>\n",
              "      <td>26.00</td>\n",
              "      <td>0</td>\n",
              "    </tr>\n",
              "    <tr>\n",
              "      <th>90833</th>\n",
              "      <td>54017201</td>\n",
              "      <td>0.031956</td>\n",
              "      <td>0.071456</td>\n",
              "      <td>7566.807732</td>\n",
              "      <td>2.840077e+07</td>\n",
              "      <td>0</td>\n",
              "      <td>24.60</td>\n",
              "      <td>0</td>\n",
              "    </tr>\n",
              "    <tr>\n",
              "      <th>90834</th>\n",
              "      <td>54115824</td>\n",
              "      <td>0.007321</td>\n",
              "      <td>0.016370</td>\n",
              "      <td>69199.154484</td>\n",
              "      <td>6.869206e+07</td>\n",
              "      <td>0</td>\n",
              "      <td>27.80</td>\n",
              "      <td>0</td>\n",
              "    </tr>\n",
              "    <tr>\n",
              "      <th>90835</th>\n",
              "      <td>54205447</td>\n",
              "      <td>0.039862</td>\n",
              "      <td>0.089133</td>\n",
              "      <td>27024.455553</td>\n",
              "      <td>5.977213e+07</td>\n",
              "      <td>0</td>\n",
              "      <td>24.12</td>\n",
              "      <td>0</td>\n",
              "    </tr>\n",
              "  </tbody>\n",
              "</table>\n",
              "<p>90836 rows × 8 columns</p>\n",
              "</div>\n",
              "      <button class=\"colab-df-convert\" onclick=\"convertToInteractive('df-f341fe19-053f-43dc-a4f1-dc334c266045')\"\n",
              "              title=\"Convert this dataframe to an interactive table.\"\n",
              "              style=\"display:none;\">\n",
              "        \n",
              "  <svg xmlns=\"http://www.w3.org/2000/svg\" height=\"24px\"viewBox=\"0 0 24 24\"\n",
              "       width=\"24px\">\n",
              "    <path d=\"M0 0h24v24H0V0z\" fill=\"none\"/>\n",
              "    <path d=\"M18.56 5.44l.94 2.06.94-2.06 2.06-.94-2.06-.94-.94-2.06-.94 2.06-2.06.94zm-11 1L8.5 8.5l.94-2.06 2.06-.94-2.06-.94L8.5 2.5l-.94 2.06-2.06.94zm10 10l.94 2.06.94-2.06 2.06-.94-2.06-.94-.94-2.06-.94 2.06-2.06.94z\"/><path d=\"M17.41 7.96l-1.37-1.37c-.4-.4-.92-.59-1.43-.59-.52 0-1.04.2-1.43.59L10.3 9.45l-7.72 7.72c-.78.78-.78 2.05 0 2.83L4 21.41c.39.39.9.59 1.41.59.51 0 1.02-.2 1.41-.59l7.78-7.78 2.81-2.81c.8-.78.8-2.07 0-2.86zM5.41 20L4 18.59l7.72-7.72 1.47 1.35L5.41 20z\"/>\n",
              "  </svg>\n",
              "      </button>\n",
              "      \n",
              "  <style>\n",
              "    .colab-df-container {\n",
              "      display:flex;\n",
              "      flex-wrap:wrap;\n",
              "      gap: 12px;\n",
              "    }\n",
              "\n",
              "    .colab-df-convert {\n",
              "      background-color: #E8F0FE;\n",
              "      border: none;\n",
              "      border-radius: 50%;\n",
              "      cursor: pointer;\n",
              "      display: none;\n",
              "      fill: #1967D2;\n",
              "      height: 32px;\n",
              "      padding: 0 0 0 0;\n",
              "      width: 32px;\n",
              "    }\n",
              "\n",
              "    .colab-df-convert:hover {\n",
              "      background-color: #E2EBFA;\n",
              "      box-shadow: 0px 1px 2px rgba(60, 64, 67, 0.3), 0px 1px 3px 1px rgba(60, 64, 67, 0.15);\n",
              "      fill: #174EA6;\n",
              "    }\n",
              "\n",
              "    [theme=dark] .colab-df-convert {\n",
              "      background-color: #3B4455;\n",
              "      fill: #D2E3FC;\n",
              "    }\n",
              "\n",
              "    [theme=dark] .colab-df-convert:hover {\n",
              "      background-color: #434B5C;\n",
              "      box-shadow: 0px 1px 3px 1px rgba(0, 0, 0, 0.15);\n",
              "      filter: drop-shadow(0px 1px 2px rgba(0, 0, 0, 0.3));\n",
              "      fill: #FFFFFF;\n",
              "    }\n",
              "  </style>\n",
              "\n",
              "      <script>\n",
              "        const buttonEl =\n",
              "          document.querySelector('#df-f341fe19-053f-43dc-a4f1-dc334c266045 button.colab-df-convert');\n",
              "        buttonEl.style.display =\n",
              "          google.colab.kernel.accessAllowed ? 'block' : 'none';\n",
              "\n",
              "        async function convertToInteractive(key) {\n",
              "          const element = document.querySelector('#df-f341fe19-053f-43dc-a4f1-dc334c266045');\n",
              "          const dataTable =\n",
              "            await google.colab.kernel.invokeFunction('convertToInteractive',\n",
              "                                                     [key], {});\n",
              "          if (!dataTable) return;\n",
              "\n",
              "          const docLinkHtml = 'Like what you see? Visit the ' +\n",
              "            '<a target=\"_blank\" href=https://colab.research.google.com/notebooks/data_table.ipynb>data table notebook</a>'\n",
              "            + ' to learn more about interactive tables.';\n",
              "          element.innerHTML = '';\n",
              "          dataTable['output_type'] = 'display_data';\n",
              "          await google.colab.output.renderOutput(dataTable, element);\n",
              "          const docLink = document.createElement('div');\n",
              "          docLink.innerHTML = docLinkHtml;\n",
              "          element.appendChild(docLink);\n",
              "        }\n",
              "      </script>\n",
              "    </div>\n",
              "  </div>\n",
              "  "
            ]
          },
          "metadata": {},
          "execution_count": 93
        }
      ]
    },
    {
      "cell_type": "code",
      "source": [
        "X = df.drop(['hazardous'], axis=1)\n",
        "y = df['hazardous']\n",
        "X_train, X_test, y_train, y_test = train_test_split(df.drop(['hazardous'], axis=1), df['hazardous'], test_size=0.3)"
      ],
      "metadata": {
        "id": "XLDob-_hobuh"
      },
      "execution_count": 94,
      "outputs": []
    },
    {
      "cell_type": "code",
      "source": [
        "model = LogisticRegression()\n",
        "\n",
        "model.fit(X_train, y_train)\n",
        "\n",
        "pred = model.predict(X_test)"
      ],
      "metadata": {
        "id": "M0iMxngHo0kI"
      },
      "execution_count": 110,
      "outputs": []
    },
    {
      "cell_type": "code",
      "source": [
        "model.coef_"
      ],
      "metadata": {
        "colab": {
          "base_uri": "https://localhost:8080/"
        },
        "id": "qa-9SkNDo63M",
        "outputId": "37475ead-6d68-4427-857e-8a648d626934"
      },
      "execution_count": 96,
      "outputs": [
        {
          "output_type": "execute_result",
          "data": {
            "text/plain": [
              "array([[-6.30954669e-08,  9.57235551e-11,  2.14044376e-10,\n",
              "        -7.95526268e-06, -2.70607547e-08,  0.00000000e+00,\n",
              "        -1.72034407e-08]])"
            ]
          },
          "metadata": {},
          "execution_count": 96
        }
      ]
    },
    {
      "cell_type": "markdown",
      "source": [
        "y = -6.30954669e-08 + 9.57235551e-11x + -2.14044376e-10x + -7.95526268e-06x + -2.70607547e-08x + 0 + -1.72034407e-08x"
      ],
      "metadata": {
        "id": "UP5e01xrrsrm"
      }
    },
    {
      "cell_type": "code",
      "source": [
        "confusion_matrix(y_test, pred)"
      ],
      "metadata": {
        "colab": {
          "base_uri": "https://localhost:8080/"
        },
        "id": "6UvSOSnspxKV",
        "outputId": "4ee64ebb-c0ae-42cf-a994-5b6143cbb422"
      },
      "execution_count": 111,
      "outputs": [
        {
          "output_type": "execute_result",
          "data": {
            "text/plain": [
              "array([[24616,     0],\n",
              "       [ 2635,     0]])"
            ]
          },
          "metadata": {},
          "execution_count": 111
        }
      ]
    },
    {
      "cell_type": "code",
      "source": [
        "tn, fp, fn, tp = confusion_matrix(y_test, pred).ravel()"
      ],
      "metadata": {
        "id": "Mm8VkRLMqMj7"
      },
      "execution_count": 132,
      "outputs": []
    },
    {
      "cell_type": "code",
      "source": [
        "acc = (tp + tn)/(tp + tn + fp + fn)\n",
        "print(acc)\n",
        "accuracy_score(y_test, pred)"
      ],
      "metadata": {
        "colab": {
          "base_uri": "https://localhost:8080/"
        },
        "id": "OM2H3SEmu9xX",
        "outputId": "2c78aab8-caa1-4c34-adf4-3b744e56b808"
      },
      "execution_count": 128,
      "outputs": [
        {
          "output_type": "stream",
          "name": "stdout",
          "text": [
            "0.9033063006862133\n"
          ]
        },
        {
          "output_type": "execute_result",
          "data": {
            "text/plain": [
              "0.9033063006862133"
            ]
          },
          "metadata": {},
          "execution_count": 128
        }
      ]
    },
    {
      "cell_type": "code",
      "source": [
        "rec = tp/(tp + fn)\n",
        "print(rec)\n",
        "recall_score(y_test, pred)"
      ],
      "metadata": {
        "colab": {
          "base_uri": "https://localhost:8080/"
        },
        "id": "wtyb1Dk8vKnN",
        "outputId": "67d6e240-e0fc-437b-91de-7c5f82829460"
      },
      "execution_count": 129,
      "outputs": [
        {
          "output_type": "stream",
          "name": "stdout",
          "text": [
            "0.0\n"
          ]
        },
        {
          "output_type": "execute_result",
          "data": {
            "text/plain": [
              "0.0"
            ]
          },
          "metadata": {},
          "execution_count": 129
        }
      ]
    },
    {
      "cell_type": "code",
      "source": [
        "prec = tp/(tp + fp)\n",
        "print(prec)\n",
        "precision_score(y_test, pred)"
      ],
      "metadata": {
        "colab": {
          "base_uri": "https://localhost:8080/"
        },
        "id": "EczAJdbivTR5",
        "outputId": "f9a2cad9-9e23-4da8-d37c-8c907adcf05b"
      },
      "execution_count": 130,
      "outputs": [
        {
          "output_type": "stream",
          "name": "stdout",
          "text": [
            "nan\n"
          ]
        },
        {
          "output_type": "stream",
          "name": "stderr",
          "text": [
            "<ipython-input-130-e41229e2fd3b>:1: RuntimeWarning: invalid value encountered in long_scalars\n",
            "  prec = tp/(tp + fp)\n",
            "/usr/local/lib/python3.8/dist-packages/sklearn/metrics/_classification.py:1318: UndefinedMetricWarning: Precision is ill-defined and being set to 0.0 due to no predicted samples. Use `zero_division` parameter to control this behavior.\n",
            "  _warn_prf(average, modifier, msg_start, len(result))\n"
          ]
        },
        {
          "output_type": "execute_result",
          "data": {
            "text/plain": [
              "0.0"
            ]
          },
          "metadata": {},
          "execution_count": 130
        }
      ]
    },
    {
      "cell_type": "code",
      "source": [
        "f1 = 2 * ((prec * rec)/(prec + rec))\n",
        "print(f1)\n",
        "f1_score(y_test, pred)"
      ],
      "metadata": {
        "colab": {
          "base_uri": "https://localhost:8080/"
        },
        "id": "sAK083r2vhYl",
        "outputId": "ae86e1a6-817d-43ae-ed5a-34698577f2a0"
      },
      "execution_count": 131,
      "outputs": [
        {
          "output_type": "stream",
          "name": "stdout",
          "text": [
            "nan\n"
          ]
        },
        {
          "output_type": "execute_result",
          "data": {
            "text/plain": [
              "0.0"
            ]
          },
          "metadata": {},
          "execution_count": 131
        }
      ]
    },
    {
      "cell_type": "markdown",
      "source": [
        "так как 3/4 метрик равны 0, можно сделать вывод, что модель работает очень плохо"
      ],
      "metadata": {
        "id": "Ti7JuaeTJWkg"
      }
    }
  ]
}