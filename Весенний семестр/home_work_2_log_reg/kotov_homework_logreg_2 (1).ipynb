{
  "nbformat": 4,
  "nbformat_minor": 0,
  "metadata": {
    "colab": {
      "provenance": []
    },
    "kernelspec": {
      "name": "python3",
      "display_name": "Python 3"
    },
    "language_info": {
      "name": "python"
    }
  },
  "cells": [
    {
      "cell_type": "code",
      "execution_count": null,
      "metadata": {
        "id": "v2lN-0ytYODF"
      },
      "outputs": [],
      "source": [
        "import pandas as pd\n",
        "from sklearn.model_selection import train_test_split\n",
        "import matplotlib.pyplot as plt\n",
        "import seaborn as sns\n",
        "import numpy as np\n",
        "from sklearn.metrics import confusion_matrix, accuracy_score, precision_score, recall_score, f1_score\n",
        "from sklearn.preprocessing import OrdinalEncoder\n",
        "from sklearn.linear_model import LogisticRegression"
      ]
    },
    {
      "cell_type": "code",
      "source": [
        "data = pd.read_csv(\"neo.csv\")\n",
        "data.head(10)"
      ],
      "metadata": {
        "colab": {
          "base_uri": "https://localhost:8080/",
          "height": 363
        },
        "id": "BnLlI4nxaE9q",
        "outputId": "7db08904-50bf-4465-d962-feb4d1d7b3a2"
      },
      "execution_count": null,
      "outputs": [
        {
          "output_type": "execute_result",
          "data": {
            "text/plain": [
              "         id                 name  est_diameter_min  est_diameter_max  \\\n",
              "0   2162635  162635 (2000 SS164)          1.198271          2.679415   \n",
              "1   2277475    277475 (2005 WK4)          0.265800          0.594347   \n",
              "2   2512244   512244 (2015 YE18)          0.722030          1.614507   \n",
              "3   3596030          (2012 BV13)          0.096506          0.215794   \n",
              "4   3667127          (2014 GE35)          0.255009          0.570217   \n",
              "5  54138696          (2021 GY23)          0.036354          0.081291   \n",
              "6  54189957          (2021 PY40)          0.171615          0.383743   \n",
              "7  54230078           (2021 XD6)          0.005328          0.011914   \n",
              "8   2088213     88213 (2001 AF2)          0.350393          0.783502   \n",
              "9   3766065            (2016 YM)          0.105817          0.236614   \n",
              "\n",
              "   relative_velocity  miss_distance orbiting_body  sentry_object  \\\n",
              "0       13569.249224   5.483974e+07         Earth          False   \n",
              "1       73588.726663   6.143813e+07         Earth          False   \n",
              "2      114258.692129   4.979872e+07         Earth          False   \n",
              "3       24764.303138   2.543497e+07         Earth          False   \n",
              "4       42737.733765   4.627557e+07         Earth          False   \n",
              "5       34297.587778   4.058569e+07         Earth          False   \n",
              "6       27529.472307   2.906912e+07         Earth          False   \n",
              "7       57544.470083   5.511502e+07         Earth          False   \n",
              "8       56625.210122   6.903598e+07         Earth          False   \n",
              "9       48425.840329   3.835526e+07         Earth          False   \n",
              "\n",
              "   absolute_magnitude  hazardous  \n",
              "0               16.73      False  \n",
              "1               20.00       True  \n",
              "2               17.83      False  \n",
              "3               22.20      False  \n",
              "4               20.09       True  \n",
              "5               24.32      False  \n",
              "6               20.95      False  \n",
              "7               28.49      False  \n",
              "8               19.40      False  \n",
              "9               22.00      False  "
            ],
            "text/html": [
              "\n",
              "  <div id=\"df-5a19862d-f4d9-4949-9d22-0763127adfaf\">\n",
              "    <div class=\"colab-df-container\">\n",
              "      <div>\n",
              "<style scoped>\n",
              "    .dataframe tbody tr th:only-of-type {\n",
              "        vertical-align: middle;\n",
              "    }\n",
              "\n",
              "    .dataframe tbody tr th {\n",
              "        vertical-align: top;\n",
              "    }\n",
              "\n",
              "    .dataframe thead th {\n",
              "        text-align: right;\n",
              "    }\n",
              "</style>\n",
              "<table border=\"1\" class=\"dataframe\">\n",
              "  <thead>\n",
              "    <tr style=\"text-align: right;\">\n",
              "      <th></th>\n",
              "      <th>id</th>\n",
              "      <th>name</th>\n",
              "      <th>est_diameter_min</th>\n",
              "      <th>est_diameter_max</th>\n",
              "      <th>relative_velocity</th>\n",
              "      <th>miss_distance</th>\n",
              "      <th>orbiting_body</th>\n",
              "      <th>sentry_object</th>\n",
              "      <th>absolute_magnitude</th>\n",
              "      <th>hazardous</th>\n",
              "    </tr>\n",
              "  </thead>\n",
              "  <tbody>\n",
              "    <tr>\n",
              "      <th>0</th>\n",
              "      <td>2162635</td>\n",
              "      <td>162635 (2000 SS164)</td>\n",
              "      <td>1.198271</td>\n",
              "      <td>2.679415</td>\n",
              "      <td>13569.249224</td>\n",
              "      <td>5.483974e+07</td>\n",
              "      <td>Earth</td>\n",
              "      <td>False</td>\n",
              "      <td>16.73</td>\n",
              "      <td>False</td>\n",
              "    </tr>\n",
              "    <tr>\n",
              "      <th>1</th>\n",
              "      <td>2277475</td>\n",
              "      <td>277475 (2005 WK4)</td>\n",
              "      <td>0.265800</td>\n",
              "      <td>0.594347</td>\n",
              "      <td>73588.726663</td>\n",
              "      <td>6.143813e+07</td>\n",
              "      <td>Earth</td>\n",
              "      <td>False</td>\n",
              "      <td>20.00</td>\n",
              "      <td>True</td>\n",
              "    </tr>\n",
              "    <tr>\n",
              "      <th>2</th>\n",
              "      <td>2512244</td>\n",
              "      <td>512244 (2015 YE18)</td>\n",
              "      <td>0.722030</td>\n",
              "      <td>1.614507</td>\n",
              "      <td>114258.692129</td>\n",
              "      <td>4.979872e+07</td>\n",
              "      <td>Earth</td>\n",
              "      <td>False</td>\n",
              "      <td>17.83</td>\n",
              "      <td>False</td>\n",
              "    </tr>\n",
              "    <tr>\n",
              "      <th>3</th>\n",
              "      <td>3596030</td>\n",
              "      <td>(2012 BV13)</td>\n",
              "      <td>0.096506</td>\n",
              "      <td>0.215794</td>\n",
              "      <td>24764.303138</td>\n",
              "      <td>2.543497e+07</td>\n",
              "      <td>Earth</td>\n",
              "      <td>False</td>\n",
              "      <td>22.20</td>\n",
              "      <td>False</td>\n",
              "    </tr>\n",
              "    <tr>\n",
              "      <th>4</th>\n",
              "      <td>3667127</td>\n",
              "      <td>(2014 GE35)</td>\n",
              "      <td>0.255009</td>\n",
              "      <td>0.570217</td>\n",
              "      <td>42737.733765</td>\n",
              "      <td>4.627557e+07</td>\n",
              "      <td>Earth</td>\n",
              "      <td>False</td>\n",
              "      <td>20.09</td>\n",
              "      <td>True</td>\n",
              "    </tr>\n",
              "    <tr>\n",
              "      <th>5</th>\n",
              "      <td>54138696</td>\n",
              "      <td>(2021 GY23)</td>\n",
              "      <td>0.036354</td>\n",
              "      <td>0.081291</td>\n",
              "      <td>34297.587778</td>\n",
              "      <td>4.058569e+07</td>\n",
              "      <td>Earth</td>\n",
              "      <td>False</td>\n",
              "      <td>24.32</td>\n",
              "      <td>False</td>\n",
              "    </tr>\n",
              "    <tr>\n",
              "      <th>6</th>\n",
              "      <td>54189957</td>\n",
              "      <td>(2021 PY40)</td>\n",
              "      <td>0.171615</td>\n",
              "      <td>0.383743</td>\n",
              "      <td>27529.472307</td>\n",
              "      <td>2.906912e+07</td>\n",
              "      <td>Earth</td>\n",
              "      <td>False</td>\n",
              "      <td>20.95</td>\n",
              "      <td>False</td>\n",
              "    </tr>\n",
              "    <tr>\n",
              "      <th>7</th>\n",
              "      <td>54230078</td>\n",
              "      <td>(2021 XD6)</td>\n",
              "      <td>0.005328</td>\n",
              "      <td>0.011914</td>\n",
              "      <td>57544.470083</td>\n",
              "      <td>5.511502e+07</td>\n",
              "      <td>Earth</td>\n",
              "      <td>False</td>\n",
              "      <td>28.49</td>\n",
              "      <td>False</td>\n",
              "    </tr>\n",
              "    <tr>\n",
              "      <th>8</th>\n",
              "      <td>2088213</td>\n",
              "      <td>88213 (2001 AF2)</td>\n",
              "      <td>0.350393</td>\n",
              "      <td>0.783502</td>\n",
              "      <td>56625.210122</td>\n",
              "      <td>6.903598e+07</td>\n",
              "      <td>Earth</td>\n",
              "      <td>False</td>\n",
              "      <td>19.40</td>\n",
              "      <td>False</td>\n",
              "    </tr>\n",
              "    <tr>\n",
              "      <th>9</th>\n",
              "      <td>3766065</td>\n",
              "      <td>(2016 YM)</td>\n",
              "      <td>0.105817</td>\n",
              "      <td>0.236614</td>\n",
              "      <td>48425.840329</td>\n",
              "      <td>3.835526e+07</td>\n",
              "      <td>Earth</td>\n",
              "      <td>False</td>\n",
              "      <td>22.00</td>\n",
              "      <td>False</td>\n",
              "    </tr>\n",
              "  </tbody>\n",
              "</table>\n",
              "</div>\n",
              "      <button class=\"colab-df-convert\" onclick=\"convertToInteractive('df-5a19862d-f4d9-4949-9d22-0763127adfaf')\"\n",
              "              title=\"Convert this dataframe to an interactive table.\"\n",
              "              style=\"display:none;\">\n",
              "        \n",
              "  <svg xmlns=\"http://www.w3.org/2000/svg\" height=\"24px\"viewBox=\"0 0 24 24\"\n",
              "       width=\"24px\">\n",
              "    <path d=\"M0 0h24v24H0V0z\" fill=\"none\"/>\n",
              "    <path d=\"M18.56 5.44l.94 2.06.94-2.06 2.06-.94-2.06-.94-.94-2.06-.94 2.06-2.06.94zm-11 1L8.5 8.5l.94-2.06 2.06-.94-2.06-.94L8.5 2.5l-.94 2.06-2.06.94zm10 10l.94 2.06.94-2.06 2.06-.94-2.06-.94-.94-2.06-.94 2.06-2.06.94z\"/><path d=\"M17.41 7.96l-1.37-1.37c-.4-.4-.92-.59-1.43-.59-.52 0-1.04.2-1.43.59L10.3 9.45l-7.72 7.72c-.78.78-.78 2.05 0 2.83L4 21.41c.39.39.9.59 1.41.59.51 0 1.02-.2 1.41-.59l7.78-7.78 2.81-2.81c.8-.78.8-2.07 0-2.86zM5.41 20L4 18.59l7.72-7.72 1.47 1.35L5.41 20z\"/>\n",
              "  </svg>\n",
              "      </button>\n",
              "      \n",
              "  <style>\n",
              "    .colab-df-container {\n",
              "      display:flex;\n",
              "      flex-wrap:wrap;\n",
              "      gap: 12px;\n",
              "    }\n",
              "\n",
              "    .colab-df-convert {\n",
              "      background-color: #E8F0FE;\n",
              "      border: none;\n",
              "      border-radius: 50%;\n",
              "      cursor: pointer;\n",
              "      display: none;\n",
              "      fill: #1967D2;\n",
              "      height: 32px;\n",
              "      padding: 0 0 0 0;\n",
              "      width: 32px;\n",
              "    }\n",
              "\n",
              "    .colab-df-convert:hover {\n",
              "      background-color: #E2EBFA;\n",
              "      box-shadow: 0px 1px 2px rgba(60, 64, 67, 0.3), 0px 1px 3px 1px rgba(60, 64, 67, 0.15);\n",
              "      fill: #174EA6;\n",
              "    }\n",
              "\n",
              "    [theme=dark] .colab-df-convert {\n",
              "      background-color: #3B4455;\n",
              "      fill: #D2E3FC;\n",
              "    }\n",
              "\n",
              "    [theme=dark] .colab-df-convert:hover {\n",
              "      background-color: #434B5C;\n",
              "      box-shadow: 0px 1px 3px 1px rgba(0, 0, 0, 0.15);\n",
              "      filter: drop-shadow(0px 1px 2px rgba(0, 0, 0, 0.3));\n",
              "      fill: #FFFFFF;\n",
              "    }\n",
              "  </style>\n",
              "\n",
              "      <script>\n",
              "        const buttonEl =\n",
              "          document.querySelector('#df-5a19862d-f4d9-4949-9d22-0763127adfaf button.colab-df-convert');\n",
              "        buttonEl.style.display =\n",
              "          google.colab.kernel.accessAllowed ? 'block' : 'none';\n",
              "\n",
              "        async function convertToInteractive(key) {\n",
              "          const element = document.querySelector('#df-5a19862d-f4d9-4949-9d22-0763127adfaf');\n",
              "          const dataTable =\n",
              "            await google.colab.kernel.invokeFunction('convertToInteractive',\n",
              "                                                     [key], {});\n",
              "          if (!dataTable) return;\n",
              "\n",
              "          const docLinkHtml = 'Like what you see? Visit the ' +\n",
              "            '<a target=\"_blank\" href=https://colab.research.google.com/notebooks/data_table.ipynb>data table notebook</a>'\n",
              "            + ' to learn more about interactive tables.';\n",
              "          element.innerHTML = '';\n",
              "          dataTable['output_type'] = 'display_data';\n",
              "          await google.colab.output.renderOutput(dataTable, element);\n",
              "          const docLink = document.createElement('div');\n",
              "          docLink.innerHTML = docLinkHtml;\n",
              "          element.appendChild(docLink);\n",
              "        }\n",
              "      </script>\n",
              "    </div>\n",
              "  </div>\n",
              "  "
            ]
          },
          "metadata": {},
          "execution_count": 59
        }
      ]
    },
    {
      "cell_type": "code",
      "source": [
        "print(f\"Число объектов - {data.shape[0]}, Число признаков - {data.shape[1]}\")\n",
        "\n",
        "plt.figure(figsize=(15,9))\n",
        "sns.displot(\n",
        "    data=data.isna().melt(value_name=\"missing\"),\n",
        "    y=\"variable\",\n",
        "    hue=\"missing\",\n",
        "    multiple=\"fill\",\n",
        "    aspect=2\n",
        ")\n",
        "plt.xlabel(\"Count\")\n",
        "plt.ylabel(\"Variable\")\n",
        "plt.show()\n",
        "\n",
        "data.isna().sum()"
      ],
      "metadata": {
        "colab": {
          "base_uri": "https://localhost:8080/",
          "height": 621
        },
        "id": "GxOAMONfaoa7",
        "outputId": "7086bb42-3df6-48ce-9399-97d61233ac9c"
      },
      "execution_count": null,
      "outputs": [
        {
          "output_type": "stream",
          "name": "stdout",
          "text": [
            "Число объектов - 90836, Число признаков - 10\n"
          ]
        },
        {
          "output_type": "display_data",
          "data": {
            "text/plain": [
              "<Figure size 1080x648 with 0 Axes>"
            ]
          },
          "metadata": {}
        },
        {
          "output_type": "display_data",
          "data": {
            "text/plain": [
              "<Figure size 781.25x360 with 1 Axes>"
            ],
            "image/png": "[encoded data removed]"
          },
          "metadata": {
            "needs_background": "light"
          }
        },
        {
          "output_type": "execute_result",
          "data": {
            "text/plain": [
              "id                    0\n",
              "name                  0\n",
              "est_diameter_min      0\n",
              "est_diameter_max      0\n",
              "relative_velocity     0\n",
              "miss_distance         0\n",
              "orbiting_body         0\n",
              "sentry_object         0\n",
              "absolute_magnitude    0\n",
              "hazardous             0\n",
              "dtype: int64"
            ]
          },
          "metadata": {},
          "execution_count": 60
        }
      ]
    },
    {
      "cell_type": "code",
      "source": [
        "data = data.dropna()\n",
        "print(f\"Число объектов - {data.shape[0]}, Число признаков - {data.shape[1]}\")"
      ],
      "metadata": {
        "colab": {
          "base_uri": "https://localhost:8080/"
        },
        "id": "zeXPfbxkbM4B",
        "outputId": "65a84fee-d004-44a9-c9b7-0e4b1ef1d291"
      },
      "execution_count": null,
      "outputs": [
        {
          "output_type": "stream",
          "name": "stdout",
          "text": [
            "Число объектов - 90836, Число признаков - 10\n"
          ]
        }
      ]
    },
    {
      "cell_type": "code",
      "source": [
        "data.drop(['name', 'id'], axis=1, inplace=True)\n",
        "replacement = OrdinalEncoder()\n",
        "replacement.fit(data[[\"orbiting_body\"]])\n",
        "data['orbiting_body'] = replacement.transform(data[[\"orbiting_body\"]])\n",
        "\n",
        "replacement = OrdinalEncoder()\n",
        "replacement.fit(data[[\"sentry_object\"]])\n",
        "data['sentry_object'] = replacement.transform(data[[\"sentry_object\"]])\n",
        "\n",
        "replacement = OrdinalEncoder()\n",
        "replacement.fit(data[[\"hazardous\"]])\n",
        "data['hazardous'] = replacement.transform(data[[\"hazardous\"]])\n",
        "data.head(10)"
      ],
      "metadata": {
        "colab": {
          "base_uri": "https://localhost:8080/",
          "height": 363
        },
        "id": "2hvnZ4sobXZp",
        "outputId": "a7ef2bf5-3d64-4f42-c302-8f75a0333669"
      },
      "execution_count": null,
      "outputs": [
        {
          "output_type": "execute_result",
          "data": {
            "text/plain": [
              "   est_diameter_min  est_diameter_max  relative_velocity  miss_distance  \\\n",
              "0          1.198271          2.679415       13569.249224   5.483974e+07   \n",
              "1          0.265800          0.594347       73588.726663   6.143813e+07   \n",
              "2          0.722030          1.614507      114258.692129   4.979872e+07   \n",
              "3          0.096506          0.215794       24764.303138   2.543497e+07   \n",
              "4          0.255009          0.570217       42737.733765   4.627557e+07   \n",
              "5          0.036354          0.081291       34297.587778   4.058569e+07   \n",
              "6          0.171615          0.383743       27529.472307   2.906912e+07   \n",
              "7          0.005328          0.011914       57544.470083   5.511502e+07   \n",
              "8          0.350393          0.783502       56625.210122   6.903598e+07   \n",
              "9          0.105817          0.236614       48425.840329   3.835526e+07   \n",
              "\n",
              "   orbiting_body  sentry_object  absolute_magnitude  hazardous  \n",
              "0            0.0            0.0               16.73        0.0  \n",
              "1            0.0            0.0               20.00        1.0  \n",
              "2            0.0            0.0               17.83        0.0  \n",
              "3            0.0            0.0               22.20        0.0  \n",
              "4            0.0            0.0               20.09        1.0  \n",
              "5            0.0            0.0               24.32        0.0  \n",
              "6            0.0            0.0               20.95        0.0  \n",
              "7            0.0            0.0               28.49        0.0  \n",
              "8            0.0            0.0               19.40        0.0  \n",
              "9            0.0            0.0               22.00        0.0  "
            ],
            "text/html": [
              "\n",
              "  <div id=\"df-632d4cb1-342d-4329-84cd-9edfca64c6ba\">\n",
              "    <div class=\"colab-df-container\">\n",
              "      <div>\n",
              "<style scoped>\n",
              "    .dataframe tbody tr th:only-of-type {\n",
              "        vertical-align: middle;\n",
              "    }\n",
              "\n",
              "    .dataframe tbody tr th {\n",
              "        vertical-align: top;\n",
              "    }\n",
              "\n",
              "    .dataframe thead th {\n",
              "        text-align: right;\n",
              "    }\n",
              "</style>\n",
              "<table border=\"1\" class=\"dataframe\">\n",
              "  <thead>\n",
              "    <tr style=\"text-align: right;\">\n",
              "      <th></th>\n",
              "      <th>est_diameter_min</th>\n",
              "      <th>est_diameter_max</th>\n",
              "      <th>relative_velocity</th>\n",
              "      <th>miss_distance</th>\n",
              "      <th>orbiting_body</th>\n",
              "      <th>sentry_object</th>\n",
              "      <th>absolute_magnitude</th>\n",
              "      <th>hazardous</th>\n",
              "    </tr>\n",
              "  </thead>\n",
              "  <tbody>\n",
              "    <tr>\n",
              "      <th>0</th>\n",
              "      <td>1.198271</td>\n",
              "      <td>2.679415</td>\n",
              "      <td>13569.249224</td>\n",
              "      <td>5.483974e+07</td>\n",
              "      <td>0.0</td>\n",
              "      <td>0.0</td>\n",
              "      <td>16.73</td>\n",
              "      <td>0.0</td>\n",
              "    </tr>\n",
              "    <tr>\n",
              "      <th>1</th>\n",
              "      <td>0.265800</td>\n",
              "      <td>0.594347</td>\n",
              "      <td>73588.726663</td>\n",
              "      <td>6.143813e+07</td>\n",
              "      <td>0.0</td>\n",
              "      <td>0.0</td>\n",
              "      <td>20.00</td>\n",
              "      <td>1.0</td>\n",
              "    </tr>\n",
              "    <tr>\n",
              "      <th>2</th>\n",
              "      <td>0.722030</td>\n",
              "      <td>1.614507</td>\n",
              "      <td>114258.692129</td>\n",
              "      <td>4.979872e+07</td>\n",
              "      <td>0.0</td>\n",
              "      <td>0.0</td>\n",
              "      <td>17.83</td>\n",
              "      <td>0.0</td>\n",
              "    </tr>\n",
              "    <tr>\n",
              "      <th>3</th>\n",
              "      <td>0.096506</td>\n",
              "      <td>0.215794</td>\n",
              "      <td>24764.303138</td>\n",
              "      <td>2.543497e+07</td>\n",
              "      <td>0.0</td>\n",
              "      <td>0.0</td>\n",
              "      <td>22.20</td>\n",
              "      <td>0.0</td>\n",
              "    </tr>\n",
              "    <tr>\n",
              "      <th>4</th>\n",
              "      <td>0.255009</td>\n",
              "      <td>0.570217</td>\n",
              "      <td>42737.733765</td>\n",
              "      <td>4.627557e+07</td>\n",
              "      <td>0.0</td>\n",
              "      <td>0.0</td>\n",
              "      <td>20.09</td>\n",
              "      <td>1.0</td>\n",
              "    </tr>\n",
              "    <tr>\n",
              "      <th>5</th>\n",
              "      <td>0.036354</td>\n",
              "      <td>0.081291</td>\n",
              "      <td>34297.587778</td>\n",
              "      <td>4.058569e+07</td>\n",
              "      <td>0.0</td>\n",
              "      <td>0.0</td>\n",
              "      <td>24.32</td>\n",
              "      <td>0.0</td>\n",
              "    </tr>\n",
              "    <tr>\n",
              "      <th>6</th>\n",
              "      <td>0.171615</td>\n",
              "      <td>0.383743</td>\n",
              "      <td>27529.472307</td>\n",
              "      <td>2.906912e+07</td>\n",
              "      <td>0.0</td>\n",
              "      <td>0.0</td>\n",
              "      <td>20.95</td>\n",
              "      <td>0.0</td>\n",
              "    </tr>\n",
              "    <tr>\n",
              "      <th>7</th>\n",
              "      <td>0.005328</td>\n",
              "      <td>0.011914</td>\n",
              "      <td>57544.470083</td>\n",
              "      <td>5.511502e+07</td>\n",
              "      <td>0.0</td>\n",
              "      <td>0.0</td>\n",
              "      <td>28.49</td>\n",
              "      <td>0.0</td>\n",
              "    </tr>\n",
              "    <tr>\n",
              "      <th>8</th>\n",
              "      <td>0.350393</td>\n",
              "      <td>0.783502</td>\n",
              "      <td>56625.210122</td>\n",
              "      <td>6.903598e+07</td>\n",
              "      <td>0.0</td>\n",
              "      <td>0.0</td>\n",
              "      <td>19.40</td>\n",
              "      <td>0.0</td>\n",
              "    </tr>\n",
              "    <tr>\n",
              "      <th>9</th>\n",
              "      <td>0.105817</td>\n",
              "      <td>0.236614</td>\n",
              "      <td>48425.840329</td>\n",
              "      <td>3.835526e+07</td>\n",
              "      <td>0.0</td>\n",
              "      <td>0.0</td>\n",
              "      <td>22.00</td>\n",
              "      <td>0.0</td>\n",
              "    </tr>\n",
              "  </tbody>\n",
              "</table>\n",
              "</div>\n",
              "      <button class=\"colab-df-convert\" onclick=\"convertToInteractive('df-632d4cb1-342d-4329-84cd-9edfca64c6ba')\"\n",
              "              title=\"Convert this dataframe to an interactive table.\"\n",
              "              style=\"display:none;\">\n",
              "        \n",
              "  <svg xmlns=\"http://www.w3.org/2000/svg\" height=\"24px\"viewBox=\"0 0 24 24\"\n",
              "       width=\"24px\">\n",
              "    <path d=\"M0 0h24v24H0V0z\" fill=\"none\"/>\n",
              "    <path d=\"M18.56 5.44l.94 2.06.94-2.06 2.06-.94-2.06-.94-.94-2.06-.94 2.06-2.06.94zm-11 1L8.5 8.5l.94-2.06 2.06-.94-2.06-.94L8.5 2.5l-.94 2.06-2.06.94zm10 10l.94 2.06.94-2.06 2.06-.94-2.06-.94-.94-2.06-.94 2.06-2.06.94z\"/><path d=\"M17.41 7.96l-1.37-1.37c-.4-.4-.92-.59-1.43-.59-.52 0-1.04.2-1.43.59L10.3 9.45l-7.72 7.72c-.78.78-.78 2.05 0 2.83L4 21.41c.39.39.9.59 1.41.59.51 0 1.02-.2 1.41-.59l7.78-7.78 2.81-2.81c.8-.78.8-2.07 0-2.86zM5.41 20L4 18.59l7.72-7.72 1.47 1.35L5.41 20z\"/>\n",
              "  </svg>\n",
              "      </button>\n",
              "      \n",
              "  <style>\n",
              "    .colab-df-container {\n",
              "      display:flex;\n",
              "      flex-wrap:wrap;\n",
              "      gap: 12px;\n",
              "    }\n",
              "\n",
              "    .colab-df-convert {\n",
              "      background-color: #E8F0FE;\n",
              "      border: none;\n",
              "      border-radius: 50%;\n",
              "      cursor: pointer;\n",
              "      display: none;\n",
              "      fill: #1967D2;\n",
              "      height: 32px;\n",
              "      padding: 0 0 0 0;\n",
              "      width: 32px;\n",
              "    }\n",
              "\n",
              "    .colab-df-convert:hover {\n",
              "      background-color: #E2EBFA;\n",
              "      box-shadow: 0px 1px 2px rgba(60, 64, 67, 0.3), 0px 1px 3px 1px rgba(60, 64, 67, 0.15);\n",
              "      fill: #174EA6;\n",
              "    }\n",
              "\n",
              "    [theme=dark] .colab-df-convert {\n",
              "      background-color: #3B4455;\n",
              "      fill: #D2E3FC;\n",
              "    }\n",
              "\n",
              "    [theme=dark] .colab-df-convert:hover {\n",
              "      background-color: #434B5C;\n",
              "      box-shadow: 0px 1px 3px 1px rgba(0, 0, 0, 0.15);\n",
              "      filter: drop-shadow(0px 1px 2px rgba(0, 0, 0, 0.3));\n",
              "      fill: #FFFFFF;\n",
              "    }\n",
              "  </style>\n",
              "\n",
              "      <script>\n",
              "        const buttonEl =\n",
              "          document.querySelector('#df-632d4cb1-342d-4329-84cd-9edfca64c6ba button.colab-df-convert');\n",
              "        buttonEl.style.display =\n",
              "          google.colab.kernel.accessAllowed ? 'block' : 'none';\n",
              "\n",
              "        async function convertToInteractive(key) {\n",
              "          const element = document.querySelector('#df-632d4cb1-342d-4329-84cd-9edfca64c6ba');\n",
              "          const dataTable =\n",
              "            await google.colab.kernel.invokeFunction('convertToInteractive',\n",
              "                                                     [key], {});\n",
              "          if (!dataTable) return;\n",
              "\n",
              "          const docLinkHtml = 'Like what you see? Visit the ' +\n",
              "            '<a target=\"_blank\" href=https://colab.research.google.com/notebooks/data_table.ipynb>data table notebook</a>'\n",
              "            + ' to learn more about interactive tables.';\n",
              "          element.innerHTML = '';\n",
              "          dataTable['output_type'] = 'display_data';\n",
              "          await google.colab.output.renderOutput(dataTable, element);\n",
              "          const docLink = document.createElement('div');\n",
              "          docLink.innerHTML = docLinkHtml;\n",
              "          element.appendChild(docLink);\n",
              "        }\n",
              "      </script>\n",
              "    </div>\n",
              "  </div>\n",
              "  "
            ]
          },
          "metadata": {},
          "execution_count": 62
        }
      ]
    },
    {
      "cell_type": "code",
      "source": [
        "x_train, x_test, y_train, y_test = train_test_split(data.drop(['hazardous'], axis=1), data['hazardous'], test_size=0.1)\n",
        "model = LogisticRegression()"
      ],
      "metadata": {
        "id": "rEUQZbisckNE"
      },
      "execution_count": null,
      "outputs": []
    },
    {
      "cell_type": "code",
      "source": [
        "model.fit(x_train, y_train)\n",
        "print(model.intercept_[0], end=' ')\n",
        "w = model.coef_\n",
        "for i in range(w[0].shape[0]):\n",
        "  print('+', w[0][i], data.columns[i], end = ' ')\n",
        "\n",
        "# Исходя из того, что все коэффиценты крайне малы,\n",
        "# можно сделать вывод о том, что зависимости между\n",
        "# между опасность тела и его признаками нет"
      ],
      "metadata": {
        "colab": {
          "base_uri": "https://localhost:8080/"
        },
        "id": "KuvZo5ADdl6B",
        "outputId": "d9475c4b-bd0c-4505-eba7-fe75c1286ce5"
      },
      "execution_count": null,
      "outputs": [
        {
          "output_type": "stream",
          "name": "stdout",
          "text": [
            "-7.97421386297027e-10 + 9.290930954001262e-11 est_diameter_min + 2.077515318716996e-10 est_diameter_max + -1.6464836631530625e-05 relative_velocity + -2.9545340075241017e-08 miss_distance + 0.0 orbiting_body + 0.0 sentry_object + -2.2523701454478044e-08 absolute_magnitude "
          ]
        }
      ]
    },
    {
      "cell_type": "code",
      "source": [
        "pred = model.predict(x_test)"
      ],
      "metadata": {
        "id": "02yNvN81gNxZ"
      },
      "execution_count": null,
      "outputs": []
    },
    {
      "cell_type": "code",
      "source": [
        "matrix = confusion_matrix(y_test, pred)\n",
        "tn, fp, fn, tp = confusion_matrix(y_test, pred).ravel()\n",
        "print(\"TN:\", tn)\n",
        "print(\"FP:\", fp)\n",
        "print(\"FN:\", fn)\n",
        "print(\"TP:\", tp)\n",
        "matrix"
      ],
      "metadata": {
        "colab": {
          "base_uri": "https://localhost:8080/"
        },
        "id": "2MhX4D_1gf6I",
        "outputId": "3c2536c9-ce4d-498b-fb0a-124ca3a85c23"
      },
      "execution_count": null,
      "outputs": [
        {
          "output_type": "stream",
          "name": "stdout",
          "text": [
            "TN: 8199\n",
            "FP: 0\n",
            "FN: 885\n",
            "TP: 0\n"
          ]
        },
        {
          "output_type": "execute_result",
          "data": {
            "text/plain": [
              "array([[8199,    0],\n",
              "       [ 885,    0]])"
            ]
          },
          "metadata": {},
          "execution_count": 66
        }
      ]
    },
    {
      "cell_type": "code",
      "source": [
        "my_accuracy = (tp+tn)/(tp+tn+fp+fn)\n",
        "my_recall = tp/(tp+fn)\n",
        "my_precision = tp/(tp+fp)\n",
        "my_f1 = (2 * my_accuracy * my_recall)/(my_precision + my_recall)\n",
        "\n",
        "print('My accuracy', my_accuracy, \"Another accuracy\", accuracy_score(y_test, pred))\n",
        "print('My recall', my_recall, \"Another recall\", recall_score(y_test, pred))\n",
        "print('My precision', my_precision, \"Another precision\", precision_score(y_test, pred))\n",
        "print('My f1', my_f1, \"Another f1\", f1_score(y_test, pred))\n",
        "\n",
        "# На основе полученных метрик видно,\n",
        "# что полученная модель работает более чем плохо\n",
        "# и расставляет на всех ответах нули"
      ],
      "metadata": {
        "colab": {
          "base_uri": "https://localhost:8080/"
        },
        "id": "XUeWsHEHhfh5",
        "outputId": "0ed4ab3b-1d0b-4689-f2d8-2bdc0033f2e6"
      },
      "execution_count": null,
      "outputs": [
        {
          "output_type": "stream",
          "name": "stdout",
          "text": [
            "My accuracy 0.9025759577278731 Another accuracy 0.9025759577278731\n",
            "My recall 0.0 Another recall 0.0\n",
            "My precision nan Another precision 0.0\n",
            "My f1 nan Another f1 0.0\n"
          ]
        },
        {
          "output_type": "stream",
          "name": "stderr",
          "text": [
            "<ipython-input-67-585d5261fc65>:3: RuntimeWarning: invalid value encountered in long_scalars\n",
            "  my_precision = tp/(tp+fp)\n",
            "/usr/local/lib/python3.8/dist-packages/sklearn/metrics/_classification.py:1318: UndefinedMetricWarning: Precision is ill-defined and being set to 0.0 due to no predicted samples. Use `zero_division` parameter to control this behavior.\n",
            "  _warn_prf(average, modifier, msg_start, len(result))\n"
          ]
        }
      ]
    },
    {
      "cell_type": "code",
      "source": [
        "data.drop(['orbiting_body', 'sentry_object'], axis=1, inplace=True)"
      ],
      "metadata": {
        "id": "y9kueDX4aRm0"
      },
      "execution_count": null,
      "outputs": []
    },
    {
      "cell_type": "code",
      "source": [
        "print(np.unique(data['hazardous'], return_counts=True))\n",
        "\n",
        "plt.figure(figsize=(12,10))\n",
        "sns.heatmap(data.corr(), xticklabels=data.corr().columns, yticklabels=data.corr().columns, cmap='RdYlGn', center=0, annot=True)\n",
        "\n",
        "plt.title('Матрица корреляций ', fontsize=18)\n",
        "plt.xticks(fontsize=9)\n",
        "plt.yticks(fontsize=9)\n",
        "plt.show()"
      ],
      "metadata": {
        "colab": {
          "base_uri": "https://localhost:8080/",
          "height": 713
        },
        "id": "_3y2fOHRXE8V",
        "outputId": "2e35145b-a2e1-414f-f063-a416612162a0"
      },
      "execution_count": null,
      "outputs": [
        {
          "output_type": "stream",
          "name": "stdout",
          "text": [
            "(array([0., 1.]), array([81996,  8840]))\n"
          ]
        },
        {
          "output_type": "display_data",
          "data": {
            "text/plain": [
              "<Figure size 864x720 with 2 Axes>"
            ],
            "image/png": "[encoded data removed]"
          },
          "metadata": {
            "needs_background": "light"
          }
        }
      ]
    },
    {
      "cell_type": "code",
      "source": [
        "j = 0\n",
        "for i in range(90836-8840):\n",
        "  if data.loc[i+j, 'hazardous'] == 0:\n",
        "    data = data.drop(i+j)\n",
        "  else:\n",
        "    j+=1"
      ],
      "metadata": {
        "id": "1flkRheravsz"
      },
      "execution_count": null,
      "outputs": []
    },
    {
      "cell_type": "code",
      "source": [
        "print(np.unique(data['hazardous'], return_counts=True))\n",
        "data.head(10)"
      ],
      "metadata": {
        "colab": {
          "base_uri": "https://localhost:8080/",
          "height": 382
        },
        "id": "0hENtLqbgpw7",
        "outputId": "e607ead9-d764-437b-8913-f1d1b42804b2"
      },
      "execution_count": null,
      "outputs": [
        {
          "output_type": "stream",
          "name": "stdout",
          "text": [
            "(array([0., 1.]), array([7590, 8840]))\n"
          ]
        },
        {
          "output_type": "execute_result",
          "data": {
            "text/plain": [
              "    est_diameter_min  est_diameter_max  relative_velocity  miss_distance  \\\n",
              "1           0.265800          0.594347       73588.726663   6.143813e+07   \n",
              "2           0.722030          1.614507      114258.692129   4.979872e+07   \n",
              "4           0.255009          0.570217       42737.733765   4.627557e+07   \n",
              "5           0.036354          0.081291       34297.587778   4.058569e+07   \n",
              "10          0.252671          0.564989       58430.697200   3.833750e+07   \n",
              "11          0.152952          0.342011       64393.928316   7.198311e+07   \n",
              "23          0.201630          0.450858      115899.180498   1.510102e+07   \n",
              "24          0.050647          0.113250       33803.166561   7.039487e+07   \n",
              "27          0.110804          0.247765       48655.305132   3.279775e+07   \n",
              "28          0.031956          0.071456       17906.491092   6.697931e+07   \n",
              "\n",
              "    absolute_magnitude  hazardous  \n",
              "1                20.00        1.0  \n",
              "2                17.83        0.0  \n",
              "4                20.09        1.0  \n",
              "5                24.32        0.0  \n",
              "10               20.11        1.0  \n",
              "11               21.20        0.0  \n",
              "23               20.60        1.0  \n",
              "24               23.60        0.0  \n",
              "27               21.90        1.0  \n",
              "28               24.60        0.0  "
            ],
            "text/html": [
              "\n",
              "  <div id=\"df-df1feba9-82a2-4049-8083-885a3baa145c\">\n",
              "    <div class=\"colab-df-container\">\n",
              "      <div>\n",
              "<style scoped>\n",
              "    .dataframe tbody tr th:only-of-type {\n",
              "        vertical-align: middle;\n",
              "    }\n",
              "\n",
              "    .dataframe tbody tr th {\n",
              "        vertical-align: top;\n",
              "    }\n",
              "\n",
              "    .dataframe thead th {\n",
              "        text-align: right;\n",
              "    }\n",
              "</style>\n",
              "<table border=\"1\" class=\"dataframe\">\n",
              "  <thead>\n",
              "    <tr style=\"text-align: right;\">\n",
              "      <th></th>\n",
              "      <th>est_diameter_min</th>\n",
              "      <th>est_diameter_max</th>\n",
              "      <th>relative_velocity</th>\n",
              "      <th>miss_distance</th>\n",
              "      <th>absolute_magnitude</th>\n",
              "      <th>hazardous</th>\n",
              "    </tr>\n",
              "  </thead>\n",
              "  <tbody>\n",
              "    <tr>\n",
              "      <th>1</th>\n",
              "      <td>0.265800</td>\n",
              "      <td>0.594347</td>\n",
              "      <td>73588.726663</td>\n",
              "      <td>6.143813e+07</td>\n",
              "      <td>20.00</td>\n",
              "      <td>1.0</td>\n",
              "    </tr>\n",
              "    <tr>\n",
              "      <th>2</th>\n",
              "      <td>0.722030</td>\n",
              "      <td>1.614507</td>\n",
              "      <td>114258.692129</td>\n",
              "      <td>4.979872e+07</td>\n",
              "      <td>17.83</td>\n",
              "      <td>0.0</td>\n",
              "    </tr>\n",
              "    <tr>\n",
              "      <th>4</th>\n",
              "      <td>0.255009</td>\n",
              "      <td>0.570217</td>\n",
              "      <td>42737.733765</td>\n",
              "      <td>4.627557e+07</td>\n",
              "      <td>20.09</td>\n",
              "      <td>1.0</td>\n",
              "    </tr>\n",
              "    <tr>\n",
              "      <th>5</th>\n",
              "      <td>0.036354</td>\n",
              "      <td>0.081291</td>\n",
              "      <td>34297.587778</td>\n",
              "      <td>4.058569e+07</td>\n",
              "      <td>24.32</td>\n",
              "      <td>0.0</td>\n",
              "    </tr>\n",
              "    <tr>\n",
              "      <th>10</th>\n",
              "      <td>0.252671</td>\n",
              "      <td>0.564989</td>\n",
              "      <td>58430.697200</td>\n",
              "      <td>3.833750e+07</td>\n",
              "      <td>20.11</td>\n",
              "      <td>1.0</td>\n",
              "    </tr>\n",
              "    <tr>\n",
              "      <th>11</th>\n",
              "      <td>0.152952</td>\n",
              "      <td>0.342011</td>\n",
              "      <td>64393.928316</td>\n",
              "      <td>7.198311e+07</td>\n",
              "      <td>21.20</td>\n",
              "      <td>0.0</td>\n",
              "    </tr>\n",
              "    <tr>\n",
              "      <th>23</th>\n",
              "      <td>0.201630</td>\n",
              "      <td>0.450858</td>\n",
              "      <td>115899.180498</td>\n",
              "      <td>1.510102e+07</td>\n",
              "      <td>20.60</td>\n",
              "      <td>1.0</td>\n",
              "    </tr>\n",
              "    <tr>\n",
              "      <th>24</th>\n",
              "      <td>0.050647</td>\n",
              "      <td>0.113250</td>\n",
              "      <td>33803.166561</td>\n",
              "      <td>7.039487e+07</td>\n",
              "      <td>23.60</td>\n",
              "      <td>0.0</td>\n",
              "    </tr>\n",
              "    <tr>\n",
              "      <th>27</th>\n",
              "      <td>0.110804</td>\n",
              "      <td>0.247765</td>\n",
              "      <td>48655.305132</td>\n",
              "      <td>3.279775e+07</td>\n",
              "      <td>21.90</td>\n",
              "      <td>1.0</td>\n",
              "    </tr>\n",
              "    <tr>\n",
              "      <th>28</th>\n",
              "      <td>0.031956</td>\n",
              "      <td>0.071456</td>\n",
              "      <td>17906.491092</td>\n",
              "      <td>6.697931e+07</td>\n",
              "      <td>24.60</td>\n",
              "      <td>0.0</td>\n",
              "    </tr>\n",
              "  </tbody>\n",
              "</table>\n",
              "</div>\n",
              "      <button class=\"colab-df-convert\" onclick=\"convertToInteractive('df-df1feba9-82a2-4049-8083-885a3baa145c')\"\n",
              "              title=\"Convert this dataframe to an interactive table.\"\n",
              "              style=\"display:none;\">\n",
              "        \n",
              "  <svg xmlns=\"http://www.w3.org/2000/svg\" height=\"24px\"viewBox=\"0 0 24 24\"\n",
              "       width=\"24px\">\n",
              "    <path d=\"M0 0h24v24H0V0z\" fill=\"none\"/>\n",
              "    <path d=\"M18.56 5.44l.94 2.06.94-2.06 2.06-.94-2.06-.94-.94-2.06-.94 2.06-2.06.94zm-11 1L8.5 8.5l.94-2.06 2.06-.94-2.06-.94L8.5 2.5l-.94 2.06-2.06.94zm10 10l.94 2.06.94-2.06 2.06-.94-2.06-.94-.94-2.06-.94 2.06-2.06.94z\"/><path d=\"M17.41 7.96l-1.37-1.37c-.4-.4-.92-.59-1.43-.59-.52 0-1.04.2-1.43.59L10.3 9.45l-7.72 7.72c-.78.78-.78 2.05 0 2.83L4 21.41c.39.39.9.59 1.41.59.51 0 1.02-.2 1.41-.59l7.78-7.78 2.81-2.81c.8-.78.8-2.07 0-2.86zM5.41 20L4 18.59l7.72-7.72 1.47 1.35L5.41 20z\"/>\n",
              "  </svg>\n",
              "      </button>\n",
              "      \n",
              "  <style>\n",
              "    .colab-df-container {\n",
              "      display:flex;\n",
              "      flex-wrap:wrap;\n",
              "      gap: 12px;\n",
              "    }\n",
              "\n",
              "    .colab-df-convert {\n",
              "      background-color: #E8F0FE;\n",
              "      border: none;\n",
              "      border-radius: 50%;\n",
              "      cursor: pointer;\n",
              "      display: none;\n",
              "      fill: #1967D2;\n",
              "      height: 32px;\n",
              "      padding: 0 0 0 0;\n",
              "      width: 32px;\n",
              "    }\n",
              "\n",
              "    .colab-df-convert:hover {\n",
              "      background-color: #E2EBFA;\n",
              "      box-shadow: 0px 1px 2px rgba(60, 64, 67, 0.3), 0px 1px 3px 1px rgba(60, 64, 67, 0.15);\n",
              "      fill: #174EA6;\n",
              "    }\n",
              "\n",
              "    [theme=dark] .colab-df-convert {\n",
              "      background-color: #3B4455;\n",
              "      fill: #D2E3FC;\n",
              "    }\n",
              "\n",
              "    [theme=dark] .colab-df-convert:hover {\n",
              "      background-color: #434B5C;\n",
              "      box-shadow: 0px 1px 3px 1px rgba(0, 0, 0, 0.15);\n",
              "      filter: drop-shadow(0px 1px 2px rgba(0, 0, 0, 0.3));\n",
              "      fill: #FFFFFF;\n",
              "    }\n",
              "  </style>\n",
              "\n",
              "      <script>\n",
              "        const buttonEl =\n",
              "          document.querySelector('#df-df1feba9-82a2-4049-8083-885a3baa145c button.colab-df-convert');\n",
              "        buttonEl.style.display =\n",
              "          google.colab.kernel.accessAllowed ? 'block' : 'none';\n",
              "\n",
              "        async function convertToInteractive(key) {\n",
              "          const element = document.querySelector('#df-df1feba9-82a2-4049-8083-885a3baa145c');\n",
              "          const dataTable =\n",
              "            await google.colab.kernel.invokeFunction('convertToInteractive',\n",
              "                                                     [key], {});\n",
              "          if (!dataTable) return;\n",
              "\n",
              "          const docLinkHtml = 'Like what you see? Visit the ' +\n",
              "            '<a target=\"_blank\" href=https://colab.research.google.com/notebooks/data_table.ipynb>data table notebook</a>'\n",
              "            + ' to learn more about interactive tables.';\n",
              "          element.innerHTML = '';\n",
              "          dataTable['output_type'] = 'display_data';\n",
              "          await google.colab.output.renderOutput(dataTable, element);\n",
              "          const docLink = document.createElement('div');\n",
              "          docLink.innerHTML = docLinkHtml;\n",
              "          element.appendChild(docLink);\n",
              "        }\n",
              "      </script>\n",
              "    </div>\n",
              "  </div>\n",
              "  "
            ]
          },
          "metadata": {},
          "execution_count": 71
        }
      ]
    },
    {
      "cell_type": "code",
      "source": [
        "x_train, x_test, y_train, y_test = train_test_split(data.drop(['hazardous'], axis=1), data['hazardous'], test_size=0.3)\n",
        "model = LogisticRegression()"
      ],
      "metadata": {
        "id": "gkE4NCQ1iaSr"
      },
      "execution_count": null,
      "outputs": []
    },
    {
      "cell_type": "code",
      "source": [
        "model.fit(x_train, y_train)\n",
        "print(model.intercept_[0], end=' ')\n",
        "w = model.coef_\n",
        "for i in range(w[0].shape[0]):\n",
        "  print('+', w[0][i], data.columns[i], end = ' ')"
      ],
      "metadata": {
        "colab": {
          "base_uri": "https://localhost:8080/"
        },
        "id": "0-KJTpE8ifsC",
        "outputId": "bb0fa501-91ce-4ad1-c7ae-242a753f1d9b"
      },
      "execution_count": null,
      "outputs": [
        {
          "output_type": "stream",
          "name": "stdout",
          "text": [
            "2.585727807151516e-11 + 1.4763030198486776e-10 est_diameter_min + 3.301113907776294e-10 est_diameter_max + 1.4894402353714579e-05 relative_velocity + -1.4104483414926992e-08 miss_distance + -2.1912682570791906e-09 absolute_magnitude "
          ]
        }
      ]
    },
    {
      "cell_type": "code",
      "source": [
        "pred = model.predict(x_test)"
      ],
      "metadata": {
        "id": "LB9yntdciuwi"
      },
      "execution_count": null,
      "outputs": []
    },
    {
      "cell_type": "code",
      "source": [
        "matrix = confusion_matrix(y_test, pred)\n",
        "tn, fp, fn, tp = confusion_matrix(y_test, pred).ravel()\n",
        "print(\"TN:\", tn)\n",
        "print(\"FP:\", fp)\n",
        "print(\"FN:\", fn)\n",
        "print(\"TP:\", tp)\n",
        "matrix"
      ],
      "metadata": {
        "colab": {
          "base_uri": "https://localhost:8080/"
        },
        "id": "wV9o3S8-iiJa",
        "outputId": "742a7a8f-3a46-4b3c-8bec-cbe90350fb33"
      },
      "execution_count": null,
      "outputs": [
        {
          "output_type": "stream",
          "name": "stdout",
          "text": [
            "TN: 786\n",
            "FP: 1502\n",
            "FN: 520\n",
            "TP: 2121\n"
          ]
        },
        {
          "output_type": "execute_result",
          "data": {
            "text/plain": [
              "array([[ 786, 1502],\n",
              "       [ 520, 2121]])"
            ]
          },
          "metadata": {},
          "execution_count": 76
        }
      ]
    },
    {
      "cell_type": "code",
      "source": [
        "my_accuracy = (tp+tn)/(tp+tn+fp+fn)\n",
        "my_recall = tp/(tp+fn)\n",
        "my_precision = tp/(tp+fp)\n",
        "my_f1 = (2 * my_accuracy * my_recall)/(my_precision + my_recall)\n",
        "\n",
        "print('My accuracy', my_accuracy, \"Another accuracy\", accuracy_score(y_test, pred))\n",
        "print('My recall', my_recall, \"Another recall\", recall_score(y_test, pred))\n",
        "print('My precision', my_precision, \"Another precision\", precision_score(y_test, pred))\n",
        "print('My f1', my_f1, \"Another f1\", f1_score(y_test, pred))"
      ],
      "metadata": {
        "colab": {
          "base_uri": "https://localhost:8080/"
        },
        "id": "cok4TQ0nilUx",
        "outputId": "2851fce5-00c9-4925-e123-7ee050f79e0d"
      },
      "execution_count": null,
      "outputs": [
        {
          "output_type": "stream",
          "name": "stdout",
          "text": [
            "My accuracy 0.5897748021911138 Another accuracy 0.5897748021911138\n",
            "My recall 0.8031048845134419 Another recall 0.8031048845134419\n",
            "My precision 0.5854264421749931 Another precision 0.5854264421749931\n",
            "My f1 0.682233112496298 Another f1 0.6772030651340996\n"
          ]
        }
      ]
    }
  ]
}