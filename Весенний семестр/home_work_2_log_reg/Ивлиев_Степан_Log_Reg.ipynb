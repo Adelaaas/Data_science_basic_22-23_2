{
  "cells": [
    {
      "cell_type": "code",
      "execution_count": 2,
      "id": "2aff91b9",
      "metadata": {
        "_cell_guid": "7a94ae6c-d1f5-4607-ae55-c508f4ae5ba1",
        "_uuid": "e217a7cb-5446-4d50-bb8f-b3e717e214e2",
        "execution": {
          "iopub.execute_input": "2023-06-02T07:02:12.651225Z",
          "iopub.status.busy": "2023-06-02T07:02:12.650548Z",
          "iopub.status.idle": "2023-06-02T07:02:12.662275Z",
          "shell.execute_reply": "2023-06-02T07:02:12.660959Z"
        },
        "jupyter": {
          "outputs_hidden": false
        },
        "papermill": {
          "duration": 0.025738,
          "end_time": "2023-06-02T07:02:12.664813",
          "exception": false,
          "start_time": "2023-06-02T07:02:12.639075",
          "status": "completed"
        },
        "tags": [],
        "colab": {
          "base_uri": "https://localhost:8080/",
          "height": 73
        },
        "id": "2aff91b9",
        "outputId": "c1dfe46a-0ed5-4e04-9c5f-0105be9d3a1c"
      },
      "outputs": [
        {
          "output_type": "display_data",
          "data": {
            "text/plain": [
              "<IPython.core.display.HTML object>"
            ],
            "text/html": [
              "\n",
              "     <input type=\"file\" id=\"files-42e8c189-5712-4a35-bf86-8b99737a2cc9\" name=\"files[]\" multiple disabled\n",
              "        style=\"border:none\" />\n",
              "     <output id=\"result-42e8c189-5712-4a35-bf86-8b99737a2cc9\">\n",
              "      Upload widget is only available when the cell has been executed in the\n",
              "      current browser session. Please rerun this cell to enable.\n",
              "      </output>\n",
              "      <script>// Copyright 2017 Google LLC\n",
              "//\n",
              "// Licensed under the Apache License, Version 2.0 (the \"License\");\n",
              "// you may not use this file except in compliance with the License.\n",
              "// You may obtain a copy of the License at\n",
              "//\n",
              "//      http://www.apache.org/licenses/LICENSE-2.0\n",
              "//\n",
              "// Unless required by applicable law or agreed to in writing, software\n",
              "// distributed under the License is distributed on an \"AS IS\" BASIS,\n",
              "// WITHOUT WARRANTIES OR CONDITIONS OF ANY KIND, either express or implied.\n",
              "// See the License for the specific language governing permissions and\n",
              "// limitations under the License.\n",
              "\n",
              "/**\n",
              " * @fileoverview Helpers for google.colab Python module.\n",
              " */\n",
              "(function(scope) {\n",
              "function span(text, styleAttributes = {}) {\n",
              "  const element = document.createElement('span');\n",
              "  element.textContent = text;\n",
              "  for (const key of Object.keys(styleAttributes)) {\n",
              "    element.style[key] = styleAttributes[key];\n",
              "  }\n",
              "  return element;\n",
              "}\n",
              "\n",
              "// Max number of bytes which will be uploaded at a time.\n",
              "const MAX_PAYLOAD_SIZE = 100 * 1024;\n",
              "\n",
              "function _uploadFiles(inputId, outputId) {\n",
              "  const steps = uploadFilesStep(inputId, outputId);\n",
              "  const outputElement = document.getElementById(outputId);\n",
              "  // Cache steps on the outputElement to make it available for the next call\n",
              "  // to uploadFilesContinue from Python.\n",
              "  outputElement.steps = steps;\n",
              "\n",
              "  return _uploadFilesContinue(outputId);\n",
              "}\n",
              "\n",
              "// This is roughly an async generator (not supported in the browser yet),\n",
              "// where there are multiple asynchronous steps and the Python side is going\n",
              "// to poll for completion of each step.\n",
              "// This uses a Promise to block the python side on completion of each step,\n",
              "// then passes the result of the previous step as the input to the next step.\n",
              "function _uploadFilesContinue(outputId) {\n",
              "  const outputElement = document.getElementById(outputId);\n",
              "  const steps = outputElement.steps;\n",
              "\n",
              "  const next = steps.next(outputElement.lastPromiseValue);\n",
              "  return Promise.resolve(next.value.promise).then((value) => {\n",
              "    // Cache the last promise value to make it available to the next\n",
              "    // step of the generator.\n",
              "    outputElement.lastPromiseValue = value;\n",
              "    return next.value.response;\n",
              "  });\n",
              "}\n",
              "\n",
              "/**\n",
              " * Generator function which is called between each async step of the upload\n",
              " * process.\n",
              " * @param {string} inputId Element ID of the input file picker element.\n",
              " * @param {string} outputId Element ID of the output display.\n",
              " * @return {!Iterable<!Object>} Iterable of next steps.\n",
              " */\n",
              "function* uploadFilesStep(inputId, outputId) {\n",
              "  const inputElement = document.getElementById(inputId);\n",
              "  inputElement.disabled = false;\n",
              "\n",
              "  const outputElement = document.getElementById(outputId);\n",
              "  outputElement.innerHTML = '';\n",
              "\n",
              "  const pickedPromise = new Promise((resolve) => {\n",
              "    inputElement.addEventListener('change', (e) => {\n",
              "      resolve(e.target.files);\n",
              "    });\n",
              "  });\n",
              "\n",
              "  const cancel = document.createElement('button');\n",
              "  inputElement.parentElement.appendChild(cancel);\n",
              "  cancel.textContent = 'Cancel upload';\n",
              "  const cancelPromise = new Promise((resolve) => {\n",
              "    cancel.onclick = () => {\n",
              "      resolve(null);\n",
              "    };\n",
              "  });\n",
              "\n",
              "  // Wait for the user to pick the files.\n",
              "  const files = yield {\n",
              "    promise: Promise.race([pickedPromise, cancelPromise]),\n",
              "    response: {\n",
              "      action: 'starting',\n",
              "    }\n",
              "  };\n",
              "\n",
              "  cancel.remove();\n",
              "\n",
              "  // Disable the input element since further picks are not allowed.\n",
              "  inputElement.disabled = true;\n",
              "\n",
              "  if (!files) {\n",
              "    return {\n",
              "      response: {\n",
              "        action: 'complete',\n",
              "      }\n",
              "    };\n",
              "  }\n",
              "\n",
              "  for (const file of files) {\n",
              "    const li = document.createElement('li');\n",
              "    li.append(span(file.name, {fontWeight: 'bold'}));\n",
              "    li.append(span(\n",
              "        `(${file.type || 'n/a'}) - ${file.size} bytes, ` +\n",
              "        `last modified: ${\n",
              "            file.lastModifiedDate ? file.lastModifiedDate.toLocaleDateString() :\n",
              "                                    'n/a'} - `));\n",
              "    const percent = span('0% done');\n",
              "    li.appendChild(percent);\n",
              "\n",
              "    outputElement.appendChild(li);\n",
              "\n",
              "    const fileDataPromise = new Promise((resolve) => {\n",
              "      const reader = new FileReader();\n",
              "      reader.onload = (e) => {\n",
              "        resolve(e.target.result);\n",
              "      };\n",
              "      reader.readAsArrayBuffer(file);\n",
              "    });\n",
              "    // Wait for the data to be ready.\n",
              "    let fileData = yield {\n",
              "      promise: fileDataPromise,\n",
              "      response: {\n",
              "        action: 'continue',\n",
              "      }\n",
              "    };\n",
              "\n",
              "    // Use a chunked sending to avoid message size limits. See b/62115660.\n",
              "    let position = 0;\n",
              "    do {\n",
              "      const length = Math.min(fileData.byteLength - position, MAX_PAYLOAD_SIZE);\n",
              "      const chunk = new Uint8Array(fileData, position, length);\n",
              "      position += length;\n",
              "\n",
              "      const base64 = btoa(String.fromCharCode.apply(null, chunk));\n",
              "      yield {\n",
              "        response: {\n",
              "          action: 'append',\n",
              "          file: file.name,\n",
              "          data: base64,\n",
              "        },\n",
              "      };\n",
              "\n",
              "      let percentDone = fileData.byteLength === 0 ?\n",
              "          100 :\n",
              "          Math.round((position / fileData.byteLength) * 100);\n",
              "      percent.textContent = `${percentDone}% done`;\n",
              "\n",
              "    } while (position < fileData.byteLength);\n",
              "  }\n",
              "\n",
              "  // All done.\n",
              "  yield {\n",
              "    response: {\n",
              "      action: 'complete',\n",
              "    }\n",
              "  };\n",
              "}\n",
              "\n",
              "scope.google = scope.google || {};\n",
              "scope.google.colab = scope.google.colab || {};\n",
              "scope.google.colab._files = {\n",
              "  _uploadFiles,\n",
              "  _uploadFilesContinue,\n",
              "};\n",
              "})(self);\n",
              "</script> "
            ]
          },
          "metadata": {}
        },
        {
          "output_type": "stream",
          "name": "stdout",
          "text": [
            "Saving data.csv to data (1).csv\n"
          ]
        }
      ],
      "source": [
        "import numpy as np\n",
        "import pandas as pd\n",
        "import random\n",
        "import matplotlib.pyplot as plt\n",
        "from google.colab import files\n",
        "uploaded = files.upload()"
      ]
    },
    {
      "cell_type": "code",
      "execution_count": 16,
      "id": "fc688246",
      "metadata": {
        "_cell_guid": "a8272e31-d247-4dec-aa06-4be4e1abedfe",
        "_uuid": "7c619cae-2261-4357-bf97-56dbf6b003f0",
        "execution": {
          "iopub.execute_input": "2023-06-02T07:02:12.684252Z",
          "iopub.status.busy": "2023-06-02T07:02:12.683777Z",
          "iopub.status.idle": "2023-06-02T07:02:12.720132Z",
          "shell.execute_reply": "2023-06-02T07:02:12.718845Z"
        },
        "jupyter": {
          "outputs_hidden": false
        },
        "papermill": {
          "duration": 0.049559,
          "end_time": "2023-06-02T07:02:12.723014",
          "exception": false,
          "start_time": "2023-06-02T07:02:12.673455",
          "status": "completed"
        },
        "tags": [],
        "id": "fc688246"
      },
      "outputs": [],
      "source": [
        "df = pd.read_csv('data.csv')"
      ]
    },
    {
      "cell_type": "code",
      "execution_count": 17,
      "id": "f092a684",
      "metadata": {
        "_cell_guid": "a01429ad-bb0d-4773-887d-576371a2f204",
        "_uuid": "4239ef57-c7c8-42af-b2a8-0904b02e5347",
        "execution": {
          "iopub.execute_input": "2023-06-02T07:02:12.741631Z",
          "iopub.status.busy": "2023-06-02T07:02:12.741221Z",
          "iopub.status.idle": "2023-06-02T07:02:12.747988Z",
          "shell.execute_reply": "2023-06-02T07:02:12.746617Z"
        },
        "jupyter": {
          "outputs_hidden": false
        },
        "papermill": {
          "duration": 0.019728,
          "end_time": "2023-06-02T07:02:12.751148",
          "exception": false,
          "start_time": "2023-06-02T07:02:12.731420",
          "status": "completed"
        },
        "tags": [],
        "colab": {
          "base_uri": "https://localhost:8080/"
        },
        "id": "f092a684",
        "outputId": "f89acfc5-cc59-44af-d264-9e59a7447c00"
      },
      "outputs": [
        {
          "output_type": "stream",
          "name": "stdout",
          "text": [
            "Data shape: (569, 33)\n"
          ]
        }
      ],
      "source": [
        "print(\"Data shape:\", df.shape)"
      ]
    },
    {
      "cell_type": "code",
      "execution_count": 18,
      "id": "3ca550de",
      "metadata": {
        "_cell_guid": "57ad2370-e5b9-4011-906e-f4fb59af4aa9",
        "_uuid": "1fff9092-d73a-4ac3-ac9b-a8465ea45137",
        "execution": {
          "iopub.execute_input": "2023-06-02T07:02:12.769989Z",
          "iopub.status.busy": "2023-06-02T07:02:12.769624Z",
          "iopub.status.idle": "2023-06-02T07:02:12.827963Z",
          "shell.execute_reply": "2023-06-02T07:02:12.826587Z"
        },
        "jupyter": {
          "outputs_hidden": false
        },
        "papermill": {
          "duration": 0.070899,
          "end_time": "2023-06-02T07:02:12.830585",
          "exception": false,
          "start_time": "2023-06-02T07:02:12.759686",
          "status": "completed"
        },
        "tags": [],
        "colab": {
          "base_uri": "https://localhost:8080/",
          "height": 297
        },
        "id": "3ca550de",
        "outputId": "9d786977-03fc-4d46-f635-561a69e08aac"
      },
      "outputs": [
        {
          "output_type": "execute_result",
          "data": {
            "text/plain": [
              "         id diagnosis  radius_mean  texture_mean  perimeter_mean  area_mean  \\\n",
              "0    842302         M        17.99         10.38          122.80     1001.0   \n",
              "1    842517         M        20.57         17.77          132.90     1326.0   \n",
              "2  84300903         M        19.69         21.25          130.00     1203.0   \n",
              "3  84348301         M        11.42         20.38           77.58      386.1   \n",
              "4  84358402         M        20.29         14.34          135.10     1297.0   \n",
              "\n",
              "   smoothness_mean  compactness_mean  concavity_mean  concave points_mean  \\\n",
              "0          0.11840           0.27760          0.3001              0.14710   \n",
              "1          0.08474           0.07864          0.0869              0.07017   \n",
              "2          0.10960           0.15990          0.1974              0.12790   \n",
              "3          0.14250           0.28390          0.2414              0.10520   \n",
              "4          0.10030           0.13280          0.1980              0.10430   \n",
              "\n",
              "   ...  texture_worst  perimeter_worst  area_worst  smoothness_worst  \\\n",
              "0  ...          17.33           184.60      2019.0            0.1622   \n",
              "1  ...          23.41           158.80      1956.0            0.1238   \n",
              "2  ...          25.53           152.50      1709.0            0.1444   \n",
              "3  ...          26.50            98.87       567.7            0.2098   \n",
              "4  ...          16.67           152.20      1575.0            0.1374   \n",
              "\n",
              "   compactness_worst  concavity_worst  concave points_worst  symmetry_worst  \\\n",
              "0             0.6656           0.7119                0.2654          0.4601   \n",
              "1             0.1866           0.2416                0.1860          0.2750   \n",
              "2             0.4245           0.4504                0.2430          0.3613   \n",
              "3             0.8663           0.6869                0.2575          0.6638   \n",
              "4             0.2050           0.4000                0.1625          0.2364   \n",
              "\n",
              "   fractal_dimension_worst  Unnamed: 32  \n",
              "0                  0.11890          NaN  \n",
              "1                  0.08902          NaN  \n",
              "2                  0.08758          NaN  \n",
              "3                  0.17300          NaN  \n",
              "4                  0.07678          NaN  \n",
              "\n",
              "[5 rows x 33 columns]"
            ],
            "text/html": [
              "\n",
              "  <div id=\"df-83a51512-c72c-4d7a-8ed4-378251eee3e6\">\n",
              "    <div class=\"colab-df-container\">\n",
              "      <div>\n",
              "<style scoped>\n",
              "    .dataframe tbody tr th:only-of-type {\n",
              "        vertical-align: middle;\n",
              "    }\n",
              "\n",
              "    .dataframe tbody tr th {\n",
              "        vertical-align: top;\n",
              "    }\n",
              "\n",
              "    .dataframe thead th {\n",
              "        text-align: right;\n",
              "    }\n",
              "</style>\n",
              "<table border=\"1\" class=\"dataframe\">\n",
              "  <thead>\n",
              "    <tr style=\"text-align: right;\">\n",
              "      <th></th>\n",
              "      <th>id</th>\n",
              "      <th>diagnosis</th>\n",
              "      <th>radius_mean</th>\n",
              "      <th>texture_mean</th>\n",
              "      <th>perimeter_mean</th>\n",
              "      <th>area_mean</th>\n",
              "      <th>smoothness_mean</th>\n",
              "      <th>compactness_mean</th>\n",
              "      <th>concavity_mean</th>\n",
              "      <th>concave points_mean</th>\n",
              "      <th>...</th>\n",
              "      <th>texture_worst</th>\n",
              "      <th>perimeter_worst</th>\n",
              "      <th>area_worst</th>\n",
              "      <th>smoothness_worst</th>\n",
              "      <th>compactness_worst</th>\n",
              "      <th>concavity_worst</th>\n",
              "      <th>concave points_worst</th>\n",
              "      <th>symmetry_worst</th>\n",
              "      <th>fractal_dimension_worst</th>\n",
              "      <th>Unnamed: 32</th>\n",
              "    </tr>\n",
              "  </thead>\n",
              "  <tbody>\n",
              "    <tr>\n",
              "      <th>0</th>\n",
              "      <td>842302</td>\n",
              "      <td>M</td>\n",
              "      <td>17.99</td>\n",
              "      <td>10.38</td>\n",
              "      <td>122.80</td>\n",
              "      <td>1001.0</td>\n",
              "      <td>0.11840</td>\n",
              "      <td>0.27760</td>\n",
              "      <td>0.3001</td>\n",
              "      <td>0.14710</td>\n",
              "      <td>...</td>\n",
              "      <td>17.33</td>\n",
              "      <td>184.60</td>\n",
              "      <td>2019.0</td>\n",
              "      <td>0.1622</td>\n",
              "      <td>0.6656</td>\n",
              "      <td>0.7119</td>\n",
              "      <td>0.2654</td>\n",
              "      <td>0.4601</td>\n",
              "      <td>0.11890</td>\n",
              "      <td>NaN</td>\n",
              "    </tr>\n",
              "    <tr>\n",
              "      <th>1</th>\n",
              "      <td>842517</td>\n",
              "      <td>M</td>\n",
              "      <td>20.57</td>\n",
              "      <td>17.77</td>\n",
              "      <td>132.90</td>\n",
              "      <td>1326.0</td>\n",
              "      <td>0.08474</td>\n",
              "      <td>0.07864</td>\n",
              "      <td>0.0869</td>\n",
              "      <td>0.07017</td>\n",
              "      <td>...</td>\n",
              "      <td>23.41</td>\n",
              "      <td>158.80</td>\n",
              "      <td>1956.0</td>\n",
              "      <td>0.1238</td>\n",
              "      <td>0.1866</td>\n",
              "      <td>0.2416</td>\n",
              "      <td>0.1860</td>\n",
              "      <td>0.2750</td>\n",
              "      <td>0.08902</td>\n",
              "      <td>NaN</td>\n",
              "    </tr>\n",
              "    <tr>\n",
              "      <th>2</th>\n",
              "      <td>84300903</td>\n",
              "      <td>M</td>\n",
              "      <td>19.69</td>\n",
              "      <td>21.25</td>\n",
              "      <td>130.00</td>\n",
              "      <td>1203.0</td>\n",
              "      <td>0.10960</td>\n",
              "      <td>0.15990</td>\n",
              "      <td>0.1974</td>\n",
              "      <td>0.12790</td>\n",
              "      <td>...</td>\n",
              "      <td>25.53</td>\n",
              "      <td>152.50</td>\n",
              "      <td>1709.0</td>\n",
              "      <td>0.1444</td>\n",
              "      <td>0.4245</td>\n",
              "      <td>0.4504</td>\n",
              "      <td>0.2430</td>\n",
              "      <td>0.3613</td>\n",
              "      <td>0.08758</td>\n",
              "      <td>NaN</td>\n",
              "    </tr>\n",
              "    <tr>\n",
              "      <th>3</th>\n",
              "      <td>84348301</td>\n",
              "      <td>M</td>\n",
              "      <td>11.42</td>\n",
              "      <td>20.38</td>\n",
              "      <td>77.58</td>\n",
              "      <td>386.1</td>\n",
              "      <td>0.14250</td>\n",
              "      <td>0.28390</td>\n",
              "      <td>0.2414</td>\n",
              "      <td>0.10520</td>\n",
              "      <td>...</td>\n",
              "      <td>26.50</td>\n",
              "      <td>98.87</td>\n",
              "      <td>567.7</td>\n",
              "      <td>0.2098</td>\n",
              "      <td>0.8663</td>\n",
              "      <td>0.6869</td>\n",
              "      <td>0.2575</td>\n",
              "      <td>0.6638</td>\n",
              "      <td>0.17300</td>\n",
              "      <td>NaN</td>\n",
              "    </tr>\n",
              "    <tr>\n",
              "      <th>4</th>\n",
              "      <td>84358402</td>\n",
              "      <td>M</td>\n",
              "      <td>20.29</td>\n",
              "      <td>14.34</td>\n",
              "      <td>135.10</td>\n",
              "      <td>1297.0</td>\n",
              "      <td>0.10030</td>\n",
              "      <td>0.13280</td>\n",
              "      <td>0.1980</td>\n",
              "      <td>0.10430</td>\n",
              "      <td>...</td>\n",
              "      <td>16.67</td>\n",
              "      <td>152.20</td>\n",
              "      <td>1575.0</td>\n",
              "      <td>0.1374</td>\n",
              "      <td>0.2050</td>\n",
              "      <td>0.4000</td>\n",
              "      <td>0.1625</td>\n",
              "      <td>0.2364</td>\n",
              "      <td>0.07678</td>\n",
              "      <td>NaN</td>\n",
              "    </tr>\n",
              "  </tbody>\n",
              "</table>\n",
              "<p>5 rows × 33 columns</p>\n",
              "</div>\n",
              "      <button class=\"colab-df-convert\" onclick=\"convertToInteractive('df-83a51512-c72c-4d7a-8ed4-378251eee3e6')\"\n",
              "              title=\"Convert this dataframe to an interactive table.\"\n",
              "              style=\"display:none;\">\n",
              "        \n",
              "  <svg xmlns=\"http://www.w3.org/2000/svg\" height=\"24px\"viewBox=\"0 0 24 24\"\n",
              "       width=\"24px\">\n",
              "    <path d=\"M0 0h24v24H0V0z\" fill=\"none\"/>\n",
              "    <path d=\"M18.56 5.44l.94 2.06.94-2.06 2.06-.94-2.06-.94-.94-2.06-.94 2.06-2.06.94zm-11 1L8.5 8.5l.94-2.06 2.06-.94-2.06-.94L8.5 2.5l-.94 2.06-2.06.94zm10 10l.94 2.06.94-2.06 2.06-.94-2.06-.94-.94-2.06-.94 2.06-2.06.94z\"/><path d=\"M17.41 7.96l-1.37-1.37c-.4-.4-.92-.59-1.43-.59-.52 0-1.04.2-1.43.59L10.3 9.45l-7.72 7.72c-.78.78-.78 2.05 0 2.83L4 21.41c.39.39.9.59 1.41.59.51 0 1.02-.2 1.41-.59l7.78-7.78 2.81-2.81c.8-.78.8-2.07 0-2.86zM5.41 20L4 18.59l7.72-7.72 1.47 1.35L5.41 20z\"/>\n",
              "  </svg>\n",
              "      </button>\n",
              "      \n",
              "  <style>\n",
              "    .colab-df-container {\n",
              "      display:flex;\n",
              "      flex-wrap:wrap;\n",
              "      gap: 12px;\n",
              "    }\n",
              "\n",
              "    .colab-df-convert {\n",
              "      background-color: #E8F0FE;\n",
              "      border: none;\n",
              "      border-radius: 50%;\n",
              "      cursor: pointer;\n",
              "      display: none;\n",
              "      fill: #1967D2;\n",
              "      height: 32px;\n",
              "      padding: 0 0 0 0;\n",
              "      width: 32px;\n",
              "    }\n",
              "\n",
              "    .colab-df-convert:hover {\n",
              "      background-color: #E2EBFA;\n",
              "      box-shadow: 0px 1px 2px rgba(60, 64, 67, 0.3), 0px 1px 3px 1px rgba(60, 64, 67, 0.15);\n",
              "      fill: #174EA6;\n",
              "    }\n",
              "\n",
              "    [theme=dark] .colab-df-convert {\n",
              "      background-color: #3B4455;\n",
              "      fill: #D2E3FC;\n",
              "    }\n",
              "\n",
              "    [theme=dark] .colab-df-convert:hover {\n",
              "      background-color: #434B5C;\n",
              "      box-shadow: 0px 1px 3px 1px rgba(0, 0, 0, 0.15);\n",
              "      filter: drop-shadow(0px 1px 2px rgba(0, 0, 0, 0.3));\n",
              "      fill: #FFFFFF;\n",
              "    }\n",
              "  </style>\n",
              "\n",
              "      <script>\n",
              "        const buttonEl =\n",
              "          document.querySelector('#df-83a51512-c72c-4d7a-8ed4-378251eee3e6 button.colab-df-convert');\n",
              "        buttonEl.style.display =\n",
              "          google.colab.kernel.accessAllowed ? 'block' : 'none';\n",
              "\n",
              "        async function convertToInteractive(key) {\n",
              "          const element = document.querySelector('#df-83a51512-c72c-4d7a-8ed4-378251eee3e6');\n",
              "          const dataTable =\n",
              "            await google.colab.kernel.invokeFunction('convertToInteractive',\n",
              "                                                     [key], {});\n",
              "          if (!dataTable) return;\n",
              "\n",
              "          const docLinkHtml = 'Like what you see? Visit the ' +\n",
              "            '<a target=\"_blank\" href=https://colab.research.google.com/notebooks/data_table.ipynb>data table notebook</a>'\n",
              "            + ' to learn more about interactive tables.';\n",
              "          element.innerHTML = '';\n",
              "          dataTable['output_type'] = 'display_data';\n",
              "          await google.colab.output.renderOutput(dataTable, element);\n",
              "          const docLink = document.createElement('div');\n",
              "          docLink.innerHTML = docLinkHtml;\n",
              "          element.appendChild(docLink);\n",
              "        }\n",
              "      </script>\n",
              "    </div>\n",
              "  </div>\n",
              "  "
            ]
          },
          "metadata": {},
          "execution_count": 18
        }
      ],
      "source": [
        "df.head()"
      ]
    },
    {
      "cell_type": "code",
      "execution_count": 19,
      "id": "114cd70c",
      "metadata": {
        "_cell_guid": "f717352b-949d-4468-9d96-45636e6f86b4",
        "_uuid": "688ba86c-6624-4be9-86e6-f0d80c66a0cf",
        "execution": {
          "iopub.execute_input": "2023-06-02T07:02:12.853319Z",
          "iopub.status.busy": "2023-06-02T07:02:12.852869Z",
          "iopub.status.idle": "2023-06-02T07:02:12.868573Z",
          "shell.execute_reply": "2023-06-02T07:02:12.867615Z"
        },
        "jupyter": {
          "outputs_hidden": false
        },
        "papermill": {
          "duration": 0.030585,
          "end_time": "2023-06-02T07:02:12.870793",
          "exception": false,
          "start_time": "2023-06-02T07:02:12.840208",
          "status": "completed"
        },
        "tags": [],
        "colab": {
          "base_uri": "https://localhost:8080/"
        },
        "id": "114cd70c",
        "outputId": "85ab8d7e-d83e-4564-ccf5-7d440c0b2030"
      },
      "outputs": [
        {
          "output_type": "execute_result",
          "data": {
            "text/plain": [
              "id                           0\n",
              "diagnosis                    0\n",
              "radius_mean                  0\n",
              "texture_mean                 0\n",
              "perimeter_mean               0\n",
              "area_mean                    0\n",
              "smoothness_mean              0\n",
              "compactness_mean             0\n",
              "concavity_mean               0\n",
              "concave points_mean          0\n",
              "symmetry_mean                0\n",
              "fractal_dimension_mean       0\n",
              "radius_se                    0\n",
              "texture_se                   0\n",
              "perimeter_se                 0\n",
              "area_se                      0\n",
              "smoothness_se                0\n",
              "compactness_se               0\n",
              "concavity_se                 0\n",
              "concave points_se            0\n",
              "symmetry_se                  0\n",
              "fractal_dimension_se         0\n",
              "radius_worst                 0\n",
              "texture_worst                0\n",
              "perimeter_worst              0\n",
              "area_worst                   0\n",
              "smoothness_worst             0\n",
              "compactness_worst            0\n",
              "concavity_worst              0\n",
              "concave points_worst         0\n",
              "symmetry_worst               0\n",
              "fractal_dimension_worst      0\n",
              "Unnamed: 32                569\n",
              "dtype: int64"
            ]
          },
          "metadata": {},
          "execution_count": 19
        }
      ],
      "source": [
        "#Пропущенные значения\n",
        "df.isnull().sum()"
      ]
    },
    {
      "cell_type": "code",
      "execution_count": 20,
      "id": "1557884d",
      "metadata": {
        "_cell_guid": "2c3cb2f1-9445-4cad-a503-0e4aae5a9163",
        "_uuid": "e61dc564-e456-41c4-adfe-eb6c4d750669",
        "execution": {
          "iopub.execute_input": "2023-06-02T07:02:12.891894Z",
          "iopub.status.busy": "2023-06-02T07:02:12.891194Z",
          "iopub.status.idle": "2023-06-02T07:02:12.899225Z",
          "shell.execute_reply": "2023-06-02T07:02:12.897878Z"
        },
        "jupyter": {
          "outputs_hidden": false
        },
        "papermill": {
          "duration": 0.021502,
          "end_time": "2023-06-02T07:02:12.901614",
          "exception": false,
          "start_time": "2023-06-02T07:02:12.880112",
          "status": "completed"
        },
        "tags": [],
        "id": "1557884d"
      },
      "outputs": [],
      "source": [
        "df = df.drop(columns=['Unnamed: 32'])"
      ]
    },
    {
      "cell_type": "code",
      "execution_count": 21,
      "id": "acac46eb",
      "metadata": {
        "_cell_guid": "b8218c9f-873f-46e4-9a6d-12178fe9a685",
        "_uuid": "15ed0efe-f1b5-49fe-af2e-d9f64a231184",
        "execution": {
          "iopub.execute_input": "2023-06-02T07:02:12.922940Z",
          "iopub.status.busy": "2023-06-02T07:02:12.922437Z",
          "iopub.status.idle": "2023-06-02T07:02:12.928420Z",
          "shell.execute_reply": "2023-06-02T07:02:12.927220Z"
        },
        "jupyter": {
          "outputs_hidden": false
        },
        "papermill": {
          "duration": 0.019778,
          "end_time": "2023-06-02T07:02:12.930798",
          "exception": false,
          "start_time": "2023-06-02T07:02:12.911020",
          "status": "completed"
        },
        "tags": [],
        "id": "acac46eb"
      },
      "outputs": [],
      "source": [
        "# Функция для установки кодировщика меток\n",
        "def label_encoder_fit(x):\n",
        "    unique_values = np.unique(x)\n",
        "    labels = {value: i for i, value in enumerate(unique_values)}\n",
        "    return labels"
      ]
    },
    {
      "cell_type": "code",
      "execution_count": 22,
      "id": "d9de27fc",
      "metadata": {
        "_cell_guid": "681a6eb5-994c-4a35-936b-dae2cf144631",
        "_uuid": "2dc60486-4099-4ef6-85ab-782595d4a852",
        "execution": {
          "iopub.execute_input": "2023-06-02T07:02:12.951893Z",
          "iopub.status.busy": "2023-06-02T07:02:12.951053Z",
          "iopub.status.idle": "2023-06-02T07:02:12.956067Z",
          "shell.execute_reply": "2023-06-02T07:02:12.955134Z"
        },
        "jupyter": {
          "outputs_hidden": false
        },
        "papermill": {
          "duration": 0.01817,
          "end_time": "2023-06-02T07:02:12.958111",
          "exception": false,
          "start_time": "2023-06-02T07:02:12.939941",
          "status": "completed"
        },
        "tags": [],
        "id": "d9de27fc"
      },
      "outputs": [],
      "source": [
        "# Функция преобразования этикеток с помощью встроенного энкодера\n",
        "def label_encoder_transform(x, labels):\n",
        "    return [labels[value] for value in x]"
      ]
    },
    {
      "cell_type": "code",
      "execution_count": 23,
      "id": "ea3a88db",
      "metadata": {
        "_cell_guid": "ea61368a-530e-43f1-9793-20ebdf80f144",
        "_uuid": "759d1faf-043f-492c-b06c-8a7504130673",
        "execution": {
          "iopub.execute_input": "2023-06-02T07:02:12.978952Z",
          "iopub.status.busy": "2023-06-02T07:02:12.978480Z",
          "iopub.status.idle": "2023-06-02T07:02:12.991082Z",
          "shell.execute_reply": "2023-06-02T07:02:12.989928Z"
        },
        "jupyter": {
          "outputs_hidden": false
        },
        "papermill": {
          "duration": 0.026133,
          "end_time": "2023-06-02T07:02:12.993418",
          "exception": false,
          "start_time": "2023-06-02T07:02:12.967285",
          "status": "completed"
        },
        "tags": [],
        "colab": {
          "base_uri": "https://localhost:8080/"
        },
        "id": "ea3a88db",
        "outputId": "22e87bf0-5e46-4c65-8f87-96b122dd6c83"
      },
      "outputs": [
        {
          "output_type": "execute_result",
          "data": {
            "text/plain": [
              "{'diagnosis': {'B': 0, 'M': 1}}"
            ]
          },
          "metadata": {},
          "execution_count": 23
        }
      ],
      "source": [
        "# Применить кодировку меток к столбцам объекта\n",
        "label_encoders = {}\n",
        "for column in df.columns:\n",
        "    if df[column].dtype == 'object':\n",
        "        labels = label_encoder_fit(df[column])\n",
        "        label_encoders[column] = labels\n",
        "        df[column] = label_encoder_transform(df[column], labels)\n",
        "\n",
        "label_encoders"
      ]
    },
    {
      "cell_type": "code",
      "execution_count": 24,
      "id": "600b1bbf",
      "metadata": {
        "_cell_guid": "17c297e5-0e6f-448b-87c7-ed31655a59a3",
        "_uuid": "f218cd68-e6a3-4897-a11e-d6433786cd2e",
        "execution": {
          "iopub.execute_input": "2023-06-02T07:02:13.015648Z",
          "iopub.status.busy": "2023-06-02T07:02:13.015140Z",
          "iopub.status.idle": "2023-06-02T07:02:13.021917Z",
          "shell.execute_reply": "2023-06-02T07:02:13.020470Z"
        },
        "jupyter": {
          "outputs_hidden": false
        },
        "papermill": {
          "duration": 0.021141,
          "end_time": "2023-06-02T07:02:13.024499",
          "exception": false,
          "start_time": "2023-06-02T07:02:13.003358",
          "status": "completed"
        },
        "tags": [],
        "id": "600b1bbf"
      },
      "outputs": [],
      "source": [
        "# Функция масштабирования функций\n",
        "def feature_scaling(X):\n",
        "    mean = np.mean(X, axis=0)\n",
        "    std = np.std(X, axis=0)\n",
        "    X_scaled = (X - mean) / std\n",
        "    return X_scaled"
      ]
    },
    {
      "cell_type": "code",
      "execution_count": 25,
      "id": "193f1fe1",
      "metadata": {
        "_cell_guid": "77cfed52-9d66-4307-be2e-58e0444a4cc5",
        "_uuid": "7f537e3c-c741-4e1d-b381-9aaf8544e34f",
        "execution": {
          "iopub.execute_input": "2023-06-02T07:02:13.045707Z",
          "iopub.status.busy": "2023-06-02T07:02:13.045222Z",
          "iopub.status.idle": "2023-06-02T07:02:13.052342Z",
          "shell.execute_reply": "2023-06-02T07:02:13.050938Z"
        },
        "jupyter": {
          "outputs_hidden": false
        },
        "papermill": {
          "duration": 0.020731,
          "end_time": "2023-06-02T07:02:13.054902",
          "exception": false,
          "start_time": "2023-06-02T07:02:13.034171",
          "status": "completed"
        },
        "tags": [],
        "id": "193f1fe1"
      },
      "outputs": [],
      "source": [
        "# Разделить данные на тренировочный и тестовый наборы\n",
        "def train_test_split(df, test_ratio):\n",
        "    num_rows = df.shape[0]\n",
        "    num_test_rows = int(num_rows * test_ratio)\n",
        "    test_indices = random.sample(range(num_rows), num_test_rows)\n",
        "    test_set = df.iloc[test_indices]\n",
        "    train_set = df.drop(test_indices)\n",
        "    return train_set, test_set"
      ]
    },
    {
      "cell_type": "code",
      "execution_count": 26,
      "id": "066a544a",
      "metadata": {
        "_cell_guid": "94607f0a-7024-48ea-8d20-b5abe7fdeaba",
        "_uuid": "0d93c919-7a42-409a-9a53-d2bf504484a5",
        "execution": {
          "iopub.execute_input": "2023-06-02T07:02:13.075918Z",
          "iopub.status.busy": "2023-06-02T07:02:13.075507Z",
          "iopub.status.idle": "2023-06-02T07:02:13.083701Z",
          "shell.execute_reply": "2023-06-02T07:02:13.082516Z"
        },
        "jupyter": {
          "outputs_hidden": false
        },
        "papermill": {
          "duration": 0.02134,
          "end_time": "2023-06-02T07:02:13.085891",
          "exception": false,
          "start_time": "2023-06-02T07:02:13.064551",
          "status": "completed"
        },
        "tags": [],
        "id": "066a544a"
      },
      "outputs": [],
      "source": [
        "train, test = train_test_split(df, 0.3)"
      ]
    },
    {
      "cell_type": "code",
      "execution_count": 27,
      "id": "581268ae",
      "metadata": {
        "_cell_guid": "55f0c13f-f4b8-49c4-98ac-3f5a1d02ac9c",
        "_uuid": "95308218-a33c-496e-8b14-07cc9e305d50",
        "execution": {
          "iopub.execute_input": "2023-06-02T07:02:13.106311Z",
          "iopub.status.busy": "2023-06-02T07:02:13.105945Z",
          "iopub.status.idle": "2023-06-02T07:02:13.115798Z",
          "shell.execute_reply": "2023-06-02T07:02:13.114605Z"
        },
        "jupyter": {
          "outputs_hidden": false
        },
        "papermill": {
          "duration": 0.022642,
          "end_time": "2023-06-02T07:02:13.117907",
          "exception": false,
          "start_time": "2023-06-02T07:02:13.095265",
          "status": "completed"
        },
        "tags": [],
        "id": "581268ae"
      },
      "outputs": [],
      "source": [
        "# Отдельные функции и метки для тренировочного набора\n",
        "X_train = train.drop(columns=['diagnosis']).values\n",
        "Y_train = train[\"diagnosis\"].values\n",
        "\n",
        "# Отдельные функции и метки для тестового набора\n",
        "X_test = test.drop(columns=['diagnosis']).values\n",
        "Y_test = test[\"diagnosis\"].values\n",
        "\n",
        "# Масштабировать функции\n",
        "X_train = feature_scaling(X_train)\n",
        "X_test = feature_scaling(X_test)"
      ]
    },
    {
      "cell_type": "code",
      "execution_count": 28,
      "id": "b6c605f3",
      "metadata": {
        "_cell_guid": "55abede0-2867-4124-9376-dde2fc9b9958",
        "_uuid": "7bc3813e-7628-4e57-bc35-61bd0563d379",
        "execution": {
          "iopub.execute_input": "2023-06-02T07:02:13.138641Z",
          "iopub.status.busy": "2023-06-02T07:02:13.138205Z",
          "iopub.status.idle": "2023-06-02T07:02:13.143449Z",
          "shell.execute_reply": "2023-06-02T07:02:13.142269Z"
        },
        "jupyter": {
          "outputs_hidden": false
        },
        "papermill": {
          "duration": 0.018988,
          "end_time": "2023-06-02T07:02:13.146120",
          "exception": false,
          "start_time": "2023-06-02T07:02:13.127132",
          "status": "completed"
        },
        "tags": [],
        "id": "b6c605f3"
      },
      "outputs": [],
      "source": [
        "# Функции логистической регрессии\n",
        "def predict(X,W,b):\n",
        "    return W.dot(X)+b"
      ]
    },
    {
      "cell_type": "code",
      "execution_count": 29,
      "id": "f449fd0c",
      "metadata": {
        "_cell_guid": "2834904f-394e-46e8-bcb2-ae9fd8c702e6",
        "_uuid": "fd82ce68-6b92-4183-b515-ff748cc080be",
        "execution": {
          "iopub.execute_input": "2023-06-02T07:02:13.167214Z",
          "iopub.status.busy": "2023-06-02T07:02:13.166798Z",
          "iopub.status.idle": "2023-06-02T07:02:13.172260Z",
          "shell.execute_reply": "2023-06-02T07:02:13.171117Z"
        },
        "jupyter": {
          "outputs_hidden": false
        },
        "papermill": {
          "duration": 0.019115,
          "end_time": "2023-06-02T07:02:13.174729",
          "exception": false,
          "start_time": "2023-06-02T07:02:13.155614",
          "status": "completed"
        },
        "tags": [],
        "id": "f449fd0c"
      },
      "outputs": [],
      "source": [
        "def sigmoid(z):\n",
        "    return 1/(1+np.exp(-z))"
      ]
    },
    {
      "cell_type": "code",
      "execution_count": 30,
      "id": "482685c9",
      "metadata": {
        "_cell_guid": "108a11c7-0410-48f5-a94f-b0ac62b2d606",
        "_uuid": "6734208b-4172-4594-95ff-40d0c07625c0",
        "execution": {
          "iopub.execute_input": "2023-06-02T07:02:13.195476Z",
          "iopub.status.busy": "2023-06-02T07:02:13.194986Z",
          "iopub.status.idle": "2023-06-02T07:02:13.202203Z",
          "shell.execute_reply": "2023-06-02T07:02:13.201102Z"
        },
        "jupyter": {
          "outputs_hidden": false
        },
        "papermill": {
          "duration": 0.020568,
          "end_time": "2023-06-02T07:02:13.204655",
          "exception": false,
          "start_time": "2023-06-02T07:02:13.184087",
          "status": "completed"
        },
        "tags": [],
        "id": "482685c9"
      },
      "outputs": [],
      "source": [
        "def cost(W,b):\n",
        "    m,n = X_train.shape\n",
        "    cost = 0\n",
        "    for i in range(m):\n",
        "        fx = sigmoid(predict(X_train[i], W, b))\n",
        "        cost += Y_train[i]*np.log(fx)+(1-Y_train[i])*np.log(1-fx)\n",
        "    cost = -cost/m\n",
        "    return cost"
      ]
    },
    {
      "cell_type": "code",
      "execution_count": 31,
      "id": "77eaa9b6",
      "metadata": {
        "_cell_guid": "185dbe89-051c-457b-9723-7f0b0b148150",
        "_uuid": "02ac83f8-6843-4aec-89b3-4b5047e345fd",
        "execution": {
          "iopub.execute_input": "2023-06-02T07:02:13.226246Z",
          "iopub.status.busy": "2023-06-02T07:02:13.225779Z",
          "iopub.status.idle": "2023-06-02T07:02:13.233549Z",
          "shell.execute_reply": "2023-06-02T07:02:13.232478Z"
        },
        "jupyter": {
          "outputs_hidden": false
        },
        "papermill": {
          "duration": 0.021576,
          "end_time": "2023-06-02T07:02:13.235772",
          "exception": false,
          "start_time": "2023-06-02T07:02:13.214196",
          "status": "completed"
        },
        "tags": [],
        "id": "77eaa9b6"
      },
      "outputs": [],
      "source": [
        "def gradient_step(W, b):\n",
        "    m,n = X_train.shape\n",
        "    dj_dw = np.zeros((n,))\n",
        "    dj_db = 0\n",
        "    for i in range(m):\n",
        "        fx = sigmoid(predict(X_train[i], W, b))\n",
        "        for j in range(n):\n",
        "            dj_dw[j] += (fx - Y_train[i]) * X_train[i][j]\n",
        "        dj_db += fx - Y_train[i]\n",
        "    dj_dw = dj_dw / m\n",
        "    dj_db = dj_db / m\n",
        "    return [dj_dw, dj_db]"
      ]
    },
    {
      "cell_type": "code",
      "execution_count": 32,
      "id": "72fe9236",
      "metadata": {
        "_cell_guid": "2ccc5c76-120b-46b2-975f-ec6da4a73d63",
        "_uuid": "5b8d89e2-58ae-44b2-9592-71f652e99438",
        "execution": {
          "iopub.execute_input": "2023-06-02T07:02:13.256752Z",
          "iopub.status.busy": "2023-06-02T07:02:13.256261Z",
          "iopub.status.idle": "2023-06-02T07:02:13.264332Z",
          "shell.execute_reply": "2023-06-02T07:02:13.263203Z"
        },
        "jupyter": {
          "outputs_hidden": false
        },
        "papermill": {
          "duration": 0.021684,
          "end_time": "2023-06-02T07:02:13.266927",
          "exception": false,
          "start_time": "2023-06-02T07:02:13.245243",
          "status": "completed"
        },
        "tags": [],
        "id": "72fe9236"
      },
      "outputs": [],
      "source": [
        "def gradient_decent(alpha, iterations, init_W, init_b, record_interval):\n",
        "    local_W = init_W\n",
        "    local_b = init_b\n",
        "    cost_history = [cost(local_W, local_b)]\n",
        "    for i in range(iterations):\n",
        "        new_W, new_b = gradient_step(local_W, local_b)\n",
        "        local_W = local_W - (alpha*new_W)\n",
        "        local_b = local_b - (alpha*new_b)\n",
        "        if i%record_interval==0:\n",
        "            local_cost = cost(local_W, local_b)\n",
        "            print(f\"Iteration {i}: Cost = {local_cost}\")\n",
        "            cost_history.append(local_cost)\n",
        "    return [local_W, local_b, cost_history]"
      ]
    },
    {
      "cell_type": "code",
      "execution_count": 33,
      "id": "b664d218",
      "metadata": {
        "_cell_guid": "c91f780a-27b8-4ac8-9718-5a56cf4f1733",
        "_uuid": "2c11fd80-3d08-4fab-a178-7a0aa10255e2",
        "execution": {
          "iopub.execute_input": "2023-06-02T07:02:13.288138Z",
          "iopub.status.busy": "2023-06-02T07:02:13.287708Z",
          "iopub.status.idle": "2023-06-02T07:09:31.439647Z",
          "shell.execute_reply": "2023-06-02T07:09:31.434227Z"
        },
        "jupyter": {
          "outputs_hidden": false
        },
        "papermill": {
          "duration": 438.173522,
          "end_time": "2023-06-02T07:09:31.449805",
          "exception": false,
          "start_time": "2023-06-02T07:02:13.276283",
          "status": "completed"
        },
        "tags": [],
        "colab": {
          "base_uri": "https://localhost:8080/"
        },
        "id": "b664d218",
        "outputId": "ba7513d2-c713-4187-9b12-31c85822c5a2"
      },
      "outputs": [
        {
          "output_type": "stream",
          "name": "stdout",
          "text": [
            "Iteration 0: Cost = 0.6912199455789227\n",
            "Iteration 1000: Cost = 0.25158417973234215\n",
            "Iteration 2000: Cost = 0.18441301003789215\n",
            "Iteration 3000: Cost = 0.15382714659159463\n",
            "Iteration 4000: Cost = 0.13574934721902848\n",
            "Iteration 5000: Cost = 0.123603541655705\n",
            "Iteration 6000: Cost = 0.1147807001653005\n",
            "Iteration 7000: Cost = 0.10802493558492206\n",
            "Iteration 8000: Cost = 0.10265185678073825\n",
            "Iteration 9000: Cost = 0.09825433530547396\n",
            "Iteration 10000: Cost = 0.09457380223266125\n",
            "Iteration 11000: Cost = 0.09143749407373843\n",
            "Iteration 12000: Cost = 0.08872521034342382\n",
            "Iteration 13000: Cost = 0.08635051159685765\n",
            "Iteration 14000: Cost = 0.08424950440427868\n",
            "Iteration 15000: Cost = 0.08237385083794574\n",
            "Iteration 16000: Cost = 0.08068624675878991\n",
            "Iteration 17000: Cost = 0.07915740309171303\n",
            "Iteration 18000: Cost = 0.07776397474838098\n",
            "Iteration 19000: Cost = 0.07648710547866666\n",
            "Final weights:\n",
            "[ 0.0467497   0.50077705  0.41877997  0.49705954  0.48903294  0.16994067\n",
            "  0.19065183  0.38032084  0.51152889  0.16490307 -0.20230783  0.423206\n",
            " -0.01623362  0.36917067  0.38043229  0.02481843 -0.15477457 -0.12058372\n",
            "  0.06626934 -0.08772066 -0.24255157  0.57915246  0.52925882  0.55357003\n",
            "  0.54199838  0.36805428  0.23795815  0.32350222  0.51756511  0.36618223\n",
            "  0.10732278]\n",
            "Final bias:\n",
            "-0.5185190195566747\n"
          ]
        }
      ],
      "source": [
        "m, n = X_train.shape\n",
        "W = np.zeros((n,))\n",
        "b = 0\n",
        "alpha = 0.001  # Скорость обучения\n",
        "iterations = 20000 # Количество итераций\n",
        "variable_frequency = 1000 # Частота записи стоимости\n",
        "\n",
        "W, b, cost_history = gradient_decent(alpha, iterations, W, b,variable_frequency)\n",
        "\n",
        "print('Final weights:')\n",
        "print(W)\n",
        "print('Final bias:')\n",
        "print(b)"
      ]
    },
    {
      "cell_type": "code",
      "execution_count": 34,
      "id": "c90b7b1b",
      "metadata": {
        "_cell_guid": "619bd97f-270b-48fa-af74-b435d9b9a628",
        "_uuid": "f1a05317-2adc-4c77-baf0-7037917c9cb6",
        "execution": {
          "iopub.execute_input": "2023-06-02T07:09:31.474481Z",
          "iopub.status.busy": "2023-06-02T07:09:31.474021Z",
          "iopub.status.idle": "2023-06-02T07:09:31.819722Z",
          "shell.execute_reply": "2023-06-02T07:09:31.818360Z"
        },
        "jupyter": {
          "outputs_hidden": false
        },
        "papermill": {
          "duration": 0.36135,
          "end_time": "2023-06-02T07:09:31.822366",
          "exception": false,
          "start_time": "2023-06-02T07:09:31.461016",
          "status": "completed"
        },
        "tags": [],
        "colab": {
          "base_uri": "https://localhost:8080/",
          "height": 472
        },
        "id": "c90b7b1b",
        "outputId": "472930a4-c95f-4529-d444-25ba913c7675"
      },
      "outputs": [
        {
          "output_type": "display_data",
          "data": {
            "text/plain": [
              "<Figure size 640x480 with 1 Axes>"
            ],
            "image/png": "[encoded data removed]"
          },
          "metadata": {}
        }
      ],
      "source": [
        "# График изменения стоимости за итерации\n",
        "plt.plot(range(0, iterations + 1, variable_frequency), cost_history)\n",
        "plt.xlabel('Iterations')\n",
        "plt.ylabel('Cost')\n",
        "plt.title('Cost Change over Iterations')\n",
        "plt.show()"
      ]
    },
    {
      "cell_type": "code",
      "execution_count": 35,
      "id": "212e2cbc",
      "metadata": {
        "_cell_guid": "4ea64500-0bda-4386-9f4c-828eadbb2456",
        "_uuid": "cccfbbb9-317e-422b-abbd-645e71e37693",
        "execution": {
          "iopub.execute_input": "2023-06-02T07:09:31.847912Z",
          "iopub.status.busy": "2023-06-02T07:09:31.847491Z",
          "iopub.status.idle": "2023-06-02T07:09:31.854894Z",
          "shell.execute_reply": "2023-06-02T07:09:31.853637Z"
        },
        "jupyter": {
          "outputs_hidden": false
        },
        "papermill": {
          "duration": 0.024188,
          "end_time": "2023-06-02T07:09:31.858245",
          "exception": false,
          "start_time": "2023-06-02T07:09:31.834057",
          "status": "completed"
        },
        "tags": [],
        "colab": {
          "base_uri": "https://localhost:8080/"
        },
        "id": "212e2cbc",
        "outputId": "719f9836-e08c-44d7-82c2-b0309c314b31"
      },
      "outputs": [
        {
          "output_type": "stream",
          "name": "stdout",
          "text": [
            "Accuracy: 98.23529411764706 %\n"
          ]
        }
      ],
      "source": [
        "# Делаем прогнозы на тестовом наборе\n",
        "linear_combination = np.dot(X_test, W) + b\n",
        "probabilities = sigmoid(linear_combination)\n",
        "predictions = np.where(probabilities >= 0.4, 1, 0)\n",
        "accuracy = np.mean(predictions == Y_test) * 100\n",
        "print(\"Accuracy:\", accuracy, \"%\")"
      ]
    }
  ],
  "metadata": {
    "kernelspec": {
      "display_name": "Python 3",
      "language": "python",
      "name": "python3"
    },
    "language_info": {
      "codemirror_mode": {
        "name": "ipython",
        "version": 3
      },
      "file_extension": ".py",
      "mimetype": "text/x-python",
      "name": "python",
      "nbconvert_exporter": "python",
      "pygments_lexer": "ipython3",
      "version": "3.10.10"
    },
    "papermill": {
      "default_parameters": {},
      "duration": 452.755929,
      "end_time": "2023-06-02T07:09:32.694544",
      "environment_variables": {},
      "exception": null,
      "input_path": "__notebook__.ipynb",
      "output_path": "__notebook__.ipynb",
      "parameters": {},
      "start_time": "2023-06-02T07:01:59.938615",
      "version": "2.4.0"
    },
    "colab": {
      "provenance": []
    }
  },
  "nbformat": 4,
  "nbformat_minor": 5
}