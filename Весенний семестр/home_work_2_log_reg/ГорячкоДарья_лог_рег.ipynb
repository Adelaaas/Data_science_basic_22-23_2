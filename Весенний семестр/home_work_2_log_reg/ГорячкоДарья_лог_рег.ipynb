{
  "nbformat": 4,
  "nbformat_minor": 0,
  "metadata": {
    "colab": {
      "provenance": []
    },
    "kernelspec": {
      "name": "python3",
      "display_name": "Python 3"
    },
    "language_info": {
      "name": "python"
    }
  },
  "cells": [
    {
      "cell_type": "code",
      "execution_count": 1,
      "metadata": {
        "colab": {
          "base_uri": "https://localhost:8080/"
        },
        "id": "HBimmJlQAnd1",
        "outputId": "dd0e77e6-2b94-4de0-efaa-1a43d07cf3c5"
      },
      "outputs": [
        {
          "output_type": "stream",
          "name": "stdout",
          "text": [
            "Mounted at /content/drive\n"
          ]
        }
      ],
      "source": [
        "import pandas as pd\n",
        "import seaborn as sns\n",
        "import matplotlib.pyplot as plt\n",
        "from sklearn.linear_model import LinearRegression\n",
        "from sklearn.model_selection import train_test_split\n",
        "from sklearn.metrics import mean_absolute_error, mean_squared_error, r2_score\n",
        "import numpy as np\n",
        "from google.colab import drive\n",
        "drive.mount('/content/drive',force_remount = True)"
      ]
    },
    {
      "cell_type": "code",
      "source": [
        "df=pd.read_csv(\"/content/drive/MyDrive/Drive/lsdd.csv\")\n",
        "df"
      ],
      "metadata": {
        "colab": {
          "base_uri": "https://localhost:8080/",
          "height": 488
        },
        "id": "IEo_2ftOAqEx",
        "outputId": "cc063473-b305-460c-c9be-d84a0d3f8830"
      },
      "execution_count": 61,
      "outputs": [
        {
          "output_type": "execute_result",
          "data": {
            "text/plain": [
              "               x          y region     country reportingDate   cld   dtr  \\\n",
              "0      90.380931  22.437184   Asia  Bangladesh     10/9/2020  41.6  12.8   \n",
              "1      87.854975  22.986757   Asia       India    20/12/2019  40.5  13.3   \n",
              "2      85.279935  23.610181   Asia       India    20/12/2019  27.3  13.6   \n",
              "3      81.564510  43.882221   Asia       China    25/10/2019  45.3  12.8   \n",
              "4      81.161057  43.834976   Asia       China    25/10/2019  38.8  13.2   \n",
              "...          ...        ...    ...         ...           ...   ...   ...   \n",
              "24798  20.250000 -16.750000    NaN         NaN           NaN  68.8  12.0   \n",
              "24799  20.750000 -16.750000    NaN         NaN           NaN  68.8  11.8   \n",
              "24800  21.250000 -16.750000    NaN         NaN           NaN  68.8  11.6   \n",
              "24801  21.750000 -16.750000    NaN         NaN           NaN  68.8  11.5   \n",
              "24802  22.250000 -16.750000    NaN         NaN           NaN  67.5  11.4   \n",
              "\n",
              "         frs  pet    pre   tmn   tmp   tmx   vap    wet  elevation  \\\n",
              "0       0.00  2.3    1.7  12.7  19.1  25.5  15.7   0.00        147   \n",
              "1       0.00  2.4    0.0  13.2  19.8  26.5  16.3   0.00        145   \n",
              "2       0.08  2.3    0.6   9.4  16.2  23.0  13.0   0.98        158   \n",
              "3      31.00  0.4    8.8 -22.5 -16.1  -9.7   0.9   4.64        178   \n",
              "4      31.00  0.4   10.5 -20.4 -13.8  -7.2   1.2   1.69        185   \n",
              "...      ...  ...    ...   ...   ...   ...   ...    ...        ...   \n",
              "24798   0.00  3.6  172.0  17.7  23.7  29.7  22.4  15.60        184   \n",
              "24799   0.00  3.6  170.0  18.0  23.9  29.8  23.2  15.70        182   \n",
              "24800   0.00  3.6  167.5  18.3  24.1  29.9  23.9  15.87        178   \n",
              "24801   0.00  3.6  169.5  18.5  24.2  30.0  24.2  16.30        180   \n",
              "24802   0.00  3.7  172.1  18.7  24.4  30.1  24.5  16.67        179   \n",
              "\n",
              "       dominant_land_cover  X5_Ct_2010_Da  X5_Bf_2010_Da  lumpy  \n",
              "0                        2   27970.983100    3691.746950      1  \n",
              "1                        2   25063.646690     671.326701      1  \n",
              "2                        2    6038.477155    1426.839831      1  \n",
              "3                        2     760.703340       0.000000      1  \n",
              "4                        3     270.367426       0.000000      1  \n",
              "...                    ...            ...            ...    ...  \n",
              "24798                    3      95.184093       0.000000      0  \n",
              "24799                    4     111.561489       0.000000      0  \n",
              "24800                    5     109.733287       0.000000      0  \n",
              "24801                    3     103.753469       0.000000      0  \n",
              "24802                    3      85.084645       0.000000      0  \n",
              "\n",
              "[24803 rows x 20 columns]"
            ],
            "text/html": [
              "\n",
              "  <div id=\"df-84797360-8803-4c31-941c-32b4d14b9eba\">\n",
              "    <div class=\"colab-df-container\">\n",
              "      <div>\n",
              "<style scoped>\n",
              "    .dataframe tbody tr th:only-of-type {\n",
              "        vertical-align: middle;\n",
              "    }\n",
              "\n",
              "    .dataframe tbody tr th {\n",
              "        vertical-align: top;\n",
              "    }\n",
              "\n",
              "    .dataframe thead th {\n",
              "        text-align: right;\n",
              "    }\n",
              "</style>\n",
              "<table border=\"1\" class=\"dataframe\">\n",
              "  <thead>\n",
              "    <tr style=\"text-align: right;\">\n",
              "      <th></th>\n",
              "      <th>x</th>\n",
              "      <th>y</th>\n",
              "      <th>region</th>\n",
              "      <th>country</th>\n",
              "      <th>reportingDate</th>\n",
              "      <th>cld</th>\n",
              "      <th>dtr</th>\n",
              "      <th>frs</th>\n",
              "      <th>pet</th>\n",
              "      <th>pre</th>\n",
              "      <th>tmn</th>\n",
              "      <th>tmp</th>\n",
              "      <th>tmx</th>\n",
              "      <th>vap</th>\n",
              "      <th>wet</th>\n",
              "      <th>elevation</th>\n",
              "      <th>dominant_land_cover</th>\n",
              "      <th>X5_Ct_2010_Da</th>\n",
              "      <th>X5_Bf_2010_Da</th>\n",
              "      <th>lumpy</th>\n",
              "    </tr>\n",
              "  </thead>\n",
              "  <tbody>\n",
              "    <tr>\n",
              "      <th>0</th>\n",
              "      <td>90.380931</td>\n",
              "      <td>22.437184</td>\n",
              "      <td>Asia</td>\n",
              "      <td>Bangladesh</td>\n",
              "      <td>10/9/2020</td>\n",
              "      <td>41.6</td>\n",
              "      <td>12.8</td>\n",
              "      <td>0.00</td>\n",
              "      <td>2.3</td>\n",
              "      <td>1.7</td>\n",
              "      <td>12.7</td>\n",
              "      <td>19.1</td>\n",
              "      <td>25.5</td>\n",
              "      <td>15.7</td>\n",
              "      <td>0.00</td>\n",
              "      <td>147</td>\n",
              "      <td>2</td>\n",
              "      <td>27970.983100</td>\n",
              "      <td>3691.746950</td>\n",
              "      <td>1</td>\n",
              "    </tr>\n",
              "    <tr>\n",
              "      <th>1</th>\n",
              "      <td>87.854975</td>\n",
              "      <td>22.986757</td>\n",
              "      <td>Asia</td>\n",
              "      <td>India</td>\n",
              "      <td>20/12/2019</td>\n",
              "      <td>40.5</td>\n",
              "      <td>13.3</td>\n",
              "      <td>0.00</td>\n",
              "      <td>2.4</td>\n",
              "      <td>0.0</td>\n",
              "      <td>13.2</td>\n",
              "      <td>19.8</td>\n",
              "      <td>26.5</td>\n",
              "      <td>16.3</td>\n",
              "      <td>0.00</td>\n",
              "      <td>145</td>\n",
              "      <td>2</td>\n",
              "      <td>25063.646690</td>\n",
              "      <td>671.326701</td>\n",
              "      <td>1</td>\n",
              "    </tr>\n",
              "    <tr>\n",
              "      <th>2</th>\n",
              "      <td>85.279935</td>\n",
              "      <td>23.610181</td>\n",
              "      <td>Asia</td>\n",
              "      <td>India</td>\n",
              "      <td>20/12/2019</td>\n",
              "      <td>27.3</td>\n",
              "      <td>13.6</td>\n",
              "      <td>0.08</td>\n",
              "      <td>2.3</td>\n",
              "      <td>0.6</td>\n",
              "      <td>9.4</td>\n",
              "      <td>16.2</td>\n",
              "      <td>23.0</td>\n",
              "      <td>13.0</td>\n",
              "      <td>0.98</td>\n",
              "      <td>158</td>\n",
              "      <td>2</td>\n",
              "      <td>6038.477155</td>\n",
              "      <td>1426.839831</td>\n",
              "      <td>1</td>\n",
              "    </tr>\n",
              "    <tr>\n",
              "      <th>3</th>\n",
              "      <td>81.564510</td>\n",
              "      <td>43.882221</td>\n",
              "      <td>Asia</td>\n",
              "      <td>China</td>\n",
              "      <td>25/10/2019</td>\n",
              "      <td>45.3</td>\n",
              "      <td>12.8</td>\n",
              "      <td>31.00</td>\n",
              "      <td>0.4</td>\n",
              "      <td>8.8</td>\n",
              "      <td>-22.5</td>\n",
              "      <td>-16.1</td>\n",
              "      <td>-9.7</td>\n",
              "      <td>0.9</td>\n",
              "      <td>4.64</td>\n",
              "      <td>178</td>\n",
              "      <td>2</td>\n",
              "      <td>760.703340</td>\n",
              "      <td>0.000000</td>\n",
              "      <td>1</td>\n",
              "    </tr>\n",
              "    <tr>\n",
              "      <th>4</th>\n",
              "      <td>81.161057</td>\n",
              "      <td>43.834976</td>\n",
              "      <td>Asia</td>\n",
              "      <td>China</td>\n",
              "      <td>25/10/2019</td>\n",
              "      <td>38.8</td>\n",
              "      <td>13.2</td>\n",
              "      <td>31.00</td>\n",
              "      <td>0.4</td>\n",
              "      <td>10.5</td>\n",
              "      <td>-20.4</td>\n",
              "      <td>-13.8</td>\n",
              "      <td>-7.2</td>\n",
              "      <td>1.2</td>\n",
              "      <td>1.69</td>\n",
              "      <td>185</td>\n",
              "      <td>3</td>\n",
              "      <td>270.367426</td>\n",
              "      <td>0.000000</td>\n",
              "      <td>1</td>\n",
              "    </tr>\n",
              "    <tr>\n",
              "      <th>...</th>\n",
              "      <td>...</td>\n",
              "      <td>...</td>\n",
              "      <td>...</td>\n",
              "      <td>...</td>\n",
              "      <td>...</td>\n",
              "      <td>...</td>\n",
              "      <td>...</td>\n",
              "      <td>...</td>\n",
              "      <td>...</td>\n",
              "      <td>...</td>\n",
              "      <td>...</td>\n",
              "      <td>...</td>\n",
              "      <td>...</td>\n",
              "      <td>...</td>\n",
              "      <td>...</td>\n",
              "      <td>...</td>\n",
              "      <td>...</td>\n",
              "      <td>...</td>\n",
              "      <td>...</td>\n",
              "      <td>...</td>\n",
              "    </tr>\n",
              "    <tr>\n",
              "      <th>24798</th>\n",
              "      <td>20.250000</td>\n",
              "      <td>-16.750000</td>\n",
              "      <td>NaN</td>\n",
              "      <td>NaN</td>\n",
              "      <td>NaN</td>\n",
              "      <td>68.8</td>\n",
              "      <td>12.0</td>\n",
              "      <td>0.00</td>\n",
              "      <td>3.6</td>\n",
              "      <td>172.0</td>\n",
              "      <td>17.7</td>\n",
              "      <td>23.7</td>\n",
              "      <td>29.7</td>\n",
              "      <td>22.4</td>\n",
              "      <td>15.60</td>\n",
              "      <td>184</td>\n",
              "      <td>3</td>\n",
              "      <td>95.184093</td>\n",
              "      <td>0.000000</td>\n",
              "      <td>0</td>\n",
              "    </tr>\n",
              "    <tr>\n",
              "      <th>24799</th>\n",
              "      <td>20.750000</td>\n",
              "      <td>-16.750000</td>\n",
              "      <td>NaN</td>\n",
              "      <td>NaN</td>\n",
              "      <td>NaN</td>\n",
              "      <td>68.8</td>\n",
              "      <td>11.8</td>\n",
              "      <td>0.00</td>\n",
              "      <td>3.6</td>\n",
              "      <td>170.0</td>\n",
              "      <td>18.0</td>\n",
              "      <td>23.9</td>\n",
              "      <td>29.8</td>\n",
              "      <td>23.2</td>\n",
              "      <td>15.70</td>\n",
              "      <td>182</td>\n",
              "      <td>4</td>\n",
              "      <td>111.561489</td>\n",
              "      <td>0.000000</td>\n",
              "      <td>0</td>\n",
              "    </tr>\n",
              "    <tr>\n",
              "      <th>24800</th>\n",
              "      <td>21.250000</td>\n",
              "      <td>-16.750000</td>\n",
              "      <td>NaN</td>\n",
              "      <td>NaN</td>\n",
              "      <td>NaN</td>\n",
              "      <td>68.8</td>\n",
              "      <td>11.6</td>\n",
              "      <td>0.00</td>\n",
              "      <td>3.6</td>\n",
              "      <td>167.5</td>\n",
              "      <td>18.3</td>\n",
              "      <td>24.1</td>\n",
              "      <td>29.9</td>\n",
              "      <td>23.9</td>\n",
              "      <td>15.87</td>\n",
              "      <td>178</td>\n",
              "      <td>5</td>\n",
              "      <td>109.733287</td>\n",
              "      <td>0.000000</td>\n",
              "      <td>0</td>\n",
              "    </tr>\n",
              "    <tr>\n",
              "      <th>24801</th>\n",
              "      <td>21.750000</td>\n",
              "      <td>-16.750000</td>\n",
              "      <td>NaN</td>\n",
              "      <td>NaN</td>\n",
              "      <td>NaN</td>\n",
              "      <td>68.8</td>\n",
              "      <td>11.5</td>\n",
              "      <td>0.00</td>\n",
              "      <td>3.6</td>\n",
              "      <td>169.5</td>\n",
              "      <td>18.5</td>\n",
              "      <td>24.2</td>\n",
              "      <td>30.0</td>\n",
              "      <td>24.2</td>\n",
              "      <td>16.30</td>\n",
              "      <td>180</td>\n",
              "      <td>3</td>\n",
              "      <td>103.753469</td>\n",
              "      <td>0.000000</td>\n",
              "      <td>0</td>\n",
              "    </tr>\n",
              "    <tr>\n",
              "      <th>24802</th>\n",
              "      <td>22.250000</td>\n",
              "      <td>-16.750000</td>\n",
              "      <td>NaN</td>\n",
              "      <td>NaN</td>\n",
              "      <td>NaN</td>\n",
              "      <td>67.5</td>\n",
              "      <td>11.4</td>\n",
              "      <td>0.00</td>\n",
              "      <td>3.7</td>\n",
              "      <td>172.1</td>\n",
              "      <td>18.7</td>\n",
              "      <td>24.4</td>\n",
              "      <td>30.1</td>\n",
              "      <td>24.5</td>\n",
              "      <td>16.67</td>\n",
              "      <td>179</td>\n",
              "      <td>3</td>\n",
              "      <td>85.084645</td>\n",
              "      <td>0.000000</td>\n",
              "      <td>0</td>\n",
              "    </tr>\n",
              "  </tbody>\n",
              "</table>\n",
              "<p>24803 rows × 20 columns</p>\n",
              "</div>\n",
              "      <button class=\"colab-df-convert\" onclick=\"convertToInteractive('df-84797360-8803-4c31-941c-32b4d14b9eba')\"\n",
              "              title=\"Convert this dataframe to an interactive table.\"\n",
              "              style=\"display:none;\">\n",
              "        \n",
              "  <svg xmlns=\"http://www.w3.org/2000/svg\" height=\"24px\"viewBox=\"0 0 24 24\"\n",
              "       width=\"24px\">\n",
              "    <path d=\"M0 0h24v24H0V0z\" fill=\"none\"/>\n",
              "    <path d=\"M18.56 5.44l.94 2.06.94-2.06 2.06-.94-2.06-.94-.94-2.06-.94 2.06-2.06.94zm-11 1L8.5 8.5l.94-2.06 2.06-.94-2.06-.94L8.5 2.5l-.94 2.06-2.06.94zm10 10l.94 2.06.94-2.06 2.06-.94-2.06-.94-.94-2.06-.94 2.06-2.06.94z\"/><path d=\"M17.41 7.96l-1.37-1.37c-.4-.4-.92-.59-1.43-.59-.52 0-1.04.2-1.43.59L10.3 9.45l-7.72 7.72c-.78.78-.78 2.05 0 2.83L4 21.41c.39.39.9.59 1.41.59.51 0 1.02-.2 1.41-.59l7.78-7.78 2.81-2.81c.8-.78.8-2.07 0-2.86zM5.41 20L4 18.59l7.72-7.72 1.47 1.35L5.41 20z\"/>\n",
              "  </svg>\n",
              "      </button>\n",
              "      \n",
              "  <style>\n",
              "    .colab-df-container {\n",
              "      display:flex;\n",
              "      flex-wrap:wrap;\n",
              "      gap: 12px;\n",
              "    }\n",
              "\n",
              "    .colab-df-convert {\n",
              "      background-color: #E8F0FE;\n",
              "      border: none;\n",
              "      border-radius: 50%;\n",
              "      cursor: pointer;\n",
              "      display: none;\n",
              "      fill: #1967D2;\n",
              "      height: 32px;\n",
              "      padding: 0 0 0 0;\n",
              "      width: 32px;\n",
              "    }\n",
              "\n",
              "    .colab-df-convert:hover {\n",
              "      background-color: #E2EBFA;\n",
              "      box-shadow: 0px 1px 2px rgba(60, 64, 67, 0.3), 0px 1px 3px 1px rgba(60, 64, 67, 0.15);\n",
              "      fill: #174EA6;\n",
              "    }\n",
              "\n",
              "    [theme=dark] .colab-df-convert {\n",
              "      background-color: #3B4455;\n",
              "      fill: #D2E3FC;\n",
              "    }\n",
              "\n",
              "    [theme=dark] .colab-df-convert:hover {\n",
              "      background-color: #434B5C;\n",
              "      box-shadow: 0px 1px 3px 1px rgba(0, 0, 0, 0.15);\n",
              "      filter: drop-shadow(0px 1px 2px rgba(0, 0, 0, 0.3));\n",
              "      fill: #FFFFFF;\n",
              "    }\n",
              "  </style>\n",
              "\n",
              "      <script>\n",
              "        const buttonEl =\n",
              "          document.querySelector('#df-84797360-8803-4c31-941c-32b4d14b9eba button.colab-df-convert');\n",
              "        buttonEl.style.display =\n",
              "          google.colab.kernel.accessAllowed ? 'block' : 'none';\n",
              "\n",
              "        async function convertToInteractive(key) {\n",
              "          const element = document.querySelector('#df-84797360-8803-4c31-941c-32b4d14b9eba');\n",
              "          const dataTable =\n",
              "            await google.colab.kernel.invokeFunction('convertToInteractive',\n",
              "                                                     [key], {});\n",
              "          if (!dataTable) return;\n",
              "\n",
              "          const docLinkHtml = 'Like what you see? Visit the ' +\n",
              "            '<a target=\"_blank\" href=https://colab.research.google.com/notebooks/data_table.ipynb>data table notebook</a>'\n",
              "            + ' to learn more about interactive tables.';\n",
              "          element.innerHTML = '';\n",
              "          dataTable['output_type'] = 'display_data';\n",
              "          await google.colab.output.renderOutput(dataTable, element);\n",
              "          const docLink = document.createElement('div');\n",
              "          docLink.innerHTML = docLinkHtml;\n",
              "          element.appendChild(docLink);\n",
              "        }\n",
              "      </script>\n",
              "    </div>\n",
              "  </div>\n",
              "  "
            ]
          },
          "metadata": {},
          "execution_count": 61
        }
      ]
    },
    {
      "cell_type": "code",
      "source": [
        "plt.figure(figsize=(10,5), dpi= 80)\n",
        "sns.heatmap(df.corr(), xticklabels=df.corr().columns, yticklabels=df.corr().columns, cmap='bwr', center=0, annot=True)\n",
        "plt.title('Матрица корреляции', fontsize=30)\n",
        "plt.xticks(fontsize=10)\n",
        "plt.yticks(fontsize=10)\n",
        "plt.show()"
      ],
      "metadata": {
        "colab": {
          "base_uri": "https://localhost:8080/",
          "height": 495
        },
        "id": "llu-TMpPImD3",
        "outputId": "ba3ea428-994c-4838-edec-1f7e4e2ddae1"
      },
      "execution_count": 3,
      "outputs": [
        {
          "output_type": "display_data",
          "data": {
            "text/plain": [
              "<Figure size 800x400 with 2 Axes>"
            ],
            "image/png": "[encoded data removed]"
          },
          "metadata": {
            "needs_background": "light"
          }
        }
      ]
    },
    {
      "cell_type": "code",
      "source": [
        "df.isna().sum()"
      ],
      "metadata": {
        "colab": {
          "base_uri": "https://localhost:8080/"
        },
        "id": "6Ph3eGLMK29H",
        "outputId": "0fed2939-e9f3-40f2-a443-ecd0745594c2"
      },
      "execution_count": 62,
      "outputs": [
        {
          "output_type": "execute_result",
          "data": {
            "text/plain": [
              "x                          0\n",
              "y                          0\n",
              "region                 21764\n",
              "country                21764\n",
              "reportingDate          21764\n",
              "cld                        0\n",
              "dtr                        0\n",
              "frs                        0\n",
              "pet                        0\n",
              "pre                        0\n",
              "tmn                        0\n",
              "tmp                        0\n",
              "tmx                        0\n",
              "vap                        0\n",
              "wet                        0\n",
              "elevation                  0\n",
              "dominant_land_cover        0\n",
              "X5_Ct_2010_Da              0\n",
              "X5_Bf_2010_Da              0\n",
              "lumpy                      0\n",
              "dtype: int64"
            ]
          },
          "metadata": {},
          "execution_count": 62
        }
      ]
    },
    {
      "cell_type": "code",
      "source": [
        "df = df.drop(['region','country','reportingDate'],axis = 1)\n",
        "df.fillna(method =\"ffill\", inplace = True)\n",
        "df"
      ],
      "metadata": {
        "colab": {
          "base_uri": "https://localhost:8080/",
          "height": 424
        },
        "id": "cPEojeTVuzqJ",
        "outputId": "55fe9ae3-de71-4a41-c840-2a0ad27afbe4"
      },
      "execution_count": 63,
      "outputs": [
        {
          "output_type": "execute_result",
          "data": {
            "text/plain": [
              "               x          y   cld   dtr    frs  pet    pre   tmn   tmp   tmx  \\\n",
              "0      90.380931  22.437184  41.6  12.8   0.00  2.3    1.7  12.7  19.1  25.5   \n",
              "1      87.854975  22.986757  40.5  13.3   0.00  2.4    0.0  13.2  19.8  26.5   \n",
              "2      85.279935  23.610181  27.3  13.6   0.08  2.3    0.6   9.4  16.2  23.0   \n",
              "3      81.564510  43.882221  45.3  12.8  31.00  0.4    8.8 -22.5 -16.1  -9.7   \n",
              "4      81.161057  43.834976  38.8  13.2  31.00  0.4   10.5 -20.4 -13.8  -7.2   \n",
              "...          ...        ...   ...   ...    ...  ...    ...   ...   ...   ...   \n",
              "24798  20.250000 -16.750000  68.8  12.0   0.00  3.6  172.0  17.7  23.7  29.7   \n",
              "24799  20.750000 -16.750000  68.8  11.8   0.00  3.6  170.0  18.0  23.9  29.8   \n",
              "24800  21.250000 -16.750000  68.8  11.6   0.00  3.6  167.5  18.3  24.1  29.9   \n",
              "24801  21.750000 -16.750000  68.8  11.5   0.00  3.6  169.5  18.5  24.2  30.0   \n",
              "24802  22.250000 -16.750000  67.5  11.4   0.00  3.7  172.1  18.7  24.4  30.1   \n",
              "\n",
              "        vap    wet  elevation  dominant_land_cover  X5_Ct_2010_Da  \\\n",
              "0      15.7   0.00        147                    2   27970.983100   \n",
              "1      16.3   0.00        145                    2   25063.646690   \n",
              "2      13.0   0.98        158                    2    6038.477155   \n",
              "3       0.9   4.64        178                    2     760.703340   \n",
              "4       1.2   1.69        185                    3     270.367426   \n",
              "...     ...    ...        ...                  ...            ...   \n",
              "24798  22.4  15.60        184                    3      95.184093   \n",
              "24799  23.2  15.70        182                    4     111.561489   \n",
              "24800  23.9  15.87        178                    5     109.733287   \n",
              "24801  24.2  16.30        180                    3     103.753469   \n",
              "24802  24.5  16.67        179                    3      85.084645   \n",
              "\n",
              "       X5_Bf_2010_Da  lumpy  \n",
              "0        3691.746950      1  \n",
              "1         671.326701      1  \n",
              "2        1426.839831      1  \n",
              "3           0.000000      1  \n",
              "4           0.000000      1  \n",
              "...              ...    ...  \n",
              "24798       0.000000      0  \n",
              "24799       0.000000      0  \n",
              "24800       0.000000      0  \n",
              "24801       0.000000      0  \n",
              "24802       0.000000      0  \n",
              "\n",
              "[24803 rows x 17 columns]"
            ],
            "text/html": [
              "\n",
              "  <div id=\"df-aed29d3d-dc1f-43ac-bbf0-7a5bc900184f\">\n",
              "    <div class=\"colab-df-container\">\n",
              "      <div>\n",
              "<style scoped>\n",
              "    .dataframe tbody tr th:only-of-type {\n",
              "        vertical-align: middle;\n",
              "    }\n",
              "\n",
              "    .dataframe tbody tr th {\n",
              "        vertical-align: top;\n",
              "    }\n",
              "\n",
              "    .dataframe thead th {\n",
              "        text-align: right;\n",
              "    }\n",
              "</style>\n",
              "<table border=\"1\" class=\"dataframe\">\n",
              "  <thead>\n",
              "    <tr style=\"text-align: right;\">\n",
              "      <th></th>\n",
              "      <th>x</th>\n",
              "      <th>y</th>\n",
              "      <th>cld</th>\n",
              "      <th>dtr</th>\n",
              "      <th>frs</th>\n",
              "      <th>pet</th>\n",
              "      <th>pre</th>\n",
              "      <th>tmn</th>\n",
              "      <th>tmp</th>\n",
              "      <th>tmx</th>\n",
              "      <th>vap</th>\n",
              "      <th>wet</th>\n",
              "      <th>elevation</th>\n",
              "      <th>dominant_land_cover</th>\n",
              "      <th>X5_Ct_2010_Da</th>\n",
              "      <th>X5_Bf_2010_Da</th>\n",
              "      <th>lumpy</th>\n",
              "    </tr>\n",
              "  </thead>\n",
              "  <tbody>\n",
              "    <tr>\n",
              "      <th>0</th>\n",
              "      <td>90.380931</td>\n",
              "      <td>22.437184</td>\n",
              "      <td>41.6</td>\n",
              "      <td>12.8</td>\n",
              "      <td>0.00</td>\n",
              "      <td>2.3</td>\n",
              "      <td>1.7</td>\n",
              "      <td>12.7</td>\n",
              "      <td>19.1</td>\n",
              "      <td>25.5</td>\n",
              "      <td>15.7</td>\n",
              "      <td>0.00</td>\n",
              "      <td>147</td>\n",
              "      <td>2</td>\n",
              "      <td>27970.983100</td>\n",
              "      <td>3691.746950</td>\n",
              "      <td>1</td>\n",
              "    </tr>\n",
              "    <tr>\n",
              "      <th>1</th>\n",
              "      <td>87.854975</td>\n",
              "      <td>22.986757</td>\n",
              "      <td>40.5</td>\n",
              "      <td>13.3</td>\n",
              "      <td>0.00</td>\n",
              "      <td>2.4</td>\n",
              "      <td>0.0</td>\n",
              "      <td>13.2</td>\n",
              "      <td>19.8</td>\n",
              "      <td>26.5</td>\n",
              "      <td>16.3</td>\n",
              "      <td>0.00</td>\n",
              "      <td>145</td>\n",
              "      <td>2</td>\n",
              "      <td>25063.646690</td>\n",
              "      <td>671.326701</td>\n",
              "      <td>1</td>\n",
              "    </tr>\n",
              "    <tr>\n",
              "      <th>2</th>\n",
              "      <td>85.279935</td>\n",
              "      <td>23.610181</td>\n",
              "      <td>27.3</td>\n",
              "      <td>13.6</td>\n",
              "      <td>0.08</td>\n",
              "      <td>2.3</td>\n",
              "      <td>0.6</td>\n",
              "      <td>9.4</td>\n",
              "      <td>16.2</td>\n",
              "      <td>23.0</td>\n",
              "      <td>13.0</td>\n",
              "      <td>0.98</td>\n",
              "      <td>158</td>\n",
              "      <td>2</td>\n",
              "      <td>6038.477155</td>\n",
              "      <td>1426.839831</td>\n",
              "      <td>1</td>\n",
              "    </tr>\n",
              "    <tr>\n",
              "      <th>3</th>\n",
              "      <td>81.564510</td>\n",
              "      <td>43.882221</td>\n",
              "      <td>45.3</td>\n",
              "      <td>12.8</td>\n",
              "      <td>31.00</td>\n",
              "      <td>0.4</td>\n",
              "      <td>8.8</td>\n",
              "      <td>-22.5</td>\n",
              "      <td>-16.1</td>\n",
              "      <td>-9.7</td>\n",
              "      <td>0.9</td>\n",
              "      <td>4.64</td>\n",
              "      <td>178</td>\n",
              "      <td>2</td>\n",
              "      <td>760.703340</td>\n",
              "      <td>0.000000</td>\n",
              "      <td>1</td>\n",
              "    </tr>\n",
              "    <tr>\n",
              "      <th>4</th>\n",
              "      <td>81.161057</td>\n",
              "      <td>43.834976</td>\n",
              "      <td>38.8</td>\n",
              "      <td>13.2</td>\n",
              "      <td>31.00</td>\n",
              "      <td>0.4</td>\n",
              "      <td>10.5</td>\n",
              "      <td>-20.4</td>\n",
              "      <td>-13.8</td>\n",
              "      <td>-7.2</td>\n",
              "      <td>1.2</td>\n",
              "      <td>1.69</td>\n",
              "      <td>185</td>\n",
              "      <td>3</td>\n",
              "      <td>270.367426</td>\n",
              "      <td>0.000000</td>\n",
              "      <td>1</td>\n",
              "    </tr>\n",
              "    <tr>\n",
              "      <th>...</th>\n",
              "      <td>...</td>\n",
              "      <td>...</td>\n",
              "      <td>...</td>\n",
              "      <td>...</td>\n",
              "      <td>...</td>\n",
              "      <td>...</td>\n",
              "      <td>...</td>\n",
              "      <td>...</td>\n",
              "      <td>...</td>\n",
              "      <td>...</td>\n",
              "      <td>...</td>\n",
              "      <td>...</td>\n",
              "      <td>...</td>\n",
              "      <td>...</td>\n",
              "      <td>...</td>\n",
              "      <td>...</td>\n",
              "      <td>...</td>\n",
              "    </tr>\n",
              "    <tr>\n",
              "      <th>24798</th>\n",
              "      <td>20.250000</td>\n",
              "      <td>-16.750000</td>\n",
              "      <td>68.8</td>\n",
              "      <td>12.0</td>\n",
              "      <td>0.00</td>\n",
              "      <td>3.6</td>\n",
              "      <td>172.0</td>\n",
              "      <td>17.7</td>\n",
              "      <td>23.7</td>\n",
              "      <td>29.7</td>\n",
              "      <td>22.4</td>\n",
              "      <td>15.60</td>\n",
              "      <td>184</td>\n",
              "      <td>3</td>\n",
              "      <td>95.184093</td>\n",
              "      <td>0.000000</td>\n",
              "      <td>0</td>\n",
              "    </tr>\n",
              "    <tr>\n",
              "      <th>24799</th>\n",
              "      <td>20.750000</td>\n",
              "      <td>-16.750000</td>\n",
              "      <td>68.8</td>\n",
              "      <td>11.8</td>\n",
              "      <td>0.00</td>\n",
              "      <td>3.6</td>\n",
              "      <td>170.0</td>\n",
              "      <td>18.0</td>\n",
              "      <td>23.9</td>\n",
              "      <td>29.8</td>\n",
              "      <td>23.2</td>\n",
              "      <td>15.70</td>\n",
              "      <td>182</td>\n",
              "      <td>4</td>\n",
              "      <td>111.561489</td>\n",
              "      <td>0.000000</td>\n",
              "      <td>0</td>\n",
              "    </tr>\n",
              "    <tr>\n",
              "      <th>24800</th>\n",
              "      <td>21.250000</td>\n",
              "      <td>-16.750000</td>\n",
              "      <td>68.8</td>\n",
              "      <td>11.6</td>\n",
              "      <td>0.00</td>\n",
              "      <td>3.6</td>\n",
              "      <td>167.5</td>\n",
              "      <td>18.3</td>\n",
              "      <td>24.1</td>\n",
              "      <td>29.9</td>\n",
              "      <td>23.9</td>\n",
              "      <td>15.87</td>\n",
              "      <td>178</td>\n",
              "      <td>5</td>\n",
              "      <td>109.733287</td>\n",
              "      <td>0.000000</td>\n",
              "      <td>0</td>\n",
              "    </tr>\n",
              "    <tr>\n",
              "      <th>24801</th>\n",
              "      <td>21.750000</td>\n",
              "      <td>-16.750000</td>\n",
              "      <td>68.8</td>\n",
              "      <td>11.5</td>\n",
              "      <td>0.00</td>\n",
              "      <td>3.6</td>\n",
              "      <td>169.5</td>\n",
              "      <td>18.5</td>\n",
              "      <td>24.2</td>\n",
              "      <td>30.0</td>\n",
              "      <td>24.2</td>\n",
              "      <td>16.30</td>\n",
              "      <td>180</td>\n",
              "      <td>3</td>\n",
              "      <td>103.753469</td>\n",
              "      <td>0.000000</td>\n",
              "      <td>0</td>\n",
              "    </tr>\n",
              "    <tr>\n",
              "      <th>24802</th>\n",
              "      <td>22.250000</td>\n",
              "      <td>-16.750000</td>\n",
              "      <td>67.5</td>\n",
              "      <td>11.4</td>\n",
              "      <td>0.00</td>\n",
              "      <td>3.7</td>\n",
              "      <td>172.1</td>\n",
              "      <td>18.7</td>\n",
              "      <td>24.4</td>\n",
              "      <td>30.1</td>\n",
              "      <td>24.5</td>\n",
              "      <td>16.67</td>\n",
              "      <td>179</td>\n",
              "      <td>3</td>\n",
              "      <td>85.084645</td>\n",
              "      <td>0.000000</td>\n",
              "      <td>0</td>\n",
              "    </tr>\n",
              "  </tbody>\n",
              "</table>\n",
              "<p>24803 rows × 17 columns</p>\n",
              "</div>\n",
              "      <button class=\"colab-df-convert\" onclick=\"convertToInteractive('df-aed29d3d-dc1f-43ac-bbf0-7a5bc900184f')\"\n",
              "              title=\"Convert this dataframe to an interactive table.\"\n",
              "              style=\"display:none;\">\n",
              "        \n",
              "  <svg xmlns=\"http://www.w3.org/2000/svg\" height=\"24px\"viewBox=\"0 0 24 24\"\n",
              "       width=\"24px\">\n",
              "    <path d=\"M0 0h24v24H0V0z\" fill=\"none\"/>\n",
              "    <path d=\"M18.56 5.44l.94 2.06.94-2.06 2.06-.94-2.06-.94-.94-2.06-.94 2.06-2.06.94zm-11 1L8.5 8.5l.94-2.06 2.06-.94-2.06-.94L8.5 2.5l-.94 2.06-2.06.94zm10 10l.94 2.06.94-2.06 2.06-.94-2.06-.94-.94-2.06-.94 2.06-2.06.94z\"/><path d=\"M17.41 7.96l-1.37-1.37c-.4-.4-.92-.59-1.43-.59-.52 0-1.04.2-1.43.59L10.3 9.45l-7.72 7.72c-.78.78-.78 2.05 0 2.83L4 21.41c.39.39.9.59 1.41.59.51 0 1.02-.2 1.41-.59l7.78-7.78 2.81-2.81c.8-.78.8-2.07 0-2.86zM5.41 20L4 18.59l7.72-7.72 1.47 1.35L5.41 20z\"/>\n",
              "  </svg>\n",
              "      </button>\n",
              "      \n",
              "  <style>\n",
              "    .colab-df-container {\n",
              "      display:flex;\n",
              "      flex-wrap:wrap;\n",
              "      gap: 12px;\n",
              "    }\n",
              "\n",
              "    .colab-df-convert {\n",
              "      background-color: #E8F0FE;\n",
              "      border: none;\n",
              "      border-radius: 50%;\n",
              "      cursor: pointer;\n",
              "      display: none;\n",
              "      fill: #1967D2;\n",
              "      height: 32px;\n",
              "      padding: 0 0 0 0;\n",
              "      width: 32px;\n",
              "    }\n",
              "\n",
              "    .colab-df-convert:hover {\n",
              "      background-color: #E2EBFA;\n",
              "      box-shadow: 0px 1px 2px rgba(60, 64, 67, 0.3), 0px 1px 3px 1px rgba(60, 64, 67, 0.15);\n",
              "      fill: #174EA6;\n",
              "    }\n",
              "\n",
              "    [theme=dark] .colab-df-convert {\n",
              "      background-color: #3B4455;\n",
              "      fill: #D2E3FC;\n",
              "    }\n",
              "\n",
              "    [theme=dark] .colab-df-convert:hover {\n",
              "      background-color: #434B5C;\n",
              "      box-shadow: 0px 1px 3px 1px rgba(0, 0, 0, 0.15);\n",
              "      filter: drop-shadow(0px 1px 2px rgba(0, 0, 0, 0.3));\n",
              "      fill: #FFFFFF;\n",
              "    }\n",
              "  </style>\n",
              "\n",
              "      <script>\n",
              "        const buttonEl =\n",
              "          document.querySelector('#df-aed29d3d-dc1f-43ac-bbf0-7a5bc900184f button.colab-df-convert');\n",
              "        buttonEl.style.display =\n",
              "          google.colab.kernel.accessAllowed ? 'block' : 'none';\n",
              "\n",
              "        async function convertToInteractive(key) {\n",
              "          const element = document.querySelector('#df-aed29d3d-dc1f-43ac-bbf0-7a5bc900184f');\n",
              "          const dataTable =\n",
              "            await google.colab.kernel.invokeFunction('convertToInteractive',\n",
              "                                                     [key], {});\n",
              "          if (!dataTable) return;\n",
              "\n",
              "          const docLinkHtml = 'Like what you see? Visit the ' +\n",
              "            '<a target=\"_blank\" href=https://colab.research.google.com/notebooks/data_table.ipynb>data table notebook</a>'\n",
              "            + ' to learn more about interactive tables.';\n",
              "          element.innerHTML = '';\n",
              "          dataTable['output_type'] = 'display_data';\n",
              "          await google.colab.output.renderOutput(dataTable, element);\n",
              "          const docLink = document.createElement('div');\n",
              "          docLink.innerHTML = docLinkHtml;\n",
              "          element.appendChild(docLink);\n",
              "        }\n",
              "      </script>\n",
              "    </div>\n",
              "  </div>\n",
              "  "
            ]
          },
          "metadata": {},
          "execution_count": 63
        }
      ]
    },
    {
      "cell_type": "code",
      "source": [
        "x=df.drop([\"lumpy\"],axis=1)\n",
        "y=df[\"lumpy\"]\n"
      ],
      "metadata": {
        "id": "DJMnBhv_NrHU"
      },
      "execution_count": 64,
      "outputs": []
    },
    {
      "cell_type": "code",
      "source": [
        "from sklearn.linear_model import LogisticRegression\n"
      ],
      "metadata": {
        "id": "Xq6qATsNOhB1"
      },
      "execution_count": 65,
      "outputs": []
    },
    {
      "cell_type": "code",
      "source": [
        "X_train, X_test, y_train, y_test = train_test_split(x, y, test_size=0.3)\n",
        "print(f'Train dataset size: {X_train.shape}, {y_train.shape}')\n",
        "print(f'Test dataset size: {X_test.shape}, {y_test.shape}')\n"
      ],
      "metadata": {
        "id": "m-ChKB9LNhRC",
        "colab": {
          "base_uri": "https://localhost:8080/"
        },
        "outputId": "52060c84-b60f-4a6d-f7f5-114d8289da9d"
      },
      "execution_count": 66,
      "outputs": [
        {
          "output_type": "stream",
          "name": "stdout",
          "text": [
            "Train dataset size: (17362, 16), (17362,)\n",
            "Test dataset size: (7441, 16), (7441,)\n"
          ]
        }
      ]
    },
    {
      "cell_type": "code",
      "source": [
        "model = LogisticRegression()\n",
        "model.fit(X_train, y_train)\n",
        "pred = model.predict(X_test)"
      ],
      "metadata": {
        "colab": {
          "base_uri": "https://localhost:8080/"
        },
        "id": "69u9l6m8wVvQ",
        "outputId": "27c2f970-24a3-463b-9c1a-75c80af4f9b3"
      },
      "execution_count": 67,
      "outputs": [
        {
          "output_type": "stream",
          "name": "stderr",
          "text": [
            "/usr/local/lib/python3.8/dist-packages/sklearn/linear_model/_logistic.py:814: ConvergenceWarning: lbfgs failed to converge (status=1):\n",
            "STOP: TOTAL NO. of ITERATIONS REACHED LIMIT.\n",
            "\n",
            "Increase the number of iterations (max_iter) or scale the data as shown in:\n",
            "    https://scikit-learn.org/stable/modules/preprocessing.html\n",
            "Please also refer to the documentation for alternative solver options:\n",
            "    https://scikit-learn.org/stable/modules/linear_model.html#logistic-regression\n",
            "  n_iter_i = _check_optimize_result(\n"
          ]
        }
      ]
    },
    {
      "cell_type": "code",
      "source": [
        "print('Веса всех признаков (w1): ', model.coef_)\n",
        "print('Свободный коэффицент уравнения w0:', model.intercept_)\n"
      ],
      "metadata": {
        "colab": {
          "base_uri": "https://localhost:8080/"
        },
        "id": "lSq2mHu3PARz",
        "outputId": "cf698f4f-c1be-4c88-9a3c-101c00478965"
      },
      "execution_count": 72,
      "outputs": [
        {
          "output_type": "stream",
          "name": "stdout",
          "text": [
            "Веса всех признаков (w1):  [[-4.27898154e-03  8.49226734e-02  4.31872768e-02 -7.05905857e-02\n",
            "   1.65596950e-02 -1.76744160e-02  2.12797923e-02  1.03747878e-01\n",
            "   6.82920379e-02  3.37624032e-02 -8.12548493e-02 -8.56917210e-02\n",
            "  -3.86330541e-02 -6.06967500e-02  4.97458302e-05 -1.03471548e-03]]\n",
            "Свободный коэффицент уравнения w0: [-0.00046648]\n"
          ]
        }
      ]
    },
    {
      "cell_type": "code",
      "source": [
        "from sklearn.metrics import confusion_matrix, accuracy_score, precision_score, recall_score, f1_score\n",
        "\n",
        "confusion_matrix(y_test,pred)"
      ],
      "metadata": {
        "colab": {
          "base_uri": "https://localhost:8080/"
        },
        "id": "BGGGKB4YRIId",
        "outputId": "e2bf5915-1a88-44c5-ad40-4745ee3610b8"
      },
      "execution_count": 73,
      "outputs": [
        {
          "output_type": "execute_result",
          "data": {
            "text/plain": [
              "array([[6302,  188],\n",
              "       [ 436,  515]])"
            ]
          },
          "metadata": {},
          "execution_count": 73
        }
      ]
    },
    {
      "cell_type": "code",
      "source": [
        "tn, fp, fn, tp = confusion_matrix(y_test, pred).ravel()\n",
        "print(\"TN:\", tn)\n",
        "print(\"FP:\", fp)\n",
        "print(\"FN:\", fn)\n",
        "print(\"TP:\", tp)"
      ],
      "metadata": {
        "colab": {
          "base_uri": "https://localhost:8080/"
        },
        "id": "VWLykxvoRfod",
        "outputId": "ed8a6cd4-c8e7-4414-be24-02a4dac3c531"
      },
      "execution_count": 74,
      "outputs": [
        {
          "output_type": "stream",
          "name": "stdout",
          "text": [
            "TN: 6302\n",
            "FP: 188\n",
            "FN: 436\n",
            "TP: 515\n"
          ]
        }
      ]
    },
    {
      "cell_type": "code",
      "source": [
        "(tp + tn) / (tp + tn + fp + fn)"
      ],
      "metadata": {
        "colab": {
          "base_uri": "https://localhost:8080/"
        },
        "id": "lmNebBcZR0Jp",
        "outputId": "9fa1dc4b-dbc5-4f6c-acc8-45467cb4b1cb"
      },
      "execution_count": 75,
      "outputs": [
        {
          "output_type": "execute_result",
          "data": {
            "text/plain": [
              "0.9161403037226179"
            ]
          },
          "metadata": {},
          "execution_count": 75
        }
      ]
    },
    {
      "cell_type": "code",
      "source": [
        "accuracy_score(y_test, pred)\n"
      ],
      "metadata": {
        "colab": {
          "base_uri": "https://localhost:8080/"
        },
        "id": "g3GXD6NjSN7N",
        "outputId": "9146d226-8bc6-47f8-8854-0450ce8a6a3f"
      },
      "execution_count": 76,
      "outputs": [
        {
          "output_type": "execute_result",
          "data": {
            "text/plain": [
              "0.9161403037226179"
            ]
          },
          "metadata": {},
          "execution_count": 76
        }
      ]
    },
    {
      "cell_type": "code",
      "source": [
        "recall = tp / (tp + fn)\n",
        "recall"
      ],
      "metadata": {
        "colab": {
          "base_uri": "https://localhost:8080/"
        },
        "id": "7QXpJmSFR3sU",
        "outputId": "2496375d-5873-4cea-dc4e-974c981def0f"
      },
      "execution_count": 77,
      "outputs": [
        {
          "output_type": "execute_result",
          "data": {
            "text/plain": [
              "0.5415352260778128"
            ]
          },
          "metadata": {},
          "execution_count": 77
        }
      ]
    },
    {
      "cell_type": "code",
      "source": [
        "recall_score(y_test, pred)\n"
      ],
      "metadata": {
        "colab": {
          "base_uri": "https://localhost:8080/"
        },
        "id": "OIrx9K9qSPdZ",
        "outputId": "7a04212a-895d-4352-85de-7aa67d5e32be"
      },
      "execution_count": 78,
      "outputs": [
        {
          "output_type": "execute_result",
          "data": {
            "text/plain": [
              "0.5415352260778128"
            ]
          },
          "metadata": {},
          "execution_count": 78
        }
      ]
    },
    {
      "cell_type": "code",
      "source": [
        "precision = tp / (tp + fp)\n",
        "precision"
      ],
      "metadata": {
        "colab": {
          "base_uri": "https://localhost:8080/"
        },
        "id": "cblJ-e80R8jo",
        "outputId": "35ea576e-2754-4f3a-cb04-8c9d8a074a80"
      },
      "execution_count": 79,
      "outputs": [
        {
          "output_type": "execute_result",
          "data": {
            "text/plain": [
              "0.732574679943101"
            ]
          },
          "metadata": {},
          "execution_count": 79
        }
      ]
    },
    {
      "cell_type": "code",
      "source": [
        "precision_score(y_test, pred)\n"
      ],
      "metadata": {
        "colab": {
          "base_uri": "https://localhost:8080/"
        },
        "id": "2AlHQii_SVn7",
        "outputId": "8bcd2618-5e14-4a3a-9bb6-aa2a7d626055"
      },
      "execution_count": 80,
      "outputs": [
        {
          "output_type": "execute_result",
          "data": {
            "text/plain": [
              "0.732574679943101"
            ]
          },
          "metadata": {},
          "execution_count": 80
        }
      ]
    },
    {
      "cell_type": "code",
      "source": [
        "f1 = 2 * precision * recall / (recall + precision)\n",
        "f1"
      ],
      "metadata": {
        "colab": {
          "base_uri": "https://localhost:8080/"
        },
        "id": "ZC1X_6pdSAoA",
        "outputId": "488bd302-7529-4c55-8aca-c7530d37116e"
      },
      "execution_count": 81,
      "outputs": [
        {
          "output_type": "execute_result",
          "data": {
            "text/plain": [
              "0.6227327690447401"
            ]
          },
          "metadata": {},
          "execution_count": 81
        }
      ]
    },
    {
      "cell_type": "code",
      "source": [
        "f1_score(y_test, pred)\n"
      ],
      "metadata": {
        "colab": {
          "base_uri": "https://localhost:8080/"
        },
        "id": "4tpz2ha-SX6S",
        "outputId": "30caa70c-f2ff-43ef-fc62-08ed220d16a7"
      },
      "execution_count": 82,
      "outputs": [
        {
          "output_type": "execute_result",
          "data": {
            "text/plain": [
              "0.6227327690447401"
            ]
          },
          "metadata": {},
          "execution_count": 82
        }
      ]
    },
    {
      "cell_type": "markdown",
      "source": [
        "Все метрики приблизительно равны 1- результат практически идеальный"
      ],
      "metadata": {
        "id": "vgA3x2zFSgbL"
      }
    }
  ]
}