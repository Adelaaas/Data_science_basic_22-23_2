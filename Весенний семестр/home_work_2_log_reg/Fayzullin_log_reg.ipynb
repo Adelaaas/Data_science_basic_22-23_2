{
  "nbformat": 4,
  "nbformat_minor": 0,
  "metadata": {
    "colab": {
      "provenance": []
    },
    "kernelspec": {
      "name": "python3",
      "display_name": "Python 3"
    },
    "language_info": {
      "name": "python"
    }
  },
  "cells": [
    {
      "cell_type": "code",
      "execution_count": 1,
      "metadata": {
        "colab": {
          "base_uri": "https://localhost:8080/",
          "height": 73
        },
        "id": "ctblr8yHywI9",
        "outputId": "433e741f-035d-44d8-f9ac-9f704f732fe4"
      },
      "outputs": [
        {
          "output_type": "display_data",
          "data": {
            "text/plain": [
              "<IPython.core.display.HTML object>"
            ],
            "text/html": [
              "\n",
              "     <input type=\"file\" id=\"files-5e3048a0-861d-4c72-bd22-b41b60039bf7\" name=\"files[]\" multiple disabled\n",
              "        style=\"border:none\" />\n",
              "     <output id=\"result-5e3048a0-861d-4c72-bd22-b41b60039bf7\">\n",
              "      Upload widget is only available when the cell has been executed in the\n",
              "      current browser session. Please rerun this cell to enable.\n",
              "      </output>\n",
              "      <script>// Copyright 2017 Google LLC\n",
              "//\n",
              "// Licensed under the Apache License, Version 2.0 (the \"License\");\n",
              "// you may not use this file except in compliance with the License.\n",
              "// You may obtain a copy of the License at\n",
              "//\n",
              "//      http://www.apache.org/licenses/LICENSE-2.0\n",
              "//\n",
              "// Unless required by applicable law or agreed to in writing, software\n",
              "// distributed under the License is distributed on an \"AS IS\" BASIS,\n",
              "// WITHOUT WARRANTIES OR CONDITIONS OF ANY KIND, either express or implied.\n",
              "// See the License for the specific language governing permissions and\n",
              "// limitations under the License.\n",
              "\n",
              "/**\n",
              " * @fileoverview Helpers for google.colab Python module.\n",
              " */\n",
              "(function(scope) {\n",
              "function span(text, styleAttributes = {}) {\n",
              "  const element = document.createElement('span');\n",
              "  element.textContent = text;\n",
              "  for (const key of Object.keys(styleAttributes)) {\n",
              "    element.style[key] = styleAttributes[key];\n",
              "  }\n",
              "  return element;\n",
              "}\n",
              "\n",
              "// Max number of bytes which will be uploaded at a time.\n",
              "const MAX_PAYLOAD_SIZE = 100 * 1024;\n",
              "\n",
              "function _uploadFiles(inputId, outputId) {\n",
              "  const steps = uploadFilesStep(inputId, outputId);\n",
              "  const outputElement = document.getElementById(outputId);\n",
              "  // Cache steps on the outputElement to make it available for the next call\n",
              "  // to uploadFilesContinue from Python.\n",
              "  outputElement.steps = steps;\n",
              "\n",
              "  return _uploadFilesContinue(outputId);\n",
              "}\n",
              "\n",
              "// This is roughly an async generator (not supported in the browser yet),\n",
              "// where there are multiple asynchronous steps and the Python side is going\n",
              "// to poll for completion of each step.\n",
              "// This uses a Promise to block the python side on completion of each step,\n",
              "// then passes the result of the previous step as the input to the next step.\n",
              "function _uploadFilesContinue(outputId) {\n",
              "  const outputElement = document.getElementById(outputId);\n",
              "  const steps = outputElement.steps;\n",
              "\n",
              "  const next = steps.next(outputElement.lastPromiseValue);\n",
              "  return Promise.resolve(next.value.promise).then((value) => {\n",
              "    // Cache the last promise value to make it available to the next\n",
              "    // step of the generator.\n",
              "    outputElement.lastPromiseValue = value;\n",
              "    return next.value.response;\n",
              "  });\n",
              "}\n",
              "\n",
              "/**\n",
              " * Generator function which is called between each async step of the upload\n",
              " * process.\n",
              " * @param {string} inputId Element ID of the input file picker element.\n",
              " * @param {string} outputId Element ID of the output display.\n",
              " * @return {!Iterable<!Object>} Iterable of next steps.\n",
              " */\n",
              "function* uploadFilesStep(inputId, outputId) {\n",
              "  const inputElement = document.getElementById(inputId);\n",
              "  inputElement.disabled = false;\n",
              "\n",
              "  const outputElement = document.getElementById(outputId);\n",
              "  outputElement.innerHTML = '';\n",
              "\n",
              "  const pickedPromise = new Promise((resolve) => {\n",
              "    inputElement.addEventListener('change', (e) => {\n",
              "      resolve(e.target.files);\n",
              "    });\n",
              "  });\n",
              "\n",
              "  const cancel = document.createElement('button');\n",
              "  inputElement.parentElement.appendChild(cancel);\n",
              "  cancel.textContent = 'Cancel upload';\n",
              "  const cancelPromise = new Promise((resolve) => {\n",
              "    cancel.onclick = () => {\n",
              "      resolve(null);\n",
              "    };\n",
              "  });\n",
              "\n",
              "  // Wait for the user to pick the files.\n",
              "  const files = yield {\n",
              "    promise: Promise.race([pickedPromise, cancelPromise]),\n",
              "    response: {\n",
              "      action: 'starting',\n",
              "    }\n",
              "  };\n",
              "\n",
              "  cancel.remove();\n",
              "\n",
              "  // Disable the input element since further picks are not allowed.\n",
              "  inputElement.disabled = true;\n",
              "\n",
              "  if (!files) {\n",
              "    return {\n",
              "      response: {\n",
              "        action: 'complete',\n",
              "      }\n",
              "    };\n",
              "  }\n",
              "\n",
              "  for (const file of files) {\n",
              "    const li = document.createElement('li');\n",
              "    li.append(span(file.name, {fontWeight: 'bold'}));\n",
              "    li.append(span(\n",
              "        `(${file.type || 'n/a'}) - ${file.size} bytes, ` +\n",
              "        `last modified: ${\n",
              "            file.lastModifiedDate ? file.lastModifiedDate.toLocaleDateString() :\n",
              "                                    'n/a'} - `));\n",
              "    const percent = span('0% done');\n",
              "    li.appendChild(percent);\n",
              "\n",
              "    outputElement.appendChild(li);\n",
              "\n",
              "    const fileDataPromise = new Promise((resolve) => {\n",
              "      const reader = new FileReader();\n",
              "      reader.onload = (e) => {\n",
              "        resolve(e.target.result);\n",
              "      };\n",
              "      reader.readAsArrayBuffer(file);\n",
              "    });\n",
              "    // Wait for the data to be ready.\n",
              "    let fileData = yield {\n",
              "      promise: fileDataPromise,\n",
              "      response: {\n",
              "        action: 'continue',\n",
              "      }\n",
              "    };\n",
              "\n",
              "    // Use a chunked sending to avoid message size limits. See b/62115660.\n",
              "    let position = 0;\n",
              "    do {\n",
              "      const length = Math.min(fileData.byteLength - position, MAX_PAYLOAD_SIZE);\n",
              "      const chunk = new Uint8Array(fileData, position, length);\n",
              "      position += length;\n",
              "\n",
              "      const base64 = btoa(String.fromCharCode.apply(null, chunk));\n",
              "      yield {\n",
              "        response: {\n",
              "          action: 'append',\n",
              "          file: file.name,\n",
              "          data: base64,\n",
              "        },\n",
              "      };\n",
              "\n",
              "      let percentDone = fileData.byteLength === 0 ?\n",
              "          100 :\n",
              "          Math.round((position / fileData.byteLength) * 100);\n",
              "      percent.textContent = `${percentDone}% done`;\n",
              "\n",
              "    } while (position < fileData.byteLength);\n",
              "  }\n",
              "\n",
              "  // All done.\n",
              "  yield {\n",
              "    response: {\n",
              "      action: 'complete',\n",
              "    }\n",
              "  };\n",
              "}\n",
              "\n",
              "scope.google = scope.google || {};\n",
              "scope.google.colab = scope.google.colab || {};\n",
              "scope.google.colab._files = {\n",
              "  _uploadFiles,\n",
              "  _uploadFilesContinue,\n",
              "};\n",
              "})(self);\n",
              "</script> "
            ]
          },
          "metadata": {}
        },
        {
          "output_type": "stream",
          "name": "stdout",
          "text": [
            "Saving diabetes_dataset__2019.csv to diabetes_dataset__2019.csv\n"
          ]
        }
      ],
      "source": [
        "import pandas as pd\n",
        "import numpy as np\n",
        "import matplotlib.pyplot as plt\n",
        "from sklearn.linear_model import LogisticRegression\n",
        "from google.colab import files\n",
        "uploaded = files.upload()"
      ]
    },
    {
      "cell_type": "code",
      "source": [
        "train = pd.read_csv('/content/diabetes_dataset__2019.csv')"
      ],
      "metadata": {
        "id": "gP5rZrZCy5w4"
      },
      "execution_count": 34,
      "outputs": []
    },
    {
      "cell_type": "code",
      "source": [
        "train['Diabetic'].unique()\n"
      ],
      "metadata": {
        "colab": {
          "base_uri": "https://localhost:8080/"
        },
        "id": "aQLG4nRTzfr0",
        "outputId": "f53ca5e6-f6ef-4950-f7c5-6faac85b9117"
      },
      "execution_count": 35,
      "outputs": [
        {
          "output_type": "execute_result",
          "data": {
            "text/plain": [
              "array(['no', 'yes', ' no', nan], dtype=object)"
            ]
          },
          "metadata": {},
          "execution_count": 35
        }
      ]
    },
    {
      "cell_type": "code",
      "source": [
        "print(train.shape)\n",
        "print(\"________________________________________\")\n",
        "print(train.isna().sum())"
      ],
      "metadata": {
        "colab": {
          "base_uri": "https://localhost:8080/"
        },
        "id": "IJeyAtq3z5yA",
        "outputId": "883b9e94-70ac-4eed-80cb-dceb48fbb90f"
      },
      "execution_count": 3,
      "outputs": [
        {
          "output_type": "stream",
          "name": "stdout",
          "text": [
            "(952, 18)\n",
            "________________________________________\n",
            "Age                  0\n",
            "Gender               0\n",
            "Family_Diabetes      0\n",
            "highBP               0\n",
            "PhysicallyActive     0\n",
            "BMI                  4\n",
            "Smoking              0\n",
            "Alcohol              0\n",
            "Sleep                0\n",
            "SoundSleep           0\n",
            "RegularMedicine      0\n",
            "JunkFood             0\n",
            "Stress               0\n",
            "BPLevel              0\n",
            "Pregancies          42\n",
            "Pdiabetes            1\n",
            "UriationFreq         0\n",
            "Diabetic             1\n",
            "dtype: int64\n"
          ]
        }
      ]
    },
    {
      "cell_type": "code",
      "source": [
        "#Так как пропусков не так много, то можно всех их удалить\n",
        "train = train.dropna()"
      ],
      "metadata": {
        "id": "Vbbc0jvZ14Bn"
      },
      "execution_count": 36,
      "outputs": []
    },
    {
      "cell_type": "code",
      "source": [
        "print(train.shape)\n",
        "print(\"________________________________________\")\n",
        "print(train.isna().sum())"
      ],
      "metadata": {
        "colab": {
          "base_uri": "https://localhost:8080/"
        },
        "id": "Xf58BGgc2ZKn",
        "outputId": "c85cf3f0-1250-4af7-fef2-967105b2fbff"
      },
      "execution_count": 5,
      "outputs": [
        {
          "output_type": "stream",
          "name": "stdout",
          "text": [
            "(905, 18)\n",
            "________________________________________\n",
            "Age                 0\n",
            "Gender              0\n",
            "Family_Diabetes     0\n",
            "highBP              0\n",
            "PhysicallyActive    0\n",
            "BMI                 0\n",
            "Smoking             0\n",
            "Alcohol             0\n",
            "Sleep               0\n",
            "SoundSleep          0\n",
            "RegularMedicine     0\n",
            "JunkFood            0\n",
            "Stress              0\n",
            "BPLevel             0\n",
            "Pregancies          0\n",
            "Pdiabetes           0\n",
            "UriationFreq        0\n",
            "Diabetic            0\n",
            "dtype: int64\n"
          ]
        }
      ]
    },
    {
      "cell_type": "code",
      "source": [
        "print(train['Age'].unique())\n",
        "print(train['PhysicallyActive'].unique())\n",
        "print(train['JunkFood'].unique())\n",
        "print(train['Stress'].unique())\n",
        "print(train['BPLevel'].unique())"
      ],
      "metadata": {
        "colab": {
          "base_uri": "https://localhost:8080/"
        },
        "id": "SzxQ_MCE6Tx3",
        "outputId": "fc26cf83-36e9-49d6-b9c1-7678f60b882f"
      },
      "execution_count": 42,
      "outputs": [
        {
          "output_type": "stream",
          "name": "stdout",
          "text": [
            "['50-59' '40-49' 'less than 40' '60 or older']\n",
            "['one hr or more' 'less than half an hr' 'none' 'more than half an hr']\n",
            "['occasionally' 'very often' 'often' 'always']\n",
            "['sometimes' 'not at all' 'very often' 'always']\n",
            "['high' 'normal' 'low' 'Low' 'High' 'normal ']\n"
          ]
        }
      ]
    },
    {
      "cell_type": "code",
      "source": [
        "from sklearn.preprocessing import OrdinalEncoder\n",
        "train.loc[train['BPLevel']=='low' , 'BPLevel'] = 'Low'\n",
        "train.loc[train['BPLevel']=='normal ' , 'BPLevel'] = 'normal'\n",
        "train.loc[train['BPLevel']=='high' , 'BPLevel'] = 'High'\n",
        "train.loc[train['Diabetic']==' no' , 'Diabetic'] = 'no'\n",
        "for i in train.columns:\n",
        "  if(type(train[i][0]) == type('str')):\n",
        "      replacement = OrdinalEncoder()\n",
        "      replacement.fit(train[[i]])\n",
        "      train[i] = replacement.transform(train[[i]])\n"
      ],
      "metadata": {
        "id": "4ewLGvOiZ39P"
      },
      "execution_count": 38,
      "outputs": []
    },
    {
      "cell_type": "code",
      "source": [
        "train.head()"
      ],
      "metadata": {
        "colab": {
          "base_uri": "https://localhost:8080/",
          "height": 270
        },
        "id": "4qQ_fum4dPy6",
        "outputId": "54fff32b-ead2-4528-99d5-f9beaa22cfd4"
      },
      "execution_count": 17,
      "outputs": [
        {
          "output_type": "execute_result",
          "data": {
            "text/plain": [
              "   Age  Gender  Family_Diabetes  highBP  PhysicallyActive   BMI  Smoking  \\\n",
              "0  1.0     1.0              0.0     1.0               3.0  39.0      0.0   \n",
              "1  1.0     1.0              0.0     1.0               0.0  28.0      0.0   \n",
              "2  0.0     1.0              0.0     0.0               3.0  24.0      0.0   \n",
              "3  1.0     1.0              0.0     0.0               3.0  23.0      0.0   \n",
              "4  0.0     1.0              0.0     0.0               0.0  27.0      0.0   \n",
              "\n",
              "   Alcohol  Sleep  SoundSleep  RegularMedicine  JunkFood  Stress  BPLevel  \\\n",
              "0      0.0      8           6              0.0       1.0     2.0      0.0   \n",
              "1      0.0      8           6              2.0       3.0     2.0      2.0   \n",
              "2      0.0      6           6              0.0       1.0     2.0      2.0   \n",
              "3      0.0      8           6              0.0       1.0     2.0      2.0   \n",
              "4      0.0      8           8              0.0       1.0     2.0      2.0   \n",
              "\n",
              "   Pregancies  Pdiabetes  UriationFreq  Diabetic  \n",
              "0         0.0        0.0           0.0       1.0  \n",
              "1         0.0        0.0           0.0       1.0  \n",
              "2         0.0        0.0           0.0       1.0  \n",
              "3         0.0        0.0           0.0       1.0  \n",
              "4         0.0        0.0           0.0       1.0  "
            ],
            "text/html": [
              "\n",
              "  <div id=\"df-8c687f14-0eb5-42d7-889c-eb544ec9f91b\">\n",
              "    <div class=\"colab-df-container\">\n",
              "      <div>\n",
              "<style scoped>\n",
              "    .dataframe tbody tr th:only-of-type {\n",
              "        vertical-align: middle;\n",
              "    }\n",
              "\n",
              "    .dataframe tbody tr th {\n",
              "        vertical-align: top;\n",
              "    }\n",
              "\n",
              "    .dataframe thead th {\n",
              "        text-align: right;\n",
              "    }\n",
              "</style>\n",
              "<table border=\"1\" class=\"dataframe\">\n",
              "  <thead>\n",
              "    <tr style=\"text-align: right;\">\n",
              "      <th></th>\n",
              "      <th>Age</th>\n",
              "      <th>Gender</th>\n",
              "      <th>Family_Diabetes</th>\n",
              "      <th>highBP</th>\n",
              "      <th>PhysicallyActive</th>\n",
              "      <th>BMI</th>\n",
              "      <th>Smoking</th>\n",
              "      <th>Alcohol</th>\n",
              "      <th>Sleep</th>\n",
              "      <th>SoundSleep</th>\n",
              "      <th>RegularMedicine</th>\n",
              "      <th>JunkFood</th>\n",
              "      <th>Stress</th>\n",
              "      <th>BPLevel</th>\n",
              "      <th>Pregancies</th>\n",
              "      <th>Pdiabetes</th>\n",
              "      <th>UriationFreq</th>\n",
              "      <th>Diabetic</th>\n",
              "    </tr>\n",
              "  </thead>\n",
              "  <tbody>\n",
              "    <tr>\n",
              "      <th>0</th>\n",
              "      <td>1.0</td>\n",
              "      <td>1.0</td>\n",
              "      <td>0.0</td>\n",
              "      <td>1.0</td>\n",
              "      <td>3.0</td>\n",
              "      <td>39.0</td>\n",
              "      <td>0.0</td>\n",
              "      <td>0.0</td>\n",
              "      <td>8</td>\n",
              "      <td>6</td>\n",
              "      <td>0.0</td>\n",
              "      <td>1.0</td>\n",
              "      <td>2.0</td>\n",
              "      <td>0.0</td>\n",
              "      <td>0.0</td>\n",
              "      <td>0.0</td>\n",
              "      <td>0.0</td>\n",
              "      <td>1.0</td>\n",
              "    </tr>\n",
              "    <tr>\n",
              "      <th>1</th>\n",
              "      <td>1.0</td>\n",
              "      <td>1.0</td>\n",
              "      <td>0.0</td>\n",
              "      <td>1.0</td>\n",
              "      <td>0.0</td>\n",
              "      <td>28.0</td>\n",
              "      <td>0.0</td>\n",
              "      <td>0.0</td>\n",
              "      <td>8</td>\n",
              "      <td>6</td>\n",
              "      <td>2.0</td>\n",
              "      <td>3.0</td>\n",
              "      <td>2.0</td>\n",
              "      <td>2.0</td>\n",
              "      <td>0.0</td>\n",
              "      <td>0.0</td>\n",
              "      <td>0.0</td>\n",
              "      <td>1.0</td>\n",
              "    </tr>\n",
              "    <tr>\n",
              "      <th>2</th>\n",
              "      <td>0.0</td>\n",
              "      <td>1.0</td>\n",
              "      <td>0.0</td>\n",
              "      <td>0.0</td>\n",
              "      <td>3.0</td>\n",
              "      <td>24.0</td>\n",
              "      <td>0.0</td>\n",
              "      <td>0.0</td>\n",
              "      <td>6</td>\n",
              "      <td>6</td>\n",
              "      <td>0.0</td>\n",
              "      <td>1.0</td>\n",
              "      <td>2.0</td>\n",
              "      <td>2.0</td>\n",
              "      <td>0.0</td>\n",
              "      <td>0.0</td>\n",
              "      <td>0.0</td>\n",
              "      <td>1.0</td>\n",
              "    </tr>\n",
              "    <tr>\n",
              "      <th>3</th>\n",
              "      <td>1.0</td>\n",
              "      <td>1.0</td>\n",
              "      <td>0.0</td>\n",
              "      <td>0.0</td>\n",
              "      <td>3.0</td>\n",
              "      <td>23.0</td>\n",
              "      <td>0.0</td>\n",
              "      <td>0.0</td>\n",
              "      <td>8</td>\n",
              "      <td>6</td>\n",
              "      <td>0.0</td>\n",
              "      <td>1.0</td>\n",
              "      <td>2.0</td>\n",
              "      <td>2.0</td>\n",
              "      <td>0.0</td>\n",
              "      <td>0.0</td>\n",
              "      <td>0.0</td>\n",
              "      <td>1.0</td>\n",
              "    </tr>\n",
              "    <tr>\n",
              "      <th>4</th>\n",
              "      <td>0.0</td>\n",
              "      <td>1.0</td>\n",
              "      <td>0.0</td>\n",
              "      <td>0.0</td>\n",
              "      <td>0.0</td>\n",
              "      <td>27.0</td>\n",
              "      <td>0.0</td>\n",
              "      <td>0.0</td>\n",
              "      <td>8</td>\n",
              "      <td>8</td>\n",
              "      <td>0.0</td>\n",
              "      <td>1.0</td>\n",
              "      <td>2.0</td>\n",
              "      <td>2.0</td>\n",
              "      <td>0.0</td>\n",
              "      <td>0.0</td>\n",
              "      <td>0.0</td>\n",
              "      <td>1.0</td>\n",
              "    </tr>\n",
              "  </tbody>\n",
              "</table>\n",
              "</div>\n",
              "      <button class=\"colab-df-convert\" onclick=\"convertToInteractive('df-8c687f14-0eb5-42d7-889c-eb544ec9f91b')\"\n",
              "              title=\"Convert this dataframe to an interactive table.\"\n",
              "              style=\"display:none;\">\n",
              "        \n",
              "  <svg xmlns=\"http://www.w3.org/2000/svg\" height=\"24px\"viewBox=\"0 0 24 24\"\n",
              "       width=\"24px\">\n",
              "    <path d=\"M0 0h24v24H0V0z\" fill=\"none\"/>\n",
              "    <path d=\"M18.56 5.44l.94 2.06.94-2.06 2.06-.94-2.06-.94-.94-2.06-.94 2.06-2.06.94zm-11 1L8.5 8.5l.94-2.06 2.06-.94-2.06-.94L8.5 2.5l-.94 2.06-2.06.94zm10 10l.94 2.06.94-2.06 2.06-.94-2.06-.94-.94-2.06-.94 2.06-2.06.94z\"/><path d=\"M17.41 7.96l-1.37-1.37c-.4-.4-.92-.59-1.43-.59-.52 0-1.04.2-1.43.59L10.3 9.45l-7.72 7.72c-.78.78-.78 2.05 0 2.83L4 21.41c.39.39.9.59 1.41.59.51 0 1.02-.2 1.41-.59l7.78-7.78 2.81-2.81c.8-.78.8-2.07 0-2.86zM5.41 20L4 18.59l7.72-7.72 1.47 1.35L5.41 20z\"/>\n",
              "  </svg>\n",
              "      </button>\n",
              "      \n",
              "  <style>\n",
              "    .colab-df-container {\n",
              "      display:flex;\n",
              "      flex-wrap:wrap;\n",
              "      gap: 12px;\n",
              "    }\n",
              "\n",
              "    .colab-df-convert {\n",
              "      background-color: #E8F0FE;\n",
              "      border: none;\n",
              "      border-radius: 50%;\n",
              "      cursor: pointer;\n",
              "      display: none;\n",
              "      fill: #1967D2;\n",
              "      height: 32px;\n",
              "      padding: 0 0 0 0;\n",
              "      width: 32px;\n",
              "    }\n",
              "\n",
              "    .colab-df-convert:hover {\n",
              "      background-color: #E2EBFA;\n",
              "      box-shadow: 0px 1px 2px rgba(60, 64, 67, 0.3), 0px 1px 3px 1px rgba(60, 64, 67, 0.15);\n",
              "      fill: #174EA6;\n",
              "    }\n",
              "\n",
              "    [theme=dark] .colab-df-convert {\n",
              "      background-color: #3B4455;\n",
              "      fill: #D2E3FC;\n",
              "    }\n",
              "\n",
              "    [theme=dark] .colab-df-convert:hover {\n",
              "      background-color: #434B5C;\n",
              "      box-shadow: 0px 1px 3px 1px rgba(0, 0, 0, 0.15);\n",
              "      filter: drop-shadow(0px 1px 2px rgba(0, 0, 0, 0.3));\n",
              "      fill: #FFFFFF;\n",
              "    }\n",
              "  </style>\n",
              "\n",
              "      <script>\n",
              "        const buttonEl =\n",
              "          document.querySelector('#df-8c687f14-0eb5-42d7-889c-eb544ec9f91b button.colab-df-convert');\n",
              "        buttonEl.style.display =\n",
              "          google.colab.kernel.accessAllowed ? 'block' : 'none';\n",
              "\n",
              "        async function convertToInteractive(key) {\n",
              "          const element = document.querySelector('#df-8c687f14-0eb5-42d7-889c-eb544ec9f91b');\n",
              "          const dataTable =\n",
              "            await google.colab.kernel.invokeFunction('convertToInteractive',\n",
              "                                                     [key], {});\n",
              "          if (!dataTable) return;\n",
              "\n",
              "          const docLinkHtml = 'Like what you see? Visit the ' +\n",
              "            '<a target=\"_blank\" href=https://colab.research.google.com/notebooks/data_table.ipynb>data table notebook</a>'\n",
              "            + ' to learn more about interactive tables.';\n",
              "          element.innerHTML = '';\n",
              "          dataTable['output_type'] = 'display_data';\n",
              "          await google.colab.output.renderOutput(dataTable, element);\n",
              "          const docLink = document.createElement('div');\n",
              "          docLink.innerHTML = docLinkHtml;\n",
              "          element.appendChild(docLink);\n",
              "        }\n",
              "      </script>\n",
              "    </div>\n",
              "  </div>\n",
              "  "
            ]
          },
          "metadata": {},
          "execution_count": 17
        }
      ]
    },
    {
      "cell_type": "code",
      "source": [
        "train.loc[train[\"Age\"]=='less than 40' , 'Age'] = 1\n",
        "train.loc[train[\"Age\"]=='40-49' , 'Age'] = 2\n",
        "train.loc[train[\"Age\"]=='50-59' , 'Age'] = 3\n",
        "train.loc[train[\"Age\"]=='60 or older' , 'Age'] = 4\n",
        "\n",
        "train.loc[train['PhysicallyActive']=='none' , 'PhysicallyActive'] = 1\n",
        "train.loc[train['PhysicallyActive']=='less than half an hr' , 'PhysicallyActive'] = 2\n",
        "train.loc[train['PhysicallyActive']=='more than half an hr' , 'PhysicallyActive'] = 3\n",
        "train.loc[train['PhysicallyActive']=='one hr or more' , 'PhysicallyActive'] = 4\n",
        "\n",
        "train.loc[train['JunkFood']=='occasionally' , 'JunkFood'] = 1\n",
        "train.loc[train['JunkFood']=='often' , 'JunkFood'] = 2\n",
        "train.loc[train['JunkFood']=='very often' , 'JunkFood'] = 3\n",
        "train.loc[train['JunkFood']=='always' , 'JunkFood'] = 4\n",
        "\n",
        "train.loc[train['Stress']=='not at all' , 'Stress'] = 1\n",
        "train.loc[train['Stress']=='sometimes' , 'Stress'] = 2\n",
        "train.loc[train['Stress']=='very often' , 'Stress'] = 3\n",
        "train.loc[train['Stress']=='always' , 'Stress'] = 4\n",
        "\n",
        "train.loc[train['BPLevel']=='Low' , 'BPLevel'] = 1\n",
        "train.loc[train['BPLevel']=='low' , 'BPLevel'] = 1\n",
        "train.loc[train['BPLevel']=='normal' , 'BPLevel'] = 2\n",
        "train.loc[train['BPLevel']=='normal ' , 'BPLevel'] = 2\n",
        "train.loc[train['BPLevel']=='high' , 'BPLevel'] = 3\n",
        "train.loc[train['BPLevel']=='High' , 'BPLevel'] = 3\n",
        "\n",
        "train.loc[train['Family_Diabetes']=='no' , 'Family_Diabetes'] = 0\n",
        "train.loc[train['Family_Diabetes'] !=0 , 'Family_Diabetes'] = 1\n",
        "\n",
        "train.loc[train['Gender']=='Male' , 'Gender'] = 0\n",
        "train.loc[train['Gender'] !=0 , 'Gender'] = 1\n",
        "\n",
        "train.loc[train['highBP']=='no' , 'highBP'] = 0\n",
        "train.loc[train['highBP'] !=0 , 'highBP'] = 1\n",
        "\n",
        "train.loc[train['Smoking']=='no' , 'Smoking'] = 0\n",
        "train.loc[train['Smoking'] !=0 , 'Smoking'] = 1\n",
        "\n",
        "train.loc[train['Smoking']=='no' , 'Smoking'] = 0\n",
        "train.loc[train['Smoking'] !=0 , 'Smoking'] = 1\n",
        "\n",
        "train.loc[train['Alcohol']=='no' , 'Alcohol'] = 0\n",
        "train.loc[train['Alcohol'] !=0 , 'Alcohol'] = 1\n",
        "\n",
        "train.loc[train['RegularMedicine']=='no' , 'RegularMedicine'] = 0\n",
        "train.loc[train['RegularMedicine'] !=0 , 'RegularMedicine'] = 1\n",
        "\n",
        "train.loc[train['Diabetic']=='no' , 'Diabetic'] = 0\n",
        "train.loc[train['Diabetic'] !=0 , 'Diabetic'] = 1\n",
        "\n",
        "train.loc[train['UriationFreq']=='not much' , 'UriationFreq'] = 0\n",
        "train.loc[train['UriationFreq'] !=0 , 'UriationFreq'] = 1\n",
        "\n",
        "train.loc[train['Pdiabetes']=='yes' , 'Pdiabetes'] = 1\n",
        "train.loc[train['Pdiabetes']=='0' , 'Pdiabetes'] = 0\n",
        "\n"
      ],
      "metadata": {
        "id": "Jllfpdf16F2o"
      },
      "execution_count": 65,
      "outputs": []
    },
    {
      "cell_type": "code",
      "source": [],
      "metadata": {
        "id": "-bCkaGJrGmO5"
      },
      "execution_count": 18,
      "outputs": []
    },
    {
      "cell_type": "code",
      "source": [
        "train.head()"
      ],
      "metadata": {
        "colab": {
          "base_uri": "https://localhost:8080/",
          "height": 270
        },
        "id": "EEuox9iyAHyw",
        "outputId": "76b2ab4a-b5ab-4c93-d7e9-978ddb98c1d5"
      },
      "execution_count": 19,
      "outputs": [
        {
          "output_type": "execute_result",
          "data": {
            "text/plain": [
              "   Age  Gender  Family_Diabetes  highBP  PhysicallyActive  BMI  Smoking  \\\n",
              "0    1       1                0       1                 3   39        0   \n",
              "1    1       1                0       1                 0   28        0   \n",
              "2    0       1                0       0                 3   24        0   \n",
              "3    1       1                0       0                 3   23        0   \n",
              "4    0       1                0       0                 0   27        0   \n",
              "\n",
              "   Alcohol  Sleep  SoundSleep  RegularMedicine  JunkFood  Stress  BPLevel  \\\n",
              "0        0      8           6                0         1       2        0   \n",
              "1        0      8           6                2         3       2        2   \n",
              "2        0      6           6                0         1       2        2   \n",
              "3        0      8           6                0         1       2        2   \n",
              "4        0      8           8                0         1       2        2   \n",
              "\n",
              "   Pregancies  Pdiabetes  UriationFreq  Diabetic  \n",
              "0           0          0             0         1  \n",
              "1           0          0             0         1  \n",
              "2           0          0             0         1  \n",
              "3           0          0             0         1  \n",
              "4           0          0             0         1  "
            ],
            "text/html": [
              "\n",
              "  <div id=\"df-20fc9af0-4073-461b-a7d2-dcd6525f01cf\">\n",
              "    <div class=\"colab-df-container\">\n",
              "      <div>\n",
              "<style scoped>\n",
              "    .dataframe tbody tr th:only-of-type {\n",
              "        vertical-align: middle;\n",
              "    }\n",
              "\n",
              "    .dataframe tbody tr th {\n",
              "        vertical-align: top;\n",
              "    }\n",
              "\n",
              "    .dataframe thead th {\n",
              "        text-align: right;\n",
              "    }\n",
              "</style>\n",
              "<table border=\"1\" class=\"dataframe\">\n",
              "  <thead>\n",
              "    <tr style=\"text-align: right;\">\n",
              "      <th></th>\n",
              "      <th>Age</th>\n",
              "      <th>Gender</th>\n",
              "      <th>Family_Diabetes</th>\n",
              "      <th>highBP</th>\n",
              "      <th>PhysicallyActive</th>\n",
              "      <th>BMI</th>\n",
              "      <th>Smoking</th>\n",
              "      <th>Alcohol</th>\n",
              "      <th>Sleep</th>\n",
              "      <th>SoundSleep</th>\n",
              "      <th>RegularMedicine</th>\n",
              "      <th>JunkFood</th>\n",
              "      <th>Stress</th>\n",
              "      <th>BPLevel</th>\n",
              "      <th>Pregancies</th>\n",
              "      <th>Pdiabetes</th>\n",
              "      <th>UriationFreq</th>\n",
              "      <th>Diabetic</th>\n",
              "    </tr>\n",
              "  </thead>\n",
              "  <tbody>\n",
              "    <tr>\n",
              "      <th>0</th>\n",
              "      <td>1</td>\n",
              "      <td>1</td>\n",
              "      <td>0</td>\n",
              "      <td>1</td>\n",
              "      <td>3</td>\n",
              "      <td>39</td>\n",
              "      <td>0</td>\n",
              "      <td>0</td>\n",
              "      <td>8</td>\n",
              "      <td>6</td>\n",
              "      <td>0</td>\n",
              "      <td>1</td>\n",
              "      <td>2</td>\n",
              "      <td>0</td>\n",
              "      <td>0</td>\n",
              "      <td>0</td>\n",
              "      <td>0</td>\n",
              "      <td>1</td>\n",
              "    </tr>\n",
              "    <tr>\n",
              "      <th>1</th>\n",
              "      <td>1</td>\n",
              "      <td>1</td>\n",
              "      <td>0</td>\n",
              "      <td>1</td>\n",
              "      <td>0</td>\n",
              "      <td>28</td>\n",
              "      <td>0</td>\n",
              "      <td>0</td>\n",
              "      <td>8</td>\n",
              "      <td>6</td>\n",
              "      <td>2</td>\n",
              "      <td>3</td>\n",
              "      <td>2</td>\n",
              "      <td>2</td>\n",
              "      <td>0</td>\n",
              "      <td>0</td>\n",
              "      <td>0</td>\n",
              "      <td>1</td>\n",
              "    </tr>\n",
              "    <tr>\n",
              "      <th>2</th>\n",
              "      <td>0</td>\n",
              "      <td>1</td>\n",
              "      <td>0</td>\n",
              "      <td>0</td>\n",
              "      <td>3</td>\n",
              "      <td>24</td>\n",
              "      <td>0</td>\n",
              "      <td>0</td>\n",
              "      <td>6</td>\n",
              "      <td>6</td>\n",
              "      <td>0</td>\n",
              "      <td>1</td>\n",
              "      <td>2</td>\n",
              "      <td>2</td>\n",
              "      <td>0</td>\n",
              "      <td>0</td>\n",
              "      <td>0</td>\n",
              "      <td>1</td>\n",
              "    </tr>\n",
              "    <tr>\n",
              "      <th>3</th>\n",
              "      <td>1</td>\n",
              "      <td>1</td>\n",
              "      <td>0</td>\n",
              "      <td>0</td>\n",
              "      <td>3</td>\n",
              "      <td>23</td>\n",
              "      <td>0</td>\n",
              "      <td>0</td>\n",
              "      <td>8</td>\n",
              "      <td>6</td>\n",
              "      <td>0</td>\n",
              "      <td>1</td>\n",
              "      <td>2</td>\n",
              "      <td>2</td>\n",
              "      <td>0</td>\n",
              "      <td>0</td>\n",
              "      <td>0</td>\n",
              "      <td>1</td>\n",
              "    </tr>\n",
              "    <tr>\n",
              "      <th>4</th>\n",
              "      <td>0</td>\n",
              "      <td>1</td>\n",
              "      <td>0</td>\n",
              "      <td>0</td>\n",
              "      <td>0</td>\n",
              "      <td>27</td>\n",
              "      <td>0</td>\n",
              "      <td>0</td>\n",
              "      <td>8</td>\n",
              "      <td>8</td>\n",
              "      <td>0</td>\n",
              "      <td>1</td>\n",
              "      <td>2</td>\n",
              "      <td>2</td>\n",
              "      <td>0</td>\n",
              "      <td>0</td>\n",
              "      <td>0</td>\n",
              "      <td>1</td>\n",
              "    </tr>\n",
              "  </tbody>\n",
              "</table>\n",
              "</div>\n",
              "      <button class=\"colab-df-convert\" onclick=\"convertToInteractive('df-20fc9af0-4073-461b-a7d2-dcd6525f01cf')\"\n",
              "              title=\"Convert this dataframe to an interactive table.\"\n",
              "              style=\"display:none;\">\n",
              "        \n",
              "  <svg xmlns=\"http://www.w3.org/2000/svg\" height=\"24px\"viewBox=\"0 0 24 24\"\n",
              "       width=\"24px\">\n",
              "    <path d=\"M0 0h24v24H0V0z\" fill=\"none\"/>\n",
              "    <path d=\"M18.56 5.44l.94 2.06.94-2.06 2.06-.94-2.06-.94-.94-2.06-.94 2.06-2.06.94zm-11 1L8.5 8.5l.94-2.06 2.06-.94-2.06-.94L8.5 2.5l-.94 2.06-2.06.94zm10 10l.94 2.06.94-2.06 2.06-.94-2.06-.94-.94-2.06-.94 2.06-2.06.94z\"/><path d=\"M17.41 7.96l-1.37-1.37c-.4-.4-.92-.59-1.43-.59-.52 0-1.04.2-1.43.59L10.3 9.45l-7.72 7.72c-.78.78-.78 2.05 0 2.83L4 21.41c.39.39.9.59 1.41.59.51 0 1.02-.2 1.41-.59l7.78-7.78 2.81-2.81c.8-.78.8-2.07 0-2.86zM5.41 20L4 18.59l7.72-7.72 1.47 1.35L5.41 20z\"/>\n",
              "  </svg>\n",
              "      </button>\n",
              "      \n",
              "  <style>\n",
              "    .colab-df-container {\n",
              "      display:flex;\n",
              "      flex-wrap:wrap;\n",
              "      gap: 12px;\n",
              "    }\n",
              "\n",
              "    .colab-df-convert {\n",
              "      background-color: #E8F0FE;\n",
              "      border: none;\n",
              "      border-radius: 50%;\n",
              "      cursor: pointer;\n",
              "      display: none;\n",
              "      fill: #1967D2;\n",
              "      height: 32px;\n",
              "      padding: 0 0 0 0;\n",
              "      width: 32px;\n",
              "    }\n",
              "\n",
              "    .colab-df-convert:hover {\n",
              "      background-color: #E2EBFA;\n",
              "      box-shadow: 0px 1px 2px rgba(60, 64, 67, 0.3), 0px 1px 3px 1px rgba(60, 64, 67, 0.15);\n",
              "      fill: #174EA6;\n",
              "    }\n",
              "\n",
              "    [theme=dark] .colab-df-convert {\n",
              "      background-color: #3B4455;\n",
              "      fill: #D2E3FC;\n",
              "    }\n",
              "\n",
              "    [theme=dark] .colab-df-convert:hover {\n",
              "      background-color: #434B5C;\n",
              "      box-shadow: 0px 1px 3px 1px rgba(0, 0, 0, 0.15);\n",
              "      filter: drop-shadow(0px 1px 2px rgba(0, 0, 0, 0.3));\n",
              "      fill: #FFFFFF;\n",
              "    }\n",
              "  </style>\n",
              "\n",
              "      <script>\n",
              "        const buttonEl =\n",
              "          document.querySelector('#df-20fc9af0-4073-461b-a7d2-dcd6525f01cf button.colab-df-convert');\n",
              "        buttonEl.style.display =\n",
              "          google.colab.kernel.accessAllowed ? 'block' : 'none';\n",
              "\n",
              "        async function convertToInteractive(key) {\n",
              "          const element = document.querySelector('#df-20fc9af0-4073-461b-a7d2-dcd6525f01cf');\n",
              "          const dataTable =\n",
              "            await google.colab.kernel.invokeFunction('convertToInteractive',\n",
              "                                                     [key], {});\n",
              "          if (!dataTable) return;\n",
              "\n",
              "          const docLinkHtml = 'Like what you see? Visit the ' +\n",
              "            '<a target=\"_blank\" href=https://colab.research.google.com/notebooks/data_table.ipynb>data table notebook</a>'\n",
              "            + ' to learn more about interactive tables.';\n",
              "          element.innerHTML = '';\n",
              "          dataTable['output_type'] = 'display_data';\n",
              "          await google.colab.output.renderOutput(dataTable, element);\n",
              "          const docLink = document.createElement('div');\n",
              "          docLink.innerHTML = docLinkHtml;\n",
              "          element.appendChild(docLink);\n",
              "        }\n",
              "      </script>\n",
              "    </div>\n",
              "  </div>\n",
              "  "
            ]
          },
          "metadata": {},
          "execution_count": 19
        }
      ]
    },
    {
      "cell_type": "code",
      "source": [
        "for i in train.columns:\n",
        "  print(train[i].unique())"
      ],
      "metadata": {
        "colab": {
          "base_uri": "https://localhost:8080/"
        },
        "id": "-dJMgtEPDvkZ",
        "outputId": "ce203d23-e3d9-439b-d4a1-b0beaca7f3a9"
      },
      "execution_count": 39,
      "outputs": [
        {
          "output_type": "stream",
          "name": "stdout",
          "text": [
            "[1. 0. 3. 2.]\n",
            "[1. 0.]\n",
            "[0. 1.]\n",
            "[1. 0.]\n",
            "[3. 0. 2. 1.]\n",
            "[39. 28. 24. 23. 27. 21. 20. 26. 22. 15. 34. 30. 29. 18. 32. 31. 36. 38.\n",
            " 40. 35. 19. 33. 17. 25. 42. 45.]\n",
            "[0. 1.]\n",
            "[0. 1.]\n",
            "[ 8  6 10  7 11  9  4  5]\n",
            "[ 6  8 10  7 11  4  9  5  3  2  1  0]\n",
            "[0. 2. 1.]\n",
            "[1. 3. 2. 0.]\n",
            "[2. 1. 3. 0.]\n",
            "[0. 2. 1.]\n",
            "[0. 1. 2. 3. 4.]\n",
            "[0. 1.]\n",
            "[0. 1.]\n",
            "[0. 1.]\n"
          ]
        }
      ]
    },
    {
      "cell_type": "code",
      "source": [
        "from sklearn.model_selection import train_test_split\n",
        "\n",
        "X = train.drop(['Diabetic'], axis=1)\n",
        "y = train['Diabetic']\n",
        "X_train, X_test, y_train, y_test = train_test_split(X, y, test_size=0.3)\n",
        "model = LogisticRegression()\n",
        "model.fit(X_train, y_train)\n",
        "answers_pred = model.predict(X_test)"
      ],
      "metadata": {
        "colab": {
          "base_uri": "https://localhost:8080/"
        },
        "id": "evX6BsHw-cHI",
        "outputId": "6e994b6f-9c02-429d-f293-66dfd5d6d793"
      },
      "execution_count": 40,
      "outputs": [
        {
          "output_type": "stream",
          "name": "stderr",
          "text": [
            "/usr/local/lib/python3.8/dist-packages/sklearn/linear_model/_logistic.py:814: ConvergenceWarning: lbfgs failed to converge (status=1):\n",
            "STOP: TOTAL NO. of ITERATIONS REACHED LIMIT.\n",
            "\n",
            "Increase the number of iterations (max_iter) or scale the data as shown in:\n",
            "    https://scikit-learn.org/stable/modules/preprocessing.html\n",
            "Please also refer to the documentation for alternative solver options:\n",
            "    https://scikit-learn.org/stable/modules/linear_model.html#logistic-regression\n",
            "  n_iter_i = _check_optimize_result(\n"
          ]
        }
      ]
    },
    {
      "cell_type": "code",
      "source": [
        "train['Diabetic'].unique()"
      ],
      "metadata": {
        "colab": {
          "base_uri": "https://localhost:8080/"
        },
        "id": "J74AxmJGlNf-",
        "outputId": "adad7866-f4ad-4480-9cbb-8d8b023c45e0"
      },
      "execution_count": 41,
      "outputs": [
        {
          "output_type": "execute_result",
          "data": {
            "text/plain": [
              "array([0., 1.])"
            ]
          },
          "metadata": {},
          "execution_count": 41
        }
      ]
    },
    {
      "cell_type": "code",
      "source": [
        "#Меньше всего влияют BMI, Sleep,Stress и UriationFreq. А больше всего Age, Family_Diabetes, RegularMedicine и Pdiabetes"
      ],
      "metadata": {
        "id": "82kitYhCKkOi"
      },
      "execution_count": 23,
      "outputs": []
    },
    {
      "cell_type": "code",
      "source": [
        "a = model.coef_\n",
        "c = train.columns\n",
        "print('y =', round(model.intercept_[0], 3), end = '')\n",
        "for i in range(17):\n",
        "  print('+(', round(a[0][i], 3), ')*',c[i],sep ='', end =''  )"
      ],
      "metadata": {
        "colab": {
          "base_uri": "https://localhost:8080/"
        },
        "id": "Tti4J70Q_1BD",
        "outputId": "b4058ad6-a3d0-4b6f-a6d3-518b041da02f"
      },
      "execution_count": 42,
      "outputs": [
        {
          "output_type": "stream",
          "name": "stdout",
          "text": [
            "y = -1.179+(-0.397)*Age+(0.587)*Gender+(1.075)*Family_Diabetes+(-0.173)*highBP+(0.429)*PhysicallyActive+(-0.023)*BMI+(0.006)*Smoking+(-0.178)*Alcohol+(-0.156)*Sleep+(0.213)*SoundSleep+(1.493)*RegularMedicine+(-0.034)*JunkFood+(-0.359)*Stress+(-0.848)*BPLevel+(0.405)*Pregancies+(2.813)*Pdiabetes+(0.675)*UriationFreq"
          ]
        }
      ]
    },
    {
      "cell_type": "code",
      "source": [
        "from sklearn.metrics import confusion_matrix, accuracy_score, precision_score, recall_score, f1_score\n",
        "\n",
        "tn, fp, fn, tp = confusion_matrix(y_test, answers_pred).ravel()\n",
        "Accuracy = (tn+tp)/(tp+tn+fp+fn)\n",
        "Recall = (tp)/(tp+fn)\n",
        "Precision = (tp)/(tp+fp)\n",
        "\n",
        "print('Accuracy =', Accuracy)\n",
        "print('Recall =', Recall)\n",
        "print('Precision =', Precision)\n",
        "print('f1 =', 2*Recall*Precision/(Recall+Precision))"
      ],
      "metadata": {
        "colab": {
          "base_uri": "https://localhost:8080/"
        },
        "id": "7ex69AkiLhu-",
        "outputId": "25caa72e-de7b-4304-9a42-1f8ce86b3f59"
      },
      "execution_count": 43,
      "outputs": [
        {
          "output_type": "stream",
          "name": "stdout",
          "text": [
            "Accuracy = 0.8088235294117647\n",
            "Recall = 0.6705882352941176\n",
            "Precision = 0.7037037037037037\n",
            "f1 = 0.6867469879518073\n"
          ]
        }
      ]
    },
    {
      "cell_type": "code",
      "source": [
        "confusion_matrix(y_test, answers_pred)"
      ],
      "metadata": {
        "colab": {
          "base_uri": "https://localhost:8080/"
        },
        "id": "nao4_i2uk2U8",
        "outputId": "a41c41ff-0934-45b3-b245-5453fd4ace59"
      },
      "execution_count": 45,
      "outputs": [
        {
          "output_type": "execute_result",
          "data": {
            "text/plain": [
              "array([[163,  24],\n",
              "       [ 28,  57]])"
            ]
          },
          "metadata": {},
          "execution_count": 45
        }
      ]
    },
    {
      "cell_type": "code",
      "source": [
        "print(accuracy_score(y_test, answers_pred))\n",
        "print(recall_score(y_test, answers_pred))\n",
        "print(precision_score(y_test, answers_pred))\n",
        "print(f1_score(y_test, answers_pred))"
      ],
      "metadata": {
        "colab": {
          "base_uri": "https://localhost:8080/"
        },
        "id": "1K0qwPKwNZc2",
        "outputId": "97079806-f20d-4af5-8c98-56da32eeb327"
      },
      "execution_count": 44,
      "outputs": [
        {
          "output_type": "stream",
          "name": "stdout",
          "text": [
            "0.8088235294117647\n",
            "0.6705882352941176\n",
            "0.7037037037037037\n",
            "0.6867469879518073\n"
          ]
        }
      ]
    }
  ]
}