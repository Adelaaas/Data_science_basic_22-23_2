{
  "nbformat": 4,
  "nbformat_minor": 0,
  "metadata": {
    "colab": {
      "provenance": []
    },
    "kernelspec": {
      "name": "python3",
      "display_name": "Python 3"
    },
    "language_info": {
      "name": "python"
    }
  },
  "cells": [
    {
      "cell_type": "code",
      "execution_count": 54,
      "metadata": {
        "id": "Y-Gkau06CPBQ"
      },
      "outputs": [],
      "source": [
        "import numpy as np\n",
        "import matplotlib.pyplot as plt"
      ]
    },
    {
      "cell_type": "code",
      "source": [
        "pao =np.empty((300,250,3), np.uint8)"
      ],
      "metadata": {
        "id": "FC7QX7NnCUc4"
      },
      "execution_count": 58,
      "outputs": []
    },
    {
      "cell_type": "code",
      "source": [
        "pao[:,:,:] = [204,51,139]\n",
        "pao[60:120,60:120,:] = [0,173,238]\n",
        "pao[55:125,55:60,:] = [255,165,0]\n",
        "pao[55:60,55:125,:] = [255,165,0]\n",
        "pao[120:125,55:125,:] = [255,165,0]\n",
        "pao[55:125,120:125,:] = [255,165,0]"
      ],
      "metadata": {
        "id": "YY1d5ORMDsWO"
      },
      "execution_count": 70,
      "outputs": []
    },
    {
      "cell_type": "code",
      "source": [
        "plt.imshow(pao)"
      ],
      "metadata": {
        "colab": {
          "base_uri": "https://localhost:8080/",
          "height": 447
        },
        "id": "gXJ-QDFLFjj9",
        "outputId": "a4c75aa4-1c28-4be0-f736-9f2888ede92d"
      },
      "execution_count": 79,
      "outputs": [
        {
          "output_type": "execute_result",
          "data": {
            "text/plain": [
              "<matplotlib.image.AxesImage at 0x7fac83e077f0>"
            ]
          },
          "metadata": {},
          "execution_count": 79
        },
        {
          "output_type": "display_data",
          "data": {
            "text/plain": [
              "<Figure size 640x480 with 1 Axes>"
            ],
            "image/png": "[encoded data removed]"
          },
          "metadata": {}
        }
      ]
    },
    {
      "cell_type": "code",
      "source": [
        "pao =np.empty((8,8,3), np.uint8)\n",
        "pao[:,:,:] = [204,51,139]\n",
        "pao[0:8:2, 0:8:2, :] = [127,255, 212]\n",
        "pao[1:8:2, 1:8:2, :] = [127,255, 212]"
      ],
      "metadata": {
        "id": "y7eaMexgMLdm"
      },
      "execution_count": 78,
      "outputs": []
    },
    {
      "cell_type": "code",
      "source": [],
      "metadata": {
        "id": "s1rV9t7POW3B"
      },
      "execution_count": null,
      "outputs": []
    }
  ]
}