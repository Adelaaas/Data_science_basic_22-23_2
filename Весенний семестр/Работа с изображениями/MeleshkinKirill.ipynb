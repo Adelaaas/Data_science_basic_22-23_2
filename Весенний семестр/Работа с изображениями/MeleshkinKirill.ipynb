{
  "nbformat": 4,
  "nbformat_minor": 0,
  "metadata": {
    "colab": {
      "provenance": []
    },
    "kernelspec": {
      "name": "python3",
      "display_name": "Python 3"
    },
    "language_info": {
      "name": "python"
    }
  },
  "cells": [
    {
      "cell_type": "code",
      "execution_count": 1,
      "metadata": {
        "id": "uAHxME20DGwZ"
      },
      "outputs": [],
      "source": [
        "import numpy as np\n",
        "import matplotlib.pyplot as plt"
      ]
    },
    {
      "cell_type": "code",
      "source": [
        "img = np.full([128, 128, 3], 255)\n",
        "img"
      ],
      "metadata": {
        "colab": {
          "base_uri": "https://localhost:8080/"
        },
        "id": "voWlbz-gDj7b",
        "outputId": "ded1e30f-76b4-4070-e36e-542bd8d70103"
      },
      "execution_count": 8,
      "outputs": [
        {
          "output_type": "execute_result",
          "data": {
            "text/plain": [
              "array([[[255, 255, 255],\n",
              "        [255, 255, 255],\n",
              "        [255, 255, 255],\n",
              "        ...,\n",
              "        [255, 255, 255],\n",
              "        [255, 255, 255],\n",
              "        [255, 255, 255]],\n",
              "\n",
              "       [[255, 255, 255],\n",
              "        [255, 255, 255],\n",
              "        [255, 255, 255],\n",
              "        ...,\n",
              "        [255, 255, 255],\n",
              "        [255, 255, 255],\n",
              "        [255, 255, 255]],\n",
              "\n",
              "       [[255, 255, 255],\n",
              "        [255, 255, 255],\n",
              "        [255, 255, 255],\n",
              "        ...,\n",
              "        [255, 255, 255],\n",
              "        [255, 255, 255],\n",
              "        [255, 255, 255]],\n",
              "\n",
              "       ...,\n",
              "\n",
              "       [[255, 255, 255],\n",
              "        [255, 255, 255],\n",
              "        [255, 255, 255],\n",
              "        ...,\n",
              "        [255, 255, 255],\n",
              "        [255, 255, 255],\n",
              "        [255, 255, 255]],\n",
              "\n",
              "       [[255, 255, 255],\n",
              "        [255, 255, 255],\n",
              "        [255, 255, 255],\n",
              "        ...,\n",
              "        [255, 255, 255],\n",
              "        [255, 255, 255],\n",
              "        [255, 255, 255]],\n",
              "\n",
              "       [[255, 255, 255],\n",
              "        [255, 255, 255],\n",
              "        [255, 255, 255],\n",
              "        ...,\n",
              "        [255, 255, 255],\n",
              "        [255, 255, 255],\n",
              "        [255, 255, 255]]])"
            ]
          },
          "metadata": {},
          "execution_count": 8
        }
      ]
    },
    {
      "cell_type": "code",
      "source": [
        "img[0:10,:,:] = [0, 0, 255]\n",
        "img[:, 0:10, :] = [0, 0, 255]\n",
        "\n",
        "img[118:128,:,:] = [0, 0, 255]\n",
        "img[:, 118:128, :] = [0, 0, 255]"
      ],
      "metadata": {
        "id": "4XmRGhzUHcaS"
      },
      "execution_count": 11,
      "outputs": []
    },
    {
      "cell_type": "code",
      "source": [
        "plt.imshow(img)\n",
        "plt.show()"
      ],
      "metadata": {
        "colab": {
          "base_uri": "https://localhost:8080/",
          "height": 434
        },
        "id": "Lx2G22zkIvpX",
        "outputId": "e8a2adb5-8a4c-4ddf-8843-9c179cca0b14"
      },
      "execution_count": 12,
      "outputs": [
        {
          "output_type": "display_data",
          "data": {
            "text/plain": [
              "<Figure size 640x480 with 1 Axes>"
            ],
            "image/png": "[encoded data removed]"
          },
          "metadata": {}
        }
      ]
    },
    {
      "cell_type": "code",
      "source": [
        "im = np.full([8, 8, 3], 255)\n",
        "im"
      ],
      "metadata": {
        "colab": {
          "base_uri": "https://localhost:8080/"
        },
        "id": "I9bBTHmrKUpm",
        "outputId": "279fae48-f8b0-41ca-a1a7-7a25c4634553"
      },
      "execution_count": 17,
      "outputs": [
        {
          "output_type": "execute_result",
          "data": {
            "text/plain": [
              "array([[[255, 255, 255],\n",
              "        [255, 255, 255],\n",
              "        [255, 255, 255],\n",
              "        [255, 255, 255],\n",
              "        [255, 255, 255],\n",
              "        [255, 255, 255],\n",
              "        [255, 255, 255],\n",
              "        [255, 255, 255]],\n",
              "\n",
              "       [[255, 255, 255],\n",
              "        [255, 255, 255],\n",
              "        [255, 255, 255],\n",
              "        [255, 255, 255],\n",
              "        [255, 255, 255],\n",
              "        [255, 255, 255],\n",
              "        [255, 255, 255],\n",
              "        [255, 255, 255]],\n",
              "\n",
              "       [[255, 255, 255],\n",
              "        [255, 255, 255],\n",
              "        [255, 255, 255],\n",
              "        [255, 255, 255],\n",
              "        [255, 255, 255],\n",
              "        [255, 255, 255],\n",
              "        [255, 255, 255],\n",
              "        [255, 255, 255]],\n",
              "\n",
              "       [[255, 255, 255],\n",
              "        [255, 255, 255],\n",
              "        [255, 255, 255],\n",
              "        [255, 255, 255],\n",
              "        [255, 255, 255],\n",
              "        [255, 255, 255],\n",
              "        [255, 255, 255],\n",
              "        [255, 255, 255]],\n",
              "\n",
              "       [[255, 255, 255],\n",
              "        [255, 255, 255],\n",
              "        [255, 255, 255],\n",
              "        [255, 255, 255],\n",
              "        [255, 255, 255],\n",
              "        [255, 255, 255],\n",
              "        [255, 255, 255],\n",
              "        [255, 255, 255]],\n",
              "\n",
              "       [[255, 255, 255],\n",
              "        [255, 255, 255],\n",
              "        [255, 255, 255],\n",
              "        [255, 255, 255],\n",
              "        [255, 255, 255],\n",
              "        [255, 255, 255],\n",
              "        [255, 255, 255],\n",
              "        [255, 255, 255]],\n",
              "\n",
              "       [[255, 255, 255],\n",
              "        [255, 255, 255],\n",
              "        [255, 255, 255],\n",
              "        [255, 255, 255],\n",
              "        [255, 255, 255],\n",
              "        [255, 255, 255],\n",
              "        [255, 255, 255],\n",
              "        [255, 255, 255]],\n",
              "\n",
              "       [[255, 255, 255],\n",
              "        [255, 255, 255],\n",
              "        [255, 255, 255],\n",
              "        [255, 255, 255],\n",
              "        [255, 255, 255],\n",
              "        [255, 255, 255],\n",
              "        [255, 255, 255],\n",
              "        [255, 255, 255]]])"
            ]
          },
          "metadata": {},
          "execution_count": 17
        }
      ]
    },
    {
      "cell_type": "code",
      "source": [
        "im[0::2,0::2,:] = 0, 0, 255\n",
        "im[1::2,1::2,:] = 0, 0, 255"
      ],
      "metadata": {
        "id": "RYEwJPHfKkBV"
      },
      "execution_count": 18,
      "outputs": []
    },
    {
      "cell_type": "code",
      "source": [
        "im"
      ],
      "metadata": {
        "colab": {
          "base_uri": "https://localhost:8080/"
        },
        "id": "LLLyOSZklSat",
        "outputId": "0c2a7e6f-d70b-49f2-863b-b56f9f9d5e06"
      },
      "execution_count": 19,
      "outputs": [
        {
          "output_type": "execute_result",
          "data": {
            "text/plain": [
              "array([[[  0,   0, 255],\n",
              "        [255, 255, 255],\n",
              "        [  0,   0, 255],\n",
              "        [255, 255, 255],\n",
              "        [  0,   0, 255],\n",
              "        [255, 255, 255],\n",
              "        [  0,   0, 255],\n",
              "        [255, 255, 255]],\n",
              "\n",
              "       [[255, 255, 255],\n",
              "        [  0,   0, 255],\n",
              "        [255, 255, 255],\n",
              "        [  0,   0, 255],\n",
              "        [255, 255, 255],\n",
              "        [  0,   0, 255],\n",
              "        [255, 255, 255],\n",
              "        [  0,   0, 255]],\n",
              "\n",
              "       [[  0,   0, 255],\n",
              "        [255, 255, 255],\n",
              "        [  0,   0, 255],\n",
              "        [255, 255, 255],\n",
              "        [  0,   0, 255],\n",
              "        [255, 255, 255],\n",
              "        [  0,   0, 255],\n",
              "        [255, 255, 255]],\n",
              "\n",
              "       [[255, 255, 255],\n",
              "        [  0,   0, 255],\n",
              "        [255, 255, 255],\n",
              "        [  0,   0, 255],\n",
              "        [255, 255, 255],\n",
              "        [  0,   0, 255],\n",
              "        [255, 255, 255],\n",
              "        [  0,   0, 255]],\n",
              "\n",
              "       [[  0,   0, 255],\n",
              "        [255, 255, 255],\n",
              "        [  0,   0, 255],\n",
              "        [255, 255, 255],\n",
              "        [  0,   0, 255],\n",
              "        [255, 255, 255],\n",
              "        [  0,   0, 255],\n",
              "        [255, 255, 255]],\n",
              "\n",
              "       [[255, 255, 255],\n",
              "        [  0,   0, 255],\n",
              "        [255, 255, 255],\n",
              "        [  0,   0, 255],\n",
              "        [255, 255, 255],\n",
              "        [  0,   0, 255],\n",
              "        [255, 255, 255],\n",
              "        [  0,   0, 255]],\n",
              "\n",
              "       [[  0,   0, 255],\n",
              "        [255, 255, 255],\n",
              "        [  0,   0, 255],\n",
              "        [255, 255, 255],\n",
              "        [  0,   0, 255],\n",
              "        [255, 255, 255],\n",
              "        [  0,   0, 255],\n",
              "        [255, 255, 255]],\n",
              "\n",
              "       [[255, 255, 255],\n",
              "        [  0,   0, 255],\n",
              "        [255, 255, 255],\n",
              "        [  0,   0, 255],\n",
              "        [255, 255, 255],\n",
              "        [  0,   0, 255],\n",
              "        [255, 255, 255],\n",
              "        [  0,   0, 255]]])"
            ]
          },
          "metadata": {},
          "execution_count": 19
        }
      ]
    },
    {
      "cell_type": "code",
      "source": [
        "plt.imshow(im)\n",
        "plt.show()"
      ],
      "metadata": {
        "colab": {
          "base_uri": "https://localhost:8080/",
          "height": 430
        },
        "id": "LRtU7CV_OTKf",
        "outputId": "3d0b794f-fe62-4c58-ac03-1037d557407b"
      },
      "execution_count": 20,
      "outputs": [
        {
          "output_type": "display_data",
          "data": {
            "text/plain": [
              "<Figure size 640x480 with 1 Axes>"
            ],
            "image/png": "[encoded data removed]"
          },
          "metadata": {}
        }
      ]
    }
  ]
}