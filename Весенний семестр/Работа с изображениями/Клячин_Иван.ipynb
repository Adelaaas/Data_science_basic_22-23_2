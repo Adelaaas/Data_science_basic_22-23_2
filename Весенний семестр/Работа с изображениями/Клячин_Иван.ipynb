{
  "nbformat": 4,
  "nbformat_minor": 0,
  "metadata": {
    "colab": {
      "provenance": []
    },
    "kernelspec": {
      "name": "python3",
      "display_name": "Python 3"
    },
    "language_info": {
      "name": "python"
    }
  },
  "cells": [
    {
      "cell_type": "code",
      "execution_count": 1,
      "metadata": {
        "id": "uAHxME20DGwZ"
      },
      "outputs": [],
      "source": [
        "import numpy as np\n",
        "import matplotlib.pyplot as plt"
      ]
    },
    {
      "cell_type": "code",
      "source": [
        "img = np.full([128, 128, 3], 1)\n",
        "img"
      ],
      "metadata": {
        "colab": {
          "base_uri": "https://localhost:8080/"
        },
        "id": "voWlbz-gDj7b",
        "outputId": "6a86db0c-6118-43e9-a158-79cf97d0c214"
      },
      "execution_count": 2,
      "outputs": [
        {
          "output_type": "execute_result",
          "data": {
            "text/plain": [
              "array([[[1, 1, 1],\n",
              "        [1, 1, 1],\n",
              "        [1, 1, 1],\n",
              "        ...,\n",
              "        [1, 1, 1],\n",
              "        [1, 1, 1],\n",
              "        [1, 1, 1]],\n",
              "\n",
              "       [[1, 1, 1],\n",
              "        [1, 1, 1],\n",
              "        [1, 1, 1],\n",
              "        ...,\n",
              "        [1, 1, 1],\n",
              "        [1, 1, 1],\n",
              "        [1, 1, 1]],\n",
              "\n",
              "       [[1, 1, 1],\n",
              "        [1, 1, 1],\n",
              "        [1, 1, 1],\n",
              "        ...,\n",
              "        [1, 1, 1],\n",
              "        [1, 1, 1],\n",
              "        [1, 1, 1]],\n",
              "\n",
              "       ...,\n",
              "\n",
              "       [[1, 1, 1],\n",
              "        [1, 1, 1],\n",
              "        [1, 1, 1],\n",
              "        ...,\n",
              "        [1, 1, 1],\n",
              "        [1, 1, 1],\n",
              "        [1, 1, 1]],\n",
              "\n",
              "       [[1, 1, 1],\n",
              "        [1, 1, 1],\n",
              "        [1, 1, 1],\n",
              "        ...,\n",
              "        [1, 1, 1],\n",
              "        [1, 1, 1],\n",
              "        [1, 1, 1]],\n",
              "\n",
              "       [[1, 1, 1],\n",
              "        [1, 1, 1],\n",
              "        [1, 1, 1],\n",
              "        ...,\n",
              "        [1, 1, 1],\n",
              "        [1, 1, 1],\n",
              "        [1, 1, 1]]])"
            ]
          },
          "metadata": {},
          "execution_count": 2
        }
      ]
    },
    {
      "cell_type": "code",
      "source": [
        "img[0:10,:,:] = [255, 0, 255]\n",
        "img[:, 0:10, :] = [255, 0, 255]\n",
        "\n",
        "img[118:128,:,:] = [255, 0, 255]\n",
        "img[:, 118:128, :] = [255, 0, 255]"
      ],
      "metadata": {
        "id": "4XmRGhzUHcaS"
      },
      "execution_count": 3,
      "outputs": []
    },
    {
      "cell_type": "code",
      "source": [
        "plt.imshow(img)\n",
        "plt.show()"
      ],
      "metadata": {
        "colab": {
          "base_uri": "https://localhost:8080/",
          "height": 434
        },
        "id": "Lx2G22zkIvpX",
        "outputId": "21812920-051e-4ce8-f780-8683afa09885"
      },
      "execution_count": 4,
      "outputs": [
        {
          "output_type": "display_data",
          "data": {
            "text/plain": [
              "<Figure size 640x480 with 1 Axes>"
            ],
            "image/png": "[encoded data removed]"
          },
          "metadata": {}
        }
      ]
    },
    {
      "cell_type": "code",
      "source": [
        "im = np.zeros((8,8,3))\n",
        "im"
      ],
      "metadata": {
        "colab": {
          "base_uri": "https://localhost:8080/"
        },
        "id": "I9bBTHmrKUpm",
        "outputId": "a75d4563-2c21-478f-9913-3b235cea10da"
      },
      "execution_count": 72,
      "outputs": [
        {
          "output_type": "execute_result",
          "data": {
            "text/plain": [
              "array([[[0., 0., 0.],\n",
              "        [0., 0., 0.],\n",
              "        [0., 0., 0.],\n",
              "        [0., 0., 0.],\n",
              "        [0., 0., 0.],\n",
              "        [0., 0., 0.],\n",
              "        [0., 0., 0.],\n",
              "        [0., 0., 0.]],\n",
              "\n",
              "       [[0., 0., 0.],\n",
              "        [0., 0., 0.],\n",
              "        [0., 0., 0.],\n",
              "        [0., 0., 0.],\n",
              "        [0., 0., 0.],\n",
              "        [0., 0., 0.],\n",
              "        [0., 0., 0.],\n",
              "        [0., 0., 0.]],\n",
              "\n",
              "       [[0., 0., 0.],\n",
              "        [0., 0., 0.],\n",
              "        [0., 0., 0.],\n",
              "        [0., 0., 0.],\n",
              "        [0., 0., 0.],\n",
              "        [0., 0., 0.],\n",
              "        [0., 0., 0.],\n",
              "        [0., 0., 0.]],\n",
              "\n",
              "       [[0., 0., 0.],\n",
              "        [0., 0., 0.],\n",
              "        [0., 0., 0.],\n",
              "        [0., 0., 0.],\n",
              "        [0., 0., 0.],\n",
              "        [0., 0., 0.],\n",
              "        [0., 0., 0.],\n",
              "        [0., 0., 0.]],\n",
              "\n",
              "       [[0., 0., 0.],\n",
              "        [0., 0., 0.],\n",
              "        [0., 0., 0.],\n",
              "        [0., 0., 0.],\n",
              "        [0., 0., 0.],\n",
              "        [0., 0., 0.],\n",
              "        [0., 0., 0.],\n",
              "        [0., 0., 0.]],\n",
              "\n",
              "       [[0., 0., 0.],\n",
              "        [0., 0., 0.],\n",
              "        [0., 0., 0.],\n",
              "        [0., 0., 0.],\n",
              "        [0., 0., 0.],\n",
              "        [0., 0., 0.],\n",
              "        [0., 0., 0.],\n",
              "        [0., 0., 0.]],\n",
              "\n",
              "       [[0., 0., 0.],\n",
              "        [0., 0., 0.],\n",
              "        [0., 0., 0.],\n",
              "        [0., 0., 0.],\n",
              "        [0., 0., 0.],\n",
              "        [0., 0., 0.],\n",
              "        [0., 0., 0.],\n",
              "        [0., 0., 0.]],\n",
              "\n",
              "       [[0., 0., 0.],\n",
              "        [0., 0., 0.],\n",
              "        [0., 0., 0.],\n",
              "        [0., 0., 0.],\n",
              "        [0., 0., 0.],\n",
              "        [0., 0., 0.],\n",
              "        [0., 0., 0.],\n",
              "        [0., 0., 0.]]])"
            ]
          },
          "metadata": {},
          "execution_count": 72
        }
      ]
    },
    {
      "cell_type": "code",
      "source": [
        "im[0::2,0::2,:] = 255, 0, 255\n",
        "im[1::2,1::2,:] = 255, 0, 255"
      ],
      "metadata": {
        "id": "RYEwJPHfKkBV"
      },
      "execution_count": 73,
      "outputs": []
    },
    {
      "cell_type": "code",
      "source": [
        "im"
      ],
      "metadata": {
        "colab": {
          "base_uri": "https://localhost:8080/"
        },
        "id": "LLLyOSZklSat",
        "outputId": "36a21fe4-c939-4735-9924-3f096222f9af"
      },
      "execution_count": 74,
      "outputs": [
        {
          "output_type": "execute_result",
          "data": {
            "text/plain": [
              "array([[[255.,   0., 255.],\n",
              "        [  0.,   0.,   0.],\n",
              "        [255.,   0., 255.],\n",
              "        [  0.,   0.,   0.],\n",
              "        [255.,   0., 255.],\n",
              "        [  0.,   0.,   0.],\n",
              "        [255.,   0., 255.],\n",
              "        [  0.,   0.,   0.]],\n",
              "\n",
              "       [[  0.,   0.,   0.],\n",
              "        [255.,   0., 255.],\n",
              "        [  0.,   0.,   0.],\n",
              "        [255.,   0., 255.],\n",
              "        [  0.,   0.,   0.],\n",
              "        [255.,   0., 255.],\n",
              "        [  0.,   0.,   0.],\n",
              "        [255.,   0., 255.]],\n",
              "\n",
              "       [[255.,   0., 255.],\n",
              "        [  0.,   0.,   0.],\n",
              "        [255.,   0., 255.],\n",
              "        [  0.,   0.,   0.],\n",
              "        [255.,   0., 255.],\n",
              "        [  0.,   0.,   0.],\n",
              "        [255.,   0., 255.],\n",
              "        [  0.,   0.,   0.]],\n",
              "\n",
              "       [[  0.,   0.,   0.],\n",
              "        [255.,   0., 255.],\n",
              "        [  0.,   0.,   0.],\n",
              "        [255.,   0., 255.],\n",
              "        [  0.,   0.,   0.],\n",
              "        [255.,   0., 255.],\n",
              "        [  0.,   0.,   0.],\n",
              "        [255.,   0., 255.]],\n",
              "\n",
              "       [[255.,   0., 255.],\n",
              "        [  0.,   0.,   0.],\n",
              "        [255.,   0., 255.],\n",
              "        [  0.,   0.,   0.],\n",
              "        [255.,   0., 255.],\n",
              "        [  0.,   0.,   0.],\n",
              "        [255.,   0., 255.],\n",
              "        [  0.,   0.,   0.]],\n",
              "\n",
              "       [[  0.,   0.,   0.],\n",
              "        [255.,   0., 255.],\n",
              "        [  0.,   0.,   0.],\n",
              "        [255.,   0., 255.],\n",
              "        [  0.,   0.,   0.],\n",
              "        [255.,   0., 255.],\n",
              "        [  0.,   0.,   0.],\n",
              "        [255.,   0., 255.]],\n",
              "\n",
              "       [[255.,   0., 255.],\n",
              "        [  0.,   0.,   0.],\n",
              "        [255.,   0., 255.],\n",
              "        [  0.,   0.,   0.],\n",
              "        [255.,   0., 255.],\n",
              "        [  0.,   0.,   0.],\n",
              "        [255.,   0., 255.],\n",
              "        [  0.,   0.,   0.]],\n",
              "\n",
              "       [[  0.,   0.,   0.],\n",
              "        [255.,   0., 255.],\n",
              "        [  0.,   0.,   0.],\n",
              "        [255.,   0., 255.],\n",
              "        [  0.,   0.,   0.],\n",
              "        [255.,   0., 255.],\n",
              "        [  0.,   0.,   0.],\n",
              "        [255.,   0., 255.]]])"
            ]
          },
          "metadata": {},
          "execution_count": 74
        }
      ]
    },
    {
      "cell_type": "code",
      "source": [
        "plt.imshow(im)\n",
        "plt.show()"
      ],
      "metadata": {
        "colab": {
          "base_uri": "https://localhost:8080/",
          "height": 448
        },
        "id": "LRtU7CV_OTKf",
        "outputId": "6bd84dce-6417-4e0b-fe46-b18e5595950b"
      },
      "execution_count": 75,
      "outputs": [
        {
          "output_type": "stream",
          "name": "stderr",
          "text": [
            "WARNING:matplotlib.image:Clipping input data to the valid range for imshow with RGB data ([0..1] for floats or [0..255] for integers).\n"
          ]
        },
        {
          "output_type": "display_data",
          "data": {
            "text/plain": [
              "<Figure size 640x480 with 1 Axes>"
            ],
            "image/png": "[encoded data removed]"
          },
          "metadata": {}
        }
      ]
    }
  ]
}