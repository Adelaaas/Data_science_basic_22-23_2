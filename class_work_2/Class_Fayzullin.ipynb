{
  "nbformat": 4,
  "nbformat_minor": 0,
  "metadata": {
    "colab": {
      "provenance": []
    },
    "kernelspec": {
      "name": "python3",
      "display_name": "Python 3"
    },
    "language_info": {
      "name": "python"
    }
  },
  "cells": [
    {
      "cell_type": "code",
      "execution_count": null,
      "metadata": {
        "id": "1XpUEFDIpxb0"
      },
      "outputs": [],
      "source": [
        "def distance(x1,x2,y1,y2):\n",
        "    return ((x1-x2)**2+(y1-y2)**2)**0.5\n",
        "\n",
        "\n",
        "\n",
        "x1 = int(input())\n",
        "y1 = int(input())\n",
        "x2 = int(input())\n",
        "y2 = int(input())\n",
        "print(distance(x1,x2,y1,y2))\n"
      ]
    }
  ]
}