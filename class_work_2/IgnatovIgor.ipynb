{
  "nbformat": 4,
  "nbformat_minor": 0,
  "metadata": {
    "colab": {
      "provenance": []
    },
    "kernelspec": {
      "name": "python3",
      "display_name": "Python 3"
    },
    "language_info": {
      "name": "python"
    }
  },
  "cells": [
    {
      "cell_type": "code",
      "execution_count": 1,
      "metadata": {
        "colab": {
          "base_uri": "https://localhost:8080/"
        },
        "id": "Pa12BlXrrW0s",
        "outputId": "047ae121-522e-4b41-848c-ba9a71ec57e7"
      },
      "outputs": [
        {
          "output_type": "stream",
          "name": "stdout",
          "text": [
            "28\n",
            "98\n",
            "168\n",
            "238\n",
            "308\n",
            "378\n",
            "448\n"
          ]
        }
      ],
      "source": [
        "for i in range(0,501):\n",
        "  if i%7==0:\n",
        "    if i%10==8 or i%100==8 or i%1000==8:\n",
        "      print(i)"
      ]
    }
  ]
}