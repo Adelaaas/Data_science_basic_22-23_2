{
  "nbformat": 4,
  "nbformat_minor": 0,
  "metadata": {
    "colab": {
      "provenance": []
    },
    "kernelspec": {
      "name": "python3",
      "display_name": "Python 3"
    },
    "language_info": {
      "name": "python"
    }
  },
  "cells": [
    {
      "cell_type": "code",
      "execution_count": 38,
      "metadata": {
        "colab": {
          "base_uri": "https://localhost:8080/"
        },
        "id": "tup6l0tJq4lK",
        "outputId": "d71e08b5-2958-45f4-f852-0d7ee9f2630c"
      },
      "outputs": [
        {
          "name": "stdout",
          "output_type": "stream",
          "text": [
            "12\n"
          ]
        },
        {
          "output_type": "execute_result",
          "data": {
            "text/plain": [
              "False"
            ]
          },
          "metadata": {},
          "execution_count": 38
        }
      ],
      "source": [
        "def is_prime(a):\n",
        "  if a <= 3:\n",
        "    return True\n",
        "  for i in range(2, a):\n",
        "    if a % i == 0:\n",
        "      return False\n",
        "  return True\n",
        "  \n",
        "f = int(input())\n",
        "is_prime(f)"
      ]
    }
  ]
}