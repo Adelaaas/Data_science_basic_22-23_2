{
  "nbformat": 4,
  "nbformat_minor": 0,
  "metadata": {
    "colab": {
      "provenance": []
    },
    "kernelspec": {
      "name": "python3",
      "display_name": "Python 3"
    },
    "language_info": {
      "name": "python"
    }
  },
  "cells": [
    {
      "cell_type": "markdown",
      "source": [
        "задание 8"
      ],
      "metadata": {
        "id": "OesOL1IoujbX"
      }
    },
    {
      "cell_type": "code",
      "source": [
        "a=list(map(int,input().split()))\n",
        "def more_than_five(lst):\n",
        "    c=[]\n",
        "    for i in range(0,len(lst)):\n",
        "        if abs(lst[i]) > 10:\n",
        "            c.append(lst[i])\n",
        "    return(c)\n",
        "print(more_than_five(a))"
      ],
      "metadata": {
        "colab": {
          "base_uri": "https://localhost:8080/"
        },
        "id": "FXGvSZiWulQw",
        "outputId": "5ae56124-b68c-44f8-d874-c5c7d0ac86e2"
      },
      "execution_count": 6,
      "outputs": [
        {
          "output_type": "stream",
          "name": "stdout",
          "text": [
            "16 -11 -9 11 10 4 6 17 82\n",
            "[16, -11, 11, 17, 82]\n"
          ]
        }
      ]
    }
  ]
}