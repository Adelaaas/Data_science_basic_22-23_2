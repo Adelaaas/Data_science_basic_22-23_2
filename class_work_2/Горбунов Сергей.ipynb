{
 "cells": [
  {
   "cell_type": "code",
   "execution_count": 11,
   "id": "2eced593",
   "metadata": {},
   "outputs": [
    {
     "name": "stdout",
     "output_type": "stream",
     "text": [
      "48\n",
      "False\n"
     ]
    }
   ],
   "source": [
    "import random \n",
    "from random import randint\n",
    "def is_prime(a):\n",
    "    i=1\n",
    "    h=0\n",
    "    while(i<a):\n",
    "        i=i+1\n",
    "        if(a%i==0):\n",
    "            h=1\n",
    "    if(h==0):\n",
    "        return True\n",
    "    else:\n",
    "        return False\n",
    "    \n",
    "v=randint(0,1000)\n",
    "print(v)\n",
    "print(is_prime(v))"
   ]
  },
  {
   "cell_type": "code",
   "execution_count": null,
   "id": "b83df5d2",
   "metadata": {},
   "outputs": [],
   "source": []
  },
  {
   "cell_type": "code",
   "execution_count": null,
   "id": "efa29b8a",
   "metadata": {},
   "outputs": [],
   "source": []
  }
 ],
 "metadata": {
  "kernelspec": {
   "display_name": "Python 3 (ipykernel)",
   "language": "python",
   "name": "python3"
  },
  "language_info": {
   "codemirror_mode": {
    "name": "ipython",
    "version": 3
   },
   "file_extension": ".py",
   "mimetype": "text/x-python",
   "name": "python",
   "nbconvert_exporter": "python",
   "pygments_lexer": "ipython3",
   "version": "3.10.6"
  }
 },
 "nbformat": 4,
 "nbformat_minor": 5
}
