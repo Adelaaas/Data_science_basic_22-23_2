{
  "nbformat": 4,
  "nbformat_minor": 0,
  "metadata": {
    "colab": {
      "provenance": []
    },
    "kernelspec": {
      "name": "python3",
      "display_name": "Python 3"
    },
    "language_info": {
      "name": "python"
    }
  },
  "cells": [
    {
      "cell_type": "code",
      "execution_count": null,
      "metadata": {
        "colab": {
          "base_uri": "https://localhost:8080/"
        },
        "id": "pr-omcHZrEeH",
        "outputId": "9d946c98-5155-4bd8-96ff-92ee8cbd2a42"
      },
      "outputs": [
        {
          "name": "stdout",
          "output_type": "stream",
          "text": [
            "0 \n",
            "0\n",
            "3\n"
          ]
        }
      ],
      "source": [
        "x1 = int(input())\n",
        "y1 = int(input())\n",
        "x2 = int(input())\n",
        "y2 = int(input())\n",
        "def distance(x1,y1,x2,y2):\n",
        "  s=((x1-x2)**2+(y1-y2)**2)**0.5\n",
        "  return s\n",
        "print(distance(x1,y1,x2,y2))"
      ]
    }
  ]
}