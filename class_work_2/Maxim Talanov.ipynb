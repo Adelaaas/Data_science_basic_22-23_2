{
  "nbformat": 4,
  "nbformat_minor": 0,
  "metadata": {
    "colab": {
      "provenance": [],
      "collapsed_sections": []
    },
    "kernelspec": {
      "name": "python3",
      "display_name": "Python 3"
    },
    "language_info": {
      "name": "python"
    }
  },
  "cells": [
    {
      "cell_type": "markdown",
      "source": [
        "**Задача 8.**\n",
        "\n",
        "На вход функция more_than_five(lst) получает список из целых чисел. Результатом работы функции должен стать новый список, в котором содержатся только те числа, которые больше 10 по модулю."
      ],
      "metadata": {
        "id": "U3R2Eb76oscX"
      }
    },
    {
      "cell_type": "markdown",
      "source": [
        "Решение:"
      ],
      "metadata": {
        "id": "-YOR1L3JoviK"
      }
    },
    {
      "cell_type": "code",
      "source": [
        "lst = [1, 34, 45, 8 ,65, 10, 56, 1]\n",
        "def more_than_five(lst):\n",
        "    new = []\n",
        "    for i in lst:\n",
        "      if i > 10 or i < -10:\n",
        "        new.append(i)\n",
        "    return new\n",
        "\n",
        "more_than_five(lst)"
      ],
      "metadata": {
        "colab": {
          "base_uri": "https://localhost:8080/"
        },
        "id": "_G8B0NuaoyJZ",
        "outputId": "d9ddc5e0-2714-45ba-8e87-a104f4b9895f"
      },
      "execution_count": 10,
      "outputs": [
        {
          "output_type": "execute_result",
          "data": {
            "text/plain": [
              "[34, 45, 65, 56]"
            ]
          },
          "metadata": {},
          "execution_count": 10
        }
      ]
    }
  ]
}