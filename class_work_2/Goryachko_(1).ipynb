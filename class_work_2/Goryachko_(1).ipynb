{
  "nbformat": 4,
  "nbformat_minor": 0,
  "metadata": {
    "colab": {
      "provenance": [],
      "collapsed_sections": []
    },
    "kernelspec": {
      "name": "python3",
      "display_name": "Python 3"
    },
    "language_info": {
      "name": "python"
    }
  },
  "cells": [
    {
      "cell_type": "markdown",
      "source": [
        "# Вариант 1"
      ],
      "metadata": {
        "id": "ByFo_YXdjBHH"
      }
    },
    {
      "cell_type": "code",
      "source": [],
      "metadata": {
        "id": "rg8UqulfhEkm"
      },
      "execution_count": null,
      "outputs": []
    },
    {
      "cell_type": "markdown",
      "source": [
        "***Кто делает***:\n",
        "\n",
        "1. Александров Данила Александрович\n",
        "2. Быков Дмитрий Александрович \n",
        "3. Горбунов Сергей Михайлович \n",
        "4. Горячко Дарья Романовна \n",
        "5. Громов Алексей Игоревич\n",
        "6. Ивлиев Степан Дмитриевич"
      ],
      "metadata": {
        "id": "VrkGK2Ykjtwr"
      }
    },
    {
      "cell_type": "markdown",
      "source": [
        "**Задача 1**\n",
        "\n",
        "Даны списки:\n",
        "\n",
        "a = [1, 1, 2, 3, 5, 8, 13, 21, 34, 55, 89];\n",
        "\n",
        "b = [1, 2, 3, 4, 5, 6, 7, 8, 9, 10, 11, 12, 13].\n",
        "\n",
        "Нужно вернуть список, который состоит из элементов, общих для этих двух списков."
      ],
      "metadata": {
        "id": "FiZBX1FXjCg5"
      }
    },
    {
      "cell_type": "code",
      "source": [
        "a=[1,1,2,3,5,8,13,21,34,55,89]\n",
        "b=[1,2,3,4,5,6,7,8,9,10,11,12,13]\n",
        "c=[]\n",
        "for i in a:\n",
        "  if i in c:\n",
        "    continue\n",
        "    for j in b:\n",
        "      if i==j:\n",
        "        c.append(i)\n",
        "        break\n",
        "print(c)"
      ],
      "metadata": {
        "id": "CfFRprI5jojk"
      },
      "execution_count": null,
      "outputs": []
    },
    {
      "cell_type": "markdown",
      "source": [
        "**Задача 2.**\n",
        "\n",
        "Найдите три ключа с самыми высокими значениями в словаре my_dict = {'a':500, 'b':5874, 'c': 560,'d':400, 'e':5874, 'f': 20, 'g':-10}."
      ],
      "metadata": {
        "id": "MftgngptjsV1"
      }
    },
    {
      "cell_type": "code",
      "source": [
        "my_dict={'a':500,'b':5874,'c':560,'d':400,'e':5874,'f':20,\"g\":-10}\n",
        "r=sorted(my_dict,key=my_dict.get,reverse=True)[:3]\n",
        "print(r)"
      ],
      "metadata": {
        "id": "fjTF5rF-kFQT",
        "colab": {
          "base_uri": "https://localhost:8080/"
        },
        "outputId": "87635657-bf12-4baf-c36e-68b5ee45baf9"
      },
      "execution_count": null,
      "outputs": [
        {
          "output_type": "stream",
          "name": "stdout",
          "text": [
            "['b', 'e', 'c']\n"
          ]
        }
      ]
    },
    {
      "cell_type": "markdown",
      "source": [
        "**Задача 3.**\n",
        "\n",
        "Пользователь вводит строку с клавиатуры и некоторое слово. Посчитайте, сколько раз данное слово встречается в строке."
      ],
      "metadata": {
        "id": "tsfpJ2fUkKF5"
      }
    },
    {
      "cell_type": "code",
      "source": [],
      "metadata": {
        "id": "qlIkWw-ak1R0"
      },
      "execution_count": null,
      "outputs": []
    },
    {
      "cell_type": "markdown",
      "source": [
        "**Задача 4.**\n",
        "\n",
        "На входе программа получает список целых чисел s. Ваша задача - вывести следующие списки по одному в строке, используя генераторы списков:\n",
        "\n",
        "*   Список, состоящий из квадратов s.\n",
        "*   Список, состоящий из остатков деления на 11 элементов s.\n",
        "*   Список, состоящий только из чётных элементов s.\n",
        "*   Список, состоящий только из элементов s с нечётным количеством цифр.\n",
        "*   Список, состоящий только из двухзначных элементов s, записанных 2 раза подряд.\n",
        "*   Список, состоящий из элементов s, стоящих на позициях, не кратных 3."
      ],
      "metadata": {
        "id": "qGxHiw12k1nl"
      }
    },
    {
      "cell_type": "code",
      "source": [
        "mass =list(map(int,input().split()))\n",
        "[print(i*i,end='')for i in mass]\n",
        "[print(i%11,end='')for i in mass]\n",
        "[print(i,end='')if i%2==0 else ''for i in mass]\n"
      ],
      "metadata": {
        "id": "2eXQ9J9Tfim2",
        "colab": {
          "base_uri": "https://localhost:8080/"
        },
        "outputId": "6259cfcd-2f65-4b62-c975-99a632f91408"
      },
      "execution_count": 3,
      "outputs": [
        {
          "output_type": "stream",
          "name": "stdout",
          "text": [
            "1 2 3 4 12 12\n",
            "14916144144123411241212"
          ]
        },
        {
          "output_type": "execute_result",
          "data": {
            "text/plain": [
              "['', None, '', None, None, None]"
            ]
          },
          "metadata": {},
          "execution_count": 3
        }
      ]
    },
    {
      "cell_type": "markdown",
      "source": [
        "# Вариант 2"
      ],
      "metadata": {
        "id": "qpl5XkfSlYyn"
      }
    },
    {
      "cell_type": "markdown",
      "source": [],
      "metadata": {
        "id": "kqgygIZyfgUa"
      }
    },
    {
      "cell_type": "markdown",
      "source": [
        "***Кто делает***:\n",
        "\n",
        "1. Игнатов Игорь Дмитриевич\n",
        "2. Игнатов Константин Дмитриевич\n",
        "3. Казанов Амир Ринатович\n",
        "4. Клячин Иван Николаевич\n",
        "5. Котов Александр Андреевич\n",
        "6. Мелешкин Кирилл Андреевич"
      ],
      "metadata": {
        "id": "L5MIq7J3lcz3"
      }
    },
    {
      "cell_type": "markdown",
      "source": [
        "**Задача 1.**\n",
        "\n",
        "Напишите программу, которая принимает два списка и выводит все элементы первого, которых нет во втором."
      ],
      "metadata": {
        "id": "suxuOHmSli09"
      }
    },
    {
      "cell_type": "code",
      "source": [
        "# Ваше решение"
      ],
      "metadata": {
        "id": "Fx0y6uvQlqZO"
      },
      "execution_count": null,
      "outputs": []
    },
    {
      "cell_type": "markdown",
      "source": [
        "**Задача 2.**\n",
        "\n",
        "Вам дан список, переставьте соседние элементы местами."
      ],
      "metadata": {
        "id": "QSWi4FNvlpPK"
      }
    },
    {
      "cell_type": "code",
      "source": [
        "lst= ['a', 4, 'hello', (1,5), 10, 'b']\n",
        "# Ваше решение"
      ],
      "metadata": {
        "id": "vrr5JJkVoEcr"
      },
      "execution_count": null,
      "outputs": []
    },
    {
      "cell_type": "markdown",
      "source": [
        "**Задача 3.**\n",
        "\n",
        "С клавиатуры вводится слово. Напишите проверку на то, является ли строка палиндромом. Палиндром — это слово или фраза, которые одинаково читаются слева направо и справа налево."
      ],
      "metadata": {
        "id": "7VpdDp3EoIju"
      }
    },
    {
      "cell_type": "code",
      "source": [
        "# Ваше решение"
      ],
      "metadata": {
        "id": "TLBqPcawoK1R"
      },
      "execution_count": null,
      "outputs": []
    },
    {
      "cell_type": "markdown",
      "source": [
        "**Задача 4.**\n",
        "\n",
        "На входе программа получает список целых чисел n. Ваша задача - вывести следующие списки по одному в строке, используя генераторы списков:\n",
        "\n",
        "*   Список, состоящий из квадрытных корней элементов списка n.\n",
        "*   Список, состоящий из целый части от деления на 4 элементов n.\n",
        "*   Список, состоящий только из нечётных элементов n.\n",
        "*   Список, состоящий из чисел, которые если больше 0, то умножаются на 2, если меньше 0, то делятся на 2.\n",
        "*   Список, состоящий из выражений [n[i], n[i]_next], где n[i] - элемент списка n, n[i]_next - следующее значение этого элемента (например, [1,2], [4,5], [0,1].\n",
        "*   Список, состоящий из элементов s, стоящих на позициях, кратных 5."
      ],
      "metadata": {
        "id": "jz5JsJ_El6NO"
      }
    },
    {
      "cell_type": "code",
      "source": [
        "# Ваше решение"
      ],
      "metadata": {
        "id": "7PP4mpcgoG2u"
      },
      "execution_count": null,
      "outputs": []
    },
    {
      "cell_type": "markdown",
      "source": [
        "# Вариант 3"
      ],
      "metadata": {
        "id": "Ycu4hFCRpAWI"
      }
    },
    {
      "cell_type": "markdown",
      "source": [
        "***Кто делает***:\n",
        "\n",
        "1. Таланов Максим Андреевич\n",
        "2. Файзуллин Илья Денисович\n",
        "3. Чупрова Ася Александровна\n",
        "4. Ямпольская Ирина Вадимовна"
      ],
      "metadata": {
        "id": "fHJxyAAhpE0x"
      }
    },
    {
      "cell_type": "markdown",
      "source": [
        "**Задача 1.**\n",
        "\n",
        "Задана последовательность чисел. Сдвиньте все нули в конец последовательности, сохранив относительный порядок ненулевых элементов.\n",
        "\n",
        "Например:\n",
        "\n",
        "Ввод:\n",
        "\n",
        "`3 0 5 0 0 -4`\n",
        "\n",
        "Вывод:\n",
        "\n",
        "`3 5 -4 0 0 0`\n"
      ],
      "metadata": {
        "id": "RxleHpr0pJzJ"
      }
    },
    {
      "cell_type": "code",
      "source": [
        "# Ваше решение"
      ],
      "metadata": {
        "id": "a2PUa66CpmCU"
      },
      "execution_count": null,
      "outputs": []
    },
    {
      "cell_type": "markdown",
      "source": [
        "**Задача 2.**\n",
        "\n",
        "С клавиатуры вводится строка. Напишите программу, которая формирует словарь, где ключ - это слово, значение - сколько раз это слово встречается в строке."
      ],
      "metadata": {
        "id": "t8r41njjpno-"
      }
    },
    {
      "cell_type": "code",
      "source": [
        "# Ваше решение"
      ],
      "metadata": {
        "id": "dJ_sTzqvqMw_"
      },
      "execution_count": null,
      "outputs": []
    },
    {
      "cell_type": "markdown",
      "source": [
        "**Задача 3.**\n",
        "\n",
        "Определить, принадлежит ли точка с координатами (x; y) кругу радиуса R с центром в начале координат.\n",
        "\n",
        "Пользователь вводит координаты точки и радиус круга."
      ],
      "metadata": {
        "id": "L-aO8MLDqNOp"
      }
    },
    {
      "cell_type": "code",
      "source": [
        "# Ваше решение"
      ],
      "metadata": {
        "id": "3d8mTLROqlQO"
      },
      "execution_count": null,
      "outputs": []
    },
    {
      "cell_type": "markdown",
      "source": [
        "**Задача 4.**\n",
        "\n",
        "Вам дан список имен и список фамилий, используя генератор списков, создайте новый список, состоящий из имени и фамилии.\n",
        "\n",
        "Ввод:\n",
        "\n",
        "\n",
        "```\n",
        "names = ['Pete']\n",
        "surnames = ['Black']\n",
        "```\n",
        "\n",
        "\n",
        "\n",
        "Вывод:\n",
        "\n",
        "`new = ['Pete Black']`"
      ],
      "metadata": {
        "id": "gS0vf7RvqysI"
      }
    },
    {
      "cell_type": "code",
      "source": [
        "names = ['Никита', 'Евгений', 'Андрей', 'Роман', 'Егор']\n",
        "surnames = ['Нечаев', 'Нуромский', 'Родин', 'Рыженко', 'Юлов']\n",
        "\n",
        "# Ваше решение"
      ],
      "metadata": {
        "id": "FRq8ttWdrSoS"
      },
      "execution_count": null,
      "outputs": []
    },
    {
      "cell_type": "markdown",
      "source": [
        "# Вариант 4."
      ],
      "metadata": {
        "id": "XOZgymlJ3hDy"
      }
    },
    {
      "cell_type": "markdown",
      "source": [
        "# Новый раздел"
      ],
      "metadata": {
        "id": "C0J8Nb9Co0Nz"
      }
    },
    {
      "cell_type": "markdown",
      "source": [
        "***Кто делает***:\n",
        "\n",
        "1. Морозов Максим Олегович\n",
        "2. Переттруов Никита Артемович\n",
        "3. Пославский Егор Константинович\n",
        "4. Садохин Константин Павлович\n",
        "5. Скиданов Дмитрий Артёмович\n",
        "6. Судариков Андрей Геннадьевич"
      ],
      "metadata": {
        "id": "DOMiZWjs3lhz"
      }
    },
    {
      "cell_type": "markdown",
      "source": [
        "**Задача 1.**\n",
        "\n",
        "С клавиатуры пользователь вводит строку.\n",
        "\n",
        "1. Сначала выведите третий символ этой строки.\n",
        "2. Во второй строке выведите предпоследний символ этой строки.\n",
        "3. В третьей строке выведите первые пять символов этой строки.\n",
        "4. В четвертой строке выведите всю строку, кроме последних двух символов.\n",
        "5. В пятой строке выведите все символы с четными индексами (считая, что индексация начинается с 0, поэтому символы выводятся начиная с первого).\n",
        "6. В седьмой строке выведите все символы в обратном порядке.\n",
        "7. В восьмой строке выведите все символы строки через один в обратном порядке, начиная с последнего."
      ],
      "metadata": {
        "id": "tcuzaO8G3r0e"
      }
    },
    {
      "cell_type": "code",
      "source": [
        "# Ваше решение"
      ],
      "metadata": {
        "id": "graFB1dV5PDk"
      },
      "execution_count": null,
      "outputs": []
    },
    {
      "cell_type": "markdown",
      "source": [
        "**Задача 2.**\n",
        "\n",
        "Дан список чисел. Определите, сколько в этом списке элементов, которые больше двух своих соседей, и выведите количество таких элементов. Крайние элементы списка никогда не учитываются, поскольку у них недостаточно соседей."
      ],
      "metadata": {
        "id": "_PNwyovA5QWu"
      }
    },
    {
      "cell_type": "markdown",
      "source": [
        "Например:\n",
        "\n",
        "**Ввод:**\n",
        "\n",
        "1 2 3 4 5\n",
        "\n",
        "**Вывод:**\n",
        "\n",
        "0\n",
        "\n",
        "**Ввод:**\n",
        "\n",
        "1 5 1 5 1\n",
        "\n",
        "**Вывод:**\n",
        "\n",
        "2"
      ],
      "metadata": {
        "id": "d2xbGYN55bHr"
      }
    },
    {
      "cell_type": "code",
      "source": [
        "# Ваше решение"
      ],
      "metadata": {
        "id": "sdcHJY155YYU"
      },
      "execution_count": null,
      "outputs": []
    },
    {
      "cell_type": "markdown",
      "source": [
        "**Задача 3.**\n",
        "\n",
        "С клавиатуры вводится строка. Создайте словарь, где ключ - это слово, значение: сколько раз слово встретилось в строке."
      ],
      "metadata": {
        "id": "99NXpuVa5nqW"
      }
    },
    {
      "cell_type": "code",
      "source": [
        "# Ваше решение"
      ],
      "metadata": {
        "id": "Y9CAnJel6OAw"
      },
      "execution_count": null,
      "outputs": []
    },
    {
      "cell_type": "markdown",
      "source": [
        "**Задача 4.**\n",
        "\n",
        "Используя генератор списков, составьте список из квадратов каждого элемента в списке, если квадрат больше 50."
      ],
      "metadata": {
        "id": "N7TomW7H6Q1k"
      }
    },
    {
      "cell_type": "code",
      "source": [
        "# Ваше решение"
      ],
      "metadata": {
        "id": "TWFoCKAQ7DBv"
      },
      "execution_count": null,
      "outputs": []
    }
  ]
}