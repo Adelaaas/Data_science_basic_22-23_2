{
  "nbformat": 4,
  "nbformat_minor": 0,
  "metadata": {
    "colab": {
      "provenance": []
    },
    "kernelspec": {
      "name": "python3",
      "display_name": "Python 3"
    },
    "language_info": {
      "name": "python"
    }
  },
  "cells": [
    {
      "cell_type": "code",
      "execution_count": 18,
      "metadata": {
        "colab": {
          "base_uri": "https://localhost:8080/"
        },
        "id": "jJWjl8eTpDeN",
        "outputId": "cfa64b7b-9caf-4741-875d-715b4a2df3ae"
      },
      "outputs": [
        {
          "output_type": "stream",
          "name": "stdout",
          "text": [
            "[0.72394098 0.63548929 0.79213575 0.36712529 0.78668461 0.90369995\n",
            " 0.4295266  0.71158745 0.69336277 0.70595216]\n"
          ]
        }
      ],
      "source": [
        "import numpy\n",
        "\n",
        "a = numpy.random.random((10,2))\n",
        "x = a[:,0]\n",
        "y = a[:,1]\n",
        "print((x**2+y**2)**0.5)  \n"
      ]
    }
  ]
}