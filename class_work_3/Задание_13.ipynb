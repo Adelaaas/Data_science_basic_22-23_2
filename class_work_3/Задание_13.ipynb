{
  "nbformat": 4,
  "nbformat_minor": 0,
  "metadata": {
    "colab": {
      "provenance": [],
      "collapsed_sections": []
    },
    "kernelspec": {
      "name": "python3",
      "display_name": "Python 3"
    },
    "language_info": {
      "name": "python"
    }
  },
  "cells": [
    {
      "cell_type": "code",
      "execution_count": 6,
      "metadata": {
        "colab": {
          "base_uri": "https://localhost:8080/"
        },
        "id": "Pxpr--eeq0gN",
        "outputId": "40c17c1a-84d2-4ef5-b224-aaf1d11a14a2"
      },
      "outputs": [
        {
          "output_type": "stream",
          "name": "stdout",
          "text": [
            "1.123 0 -1.123\n",
            "[ 2  0 -2]\n"
          ]
        }
      ],
      "source": [
        "from numpy import *\n",
        "\n",
        "\n",
        "A = array(list(map(float, input().split())), float)\n",
        "Z = array([0, 0, 0], int)\n",
        "for i in range(0, 3):\n",
        "    if A[i] == 0:\n",
        "      continue\n",
        "    elif A[i] > 0:\n",
        "      Z[i] = int(A[i]) + 1\n",
        "    else:\n",
        "      Z[i] = int(A[i]) - 1\n",
        "print(Z)"
      ]
    }
  ]
}