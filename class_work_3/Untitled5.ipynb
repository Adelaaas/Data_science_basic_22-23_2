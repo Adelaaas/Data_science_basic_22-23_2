{
 "cells": [
  {
   "cell_type": "code",
   "execution_count": 1,
   "id": "c67ef43b",
   "metadata": {},
   "outputs": [
    {
     "name": "stdout",
     "output_type": "stream",
     "text": [
      "0.6724437351371718\n",
      "1.2995809586962928\n",
      "1.9213803797343303\n",
      "2.3211920157467683\n",
      "2.7469720588300675\n"
     ]
    }
   ],
   "source": [
    "import numpy as np\n",
    "\n",
    "m=np.random.rand(5,10)\n",
    "s=0\n",
    "for i in range(m.shape[0]):\n",
    "    for j in range(m.shape[1]):\n",
    "        s=s+m[i][j]\n",
    "    print(s/j)"
   ]
  },
  {
   "cell_type": "code",
   "execution_count": null,
   "id": "f782a005",
   "metadata": {},
   "outputs": [],
   "source": []
  }
 ],
 "metadata": {
  "kernelspec": {
   "display_name": "Python 3 (ipykernel)",
   "language": "python",
   "name": "python3"
  },
  "language_info": {
   "codemirror_mode": {
    "name": "ipython",
    "version": 3
   },
   "file_extension": ".py",
   "mimetype": "text/x-python",
   "name": "python",
   "nbconvert_exporter": "python",
   "pygments_lexer": "ipython3",
   "version": "3.10.6"
  }
 },
 "nbformat": 4,
 "nbformat_minor": 5
}
